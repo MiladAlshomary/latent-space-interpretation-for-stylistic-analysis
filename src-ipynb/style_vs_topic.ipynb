{
 "cells": [
  {
   "cell_type": "markdown",
   "id": "5744a778-630d-4d82-8973-95beba3af379",
   "metadata": {},
   "source": [
    "- This notebook is to explore whether we can achieve more unique style-based clusters if we use a model that is fine-tuned explicitly capture style.\n",
    "- We will use StyleDistance as the AA black-box model and compare its clusters to clusters learned by our TA2 system trained on HRS dataset"
   ]
  },
  {
   "cell_type": "code",
   "execution_count": 1,
   "id": "202c42cb-a28a-4ec6-951a-90c9389be530",
   "metadata": {},
   "outputs": [],
   "source": [
    "import pandas as pd\n",
    "import json\n",
    "import sklearn\n",
    "import glob\n",
    "import pickle\n",
    "\n",
    "pd.set_option('display.width', None)\n",
    "pd.set_option('display.max_rows', None)\n",
    "pd.set_option('display.max_columns', None)"
   ]
  },
  {
   "cell_type": "code",
   "execution_count": 2,
   "id": "945e652e-1eea-43c9-a38d-f3f3fcc0b4f0",
   "metadata": {},
   "outputs": [],
   "source": [
    "path='/mnt/swordfish-pool2/milad/hiatus-data/phase_2'"
   ]
  },
  {
   "cell_type": "code",
   "execution_count": null,
   "id": "4724823c-3de5-4c46-986f-eee1c5efa675",
   "metadata": {},
   "outputs": [],
   "source": []
  }
 ],
 "metadata": {
  "kernelspec": {
   "display_name": "Python 3 (ipykernel)",
   "language": "python",
   "name": "python3"
  },
  "language_info": {
   "codemirror_mode": {
    "name": "ipython",
    "version": 3
   },
   "file_extension": ".py",
   "mimetype": "text/x-python",
   "name": "python",
   "nbconvert_exporter": "python",
   "pygments_lexer": "ipython3",
   "version": "3.11.9"
  }
 },
 "nbformat": 4,
 "nbformat_minor": 5
}
