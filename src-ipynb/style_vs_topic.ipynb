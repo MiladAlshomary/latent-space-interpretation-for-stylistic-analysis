{
 "cells": [
  {
   "cell_type": "code",
   "execution_count": 2,
   "id": "d732c925-4193-4662-8a60-46ff2f05373a",
   "metadata": {},
   "outputs": [],
   "source": [
    "%load_ext autoreload"
   ]
  },
  {
   "cell_type": "markdown",
   "id": "5744a778-630d-4d82-8973-95beba3af379",
   "metadata": {},
   "source": [
    "- This notebook is to explore what different AA models capture in texts when they are trained on the AA task (style?, topic?, discours?)\n",
    "- We will use different AA models (StyleDistance, Wegmann, LUAR, etc.) and a sample from the HRS dataset.\n",
    "- Method:\n",
    "    - We cluster documents using the given AA model\n",
    "    - Describe each cluster through a distribution over style, topic, dicourse, etc.\n",
    "    - Quanitfy the alignment between these clusters and the corresponding distributions\n",
    "\n",
    "- How to quantify the alignment?\n",
    "    - Compute Avg similarity between distribution within the cluster vs. across the clusters\n",
    "    - Compute correlation between cluster's distances and the corresponding representation "
   ]
  },
  {
   "cell_type": "code",
   "execution_count": 3,
   "id": "202c42cb-a28a-4ec6-951a-90c9389be530",
   "metadata": {},
   "outputs": [],
   "source": [
    "import pandas as pd\n",
    "import json\n",
    "import sklearn\n",
    "import glob\n",
    "import pickle\n",
    "import sys\n",
    "import numpy as np\n",
    "from bertopic import BERTopic\n",
    "from bertopic.representation import KeyBERTInspired\n",
    "from statsmodels.stats.dist_dependence_measures import distance_correlation\n",
    "from sklearn.metrics.pairwise import cosine_distances\n",
    "from sklearn.metrics.pairwise import cosine_similarity\n",
    "from tabulate import tabulate\n",
    "\n",
    "pd.set_option('display.max_colwidth', None)\n",
    "pd.set_option('display.max_rows', None)\n",
    "pd.set_option('display.max_columns', None)"
   ]
  },
  {
   "cell_type": "code",
   "execution_count": 4,
   "id": "2b1f2511-4aeb-4d8b-9812-e195d79a017c",
   "metadata": {},
   "outputs": [],
   "source": [
    "%autoreload\n",
    "sys.path.append('../../style_generation_pipeline/')\n",
    "\n",
    "import generate_explanations\n",
    "from utils import *\n",
    "from data import *"
   ]
  },
  {
   "cell_type": "code",
   "execution_count": 5,
   "id": "945e652e-1eea-43c9-a38d-f3f3fcc0b4f0",
   "metadata": {},
   "outputs": [],
   "source": [
    "path='/mnt/swordfish-pool2/milad/hiatus-data/phase_1/'"
   ]
  },
  {
   "cell_type": "markdown",
   "id": "2b4f352e-18cb-4715-94fd-70177dbded49",
   "metadata": {},
   "source": [
    "------------"
   ]
  },
  {
   "cell_type": "code",
   "execution_count": 6,
   "id": "151a9734-844f-43a8-a0ea-07311f4f61c4",
   "metadata": {},
   "outputs": [],
   "source": [
    "def get_topic_representations(texts):\n",
    "    topic_model = BERTopic(representation_model = KeyBERTInspired(), embedding_model=\"all-MiniLM-L6-v2\")\n",
    "    topic_model = topic_model.fit(texts)\n",
    "    documents_props, _ = topic_model.approximate_distribution(texts)\n",
    "    return documents_props\n",
    "\n",
    "def get_cluster_topic_representations(cluster_df):\n",
    "    document_texts = cluster_df.fullText.tolist()\n",
    "    \n",
    "    topic_model = BERTopic(representation_model = KeyBERTInspired(), embedding_model=\"all-MiniLM-L6-v2\")\n",
    "    topic_model = topic_model.fit(document_texts)\n",
    "    \n",
    "    cluster_to_documents_df = cluster_df.groupby('cluster_label').agg({'fullText': lambda x: list(x)}).reset_index()\n",
    "    cluster_topic_reps = []\n",
    "    for idx, row in cluster_to_documents_df.iterrows():\n",
    "        documents_props, _ = topic_model.approximate_distribution(row['fullText'])\n",
    "        #print(row['cluster_label'])\n",
    "        #print(documents_props[0].shape)\n",
    "        cluster_topic_reps.append(np.mean(documents_props, axis=0))\n",
    "\n",
    "    return np.array(cluster_topic_reps)\n",
    "\n",
    "def compute_style_overlap(interp_space, top_f=10):\n",
    "    style_top_rep = [[y[0] for y in sorted(x[1][1].items(), key=lambda x:-x[1])[:top_f]] for x in interp_space.items()]\n",
    "    perc_inters = 0\n",
    "    total=0\n",
    "    for i, rep1 in enumerate(style_top_rep):\n",
    "        for j, rep2 in enumerate(style_top_rep):\n",
    "            if i != j:\n",
    "                reps_intersection = len(set(rep1).intersection(rep2))/(len(rep1) + len(rep2))\n",
    "                #print(reps_intersection)\n",
    "                #print(reps_intersection)\n",
    "                perc_inters+= len(set(rep1).intersection(rep2))/(len(rep1) + len(rep2))\n",
    "                total+=1\n",
    "\n",
    "    return round(perc_inters/total, 3)\n",
    "\n",
    "def analyze_correlation(model_interp_space, model_clustering_df, styles_df):\n",
    "    # Compute latent, topic, and style representations\n",
    "    sd_centroids  = np.array([val[0] for key, val in model_interp_space.items()])\n",
    "    sd_style_dist = get_cluster_style_representations(styles_df, model_clustering_df)\n",
    "    sd_topic_dist = get_cluster_topic_representations(model_clustering_df)\n",
    "\n",
    "    # Compute pairwise distance according to each representation\n",
    "    pairwise_style_dist  = cosine_distances(sd_style_dist)\n",
    "    pairwise_interp_dist = cosine_distances(sd_centroids)\n",
    "    pairwise_topic_dist  = cosine_distances(sd_topic_dist)\n",
    "\n",
    "    style_corr= round(distance_correlation(pairwise_interp_dist, pairwise_style_dist), 2)\n",
    "    topic_corr= round(distance_correlation(pairwise_interp_dist, pairwise_topic_dist), 2)\n",
    "    # Compute the distance correlation\n",
    "    print(style_corr, topic_corr)\n",
    "\n",
    "    # Compute the style and topic representation for each document\n",
    "    document_texts = model_clustering_df.fullText.tolist()\n",
    "    document_ids   = model_clustering_df.documentID.tolist()\n",
    "    doc_topic_reps = get_topic_representations(document_texts)\n",
    "    doc_style_reps = get_document_style_representations(styles_df, document_ids)\n",
    "    \n",
    "    doc_topic_reps = {document_id: doc_topic_reps[i] for i, document_id in enumerate(document_ids)}\n",
    "    doc_style_reps = {document_id: doc_style_reps[i] for i, document_id in enumerate(document_ids)}\n",
    "\n",
    "    # Compute the average similarity between documents' representation in the same cluster\n",
    "    avg_topic_sim = []\n",
    "    avg_style_sim = []\n",
    "    for cluster_id in model_clustering_df.cluster_label.unique():\n",
    "        cluster_document_ids = model_clustering_df[model_clustering_df.cluster_label == cluster_id].documentID.tolist()\n",
    "        other_document_ids   = model_clustering_df[model_clustering_df.cluster_label != cluster_id].documentID.tolist()\n",
    "        #print(cluster_document_ids, other_document_ids)\n",
    "        sim_between_clusters = np.mean(cosine_similarity([doc_topic_reps[i] for i in cluster_document_ids], [doc_topic_reps[i] for i in other_document_ids]))\n",
    "        sim_within_cluster   = np.mean(cosine_similarity([doc_topic_reps[i] for i in cluster_document_ids]))\n",
    "        avg_topic_sim.append(sim_within_cluster/sim_between_clusters)\n",
    "\n",
    "        sim_between_clusters = np.mean(cosine_similarity([doc_style_reps[i] for i in cluster_document_ids], [doc_style_reps[i] for i in other_document_ids]))\n",
    "        sim_within_cluster   = np.mean(cosine_similarity([doc_style_reps[i] for i in cluster_document_ids]))       \n",
    "        avg_style_sim.append(sim_within_cluster/sim_between_clusters)\n",
    "\n",
    "    avg_topic_sim = round(np.mean(avg_topic_sim), 2)\n",
    "    avg_style_sim = round(np.mean(avg_style_sim), 2)\n",
    "    \n",
    "    print(avg_style_sim, avg_topic_sim)\n",
    "\n",
    "    #compute top-style feats representation overlap between the clusters\n",
    "    top_style_feats_overlap = compute_style_overlap(model_interp_space, top_f=10)\n",
    "    \n",
    "    return avg_topic_sim, topic_corr, avg_style_sim, style_corr, top_style_feats_overlap"
   ]
  },
  {
   "cell_type": "markdown",
   "id": "c0f51a8c-d430-4a3f-9e23-9dba76636de7",
   "metadata": {
    "jp-MarkdownHeadingCollapsed": true
   },
   "source": [
    "### Generating clusters using Milad-TA2: "
   ]
  },
  {
   "cell_type": "code",
   "execution_count": 137,
   "id": "9554e506-2684-47e1-a06a-b3d9a0b23898",
   "metadata": {
    "scrolled": true
   },
   "outputs": [
    {
     "name": "stderr",
     "output_type": "stream",
     "text": [
      "huggingface/tokenizers: The current process just got forked, after parallelism has already been used. Disabling parallelism to avoid deadlocks...\n",
      "To disable this warning, you can either:\n",
      "\t- Avoid using `tokenizers` before the fork if possible\n",
      "\t- Explicitly set the environment variable TOKENIZERS_PARALLELISM=(true | false)\n"
     ]
    }
   ],
   "source": [
    "! CUDA_VISIBLE_DEVICES=6 python ../cluster_documents.py --train-dir \"/mnt/swordfish-pool2/milad/hiatus-data/phase_1/training_authors.json\" \\\n",
    "--test-dir \"/mnt/swordfish-pool2/milad/hiatus-data/phase_1/valid_authors.json\" \\\n",
    "--save-dir \"/mnt/swordfish-pool2/milad/hiatus-data/phase_1/explainability/\" \\\n",
    "--model aa_model-luar \\\n",
    "--style-dir \"/mnt/swordfish-pool2/milad/hiatus-data/phase_1/explainability/refined_and_aggregated_features_final.csv\" --top_k_feats 10 --eps 0.16"
   ]
  },
  {
   "cell_type": "code",
   "execution_count": 28,
   "id": "b4c2be3c-fbea-4ebb-a0f0-733a518a3bc0",
   "metadata": {
    "scrolled": true
   },
   "outputs": [
    {
     "name": "stdout",
     "output_type": "stream",
     "text": [
      "      index  ... cluster_label\n",
      "0         0  ...             0\n",
      "1         1  ...             0\n",
      "2         2  ...             0\n",
      "3         3  ...            -1\n",
      "4         4  ...            -1\n",
      "...     ...  ...           ...\n",
      "6882     62  ...            -1\n",
      "6883     63  ...            -1\n",
      "6884     64  ...            -1\n",
      "6885     65  ...             1\n",
      "6886     66  ...             0\n",
      "\n",
      "[6887 rows x 7 columns]\n",
      "/mnt/swordfish-pool2/milad/hiatus-data/phase_2/explainability/training_candidates_and_queries_documents.pkl\n",
      "============\n"
     ]
    }
   ],
   "source": [
    "#Clustering using phase-2 dataset..\n",
    "! CUDA_VISIBLE_DEVICES=6 python ../cluster_documents.py --train-dir \"/mnt/swordfish-pool2/milad/hiatus-data/phase_2/training_candidates_and_queries.json\"  \\\n",
    "--test-dir \"/mnt/swordfish-pool2/milad/hiatus-data/phase_2/training_candidates_and_queries.json\" \\\n",
    "--save-dir \"/mnt/swordfish-pool2/milad/hiatus-data/phase_2/explainability/\" \\\n",
    "--model aa_model-luar \\\n",
    "--style-dir \"/mnt/swordfish-pool2/milad/hiatus-data/phase_2/explainability/filtered/refined_and_aggregated_features_final.csv\" --top_k_feats 10 --eps 0.16"
   ]
  },
  {
   "cell_type": "markdown",
   "id": "c6c5273d-8b60-4937-a7bb-7334b1034634",
   "metadata": {
    "jp-MarkdownHeadingCollapsed": true
   },
   "source": [
    "### Generating clusters using StyleDistance: "
   ]
  },
  {
   "cell_type": "code",
   "execution_count": 19,
   "id": "6e0dc870-51e1-46d1-9dc0-bfabd37c46bd",
   "metadata": {
    "scrolled": true
   },
   "outputs": [
    {
     "name": "stderr",
     "output_type": "stream",
     "text": [
      "huggingface/tokenizers: The current process just got forked, after parallelism has already been used. Disabling parallelism to avoid deadlocks...\n",
      "To disable this warning, you can either:\n",
      "\t- Avoid using `tokenizers` before the fork if possible\n",
      "\t- Explicitly set the environment variable TOKENIZERS_PARALLELISM=(true | false)\n"
     ]
    },
    {
     "name": "stdout",
     "output_type": "stream",
     "text": [
      "You try to use a model that was created with version 2.7.0, however, your version is 2.5.0. This might cause unexpected behavior or errors. In that case, try to update to the latest version.\n",
      "\n",
      "\n",
      "\n",
      "You try to use a model that was created with version 2.7.0, however, your version is 2.5.0. This might cause unexpected behavior or errors. In that case, try to update to the latest version.\n",
      "\n",
      "\n",
      "\n",
      "Testing Different Epsilon Values:   0%|                  | 0/99 [00:00<?, ?it/s][(0.209, 0.073, 0.273), 71] 0.01\n",
      "Testing Different Epsilon Values:   1%|1         | 1/99 [00:31<50:44, 31.07s/it][(0.223, 0.067, 0.263), 16] 0.02\n",
      "Testing Different Epsilon Values:   2%|2         | 2/99 [01:02<50:11, 31.05s/it][(0.271, 0.052, 0.242), 8] 0.03\n",
      "Testing Different Epsilon Values:   3%|3         | 3/99 [01:33<49:37, 31.02s/it][(0.329, 0.017, 0.192), 3] 0.04\n",
      "Testing Different Epsilon Values:   4%|4         | 4/99 [02:04<49:07, 31.03s/it][(0.319, 0.027, 0.209), 4] 0.05\n",
      "Testing Different Epsilon Values:   5%|5         | 5/99 [02:35<48:37, 31.04s/it]^C\n",
      "Traceback (most recent call last):                                              \n",
      "  File \"/home/ma4608/style_generation_pipeline/src-ipynb/../cluster_documents.py\", line 249, in <module>\n",
      "    main(args)\n",
      "  File \"/home/ma4608/style_generation_pipeline/src-ipynb/../cluster_documents.py\", line 103, in main\n",
      "    best_eps, train_df = find_best_eps()\n",
      "                         ^^^^^^^^^^^^^^^\n",
      "  File \"/home/ma4608/style_generation_pipeline/src-ipynb/../cluster_documents.py\", line 90, in find_best_eps\n",
      "    eps_to_performance[eps] = compute_model_performance(model, test_df, new_bases)\n",
      "                              ^^^^^^^^^^^^^^^^^^^^^^^^^^^^^^^^^^^^^^^^^^^^^^^^^^^^\n",
      "  File \"/home/ma4608/style_generation_pipeline/metrics/__init__.py\", line 28, in compute_model_performance\n",
      "    documents_embeddings = embed_model.encode(df.fullText.tolist())\n",
      "                           ^^^^^^^^^^^^^^^^^^^^^^^^^^^^^^^^^^^^^^^^\n",
      "  File \"/home/ma4608/style_generation_pipeline/aa_models/styledistance/__init__.py\", line 18, in encode\n",
      "    output = self.model.encode(sentences)\n",
      "             ^^^^^^^^^^^^^^^^^^^^^^^^^^^^\n",
      "  File \"/mnt/swordfish-pool2/milad/conda-envs/gpu-env/lib/python3.11/site-packages/sentence_transformers/SentenceTransformer.py\", line 373, in encode\n",
      "    embeddings = embeddings.cpu()\n",
      "                 ^^^^^^^^^^^^^^^^\n",
      "KeyboardInterrupt\n"
     ]
    }
   ],
   "source": [
    "! CUDA_VISIBLE_DEVICES=6 python ../cluster_documents.py --train-dir \"/mnt/swordfish-pool2/milad/hiatus-data/phase_1/training_authors.json\" \\\n",
    "--test-dir \"/mnt/swordfish-pool2/milad/hiatus-data/phase_1/valid_authors.json\" \\\n",
    "--save-dir \"/mnt/swordfish-pool2/milad/hiatus-data/phase_1/styledistance_explanations/\" \\\n",
    "--model styledistance \\\n",
    "--style-dir \"/mnt/swordfish-pool2/milad/hiatus-data/phase_1/explainability/refined_and_aggregated_features_final.csv\""
   ]
  },
  {
   "cell_type": "code",
   "execution_count": 134,
   "id": "45836c3e-add0-4df7-a3ea-f2ec4b52c30f",
   "metadata": {
    "scrolled": true
   },
   "outputs": [
    {
     "name": "stderr",
     "output_type": "stream",
     "text": [
      "huggingface/tokenizers: The current process just got forked, after parallelism has already been used. Disabling parallelism to avoid deadlocks...\n",
      "To disable this warning, you can either:\n",
      "\t- Avoid using `tokenizers` before the fork if possible\n",
      "\t- Explicitly set the environment variable TOKENIZERS_PARALLELISM=(true | false)\n"
     ]
    },
    {
     "name": "stdout",
     "output_type": "stream",
     "text": [
      "You try to use a model that was created with version 2.7.0, however, your version is 2.5.0. This might cause unexpected behavior or errors. In that case, try to update to the latest version.\n",
      "\n",
      "\n",
      "\n",
      "You try to use a model that was created with version 2.7.0, however, your version is 2.5.0. This might cause unexpected behavior or errors. In that case, try to update to the latest version.\n",
      "\n",
      "\n",
      "\n"
     ]
    }
   ],
   "source": [
    "! CUDA_VISIBLE_DEVICES=6 python ../cluster_documents.py --train-dir \"/mnt/swordfish-pool2/milad/hiatus-data/phase_1/training_authors.json\" \\\n",
    "--test-dir \"/mnt/swordfish-pool2/milad/hiatus-data/phase_1/valid_authors.json\" \\\n",
    "--save-dir \"/mnt/swordfish-pool2/milad/hiatus-data/phase_1/styledistance_explanations/\" \\\n",
    "--model styledistance \\\n",
    "--style-dir \"/mnt/swordfish-pool2/milad/hiatus-data/phase_1/explainability/refined_and_aggregated_features_final.csv\" --top_k_feats 10 --eps 0.01"
   ]
  },
  {
   "cell_type": "code",
   "execution_count": 7,
   "id": "669e1204-3c74-4ec7-9359-5778440c5963",
   "metadata": {},
   "outputs": [
    {
     "name": "stdout",
     "output_type": "stream",
     "text": [
      "You try to use a model that was created with version 2.7.0, however, your version is 2.5.0. This might cause unexpected behavior or errors. In that case, try to update to the latest version.\n",
      "\n",
      "\n",
      "\n",
      "You try to use a model that was created with version 2.7.0, however, your version is 2.5.0. This might cause unexpected behavior or errors. In that case, try to update to the latest version.\n",
      "\n",
      "\n",
      "\n"
     ]
    }
   ],
   "source": [
    "#Clustering using phase-2 dataset..\n",
    "! CUDA_VISIBLE_DEVICES=6 python ../cluster_documents.py --train-dir \"/mnt/swordfish-pool2/milad/hiatus-data/phase_2/training_candidates_and_queries.json\"  \\\n",
    "--test-dir \"/mnt/swordfish-pool2/milad/hiatus-data/phase_2/training_candidates_and_queries.json\" \\\n",
    "--save-dir \"/mnt/swordfish-pool2/milad/hiatus-data/phase_2/styledistance_explanations/\" \\\n",
    "--model styledistance \\\n",
    "--style-dir \"/mnt/swordfish-pool2/milad/hiatus-data/phase_2/explainability/filtered/refined_and_aggregated_features_final.csv\" --top_k_feats 10  --eps 0.01"
   ]
  },
  {
   "cell_type": "markdown",
   "id": "7d3c4045-c836-4341-bc8e-dffc292b1dea",
   "metadata": {
    "jp-MarkdownHeadingCollapsed": true
   },
   "source": [
    "### Generating clusters using Semantic Models (all-MiniLM-L6-v2): "
   ]
  },
  {
   "cell_type": "markdown",
   "id": "83a5e311-80df-4cd7-a608-a4d58d44f837",
   "metadata": {},
   "source": [
    "This is just to have a baseline for comparing. How much of the topic vs style correlation is there"
   ]
  },
  {
   "cell_type": "code",
   "execution_count": 25,
   "id": "c7ba70c9-19e2-4b35-8035-6215b24789ee",
   "metadata": {
    "scrolled": true
   },
   "outputs": [
    {
     "name": "stderr",
     "output_type": "stream",
     "text": [
      "huggingface/tokenizers: The current process just got forked, after parallelism has already been used. Disabling parallelism to avoid deadlocks...\n",
      "To disable this warning, you can either:\n",
      "\t- Avoid using `tokenizers` before the fork if possible\n",
      "\t- Explicitly set the environment variable TOKENIZERS_PARALLELISM=(true | false)\n"
     ]
    },
    {
     "name": "stdout",
     "output_type": "stream",
     "text": [
      "Testing Different Epsilon Values:   0%|                  | 0/99 [00:00<?, ?it/s][(0.5, 0.002, 0.16), 1] 0.01\n",
      "Testing Different Epsilon Values:   1%|1         | 1/99 [00:12<21:04, 12.90s/it][(0.5, 0.002, 0.16), 1] 0.02\n",
      "Testing Different Epsilon Values:   2%|2         | 2/99 [00:25<20:51, 12.90s/it][(0.5, 0.002, 0.16), 1] 0.03\n",
      "Testing Different Epsilon Values:   3%|3         | 3/99 [00:38<20:38, 12.90s/it][(0.5, 0.002, 0.16), 1] 0.04\n",
      "Testing Different Epsilon Values:   4%|4         | 4/99 [00:51<20:25, 12.90s/it][(0.5, 0.002, 0.16), 1] 0.05\n",
      "Testing Different Epsilon Values:   5%|5         | 5/99 [01:04<20:12, 12.89s/it][(0.5, 0.002, 0.16), 1] 0.060000000000000005\n",
      "Testing Different Epsilon Values:   6%|6         | 6/99 [01:17<19:58, 12.89s/it][(0.5, 0.002, 0.16), 1] 0.06999999999999999\n",
      "Testing Different Epsilon Values:   7%|7         | 7/99 [01:30<19:45, 12.89s/it][(0.5, 0.002, 0.16), 1] 0.08\n",
      "Testing Different Epsilon Values:   8%|8         | 8/99 [01:43<19:32, 12.89s/it][(0.5, 0.002, 0.16), 1] 0.09\n",
      "Testing Different Epsilon Values:   9%|9         | 9/99 [01:56<19:19, 12.89s/it]^C\n",
      "Traceback (most recent call last):                                              \n",
      "  File \"/home/ma4608/style_generation_pipeline/src-ipynb/../cluster_documents.py\", line 250, in <module>\n",
      "    main(args)\n",
      "  File \"/home/ma4608/style_generation_pipeline/src-ipynb/../cluster_documents.py\", line 103, in main\n",
      "    best_eps, train_df = find_best_eps()\n",
      "                         ^^^^^^^^^^^^^^^\n",
      "  File \"/home/ma4608/style_generation_pipeline/src-ipynb/../cluster_documents.py\", line 90, in find_best_eps\n",
      "    eps_to_performance[eps] = compute_model_performance(model, test_df, new_bases)\n",
      "                              ^^^^^^^^^^^^^^^^^^^^^^^^^^^^^^^^^^^^^^^^^^^^^^^^^^^^\n",
      "  File \"/home/ma4608/style_generation_pipeline/metrics/__init__.py\", line 64, in compute_model_performance\n",
      "    eer_interp.append(compute_eer(y_true, y_interp_score))\n",
      "                      ^^^^^^^^^^^^^^^^^^^^^^^^^^^^^^^^^^^\n",
      "  File \"/home/ma4608/style_generation_pipeline/metrics/__init__.py\", line 16, in compute_eer\n",
      "    eer_1 = fpr[np.nanargmin(np.absolute((fnr - fpr)))]\n",
      "                ^^^^^^^^^^^^^^^^^^^^^^^^^^^^^^^^^^^^^^\n",
      "  File \"/mnt/swordfish-pool2/milad/conda-envs/gpu-env/lib/python3.11/site-packages/numpy/lib/nanfunctions.py\", line 553, in nanargmin\n",
      "    res = np.argmin(a, axis=axis, out=out, keepdims=keepdims)\n",
      "          ^^^^^^^^^^^^^^^^^^^^^^^^^^^^^^^^^^^^^^^^^^^^^^^^^^^\n",
      "  File \"/mnt/swordfish-pool2/milad/conda-envs/gpu-env/lib/python3.11/site-packages/numpy/core/fromnumeric.py\", line 1325, in argmin\n"
     ]
    }
   ],
   "source": [
    "# We can't find best clustering here, since we are comparing to ground-truth labels that reflect authorship attribution not topic. So let us just take a default value of 0.5\n",
    "! CUDA_VISIBLE_DEVICES=6 python ../cluster_documents.py --train-dir \"/mnt/swordfish-pool2/milad/hiatus-data/phase_1/training_authors.json\" \\\n",
    "--test-dir \"/mnt/swordfish-pool2/milad/hiatus-data/phase_1/valid_authors.json\" \\\n",
    "--save-dir \"/mnt/swordfish-pool2/milad/hiatus-data/phase_1/semantic_explanations/\" \\\n",
    "--model semantic_model \\\n",
    "--model_path \"all-MiniLM-L6-v2\" \\\n",
    "--style-dir \"/mnt/swordfish-pool2/milad/hiatus-data/phase_1/explainability/refined_and_aggregated_features_final.csv\""
   ]
  },
  {
   "cell_type": "code",
   "execution_count": 138,
   "id": "26eae780-30cf-435a-968d-9fdacce52577",
   "metadata": {
    "scrolled": true
   },
   "outputs": [
    {
     "name": "stderr",
     "output_type": "stream",
     "text": [
      "huggingface/tokenizers: The current process just got forked, after parallelism has already been used. Disabling parallelism to avoid deadlocks...\n",
      "To disable this warning, you can either:\n",
      "\t- Avoid using `tokenizers` before the fork if possible\n",
      "\t- Explicitly set the environment variable TOKENIZERS_PARALLELISM=(true | false)\n"
     ]
    }
   ],
   "source": [
    "! CUDA_VISIBLE_DEVICES=6 python ../cluster_documents.py --train-dir \"/mnt/swordfish-pool2/milad/hiatus-data/phase_1/training_authors.json\" \\\n",
    "--test-dir \"/mnt/swordfish-pool2/milad/hiatus-data/phase_1/valid_authors.json\" \\\n",
    "--save-dir \"/mnt/swordfish-pool2/milad/hiatus-data/phase_1/semantic_explanations/\" \\\n",
    "--model semantic_model \\\n",
    "--model_path \"all-MiniLM-L6-v2\" \\\n",
    "--style-dir \"/mnt/swordfish-pool2/milad/hiatus-data/phase_1/explainability/refined_and_aggregated_features_final.csv\" --top_k_feats 10 --eps 0.5"
   ]
  },
  {
   "cell_type": "code",
   "execution_count": 8,
   "id": "675a8d80-0762-4bb6-8366-7a3875721738",
   "metadata": {},
   "outputs": [],
   "source": [
    "#Clustering using phase-2 dataset..\n",
    "! CUDA_VISIBLE_DEVICES=6 python ../cluster_documents.py --train-dir \"/mnt/swordfish-pool2/milad/hiatus-data/phase_2/training_candidates_and_queries.json\"  \\\n",
    "--test-dir \"/mnt/swordfish-pool2/milad/hiatus-data/phase_2/training_candidates_and_queries.json\" \\\n",
    "--save-dir \"/mnt/swordfish-pool2/milad/hiatus-data/phase_2/semantic_explanations/\" \\\n",
    "--model semantic_model \\\n",
    "--model_path \"all-MiniLM-L6-v2\" \\\n",
    "--style-dir \"/mnt/swordfish-pool2/milad/hiatus-data/phase_2/explainability/filtered/refined_and_aggregated_features_final.csv\" --top_k_feats 10 --eps 0.5"
   ]
  },
  {
   "cell_type": "markdown",
   "id": "46a06454-ffea-4344-aa60-60771ef197bd",
   "metadata": {},
   "source": [
    "### What do models capture?"
   ]
  },
  {
   "cell_type": "code",
   "execution_count": 18,
   "id": "f96f89ed-5375-4e73-bc36-b311e8b09c9d",
   "metadata": {
    "scrolled": true
   },
   "outputs": [],
   "source": [
    "styles_path = \"/mnt/swordfish-pool2/milad/hiatus-data/phase_1/explainability/refined_and_aggregated_features_final.csv\"\n",
    "#styles_path = \"/mnt/swordfish-pool2/milad/hiatus-data/phase_2/explainability/filtered/refined_and_aggregated_features_final.csv\"\n",
    "styles_df   = pd.read_csv(styles_path)\n",
    "training_df = pd.read_json('/mnt/swordfish-pool2/milad/hiatus-data/phase_1/training_candidates_and_queries.jsonl', lines=True)\n",
    "#training_df = pd.read_json('/mnt/swordfish-pool2/milad/hiatus-data/phase_2/training_candidates_and_queries.jsonl', lines=True)\n",
    "\n",
    "# model_clusterings = {\n",
    "#     'styledistance': ['/mnt/swordfish-pool2/milad/hiatus-data/phase_2/styledistance_explanations/'],\n",
    "#     'ta2_hrs': ['/mnt/swordfish-pool2/milad/hiatus-data/phase_2/explainability/'],\n",
    "#     'semantic': ['/mnt/swordfish-pool2/milad/hiatus-data/phase_2/semantic_explanations/'],\n",
    "# }\n",
    "\n",
    "model_clusterings = {\n",
    "    'styledistance': ['/mnt/swordfish-pool2/milad/hiatus-data/phase_1/styledistance_explanations/'],\n",
    "    'ta2_hrs': ['/mnt/swordfish-pool2/milad/hiatus-data/phase_1/explainability/'],\n",
    "    'semantic': ['/mnt/swordfish-pool2/milad/hiatus-data/phase_1/semantic_explanations/'],\n",
    "}\n",
    "\n",
    "for key, val in model_clusterings.items():\n",
    "    # style-distance clustering\n",
    "    interp_space = pd.read_pickle(val[0] + \"/interpretable_space.pkl\")\n",
    "    clustering_df  = pd.read_pickle(val[0] + \"/training_authors_documents.pkl\")\n",
    "    #clustering_df  = pd.read_pickle(val[0] + \"/training_candidates_and_queries_documents.pkl\")\n",
    "    \n",
    "    # DBSCAN generate a cluster -1 of all outliers. We don't want this cluster\n",
    "    del interp_space[-1]\n",
    "    clustering_df = clustering_df[clustering_df.cluster_label != -1]\n",
    "    \n",
    "    model_clusterings[key].append(interp_space)\n",
    "    model_clusterings[key].append(clustering_df)"
   ]
  },
  {
   "cell_type": "code",
   "execution_count": 19,
   "id": "2f4cac5d-17a3-44a1-bd4f-55d6e7abc310",
   "metadata": {},
   "outputs": [],
   "source": [
    "model = 'ta2_hrs'\n",
    "cluster_documents_df = model_clusterings[model][2].groupby('cluster_label').agg({'documentID': lambda x: len(list(x))}).reset_index()\n",
    "interp_space_df = pd.DataFrame([{'cluster_label': x[0], 'style_feats': sorted(x[1][1].items(), key=lambda x:-x[1])} for x in model_clusterings[model][1].items()])\n",
    "interp_space_df['num_feats'] = interp_space_df.style_feats.apply(lambda x: len(x))\n",
    "interp_space_df['num_feats'] = interp_space_df.cluster_label.apply(lambda x: cluster_documents_df[cluster_documents_df.cluster_label==x]['documentID'].tolist()[0])"
   ]
  },
  {
   "cell_type": "code",
   "execution_count": 20,
   "id": "6f0340b0-6fe4-4237-93d1-6a5d4cf821db",
   "metadata": {},
   "outputs": [
    {
     "data": {
      "text/plain": [
       "156"
      ]
     },
     "execution_count": 20,
     "metadata": {},
     "output_type": "execute_result"
    }
   ],
   "source": [
    "len(interp_space_df)"
   ]
  },
  {
   "cell_type": "code",
   "execution_count": 21,
   "id": "9569f20c-ebae-466b-9e92-228f4aacd028",
   "metadata": {
    "scrolled": true
   },
   "outputs": [
    {
     "data": {
      "text/html": [
       "<div>\n",
       "<style scoped>\n",
       "    .dataframe tbody tr th:only-of-type {\n",
       "        vertical-align: middle;\n",
       "    }\n",
       "\n",
       "    .dataframe tbody tr th {\n",
       "        vertical-align: top;\n",
       "    }\n",
       "\n",
       "    .dataframe thead th {\n",
       "        text-align: right;\n",
       "    }\n",
       "</style>\n",
       "<table border=\"1\" class=\"dataframe\">\n",
       "  <thead>\n",
       "    <tr style=\"text-align: right;\">\n",
       "      <th></th>\n",
       "      <th>cluster_label</th>\n",
       "      <th>style_feats</th>\n",
       "      <th>num_feats</th>\n",
       "    </tr>\n",
       "  </thead>\n",
       "  <tbody>\n",
       "    <tr>\n",
       "      <th>0</th>\n",
       "      <td>0</td>\n",
       "      <td>[(technical language, 1009.8526756281261), (style is professional, 914.9718378792628), (style is formal, 910.2397054539705), (casual language, 820.9818080163645), (diverse sentence lengths, 660.5148621000728), (complex sentence structures, 483.2371057535076), (specialized language, 474.8632995820517), (simple sentence structures, 474.7968698254498), (diverse sentence structures, 463.2258508093673), (consistent verb tense, 400.4899182352229), (formal tone, 386.4420264088066), (technical terms, 341.2594263048606), (additional information, 331.6098630795412), (complex ideas, 293.9998719638971), (complex concepts, 271.64372237323744), (consistent style, 243.58607384048995), (various letter cases, 235.4010519902901), (specialized terminology, 205.36513404432188), (distinguish elements, 178.61819867106698), (mathematical notation, 175.8254859790866), (abstract ideas, 174.35828339173167), (various elements, 165.3241754582177), (specialized notation, 163.48837752568846), (better balance, 162.50057019512087), (various sentence structures, 162.08526753426588), (extra information, 157.3445447423922), (various techniques, 140.01501645497567), (subordinate clauses, 139.71332471822413), (different letter cases, 137.65647335237313), (different tenses, 137.08538862781245), (technical elements, 133.75601904442655), (different types, 123.67003733780933), (formal style, 122.97912191949146), (further explanation, 116.68940132289781), (additional explanation, 114.03553522016405), (technical terminology, 112.4206395798609), (various communication methods, 105.43019403331583), (consistent use, 103.17817916061342), (professional tone, 102.960898437783), (consistent notation, 102.55064775016093), (mathematical concepts, 100.80345907872106), (passive voice, 98.8512892957298), (writing is concise, 93.99471961116578), (abstract concepts, 93.42193001467912), (full words instead, 91.46029286120181), (various symbols, 90.85241468882033), (various sentence types, 89.49591535378957), (wide range, 88.22899852964501), (grammatical structures, 86.65513738295311), (tense usage, 85.82753241720421), (precise language, 85.82708094155267), (mathematical symbols, 83.8322705679984), (multiple elements, 78.4989661660417), (technical content, 77.87349830470313), (plain text, 77.3130016207041), (effective communication, 75.51001092778675), (various methods, 75.19577568893263), (overall rhythm, 75.17368664015004), (different elements, 73.82086368594945), (informal language, 72.76450660959097), (varied sentence lengths, 67.7798119648139), (mathematical elements, 67.230730432401), (straightforward sentence structures, 66.70734295992324), (unexplained abbreviations, 66.3291844894817), (specific language, 66.20641357074105), (effective sentence structures, 65.16481028487522), (content is consistently structured, 64.64344835356685), (clear explanations, 64.46934485899843), (difficult concepts, 64.22757688509189), (writing is clear, 64.09415484385059), (different forms, 63.25609223512153), (different letter case variations, 63.25609223512153), (foreign language phrases, 62.63515639173897), (lower case letters, 61.50868810515291), (specific details, 58.833223884882784), (consistent pattern, 58.173644206964816), (improved comprehension, 57.3450764076199), (intricate elements, 56.22763754233025), (content is difficult, 53.116493365086924), (mathematical notations, 53.116493365086924), (style is sophisticated, 52.94990149639451), (different sentence structures, 52.75363880940391), (smooth reading experience, 52.734149566113516), (specialized content, 52.29201211549225), (verb forms, 51.44787379190584), (specific symbols, 50.88731724725719), (verb tenses, 50.85300751465516), (subject matter, 50.68246009785069), (particular field, 50.278237608329775), (academic disciplines, 49.71793865461502), (limited range, 48.883885292950104), (different techniques, 47.79722876145254), (unique elements, 47.254515319070904), (common language rules, 47.254515319070904), (information is consistently clear, 45.528422884360225), (style is descriptive, 45.528422884360225), (better transitions, 45.528422884360225), (english text, 45.528422884360225), (clear sentence structures, 45.50761440081365), (intricate concepts, 44.85655209488097), ...]</td>\n",
       "      <td>1662</td>\n",
       "    </tr>\n",
       "    <tr>\n",
       "      <th>1</th>\n",
       "      <td>1</td>\n",
       "      <td>[(better engagement, 6.9594618213043296), (different techniques, 5.310803195716948), (relaxed style, 5.285485387732658), (intricate sentence structures, 4.957981821094206), (diverse sentence structures, 3.9818841043785156), (various sentence structures, 3.9056690972112262), (different sentence structures, 3.5169092539602604), (informal language, 3.4649765052186177), (subordinate clauses, 3.2491470864703285), (extra information, 3.146890894847844), (better balance, 2.9545558217294703), (specialized language, 2.7933135269532454), (style is professional, 2.453007608255396), (formal tone, 2.4304529962818027), (casual language, 2.3456623086181843), (complex sentence structures, 2.1669825370112448), (overall rhythm, 2.147819618290001), (style is formal, 1.6950460064319748), (diverse sentence lengths, 1.5801790959331887), (consistent verb tense, 1.0794876502297113)]</td>\n",
       "      <td>6</td>\n",
       "    </tr>\n",
       "    <tr>\n",
       "      <th>2</th>\n",
       "      <td>2</td>\n",
       "      <td>[(diverse sentence structures, 88.92874499778684), (various sentence structures, 82.01905104143574), (style is formal, 76.27707028943887), (smooth reading experience, 61.523174493799104), (consistent verb tense, 60.45130841286383), (informal language, 58.9046005887165), (varied sentence lengths, 54.223849571851126), (relaxed style, 52.854853877326576), (author is informal, 49.43812277259813), (style is casual, 39.92763064996758), (precise language, 39.61249889610123), (formal tone, 38.88724794050884), (different language styles, 36.30090645986773), (casual language, 35.18493462927276), (different sentence structures, 35.1690925396026), (everyday language, 35.03322375550467), (overall rhythm, 32.21729427435002), (subjective viewpoint, 31.858375782011056), (informal style, 30.855022304700302), (structure is somewhat complex, 29.086822103482408), (better rhythm, 28.687207144318982), (diverse sentence lengths, 28.4432237267974), (extra remarks, 24.934099271685575), (structure is balanced, 23.914530273170413), (complex sentence structures, 23.836807907123692), (technical language, 22.566540237500025), (literary devices, 21.91142912152046), (simple sentence structures, 21.697706416754425), (style is informal, 20.20956602226112), (multiple languages, 20.1692191297203), (visual appeal, 19.978732751778537), (descriptive language, 19.835342245079268), (specialized language, 19.55319468867272), (varied sentence structures, 18.99012438631366), (vocabulary levels, 18.51301338282018), (casual language elements, 16.5624353225733), (extra details, 15.819188603202303), (various sentence types, 15.661785186913175), (technical terms, 15.654102124076175), (good grasp, 15.443203746702453), (improved impact, 14.92849242053219), (intricate sentence structures, 14.873945463282618), (clear sentence structures, 14.221129500254266), (moderate complexity, 13.4461460864802), (various subjects, 13.245979169366233), (additional comments, 13.245979169366233), (external sources, 12.224327921834252), (casual mood, 12.11318821952463), (technical terminology, 12.045068526413669), (relaxed feel, 11.432536607650226), (various voice types, 11.320357674348138), (passive voice, 10.983476588414423), (advanced language, 10.185602087806314), (casual tone, 10.124683672836898), (sophisticated language, 10.085078418244539), (consistent tone, 10.085078418244539), (different tenses, 9.791813473415175), (subordinate clauses, 9.747441259410985), (dynamic text flow, 9.66751202240654), (unique writing style, 9.66751202240654), (friendly writing style, 9.66751202240654), (author is easy, 9.66751202240654), (vivid language, 9.45173919959447), (extra information, 9.440672684543532), (writing is engaging, 8.974364841846596), (casual vibe, 8.974364841846596), (extra elements, 8.708612086729506), (casual language instead, 8.56889973373843), (vivid setting, 8.56889973373843), (positive tone, 8.56889973373843), (professional tone, 8.23687187502264), (formal style, 7.934136898031707), (specific references, 7.875752553178485), (detailed descriptions, 7.588070480726704), (better flow, 7.364926929412494), (descriptive language effectively, 7.269616749608169), (diverse techniques, 7.269616749608169), (text is casual, 7.269616749608169), (dynamic rhythm, 7.182605372618539), (different aspects, 7.102562664945003), (various components, 7.028454692791281), (improved rhythm, 6.8949233001667585), (accessible language, 6.8949233001667585), (tense usage, 6.866202593376337), (consistent lengths, 6.834298678350324), (intricate sentence constructions, 6.7230730432401), (various sentence lengths, 6.409415484385058), (relaxed atmosphere, 6.371675156402211), (subject matter, 6.335307512231336), (moderate level, 6.201776119606813), (better readability, 6.1411514977903785), (advanced vocabulary, 6.1411514977903785), (figurative language, 6.08399308395043), (specialized vocabulary, 5.953939955702232), (sophisticated tone, 5.953939955702232), (diverse vocabulary, 5.929842404123172), (specific details, 5.883322388488279), (style is polished, 5.817364420696482), (appropriate language, 5.817364420696482), (better understanding, 5.390845903390485), ...]</td>\n",
       "      <td>154</td>\n",
       "    </tr>\n",
       "    <tr>\n",
       "      <th>3</th>\n",
       "      <td>3</td>\n",
       "      <td>[(simple sentence structures, 529.6793037031227), (various sentence types, 498.93972809737687), (consistent verb tense, 396.17196763430405), (effective sentence structures, 244.36803856828206), (diverse sentence lengths, 192.78184970384902), (better rhythm, 121.1237634982357), (different tenses, 120.76569950545382), (brief sentences, 111.12099637740863), (straightforward sentence structures, 102.28459253854896), (verb tense, 90.90949189658322), (various sentence starters, 90.63427170712556), (diverse sentence structures, 90.25603969924634), (various techniques, 87.03636158012), (clear sentence structures, 82.48255110147474), (descriptive language, 79.34136898031707), (technical language, 78.98289083125009), (simpler options, 71.02562664945003), (complex ones, 63.71675156402211), (different types, 57.71268409097769), (vivid language, 56.710435197566824), (uniform structure, 56.421603316713906), (various tenses, 56.415266097020464), (precise language, 49.51562362012653), (different sentence structures, 49.236729555443645), (formal style, 47.604821388190246), (specialized language, 47.486329958205175), (tense usage, 44.63031685694619), (effective communication, 44.41765348693338), (limited range, 39.10710823436008), (simple language, 38.97377181447839), (different sentence styles, 37.45016736209161), (various sentence structures, 37.10385642350665), (complex sentence structures, 36.83870312919116), (simple language structures, 32.66008903238695), (various items, 31.676537561156678), (better readability, 30.705757488951892), (various sentence beginnings, 30.255235254733616), (overall rhythm, 30.069474656060017), (straightforward sentence constructions, 30.01975188138447), (formal tone, 29.165435955381632), (particular audience, 28.77744508489197), (technical terms, 28.177383823337113), (different ways, 24.015801505107575), (verb forms, 23.38539717813902), (various ways, 22.865073215300452), (limited sentence structures, 22.428276047440484), (basic language structures, 21.547816117855618), (specific type, 21.307687994835007), (casual language, 21.11096077756366), (certain level, 20.684769900500275), (active voice, 20.054206688996068), (verb tenses, 19.55884904409814), (concise sentence structures, 18.9006485772602), (structure is balanced, 17.93589770487781), (straightforward language, 17.516611877752336), (concise sentences, 16.821207035580365), (vocabulary styles, 16.573131888045022), (different sentence lengths, 16.48933831170791), (specialized terms, 16.214496436095672), (technical terminology, 16.060091368551557), (different techniques, 15.932409587150845), (structured writing style, 15.75150510635697), (dynamic language, 15.443203746702453), (prior knowledge, 15.176140961453408), (improved clarity, 15.176140961453408), (smooth transitions, 14.940574890140642), (style is professional, 14.718045649532378), (passive voice, 14.64463545121923), (consistent style, 14.615164430429395), (specific terms, 13.4461460864802), (smooth flow, 13.245979169366233), (various verb tenses, 13.245979169366233), (relaxed atmosphere, 12.743350312804422), (tense verbs, 12.53262928148877), (clear explanations, 11.72169906527244), (relaxed style, 10.570970775465316), (strong language, 9.66751202240654), (positive atmosphere, 9.66751202240654), (personal experiences, 9.66751202240654), (description is casual, 9.66751202240654), (comprehensive details, 9.66751202240654), (standardized naming method, 9.66751202240654), (consistent naming strategy, 9.66751202240654), (smooth transition, 9.66751202240654), (particular resources, 9.66751202240654), (efficient communication, 9.66751202240654), (diverse naming conventions, 9.66751202240654), (overall flow, 9.66751202240654), (concrete objects, 9.66751202240654), (various elements, 9.184676414345427), (clear formatting, 8.974364841846596), (specific area, 8.974364841846596), (different items, 8.974364841846596), (necessary items, 8.974364841846596), (related words, 8.974364841846596), (thorough information, 8.974364841846596), (different sections, 8.974364841846596), (formal tone throughout, 8.974364841846596), (distinct tone, 8.974364841846596), (present ideas, 8.974364841846596), ...]</td>\n",
       "      <td>553</td>\n",
       "    </tr>\n",
       "    <tr>\n",
       "      <th>4</th>\n",
       "      <td>4</td>\n",
       "      <td>[(complex sentence structures, 97.51421416550602), (diverse sentence structures, 91.58333440070585), (formal tone, 75.34404288473588), (style is formal, 71.19193227014294), (extra information, 69.23159968665256), (professional tone, 65.89497500018112), (consistent verb tense, 65.84874666401238), (additional elements, 65.30057460244718), (subordinate clauses, 64.98294172940658), (overall rhythm, 62.286768930410034), (better rhythm, 60.56188174911785), (verb tenses, 58.67654713229442), (tense usage, 58.36272204369887), (better balance, 56.13656061285994), (simple sentence structures, 51.05342686295159), (various sentence structures, 46.86802916653471), (grammatical structures, 45.21137602588858), (diverse sentence lengths, 37.92429830239653), (improved writing, 31.858375782011056), (various sentence types, 31.32357037382635), (technical terms, 31.30820424815235), (specialized language, 30.7264487964857), (passive voice, 29.28927090243846), (vivid language, 28.355217598783412), (various voice types, 28.300894185870344), (literary devices, 27.389286401900574), (specific language, 25.464005219515787), (visual appeal, 24.97341593972317), (limited range, 24.441942646475052), (technical terminology, 24.090137052827338), (descriptive language, 23.802410694095123), (varied sentence lengths, 23.722934187684867), (precise language, 23.107291022725715), (technical language, 22.566540237500025), (active voice, 20.054206688996068), (clear sentence structures, 19.909581300355974), (clear language, 19.55355411718004), (verb tense, 19.138840399280678), (possessive pronouns, 19.115025469206632), (different voice styles, 18.60532835882044), (figurative language, 18.25197925185129), (straightforward sentence structures, 17.788624789312863), (effective communication, 17.767061394773354), (appropriate language, 17.452093262089445), (extra elements, 17.41722417345901), (different things, 17.13779946747686), (different sentence lengths, 16.48933831170791), (certain words, 15.176140961453408), (outside sources, 15.176140961453408), (longer words, 15.176140961453408), (various techniques, 15.136758535673044), (simple language, 14.615164430429395), (various perspectives, 14.205125329890006), (verb forms, 14.031238306883413), (wide range, 13.93089450468079), (descriptive words, 13.789846600333517), (basic language, 13.4461460864802), (smooth reading experience, 13.183537391528379), (different types, 12.367003733780933), (different styles, 12.34200892188012), (dynamic style, 12.11318821952463), (various languages, 12.059851725360309), (different voices, 11.812623813425954), (casual language, 11.728311543090921), (style is polished, 11.634728841392963), (limited sentence structures, 11.214138023720242), (intricate ideas, 11.017257878093737), (better understanding, 10.78169180678097), (informal language, 10.394929515655853), (consistent tone, 10.085078418244539), (style is professional, 9.812030433021585), (consistent style, 9.743442953619597), (various noun forms, 9.66751202240654), (style is often traditional, 9.66751202240654), (format is consistent, 9.66751202240654), (standard notation, 9.66751202240654), (proper citation formats, 9.66751202240654), (essential components, 9.66751202240654), (mythical creatures, 9.66751202240654), (historical references, 9.66751202240654), (impersonal pronouns, 9.66751202240654), (straightforward writing style, 9.66751202240654), (proper grammar rules, 9.66751202240654), (main character, 9.66751202240654), (vivid atmosphere, 9.66751202240654), (direct speech indication, 9.66751202240654), (poetic language, 9.66751202240654), (fictional world, 9.66751202240654), (specific order, 9.66751202240654), (possible outcomes, 9.66751202240654), (strong imagery, 9.66751202240654), (friendly breaks, 9.66751202240654), (style is dense, 9.66751202240654), (rhythm is crucial, 9.66751202240654), (creative writing, 9.66751202240654), (specific point, 9.66751202240654), (varied sentence structures, 9.49506219315683), (various elements, 9.184676414345427), (authentic atmosphere, 8.974364841846596), (simple sentence construction, 8.974364841846596), ...]</td>\n",
       "      <td>230</td>\n",
       "    </tr>\n",
       "    <tr>\n",
       "      <th>5</th>\n",
       "      <td>5</td>\n",
       "      <td>[(clear sentence structures, 688.3026678123065), (overall rhythm, 642.1980658687104), (consistent verb tense, 566.7310163705985), (diverse sentence lengths, 480.37444516368936), (better rhythm, 449.43291192766407), (various sentence types, 434.05518946587944), (various sentence structures, 408.14242065857314), (varied sentence lengths, 396.51189999416135), (better balance, 378.1831451813722), (visual impact, 347.3432579183486), (formal tone, 296.5152655463799), (formal writing style, 263.7643929581414), (diverse sentence structures, 246.87681447146795), (complex language, 235.3991935502881), (precise language, 227.77186865258207), (style is formal, 218.66093482972474), (professional tone, 214.15866875058865), (specific words, 202.30085082100854), (different sentence structures, 182.87928120593355), (concise sentences, 151.39086332022327), (improved impact, 149.2849242053219), (overall quality, 139.30166452453324), (tense usage, 133.89095057083856), (consistent tone, 131.10601943717901), (specialized language, 128.49242223984928), (diverse elements, 110.5407269602268), (smooth reading experience, 109.86281159606983), (different sentence lengths, 107.18069902610142), (various languages, 96.47881380288247), (concise language, 96.14123226577587), (passive voice, 91.52897157012019), (additional information, 91.10161073613769), (simple sentence structures, 90.61983268173907), (formal style, 87.27550587834878), (various sources, 81.3256831741245), (particular style, 80.22305799222079), (communication is important, 78.12818931439503), (effective communication, 75.51001092778675), (different language styles, 68.064199612252), (grammatical structures, 67.81706403883288), (formal language, 62.55797671383638), (various language styles, 56.60178837174069), (technical terminology, 56.21031978993045), (multiple sources, 55.15938640133407), (active voice, 55.14906839473919), (descriptive language, 51.5718898372061), (external quotes, 51.55448850588746), (technical terms, 50.09312679704376), (external sources, 48.89731168733701), (different methods, 48.67194467160344), (neutral tone, 48.26446310116731), (enhanced understanding, 47.84009074845227), (appropriate language, 46.53891536557185), (various elements, 45.92338207172713), (proper nouns, 45.426207344410166), (various techniques, 45.41027560701913), (various punctuation marks, 44.189561576474965), (verb tense, 43.06239089838152), (technical language, 41.37199043541671), (clear communication, 40.66284158706225), (intricate sentence structures, 39.66385456875365), (direct speech, 38.608009366756136), (dynamic style, 36.33956465857389), (specific language, 35.6496073073221), (informal language, 34.649765052186176), (specific style, 34.47461650083379), (specific terms, 33.6153652162005), (cultural context, 33.1248706451466), (intricate ideas, 33.05177363428121), (different types, 32.97867662341582), (better understanding, 32.34507542034291), (diverse languages, 31.50301021271394), (verb tenses, 31.294158470557022), (sophisticated writing style, 30.886407493404906), (dynamic language, 30.886407493404906), (different elements, 28.392639879211327), (more information, 27.337194713401296), (advanced language, 25.464005219515787), (extra information, 25.17512715878275), (succinct sentences, 24.84365298385995), (overall impact, 24.84365298385995), (broad audience, 24.84365298385995), (different styles, 24.68401784376024), (clear language, 24.441942646475052), (specific references, 23.627257659535452), (specific details, 23.533289553953114), (emotional impact, 22.764211442180112), (diverse sources, 22.764211442180112), (various tenses, 21.698179268084793), (sophisticated language, 20.170156836489078), (simple language, 19.486885907239195), (complex ideas, 19.34209683973007), (shortened terms, 19.228246453155176), (varied sentence structures, 18.99012438631366), (concise wording, 17.94872968369319), (particular writing system, 17.94872968369319), (multiple resources, 17.94872968369319), (cultural influences, 17.94872968369319), (diverse perspectives, 17.94872968369319), (ongoing events, 17.94872968369319), ...]</td>\n",
       "      <td>1107</td>\n",
       "    </tr>\n",
       "    <tr>\n",
       "      <th>6</th>\n",
       "      <td>6</td>\n",
       "      <td>[(various tenses, 26.037815121701755), (simple sentence structures, 21.697706416754425), (style is professional, 17.171053257787772), (casual language, 16.41963616032729), (various sentence types, 13.424387303068436), (different tenses, 13.0557512978869), (few clauses, 8.974364841846596), (diverse sentence lengths, 7.900895479665944), (consistent verb tense, 7.556413551607979), (technical language, 7.522180079166675), (relaxed tone, 6.8949233001667585), (clear explanations, 5.86084953263622), (consistent pattern, 5.817364420696482), (various ways, 5.716268303825113), (specialized language, 5.586627053906491), (better understanding, 5.390845903390485), (verb tense, 4.7847100998201695), (descriptive language, 3.9670684490158536), (formal style, 3.9670684490158536), (informal language, 3.4649765052186177), (clear sentence structures, 2.844225900050853)]</td>\n",
       "      <td>18</td>\n",
       "    </tr>\n",
       "    <tr>\n",
       "      <th>7</th>\n",
       "      <td>7</td>\n",
       "      <td>[(overall rhythm, 12.886917709740008), (diverse word structures, 9.66751202240654), (intricate thoughts, 9.66751202240654), (personal bond, 8.974364841846596), (different sentence lengths, 8.244669155853956), (various sentence structures, 7.8113381944224525), (linguistic elements, 7.028454692791281), (relaxed atmosphere, 6.371675156402211), (abstract concepts, 5.838870625917445), (active voice, 5.013551672249017), (improved impact, 4.976164140177397), (vivid language, 4.725869599797235), (descriptive language, 3.9670684490158536), (formal style, 3.9670684490158536), (complex ideas, 3.868419367946014), (visual impact, 3.859369532426096), (passive voice, 3.6611588628048075), (informal language, 3.4649765052186177), (diverse sentence structures, 2.6545894029190102), (complex sentence structures, 2.1669825370112448), (consistent verb tense, 2.1589753004594225)]</td>\n",
       "      <td>8</td>\n",
       "    </tr>\n",
       "    <tr>\n",
       "      <th>8</th>\n",
       "      <td>8</td>\n",
       "      <td>[(better rhythm, 9.56240238143966), (modern advancements, 8.974364841846596), (style is formal, 8.475230032159875), (improved clarity, 7.588070480726704), (additional context, 7.588070480726704), (descriptive language effectively, 7.269616749608169), (precise language, 6.602083149350205), (clear manner, 6.576469569048224), (proper nouns, 6.489458192058595), (style is polished, 5.817364420696482), (various voice types, 5.660178837174069), (different ideas, 5.336778682120209), (rhythmic effect, 5.236695223563227), (complex concepts, 4.05438391601847), (verb tenses, 3.9117698088196278), (simple sentence structures, 3.829007014721369), (technical language, 3.7610900395833373), (additional information, 3.6440644294455073), (subordinate clauses, 3.2491470864703285), (consistent verb tense, 3.238462950689134), (extra information, 3.146890894847844), (specialized language, 2.7933135269532454), (various sentence types, 2.2373978838447393), (complex sentence structures, 2.1669825370112448), (diverse sentence lengths, 1.5801790959331887), (diverse sentence structures, 1.3272947014595051)]</td>\n",
       "      <td>11</td>\n",
       "    </tr>\n",
       "    <tr>\n",
       "      <th>9</th>\n",
       "      <td>9</td>\n",
       "      <td>[(diverse sentence structures, 17.254831118973566), (vivid language, 14.177608799391706), (various sentence structures, 13.669841840239291), (style is formal, 13.560368051455798), (overall rhythm, 12.886917709740008), (formal style, 11.901205347047561), (structure is somewhat complex, 11.634728841392963), (favorable atmosphere, 9.66751202240654), (objective reporting, 9.66751202240654), (present ideas, 8.974364841846596), (extra elements, 8.708612086729506), (visual impact, 7.718739064852192), (style is detailed, 7.588070480726704), (consistent verb tense, 7.556413551607979), (grammatical structures, 7.535229337648097), (various components, 7.028454692791281), (simple sentence structures, 6.381678357868949), (vocabulary levels, 6.17100446094006), (figurative language, 6.08399308395043), (appropriate language, 5.817364420696482), (various sentence beginnings, 5.042539209122269), (active voice, 5.013551672249017), (different language styles, 4.537613307483467), (various tenses, 4.339635853616959), (complex sentence structures, 4.3339650740224895), (verb tenses, 3.9117698088196278), (passive voice, 3.6611588628048075), (different sentence structures, 3.5169092539602604), (informal language, 3.4649765052186177), (varied sentence lengths, 3.3889905982406954), (subordinate clauses, 3.2491470864703285), (extra information, 3.146890894847844), (style is professional, 2.453007608255396), (formal tone, 2.4304529962818027), (casual language, 2.3456623086181843), (various sentence types, 2.2373978838447393), (diverse sentence lengths, 1.5801790959331887)]</td>\n",
       "      <td>20</td>\n",
       "    </tr>\n",
       "    <tr>\n",
       "      <th>10</th>\n",
       "      <td>10</td>\n",
       "      <td>[(diverse sentence lengths, 14.2216118633987), (technical language, 13.16381513854168), (style is professional, 9.812030433021585), (consistent naming practice, 9.66751202240654), (casual language, 9.382649234472737), (style is formal, 8.475230032159875), (consistent naming convention, 7.269616749608169), (tense usage, 6.866202593376337), (consistent verb tense, 6.476925901378268), (simple sentence structures, 6.381678357868949), (subject matter, 6.335307512231336), (unexplained abbreviations, 6.029925862680154), (various letter cases, 5.35002390887023), (verb forms, 4.677079435627804), (complex language, 4.359244325005335), (complex concepts, 4.05438391601847), (complex ideas, 3.868419367946014), (additional information, 3.6440644294455073), (technical terms, 3.130820424815235), (clear sentence structures, 2.844225900050853), (specialized language, 2.7933135269532454), (diverse sentence structures, 2.6545894029190102), (formal tone, 2.4304529962818027), (various sentence types, 2.2373978838447393)]</td>\n",
       "      <td>14</td>\n",
       "    </tr>\n",
       "    <tr>\n",
       "      <th>11</th>\n",
       "      <td>11</td>\n",
       "      <td>[(style is formal, 15.255414057887773), (diverse sentence structures, 11.945652313135547), (various sentence structures, 7.8113381944224525), (technical language, 7.522180079166675), (steady structure, 7.102562664945003), (multiple sources, 6.8949233001667585), (shortened terms, 6.409415484385058), (different ways, 6.003950376276894), (different ideas, 5.336778682120209), (different techniques, 5.310803195716948), (various sentence types, 4.4747957676894785), (consistent verb tense, 4.317950600918845), (effective sentence structures, 4.072800642804701), (complex concepts, 4.05438391601847), (grammatical structures, 3.7676146688240486), (additional information, 3.6440644294455073), (informal language, 3.4649765052186177), (subordinate clauses, 3.2491470864703285), (better rhythm, 3.187467460479887), (diverse sentence lengths, 3.1603581918663775), (extra information, 3.146890894847844), (technical terms, 3.130820424815235), (better balance, 2.9545558217294703), (clear sentence structures, 2.844225900050853), (style is professional, 2.453007608255396), (casual language, 2.3456623086181843), (complex sentence structures, 2.1669825370112448), (simple sentence structures, 1.2763356715737897)]</td>\n",
       "      <td>14</td>\n",
       "    </tr>\n",
       "    <tr>\n",
       "      <th>12</th>\n",
       "      <td>12</td>\n",
       "      <td>[(style is formal, 22.03559808361567), (technical language, 20.685995217708356), (various forms, 20.015339246557645), (additional information, 14.57625771778203), (shortened language, 14.539233499216339), (diverse sentence structures, 13.27294701459505), (complex concepts, 12.163151748055409), (different tenses, 9.791813473415175), (enhanced clarity, 9.66751202240654), (structure is informative, 8.974364841846596), (specialized terminology, 8.556880585180078), (consistent notation system, 7.875752553178485), (various sentence structures, 7.8113381944224525), (mathematical components, 7.588070480726704), (present tense, 7.470287445070321), (complex ideas clearly, 7.470287445070321), (style is professional, 7.359022824766189), (unfamiliar terms, 7.182605372618539), (casual language, 7.036986925854553), (various verb tenses, 6.622989584683117), (mathematical symbols, 6.448636197538339), (simple sentence structures, 6.381678357868949), (multiple elements, 5.607069011860121), (specialized language, 5.586627053906491), (specific language, 5.092801043903157), (tense usage, 3.4331012966881684), (technical terms, 3.130820424815235), (formal tone, 2.4304529962818027), (consistent verb tense, 2.1589753004594225)]</td>\n",
       "      <td>21</td>\n",
       "    </tr>\n",
       "    <tr>\n",
       "      <th>13</th>\n",
       "      <td>13</td>\n",
       "      <td>[(style is informal, 5.05239150556528), (verb forms, 4.677079435627804), (various sentence types, 4.4747957676894785), (technical terminology, 4.015022842137889), (simple sentence structures, 3.829007014721369), (passive voice, 3.6611588628048075), (informal language, 3.4649765052186177), (specialized language, 2.7933135269532454), (diverse sentence lengths, 1.5801790959331887), (diverse sentence structures, 1.3272947014595051), (consistent verb tense, 1.0794876502297113)]</td>\n",
       "      <td>4</td>\n",
       "    </tr>\n",
       "    <tr>\n",
       "      <th>14</th>\n",
       "      <td>14</td>\n",
       "      <td>[(structure is typically intricate, 9.66751202240654), (technical understanding, 9.66751202240654), (structure is complex, 9.66751202240654), (different types, 8.244669155853956), (various types, 6.335307512231336), (specialized vocabulary, 5.953939955702232), (specific details, 5.883322388488279), (multiple elements, 5.607069011860121), (complex sentences, 5.556638158233229), (sophisticated language, 5.042539209122269), (formal tone, 4.860905992563605), (varied sentence structures, 4.747531096578415), (complex ideas, 3.868419367946014), (overall rhythm, 2.147819618290001), (technical language, 1.8805450197916687), (diverse sentence structures, 1.3272947014595051)]</td>\n",
       "      <td>4</td>\n",
       "    </tr>\n",
       "    <tr>\n",
       "      <th>15</th>\n",
       "      <td>15</td>\n",
       "      <td>[(consistent verb tense, 166.24109813537552), (various sentence types, 158.85524975297648), (simple sentence structures, 131.46257417210035), (straightforward sentence structures, 106.73174873587718), (effective sentence structures, 93.67441478450812), (clear sentence structures, 91.0152288016273), (diverse sentence structures, 78.3103873861108), (formal tone, 77.77449588101769), (overall rhythm, 75.17368664015004), (better rhythm, 70.12428413055751), (diverse sentence lengths, 67.94770112512711), (complex sentence structures, 65.00947611033735), (clear language, 63.54905088083514), (style is formal, 62.716702237983064), (advanced language, 61.11361252683788), (style is sophisticated, 58.833223884882784), (formal language, 57.34481198768335), (advanced vocabulary, 55.2703634801134), (verb tenses, 54.76477732347479), (intricate constructions, 44.82172467042193), (different sentence styles, 42.80019127096184), (better balance, 41.36378150421258), (consistent lengths, 41.00579207010195), (different lengths, 40.429842070071395), (sophisticated language, 40.340313672978155), (precise language, 39.61249889610123), (specialized language, 39.10638937734544), (different sentence structures, 38.686001793562866), (diverse language, 38.45649290631035), (concise sentence structures, 37.8012971545204), (varied sentence lengths, 33.88990598240695), (limited vocabulary, 33.6153652162005), (consistent structure, 31.331573203721923), (effective communication, 31.09235744085337), (tense usage, 30.897911670193515), (better readability, 30.705757488951892), (grammatical structures, 30.14091735059239), (different tenses, 29.375440420245525), (uniform structure, 28.210801658356953), (formal style, 27.769479143110974), (descriptive language, 27.769479143110974), (smooth reading experience, 26.367074783056758), (casual language, 25.802285394800027), (passive voice, 25.628112039633653), (style is professional, 24.53007608255396), (technical language, 24.447085257291693), (specialized vocabulary, 23.81575982280893), (consistent sentence structure, 22.764211442180112), (limited sentence structures, 22.428276047440484), (complete words, 20.684769900500275), (specific language, 20.37120417561263), (improved readability, 18.51301338282018), (limited variation, 17.94872968369319), (exact meaning, 17.94872968369319), (sophisticated tone, 17.861819867106696), (different voices, 17.71893572013893), (appropriate language, 17.452093262089445), (complex sentences, 16.669914474699688), (subordinate clauses, 16.245735432351644), (exact ideas, 16.11614821994488), (diverse sentence structures effectively, 16.11614821994488), (extra information, 15.734454474239218), (active voice, 15.040655016747051), (intricate sentence structures, 14.873945463282618), (declarative sentences, 14.729853858824988), (complex language structures, 14.729853858824988), (limited range, 14.665165587885031), (verb forms, 14.031238306883413), (accessible language, 13.789846600333517), (simple language structures, 13.06403561295478), (rhythmic flow, 13.06403561295478), (technical terms, 12.52328169926094), (technical terminology, 12.045068526413669), (straightforward sentence constructions, 12.007900752553788), (straightforward language, 11.67774125183489), (particular audience, 11.510978033956787), (various techniques, 11.352568901754783), (intricate concepts, 11.214138023720242), (intricate ideas, 11.017257878093737), (consistent tone, 10.085078418244539), (simple language, 9.743442953619597), (consistent naming, 9.66751202240654), (complex language techniques, 9.66751202240654), (basic words, 9.66751202240654), (informative purposes, 9.66751202240654), (organizational structures, 9.66751202240654), (straightforward sentences, 9.66751202240654), (straightforward sentence construction, 9.66751202240654), (simple sentence constructions, 9.66751202240654), (key actions, 9.66751202240654), (major sporting events, 9.66751202240654), (intellectual ideas, 9.66751202240654), (simple manner, 9.66751202240654), (accessible tone, 9.66751202240654), (key terms, 9.66751202240654), (engaging style, 9.66751202240654), (unconventional sentence structures, 9.66751202240654), (formal language consistently, 9.66751202240654), (complex information clearly, 9.66751202240654), (certain nouns, 9.66751202240654), ...]</td>\n",
       "      <td>292</td>\n",
       "    </tr>\n",
       "    <tr>\n",
       "      <th>16</th>\n",
       "      <td>16</td>\n",
       "      <td>[(clear sentence structures, 59.728743901067915), (various sentence types, 42.51055979305005), (diverse sentence lengths, 22.12250734306464), (consistent verb tense, 17.27180240367538), (english language elements, 9.66751202240654), (various scripts, 8.974364841846596), (special symbols, 8.28121766128665), (visual impact, 7.718739064852192), (overall rhythm, 6.443458854870004), (active voice, 5.013551672249017), (verb tense, 4.7847100998201695), (various elements, 4.5923382071727135), (various sentence starters, 4.531713585356278), (passive voice, 3.6611588628048075), (different sentence structures, 3.5169092539602604), (varied sentence lengths, 3.3889905982406954), (better rhythm, 3.187467460479887), (specialized language, 2.7933135269532454), (formal tone, 2.4304529962818027), (various sentence structures, 1.9528345486056131), (style is formal, 1.6950460064319748), (diverse sentence structures, 1.3272947014595051), (simple sentence structures, 1.2763356715737897)]</td>\n",
       "      <td>26</td>\n",
       "    </tr>\n",
       "    <tr>\n",
       "      <th>17</th>\n",
       "      <td>17</td>\n",
       "      <td>[(complex language structures, 7.364926929412494), (certain level, 6.8949233001667585), (consistent structure, 6.266314640744385), (external sources, 6.112163960917126), (technical language, 5.641635059375006), (additional information, 3.6440644294455073), (style is formal, 3.3900920128639496), (subordinate clauses, 3.2491470864703285), (extra information, 3.146890894847844), (better balance, 2.9545558217294703), (clear sentence structures, 2.844225900050853), (diverse sentence structures, 2.6545894029190102), (simple sentence structures, 2.5526713431475794), (complex sentence structures, 2.1669825370112448), (diverse sentence lengths, 1.5801790959331887), (consistent verb tense, 1.0794876502297113)]</td>\n",
       "      <td>5</td>\n",
       "    </tr>\n",
       "    <tr>\n",
       "      <th>18</th>\n",
       "      <td>18</td>\n",
       "      <td>[(effective sentence structures, 57.019208999265814), (various sentence types, 20.136580954602653), (straightforward sentence structures, 17.788624789312863), (better readability, 12.282302995580757), (precise language, 9.903124724025307), (limited range, 9.77677705859002), (simple language, 9.743442953619597), (consistent style, 9.743442953619597), (tense narrative style, 9.66751202240654), (additional description, 9.66751202240654), (possessive nouns, 9.66751202240654), (various choices, 9.66751202240654), (effective communication, 8.883530697386677), (consistent verb tense, 8.63590120183769), (brief sentences, 8.547768952108356), (basic verb forms, 8.28121766128665), (diverse sentence structures, 7.963768208757031), (verb tenses, 7.8235396176392555), (consistent naming style, 7.588070480726704), (tense usage, 6.866202593376337), (compound words, 6.7230730432401), (succinct sentence styles, 6.622989584683117), (various verb tenses, 6.622989584683117), (straightforward sentence constructions, 6.003950376276894), (straightforward language, 5.838870625917445), (structure is somewhat complex, 5.817364420696482), (technical language, 5.641635059375006), (clear language, 4.88838852929501), (vivid language, 4.725869599797235), (different types, 4.122334577926978), (descriptive language, 3.9670684490158536), (simple sentence structures, 2.5526713431475794), (formal tone, 2.4304529962818027), (overall rhythm, 2.147819618290001), (style is formal, 1.6950460064319748)]</td>\n",
       "      <td>23</td>\n",
       "    </tr>\n",
       "    <tr>\n",
       "      <th>19</th>\n",
       "      <td>19</td>\n",
       "      <td>[(simple sentence structures, 26.803049103049585), (various sentence types, 20.136580954602653), (straightforward sentence structures, 17.788624789312863), (diverse sentence lengths, 12.64143276746551), (descriptive language, 11.901205347047561), (consistent verb tense, 11.874364152526823), (various ways, 11.432536607650226), (clear sentence structures, 8.53267770015256), (active language, 8.28121766128665), (varied sentence starters, 7.470287445070321), (overall tone, 7.028454692791281), (tense usage, 6.866202593376337), (different tenses, 6.52787564894345), (uniform structure, 5.64216033167139), (specific words, 5.323706600552856), (different techniques, 5.310803195716948), (active voice, 5.013551672249017), (simple language, 4.871721476809799), (verb tense, 4.7847100998201695), (various sentence starters, 4.531713585356278), (complex sentence structures, 4.3339650740224895), (brief sentences, 4.273884476054178), (different types, 4.122334577926978), (effective sentence structures, 4.072800642804701), (verb tenses, 3.9117698088196278), (passive voice, 3.6611588628048075), (better rhythm, 3.187467460479887), (specialized language, 2.7933135269532454), (diverse sentence structures, 1.3272947014595051)]</td>\n",
       "      <td>25</td>\n",
       "    </tr>\n",
       "    <tr>\n",
       "      <th>20</th>\n",
       "      <td>20</td>\n",
       "      <td>[(technical language, 11.283270118750012), (intricate details, 9.66751202240654), (clear formatting style, 9.66751202240654), (multiple instances, 8.974364841846596), (uniform notation, 8.974364841846596), (various categories, 8.974364841846596), (different sources, 8.56889973373843), (standardized approach, 7.269616749608169), (specialized symbols, 7.102562664945003), (complex information, 6.9594618213043296), (different concepts, 6.8949233001667585), (complex sentence structures, 6.500947611033734), (technical content, 6.489458192058595), (various types, 6.335307512231336), (technical terms, 6.26164084963047), (various languages, 6.029925862680154), (specific language, 5.092801043903157), (style is formal, 5.085138019295925), (formal tone, 4.860905992563605), (diverse sentence lengths, 4.740537287799566), (wide range, 4.643631501560264), (different types, 4.122334577926978), (complex concepts, 4.05438391601847), (diverse sentence structures, 3.9818841043785156), (additional information, 3.6440644294455073), (subordinate clauses, 3.2491470864703285), (extra information, 3.146890894847844), (style is professional, 2.453007608255396), (various sentence structures, 1.9528345486056131), (simple sentence structures, 1.2763356715737897), (consistent verb tense, 1.0794876502297113)]</td>\n",
       "      <td>14</td>\n",
       "    </tr>\n",
       "    <tr>\n",
       "      <th>21</th>\n",
       "      <td>21</td>\n",
       "      <td>[(effective sentence structures, 12.218401928414103), (uniform structure, 11.28432066334278), (overall imagery, 8.974364841846596), (consistent verb tense, 8.63590120183769), (simple sentence structures, 7.658014029442738), (improved readability, 6.17100446094006), (various elements, 4.5923382071727135), (various sentence types, 4.4747957676894785), (straightforward sentence structures, 4.447156197328216), (verb tenses, 3.9117698088196278), (various sentence structures, 3.9056690972112262), (precise language, 3.3010415746751023), (better rhythm, 3.187467460479887), (style is formal, 1.6950460064319748), (diverse sentence structures, 1.3272947014595051)]</td>\n",
       "      <td>9</td>\n",
       "    </tr>\n",
       "    <tr>\n",
       "      <th>22</th>\n",
       "      <td>22</td>\n",
       "      <td>[(second dimension, 9.66751202240654), (different characteristics, 9.66751202240654), (third dimension, 9.66751202240654), (different syntax elements, 9.66751202240654), (consistent naming convention, 7.269616749608169), (straightforward sentence structures, 4.447156197328216), (effective communication, 4.441765348693338), (verb tenses, 3.9117698088196278), (various sentence structures, 3.9056690972112262), (simple sentence structures, 3.829007014721369), (tense usage, 3.4331012966881684), (style is professional, 2.453007608255396), (formal tone, 2.4304529962818027), (casual language, 2.3456623086181843), (various sentence types, 2.2373978838447393), (complex sentence structures, 2.1669825370112448), (diverse sentence structures, 1.3272947014595051), (consistent verb tense, 1.0794876502297113)]</td>\n",
       "      <td>7</td>\n",
       "    </tr>\n",
       "    <tr>\n",
       "      <th>23</th>\n",
       "      <td>23</td>\n",
       "      <td>[(various techniques, 15.136758535673044), (conversational tone, 11.551383448591826), (unique narrative style, 8.974364841846596), (simple sentence structures, 7.658014029442738), (uniform structure, 5.64216033167139), (various sentence beginnings, 5.042539209122269), (verb tense, 4.7847100998201695), (diverse sentence lengths, 4.740537287799566), (various tenses, 4.339635853616959), (tense usage, 3.4331012966881684), (consistent verb tense, 3.238462950689134)]</td>\n",
       "      <td>6</td>\n",
       "    </tr>\n",
       "    <tr>\n",
       "      <th>24</th>\n",
       "      <td>24</td>\n",
       "      <td>[(concise sentence structures, 18.9006485772602), (clear sentence structures, 17.06535540030512), (various sentence types, 15.661785186913175), (author is formal, 14.729853858824988), (better reading flow, 14.365210745237079), (basic language, 13.4461460864802), (consistent verb tense, 12.953851802756535), (limited sentence structures, 11.214138023720242), (simple sentence structures, 10.210685372590317), (familiar language, 9.66751202240654), (positive aspects, 9.66751202240654), (grammatical structures, 7.535229337648097), (common words, 7.364926929412494), (different sentence structures, 7.033818507920521), (additional clauses, 6.8949233001667585), (moderate complexity, 6.7230730432401), (succinct sentence styles, 6.622989584683117), (tense verbs, 6.266314640744385), (technical terms, 6.26164084963047), (specialized vocabulary, 5.953939955702232), (straightforward language, 5.838870625917445), (particular audience, 5.755489016978394), (vocabulary styles, 5.5243772960150075), (rhythmic effect, 5.236695223563227), (consistent tone, 5.042539209122269), (sophisticated language, 5.042539209122269), (intricate sentence structures, 4.957981821094206), (limited range, 4.88838852929501), (formal tone, 4.860905992563605), (verb tense, 4.7847100998201695), (vivid language, 4.725869599797235), (verb forms, 4.677079435627804), (straightforward sentence structures, 4.447156197328216), (complex language, 4.359244325005335), (complex sentence structures, 4.3339650740224895), (different sentence lengths, 4.122334577926978), (formal style, 3.9670684490158536), (passive voice, 3.6611588628048075), (varied sentence lengths, 3.3889905982406954), (precise language, 3.3010415746751023), (different tenses, 3.263937824471725), (subordinate clauses, 3.2491470864703285), (better rhythm, 3.187467460479887), (diverse sentence lengths, 3.1603581918663775), (extra information, 3.146890894847844), (specialized language, 2.7933135269532454), (diverse sentence structures, 2.6545894029190102), (style is professional, 2.453007608255396), (overall rhythm, 2.147819618290001), (style is formal, 1.6950460064319748)]</td>\n",
       "      <td>24</td>\n",
       "    </tr>\n",
       "    <tr>\n",
       "      <th>25</th>\n",
       "      <td>25</td>\n",
       "      <td>[(simple sentence structures, 11.487021044164107), (various sentence types, 11.186989419223696), (verb tense, 9.569420199640339), (descriptive elements, 7.028454692791281), (verb conjugation, 6.7230730432401), (concise sentence structures, 6.300216192420066), (abstract nouns, 5.953939955702232), (consistent pattern, 5.817364420696482), (consistent verb tense, 5.397438251148556), (consistent style, 4.871721476809799), (varied sentence structures, 4.747531096578415), (vivid language, 4.725869599797235), (straightforward sentence structures, 4.447156197328216), (various tenses, 4.339635853616959), (different tenses, 3.263937824471725), (diverse sentence lengths, 3.1603581918663775), (clear sentence structures, 2.844225900050853), (style is professional, 2.453007608255396), (casual language, 2.3456623086181843)]</td>\n",
       "      <td>11</td>\n",
       "    </tr>\n",
       "    <tr>\n",
       "      <th>26</th>\n",
       "      <td>26</td>\n",
       "      <td>[(brief sentences, 17.095537904216712), (different tenses, 13.0557512978869), (various sentence types, 11.186989419223696), (simple sentence structures, 8.934349701016528), (effective sentence structures, 8.145601285609402), (friendly atmosphere, 7.721601873351227), (various techniques, 7.568379267836522), (informal language, 6.929953010437235), (conversational effect, 6.834298678350324), (grammatical tenses, 6.266314640744385), (various sentence starters, 4.531713585356278), (consistent verb tense, 4.317950600918845), (better rhythm, 3.187467460479887), (specialized language, 2.7933135269532454), (diverse sentence structures, 2.6545894029190102), (casual language, 2.3456623086181843)]</td>\n",
       "      <td>10</td>\n",
       "    </tr>\n",
       "    <tr>\n",
       "      <th>27</th>\n",
       "      <td>27</td>\n",
       "      <td>[(diverse sentence structures, 18.58212582043307), (style is formal, 15.255414057887773), (various sentence structures, 11.717007291633678), (passive voice, 10.983476588414423), (complex sentence structures, 10.834912685056224), (extra details, 10.546125735468202), (rhythmic effect, 10.473390447126453), (casual tone, 10.124683672836898), (subordinate clauses, 9.747441259410985), (information is clear, 9.66751202240654), (social topics, 9.66751202240654), (simple sentence structures, 8.934349701016528), (overall rhythm, 8.591278473160004), (further clarification, 8.56889973373843), (casual atmosphere, 8.05807410997244), (verb tenses, 7.8235396176392555), (style is professional, 7.359022824766189), (high level, 7.269616749608169), (engaging reading experience, 7.102562664945003), (casual language, 7.036986925854553), (informal language, 6.929953010437235), (extra components, 6.834298678350324), (communication is concise, 6.834298678350324), (moderate complexity, 6.7230730432401), (various subjects, 6.622989584683117), (extra information, 6.293781789695688), (technical terms, 6.26164084963047), (better readability, 6.1411514977903785), (specific details, 5.883322388488279), (formal language, 5.213164726153032), (advanced language, 5.092801043903157), (improved impact, 4.976164140177397), (varied sentence structures, 4.747531096578415), (diverse sentence lengths, 4.740537287799566), (style is casual, 4.436403405551953), (complex language, 4.359244325005335), (extra elements, 4.354306043364753), (various tenses, 4.339635853616959), (different sentence lengths, 4.122334577926978), (technical terminology, 4.015022842137889), (different sentence structures, 3.5169092539602604), (precise language, 3.3010415746751023), (different tenses, 3.263937824471725), (consistent verb tense, 3.238462950689134), (better rhythm, 3.187467460479887), (better balance, 2.9545558217294703), (various sentence types, 2.2373978838447393)]</td>\n",
       "      <td>29</td>\n",
       "    </tr>\n",
       "    <tr>\n",
       "      <th>28</th>\n",
       "      <td>28</td>\n",
       "      <td>[(simple sentence structures, 16.592363730459265), (various sentence types, 15.661785186913175), (consistent verb tense, 12.953851802756535), (different sentence lengths, 8.244669155853956), (diverse sentence structures, 7.963768208757031), (various sentence structures, 7.8113381944224525), (additional clauses, 6.8949233001667585), (more information, 6.834298678350324), (diverse sentence lengths, 6.320716383732755), (uniform structure, 5.64216033167139), (limited sentence structures, 5.607069011860121), (different sentence styles, 5.35002390887023), (specific language, 5.092801043903157), (active voice, 5.013551672249017), (vivid language, 4.725869599797235), (various sentence starters, 4.531713585356278), (straightforward sentence structures, 4.447156197328216), (overall rhythm, 4.295639236580002), (effective sentence structures, 4.072800642804701), (descriptive language, 3.9670684490158536), (formal style, 3.9670684490158536), (technical language, 3.7610900395833373), (passive voice, 3.6611588628048075), (informal language, 3.4649765052186177), (different tenses, 3.263937824471725), (clear sentence structures, 2.844225900050853), (formal tone, 2.4304529962818027), (style is formal, 1.6950460064319748)]</td>\n",
       "      <td>19</td>\n",
       "    </tr>\n",
       "    <tr>\n",
       "      <th>29</th>\n",
       "      <td>29</td>\n",
       "      <td>[(simple sentence structures, 12.763356715737897), (various sentence starters, 9.063427170712556), (cohesive narrative, 7.721601873351227), (consistent verb tense, 7.556413551607979), (additional clauses, 6.8949233001667585), (more information, 6.834298678350324), (various sentence types, 6.712193651534218), (various items, 6.335307512231336), (diverse sentence lengths, 6.320716383732755), (tense verbs, 6.266314640744385), (various sentence beginnings, 5.042539209122269), (verb forms, 4.677079435627804), (various tenses, 4.339635853616959), (overall rhythm, 4.295639236580002), (different sentence lengths, 4.122334577926978), (different types, 4.122334577926978), (passive voice, 3.6611588628048075), (different sentence structures, 3.5169092539602604), (precise language, 3.3010415746751023), (different tenses, 3.263937824471725), (diverse sentence structures, 2.6545894029190102), (style is professional, 2.453007608255396), (casual language, 2.3456623086181843), (complex sentence structures, 2.1669825370112448), (various sentence structures, 1.9528345486056131), (technical language, 1.8805450197916687)]</td>\n",
       "      <td>12</td>\n",
       "    </tr>\n",
       "  </tbody>\n",
       "</table>\n",
       "</div>"
      ],
      "text/plain": [
       "    cluster_label  \\\n",
       "0               0   \n",
       "1               1   \n",
       "2               2   \n",
       "3               3   \n",
       "4               4   \n",
       "5               5   \n",
       "6               6   \n",
       "7               7   \n",
       "8               8   \n",
       "9               9   \n",
       "10             10   \n",
       "11             11   \n",
       "12             12   \n",
       "13             13   \n",
       "14             14   \n",
       "15             15   \n",
       "16             16   \n",
       "17             17   \n",
       "18             18   \n",
       "19             19   \n",
       "20             20   \n",
       "21             21   \n",
       "22             22   \n",
       "23             23   \n",
       "24             24   \n",
       "25             25   \n",
       "26             26   \n",
       "27             27   \n",
       "28             28   \n",
       "29             29   \n",
       "\n",
       "                                                                                                                                                                                                                                                                                                                                                                                                                                                                                                                                                                                                                                                                                                                                                                                                                                                                                                                                                                                                                                                                                                                                                                                                                                                                                                                                                                                                                                                                                                                                                                                                                                                                                                                                                                                                                                                                                                                                                                                                                                                                                                                                                                                                                                                                                                                                                                                                                                                                                                                                                                                                                                                                                                                                                                                                                                                                                                                                                                                                                                                                                                                                                                                                                                                                                                                                                                                                                                                                                                                                                                                                                                                                                                                                                                                                                                                                                                                                                                                                                                                                                                                                                                                                                                                                                                                                                                                                                                                                            style_feats  \\\n",
       "0                                                                    [(technical language, 1009.8526756281261), (style is professional, 914.9718378792628), (style is formal, 910.2397054539705), (casual language, 820.9818080163645), (diverse sentence lengths, 660.5148621000728), (complex sentence structures, 483.2371057535076), (specialized language, 474.8632995820517), (simple sentence structures, 474.7968698254498), (diverse sentence structures, 463.2258508093673), (consistent verb tense, 400.4899182352229), (formal tone, 386.4420264088066), (technical terms, 341.2594263048606), (additional information, 331.6098630795412), (complex ideas, 293.9998719638971), (complex concepts, 271.64372237323744), (consistent style, 243.58607384048995), (various letter cases, 235.4010519902901), (specialized terminology, 205.36513404432188), (distinguish elements, 178.61819867106698), (mathematical notation, 175.8254859790866), (abstract ideas, 174.35828339173167), (various elements, 165.3241754582177), (specialized notation, 163.48837752568846), (better balance, 162.50057019512087), (various sentence structures, 162.08526753426588), (extra information, 157.3445447423922), (various techniques, 140.01501645497567), (subordinate clauses, 139.71332471822413), (different letter cases, 137.65647335237313), (different tenses, 137.08538862781245), (technical elements, 133.75601904442655), (different types, 123.67003733780933), (formal style, 122.97912191949146), (further explanation, 116.68940132289781), (additional explanation, 114.03553522016405), (technical terminology, 112.4206395798609), (various communication methods, 105.43019403331583), (consistent use, 103.17817916061342), (professional tone, 102.960898437783), (consistent notation, 102.55064775016093), (mathematical concepts, 100.80345907872106), (passive voice, 98.8512892957298), (writing is concise, 93.99471961116578), (abstract concepts, 93.42193001467912), (full words instead, 91.46029286120181), (various symbols, 90.85241468882033), (various sentence types, 89.49591535378957), (wide range, 88.22899852964501), (grammatical structures, 86.65513738295311), (tense usage, 85.82753241720421), (precise language, 85.82708094155267), (mathematical symbols, 83.8322705679984), (multiple elements, 78.4989661660417), (technical content, 77.87349830470313), (plain text, 77.3130016207041), (effective communication, 75.51001092778675), (various methods, 75.19577568893263), (overall rhythm, 75.17368664015004), (different elements, 73.82086368594945), (informal language, 72.76450660959097), (varied sentence lengths, 67.7798119648139), (mathematical elements, 67.230730432401), (straightforward sentence structures, 66.70734295992324), (unexplained abbreviations, 66.3291844894817), (specific language, 66.20641357074105), (effective sentence structures, 65.16481028487522), (content is consistently structured, 64.64344835356685), (clear explanations, 64.46934485899843), (difficult concepts, 64.22757688509189), (writing is clear, 64.09415484385059), (different forms, 63.25609223512153), (different letter case variations, 63.25609223512153), (foreign language phrases, 62.63515639173897), (lower case letters, 61.50868810515291), (specific details, 58.833223884882784), (consistent pattern, 58.173644206964816), (improved comprehension, 57.3450764076199), (intricate elements, 56.22763754233025), (content is difficult, 53.116493365086924), (mathematical notations, 53.116493365086924), (style is sophisticated, 52.94990149639451), (different sentence structures, 52.75363880940391), (smooth reading experience, 52.734149566113516), (specialized content, 52.29201211549225), (verb forms, 51.44787379190584), (specific symbols, 50.88731724725719), (verb tenses, 50.85300751465516), (subject matter, 50.68246009785069), (particular field, 50.278237608329775), (academic disciplines, 49.71793865461502), (limited range, 48.883885292950104), (different techniques, 47.79722876145254), (unique elements, 47.254515319070904), (common language rules, 47.254515319070904), (information is consistently clear, 45.528422884360225), (style is descriptive, 45.528422884360225), (better transitions, 45.528422884360225), (english text, 45.528422884360225), (clear sentence structures, 45.50761440081365), (intricate concepts, 44.85655209488097), ...]   \n",
       "1                                                                                                                                                                                                                                                                                                                                                                                                                                                                                                                                                                                                                                                                                                                                                                                                                                                                                                                                                                                                                                                                                                                                                                                                                                                                                                                                                                                                                                                                                                                                                                                                                                                                                                                                                                                                                                                                                                                                                                                                                                                                                                                                                                                                                                                                                                                                                                                                                                                                                                                                                                                                                                                                                                                                                                                                                                                                                                                                                                                                                                                                                                                                                                                                                                                                                                                                                                                                                                                                                                                                                                               [(better engagement, 6.9594618213043296), (different techniques, 5.310803195716948), (relaxed style, 5.285485387732658), (intricate sentence structures, 4.957981821094206), (diverse sentence structures, 3.9818841043785156), (various sentence structures, 3.9056690972112262), (different sentence structures, 3.5169092539602604), (informal language, 3.4649765052186177), (subordinate clauses, 3.2491470864703285), (extra information, 3.146890894847844), (better balance, 2.9545558217294703), (specialized language, 2.7933135269532454), (style is professional, 2.453007608255396), (formal tone, 2.4304529962818027), (casual language, 2.3456623086181843), (complex sentence structures, 2.1669825370112448), (overall rhythm, 2.147819618290001), (style is formal, 1.6950460064319748), (diverse sentence lengths, 1.5801790959331887), (consistent verb tense, 1.0794876502297113)]   \n",
       "2                                                                                                                                                                       [(diverse sentence structures, 88.92874499778684), (various sentence structures, 82.01905104143574), (style is formal, 76.27707028943887), (smooth reading experience, 61.523174493799104), (consistent verb tense, 60.45130841286383), (informal language, 58.9046005887165), (varied sentence lengths, 54.223849571851126), (relaxed style, 52.854853877326576), (author is informal, 49.43812277259813), (style is casual, 39.92763064996758), (precise language, 39.61249889610123), (formal tone, 38.88724794050884), (different language styles, 36.30090645986773), (casual language, 35.18493462927276), (different sentence structures, 35.1690925396026), (everyday language, 35.03322375550467), (overall rhythm, 32.21729427435002), (subjective viewpoint, 31.858375782011056), (informal style, 30.855022304700302), (structure is somewhat complex, 29.086822103482408), (better rhythm, 28.687207144318982), (diverse sentence lengths, 28.4432237267974), (extra remarks, 24.934099271685575), (structure is balanced, 23.914530273170413), (complex sentence structures, 23.836807907123692), (technical language, 22.566540237500025), (literary devices, 21.91142912152046), (simple sentence structures, 21.697706416754425), (style is informal, 20.20956602226112), (multiple languages, 20.1692191297203), (visual appeal, 19.978732751778537), (descriptive language, 19.835342245079268), (specialized language, 19.55319468867272), (varied sentence structures, 18.99012438631366), (vocabulary levels, 18.51301338282018), (casual language elements, 16.5624353225733), (extra details, 15.819188603202303), (various sentence types, 15.661785186913175), (technical terms, 15.654102124076175), (good grasp, 15.443203746702453), (improved impact, 14.92849242053219), (intricate sentence structures, 14.873945463282618), (clear sentence structures, 14.221129500254266), (moderate complexity, 13.4461460864802), (various subjects, 13.245979169366233), (additional comments, 13.245979169366233), (external sources, 12.224327921834252), (casual mood, 12.11318821952463), (technical terminology, 12.045068526413669), (relaxed feel, 11.432536607650226), (various voice types, 11.320357674348138), (passive voice, 10.983476588414423), (advanced language, 10.185602087806314), (casual tone, 10.124683672836898), (sophisticated language, 10.085078418244539), (consistent tone, 10.085078418244539), (different tenses, 9.791813473415175), (subordinate clauses, 9.747441259410985), (dynamic text flow, 9.66751202240654), (unique writing style, 9.66751202240654), (friendly writing style, 9.66751202240654), (author is easy, 9.66751202240654), (vivid language, 9.45173919959447), (extra information, 9.440672684543532), (writing is engaging, 8.974364841846596), (casual vibe, 8.974364841846596), (extra elements, 8.708612086729506), (casual language instead, 8.56889973373843), (vivid setting, 8.56889973373843), (positive tone, 8.56889973373843), (professional tone, 8.23687187502264), (formal style, 7.934136898031707), (specific references, 7.875752553178485), (detailed descriptions, 7.588070480726704), (better flow, 7.364926929412494), (descriptive language effectively, 7.269616749608169), (diverse techniques, 7.269616749608169), (text is casual, 7.269616749608169), (dynamic rhythm, 7.182605372618539), (different aspects, 7.102562664945003), (various components, 7.028454692791281), (improved rhythm, 6.8949233001667585), (accessible language, 6.8949233001667585), (tense usage, 6.866202593376337), (consistent lengths, 6.834298678350324), (intricate sentence constructions, 6.7230730432401), (various sentence lengths, 6.409415484385058), (relaxed atmosphere, 6.371675156402211), (subject matter, 6.335307512231336), (moderate level, 6.201776119606813), (better readability, 6.1411514977903785), (advanced vocabulary, 6.1411514977903785), (figurative language, 6.08399308395043), (specialized vocabulary, 5.953939955702232), (sophisticated tone, 5.953939955702232), (diverse vocabulary, 5.929842404123172), (specific details, 5.883322388488279), (style is polished, 5.817364420696482), (appropriate language, 5.817364420696482), (better understanding, 5.390845903390485), ...]   \n",
       "3                                                                                                                                  [(simple sentence structures, 529.6793037031227), (various sentence types, 498.93972809737687), (consistent verb tense, 396.17196763430405), (effective sentence structures, 244.36803856828206), (diverse sentence lengths, 192.78184970384902), (better rhythm, 121.1237634982357), (different tenses, 120.76569950545382), (brief sentences, 111.12099637740863), (straightforward sentence structures, 102.28459253854896), (verb tense, 90.90949189658322), (various sentence starters, 90.63427170712556), (diverse sentence structures, 90.25603969924634), (various techniques, 87.03636158012), (clear sentence structures, 82.48255110147474), (descriptive language, 79.34136898031707), (technical language, 78.98289083125009), (simpler options, 71.02562664945003), (complex ones, 63.71675156402211), (different types, 57.71268409097769), (vivid language, 56.710435197566824), (uniform structure, 56.421603316713906), (various tenses, 56.415266097020464), (precise language, 49.51562362012653), (different sentence structures, 49.236729555443645), (formal style, 47.604821388190246), (specialized language, 47.486329958205175), (tense usage, 44.63031685694619), (effective communication, 44.41765348693338), (limited range, 39.10710823436008), (simple language, 38.97377181447839), (different sentence styles, 37.45016736209161), (various sentence structures, 37.10385642350665), (complex sentence structures, 36.83870312919116), (simple language structures, 32.66008903238695), (various items, 31.676537561156678), (better readability, 30.705757488951892), (various sentence beginnings, 30.255235254733616), (overall rhythm, 30.069474656060017), (straightforward sentence constructions, 30.01975188138447), (formal tone, 29.165435955381632), (particular audience, 28.77744508489197), (technical terms, 28.177383823337113), (different ways, 24.015801505107575), (verb forms, 23.38539717813902), (various ways, 22.865073215300452), (limited sentence structures, 22.428276047440484), (basic language structures, 21.547816117855618), (specific type, 21.307687994835007), (casual language, 21.11096077756366), (certain level, 20.684769900500275), (active voice, 20.054206688996068), (verb tenses, 19.55884904409814), (concise sentence structures, 18.9006485772602), (structure is balanced, 17.93589770487781), (straightforward language, 17.516611877752336), (concise sentences, 16.821207035580365), (vocabulary styles, 16.573131888045022), (different sentence lengths, 16.48933831170791), (specialized terms, 16.214496436095672), (technical terminology, 16.060091368551557), (different techniques, 15.932409587150845), (structured writing style, 15.75150510635697), (dynamic language, 15.443203746702453), (prior knowledge, 15.176140961453408), (improved clarity, 15.176140961453408), (smooth transitions, 14.940574890140642), (style is professional, 14.718045649532378), (passive voice, 14.64463545121923), (consistent style, 14.615164430429395), (specific terms, 13.4461460864802), (smooth flow, 13.245979169366233), (various verb tenses, 13.245979169366233), (relaxed atmosphere, 12.743350312804422), (tense verbs, 12.53262928148877), (clear explanations, 11.72169906527244), (relaxed style, 10.570970775465316), (strong language, 9.66751202240654), (positive atmosphere, 9.66751202240654), (personal experiences, 9.66751202240654), (description is casual, 9.66751202240654), (comprehensive details, 9.66751202240654), (standardized naming method, 9.66751202240654), (consistent naming strategy, 9.66751202240654), (smooth transition, 9.66751202240654), (particular resources, 9.66751202240654), (efficient communication, 9.66751202240654), (diverse naming conventions, 9.66751202240654), (overall flow, 9.66751202240654), (concrete objects, 9.66751202240654), (various elements, 9.184676414345427), (clear formatting, 8.974364841846596), (specific area, 8.974364841846596), (different items, 8.974364841846596), (necessary items, 8.974364841846596), (related words, 8.974364841846596), (thorough information, 8.974364841846596), (different sections, 8.974364841846596), (formal tone throughout, 8.974364841846596), (distinct tone, 8.974364841846596), (present ideas, 8.974364841846596), ...]   \n",
       "4                                                                                                                                                                                                  [(complex sentence structures, 97.51421416550602), (diverse sentence structures, 91.58333440070585), (formal tone, 75.34404288473588), (style is formal, 71.19193227014294), (extra information, 69.23159968665256), (professional tone, 65.89497500018112), (consistent verb tense, 65.84874666401238), (additional elements, 65.30057460244718), (subordinate clauses, 64.98294172940658), (overall rhythm, 62.286768930410034), (better rhythm, 60.56188174911785), (verb tenses, 58.67654713229442), (tense usage, 58.36272204369887), (better balance, 56.13656061285994), (simple sentence structures, 51.05342686295159), (various sentence structures, 46.86802916653471), (grammatical structures, 45.21137602588858), (diverse sentence lengths, 37.92429830239653), (improved writing, 31.858375782011056), (various sentence types, 31.32357037382635), (technical terms, 31.30820424815235), (specialized language, 30.7264487964857), (passive voice, 29.28927090243846), (vivid language, 28.355217598783412), (various voice types, 28.300894185870344), (literary devices, 27.389286401900574), (specific language, 25.464005219515787), (visual appeal, 24.97341593972317), (limited range, 24.441942646475052), (technical terminology, 24.090137052827338), (descriptive language, 23.802410694095123), (varied sentence lengths, 23.722934187684867), (precise language, 23.107291022725715), (technical language, 22.566540237500025), (active voice, 20.054206688996068), (clear sentence structures, 19.909581300355974), (clear language, 19.55355411718004), (verb tense, 19.138840399280678), (possessive pronouns, 19.115025469206632), (different voice styles, 18.60532835882044), (figurative language, 18.25197925185129), (straightforward sentence structures, 17.788624789312863), (effective communication, 17.767061394773354), (appropriate language, 17.452093262089445), (extra elements, 17.41722417345901), (different things, 17.13779946747686), (different sentence lengths, 16.48933831170791), (certain words, 15.176140961453408), (outside sources, 15.176140961453408), (longer words, 15.176140961453408), (various techniques, 15.136758535673044), (simple language, 14.615164430429395), (various perspectives, 14.205125329890006), (verb forms, 14.031238306883413), (wide range, 13.93089450468079), (descriptive words, 13.789846600333517), (basic language, 13.4461460864802), (smooth reading experience, 13.183537391528379), (different types, 12.367003733780933), (different styles, 12.34200892188012), (dynamic style, 12.11318821952463), (various languages, 12.059851725360309), (different voices, 11.812623813425954), (casual language, 11.728311543090921), (style is polished, 11.634728841392963), (limited sentence structures, 11.214138023720242), (intricate ideas, 11.017257878093737), (better understanding, 10.78169180678097), (informal language, 10.394929515655853), (consistent tone, 10.085078418244539), (style is professional, 9.812030433021585), (consistent style, 9.743442953619597), (various noun forms, 9.66751202240654), (style is often traditional, 9.66751202240654), (format is consistent, 9.66751202240654), (standard notation, 9.66751202240654), (proper citation formats, 9.66751202240654), (essential components, 9.66751202240654), (mythical creatures, 9.66751202240654), (historical references, 9.66751202240654), (impersonal pronouns, 9.66751202240654), (straightforward writing style, 9.66751202240654), (proper grammar rules, 9.66751202240654), (main character, 9.66751202240654), (vivid atmosphere, 9.66751202240654), (direct speech indication, 9.66751202240654), (poetic language, 9.66751202240654), (fictional world, 9.66751202240654), (specific order, 9.66751202240654), (possible outcomes, 9.66751202240654), (strong imagery, 9.66751202240654), (friendly breaks, 9.66751202240654), (style is dense, 9.66751202240654), (rhythm is crucial, 9.66751202240654), (creative writing, 9.66751202240654), (specific point, 9.66751202240654), (varied sentence structures, 9.49506219315683), (various elements, 9.184676414345427), (authentic atmosphere, 8.974364841846596), (simple sentence construction, 8.974364841846596), ...]   \n",
       "5                                                                                                                                                                                                       [(clear sentence structures, 688.3026678123065), (overall rhythm, 642.1980658687104), (consistent verb tense, 566.7310163705985), (diverse sentence lengths, 480.37444516368936), (better rhythm, 449.43291192766407), (various sentence types, 434.05518946587944), (various sentence structures, 408.14242065857314), (varied sentence lengths, 396.51189999416135), (better balance, 378.1831451813722), (visual impact, 347.3432579183486), (formal tone, 296.5152655463799), (formal writing style, 263.7643929581414), (diverse sentence structures, 246.87681447146795), (complex language, 235.3991935502881), (precise language, 227.77186865258207), (style is formal, 218.66093482972474), (professional tone, 214.15866875058865), (specific words, 202.30085082100854), (different sentence structures, 182.87928120593355), (concise sentences, 151.39086332022327), (improved impact, 149.2849242053219), (overall quality, 139.30166452453324), (tense usage, 133.89095057083856), (consistent tone, 131.10601943717901), (specialized language, 128.49242223984928), (diverse elements, 110.5407269602268), (smooth reading experience, 109.86281159606983), (different sentence lengths, 107.18069902610142), (various languages, 96.47881380288247), (concise language, 96.14123226577587), (passive voice, 91.52897157012019), (additional information, 91.10161073613769), (simple sentence structures, 90.61983268173907), (formal style, 87.27550587834878), (various sources, 81.3256831741245), (particular style, 80.22305799222079), (communication is important, 78.12818931439503), (effective communication, 75.51001092778675), (different language styles, 68.064199612252), (grammatical structures, 67.81706403883288), (formal language, 62.55797671383638), (various language styles, 56.60178837174069), (technical terminology, 56.21031978993045), (multiple sources, 55.15938640133407), (active voice, 55.14906839473919), (descriptive language, 51.5718898372061), (external quotes, 51.55448850588746), (technical terms, 50.09312679704376), (external sources, 48.89731168733701), (different methods, 48.67194467160344), (neutral tone, 48.26446310116731), (enhanced understanding, 47.84009074845227), (appropriate language, 46.53891536557185), (various elements, 45.92338207172713), (proper nouns, 45.426207344410166), (various techniques, 45.41027560701913), (various punctuation marks, 44.189561576474965), (verb tense, 43.06239089838152), (technical language, 41.37199043541671), (clear communication, 40.66284158706225), (intricate sentence structures, 39.66385456875365), (direct speech, 38.608009366756136), (dynamic style, 36.33956465857389), (specific language, 35.6496073073221), (informal language, 34.649765052186176), (specific style, 34.47461650083379), (specific terms, 33.6153652162005), (cultural context, 33.1248706451466), (intricate ideas, 33.05177363428121), (different types, 32.97867662341582), (better understanding, 32.34507542034291), (diverse languages, 31.50301021271394), (verb tenses, 31.294158470557022), (sophisticated writing style, 30.886407493404906), (dynamic language, 30.886407493404906), (different elements, 28.392639879211327), (more information, 27.337194713401296), (advanced language, 25.464005219515787), (extra information, 25.17512715878275), (succinct sentences, 24.84365298385995), (overall impact, 24.84365298385995), (broad audience, 24.84365298385995), (different styles, 24.68401784376024), (clear language, 24.441942646475052), (specific references, 23.627257659535452), (specific details, 23.533289553953114), (emotional impact, 22.764211442180112), (diverse sources, 22.764211442180112), (various tenses, 21.698179268084793), (sophisticated language, 20.170156836489078), (simple language, 19.486885907239195), (complex ideas, 19.34209683973007), (shortened terms, 19.228246453155176), (varied sentence structures, 18.99012438631366), (concise wording, 17.94872968369319), (particular writing system, 17.94872968369319), (multiple resources, 17.94872968369319), (cultural influences, 17.94872968369319), (diverse perspectives, 17.94872968369319), (ongoing events, 17.94872968369319), ...]   \n",
       "6                                                                                                                                                                                                                                                                                                                                                                                                                                                                                                                                                                                                                                                                                                                                                                                                                                                                                                                                                                                                                                                                                                                                                                                                                                                                                                                                                                                                                                                                                                                                                                                                                                                                                                                                                                                                                                                                                                                                                                                                                                                                                                                                                                                                                                                                                                                                                                                                                                                                                                                                                                                                                                                                                                                                                                                                                                                                                                                                                                                                                                                                                                                                                                                                                                                                                                                                                                                                                                                                                                                                                                                        [(various tenses, 26.037815121701755), (simple sentence structures, 21.697706416754425), (style is professional, 17.171053257787772), (casual language, 16.41963616032729), (various sentence types, 13.424387303068436), (different tenses, 13.0557512978869), (few clauses, 8.974364841846596), (diverse sentence lengths, 7.900895479665944), (consistent verb tense, 7.556413551607979), (technical language, 7.522180079166675), (relaxed tone, 6.8949233001667585), (clear explanations, 5.86084953263622), (consistent pattern, 5.817364420696482), (various ways, 5.716268303825113), (specialized language, 5.586627053906491), (better understanding, 5.390845903390485), (verb tense, 4.7847100998201695), (descriptive language, 3.9670684490158536), (formal style, 3.9670684490158536), (informal language, 3.4649765052186177), (clear sentence structures, 2.844225900050853)]   \n",
       "7                                                                                                                                                                                                                                                                                                                                                                                                                                                                                                                                                                                                                                                                                                                                                                                                                                                                                                                                                                                                                                                                                                                                                                                                                                                                                                                                                                                                                                                                                                                                                                                                                                                                                                                                                                                                                                                                                                                                                                                                                                                                                                                                                                                                                                                                                                                                                                                                                                                                                                                                                                                                                                                                                                                                                                                                                                                                                                                                                                                                                                                                                                                                                                                                                                                                                                                                                                                                                                                                                                                                                                                 [(overall rhythm, 12.886917709740008), (diverse word structures, 9.66751202240654), (intricate thoughts, 9.66751202240654), (personal bond, 8.974364841846596), (different sentence lengths, 8.244669155853956), (various sentence structures, 7.8113381944224525), (linguistic elements, 7.028454692791281), (relaxed atmosphere, 6.371675156402211), (abstract concepts, 5.838870625917445), (active voice, 5.013551672249017), (improved impact, 4.976164140177397), (vivid language, 4.725869599797235), (descriptive language, 3.9670684490158536), (formal style, 3.9670684490158536), (complex ideas, 3.868419367946014), (visual impact, 3.859369532426096), (passive voice, 3.6611588628048075), (informal language, 3.4649765052186177), (diverse sentence structures, 2.6545894029190102), (complex sentence structures, 2.1669825370112448), (consistent verb tense, 2.1589753004594225)]   \n",
       "8                                                                                                                                                                                                                                                                                                                                                                                                                                                                                                                                                                                                                                                                                                                                                                                                                                                                                                                                                                                                                                                                                                                                                                                                                                                                                                                                                                                                                                                                                                                                                                                                                                                                                                                                                                                                                                                                                                                                                                                                                                                                                                                                                                                                                                                                                                                                                                                                                                                                                                                                                                                                                                                                                                                                                                                                                                                                                                                                                                                                                                                                                                                                                                                                                                                                                                                                                [(better rhythm, 9.56240238143966), (modern advancements, 8.974364841846596), (style is formal, 8.475230032159875), (improved clarity, 7.588070480726704), (additional context, 7.588070480726704), (descriptive language effectively, 7.269616749608169), (precise language, 6.602083149350205), (clear manner, 6.576469569048224), (proper nouns, 6.489458192058595), (style is polished, 5.817364420696482), (various voice types, 5.660178837174069), (different ideas, 5.336778682120209), (rhythmic effect, 5.236695223563227), (complex concepts, 4.05438391601847), (verb tenses, 3.9117698088196278), (simple sentence structures, 3.829007014721369), (technical language, 3.7610900395833373), (additional information, 3.6440644294455073), (subordinate clauses, 3.2491470864703285), (consistent verb tense, 3.238462950689134), (extra information, 3.146890894847844), (specialized language, 2.7933135269532454), (various sentence types, 2.2373978838447393), (complex sentence structures, 2.1669825370112448), (diverse sentence lengths, 1.5801790959331887), (diverse sentence structures, 1.3272947014595051)]   \n",
       "9                                                                                                                                                                                                                                                                                                                                                                                                                                                                                                                                                                                                                                                                                                                                                                                                                                                                                                                                                                                                                                                                                                                                                                                                                                                                                                                                                                                                                                                                                                                                                                                                                                                                                                                                                                                                                                                                                                                                                                                                                                                                                                                                                                                                                                                                                                                                                                                                                                                                                                                                                                                                                                                                                                                                                                                                                                                     [(diverse sentence structures, 17.254831118973566), (vivid language, 14.177608799391706), (various sentence structures, 13.669841840239291), (style is formal, 13.560368051455798), (overall rhythm, 12.886917709740008), (formal style, 11.901205347047561), (structure is somewhat complex, 11.634728841392963), (favorable atmosphere, 9.66751202240654), (objective reporting, 9.66751202240654), (present ideas, 8.974364841846596), (extra elements, 8.708612086729506), (visual impact, 7.718739064852192), (style is detailed, 7.588070480726704), (consistent verb tense, 7.556413551607979), (grammatical structures, 7.535229337648097), (various components, 7.028454692791281), (simple sentence structures, 6.381678357868949), (vocabulary levels, 6.17100446094006), (figurative language, 6.08399308395043), (appropriate language, 5.817364420696482), (various sentence beginnings, 5.042539209122269), (active voice, 5.013551672249017), (different language styles, 4.537613307483467), (various tenses, 4.339635853616959), (complex sentence structures, 4.3339650740224895), (verb tenses, 3.9117698088196278), (passive voice, 3.6611588628048075), (different sentence structures, 3.5169092539602604), (informal language, 3.4649765052186177), (varied sentence lengths, 3.3889905982406954), (subordinate clauses, 3.2491470864703285), (extra information, 3.146890894847844), (style is professional, 2.453007608255396), (formal tone, 2.4304529962818027), (casual language, 2.3456623086181843), (various sentence types, 2.2373978838447393), (diverse sentence lengths, 1.5801790959331887)]   \n",
       "10                                                                                                                                                                                                                                                                                                                                                                                                                                                                                                                                                                                                                                                                                                                                                                                                                                                                                                                                                                                                                                                                                                                                                                                                                                                                                                                                                                                                                                                                                                                                                                                                                                                                                                                                                                                                                                                                                                                                                                                                                                                                                                                                                                                                                                                                                                                                                                                                                                                                                                                                                                                                                                                                                                                                                                                                                                                                                                                                                                                                                                                                                                                                                                                                                                                                                                                                                                                                                               [(diverse sentence lengths, 14.2216118633987), (technical language, 13.16381513854168), (style is professional, 9.812030433021585), (consistent naming practice, 9.66751202240654), (casual language, 9.382649234472737), (style is formal, 8.475230032159875), (consistent naming convention, 7.269616749608169), (tense usage, 6.866202593376337), (consistent verb tense, 6.476925901378268), (simple sentence structures, 6.381678357868949), (subject matter, 6.335307512231336), (unexplained abbreviations, 6.029925862680154), (various letter cases, 5.35002390887023), (verb forms, 4.677079435627804), (complex language, 4.359244325005335), (complex concepts, 4.05438391601847), (complex ideas, 3.868419367946014), (additional information, 3.6440644294455073), (technical terms, 3.130820424815235), (clear sentence structures, 2.844225900050853), (specialized language, 2.7933135269532454), (diverse sentence structures, 2.6545894029190102), (formal tone, 2.4304529962818027), (various sentence types, 2.2373978838447393)]   \n",
       "11                                                                                                                                                                                                                                                                                                                                                                                                                                                                                                                                                                                                                                                                                                                                                                                                                                                                                                                                                                                                                                                                                                                                                                                                                                                                                                                                                                                                                                                                                                                                                                                                                                                                                                                                                                                                                                                                                                                                                                                                                                                                                                                                                                                                                                                                                                                                                                                                                                                                                                                                                                                                                                                                                                                                                                                                                                                                                                                                                                                                                                                                                                                                                                                                                                [(style is formal, 15.255414057887773), (diverse sentence structures, 11.945652313135547), (various sentence structures, 7.8113381944224525), (technical language, 7.522180079166675), (steady structure, 7.102562664945003), (multiple sources, 6.8949233001667585), (shortened terms, 6.409415484385058), (different ways, 6.003950376276894), (different ideas, 5.336778682120209), (different techniques, 5.310803195716948), (various sentence types, 4.4747957676894785), (consistent verb tense, 4.317950600918845), (effective sentence structures, 4.072800642804701), (complex concepts, 4.05438391601847), (grammatical structures, 3.7676146688240486), (additional information, 3.6440644294455073), (informal language, 3.4649765052186177), (subordinate clauses, 3.2491470864703285), (better rhythm, 3.187467460479887), (diverse sentence lengths, 3.1603581918663775), (extra information, 3.146890894847844), (technical terms, 3.130820424815235), (better balance, 2.9545558217294703), (clear sentence structures, 2.844225900050853), (style is professional, 2.453007608255396), (casual language, 2.3456623086181843), (complex sentence structures, 2.1669825370112448), (simple sentence structures, 1.2763356715737897)]   \n",
       "12                                                                                                                                                                                                                                                                                                                                                                                                                                                                                                                                                                                                                                                                                                                                                                                                                                                                                                                                                                                                                                                                                                                                                                                                                                                                                                                                                                                                                                                                                                                                                                                                                                                                                                                                                                                                                                                                                                                                                                                                                                                                                                                                                                                                                                                                                                                                                                                                                                                                                                                                                                                                                                                                                                                                                                                                                                                                                                                                                                                                                                                                                                                                                                                                                [(style is formal, 22.03559808361567), (technical language, 20.685995217708356), (various forms, 20.015339246557645), (additional information, 14.57625771778203), (shortened language, 14.539233499216339), (diverse sentence structures, 13.27294701459505), (complex concepts, 12.163151748055409), (different tenses, 9.791813473415175), (enhanced clarity, 9.66751202240654), (structure is informative, 8.974364841846596), (specialized terminology, 8.556880585180078), (consistent notation system, 7.875752553178485), (various sentence structures, 7.8113381944224525), (mathematical components, 7.588070480726704), (present tense, 7.470287445070321), (complex ideas clearly, 7.470287445070321), (style is professional, 7.359022824766189), (unfamiliar terms, 7.182605372618539), (casual language, 7.036986925854553), (various verb tenses, 6.622989584683117), (mathematical symbols, 6.448636197538339), (simple sentence structures, 6.381678357868949), (multiple elements, 5.607069011860121), (specialized language, 5.586627053906491), (specific language, 5.092801043903157), (tense usage, 3.4331012966881684), (technical terms, 3.130820424815235), (formal tone, 2.4304529962818027), (consistent verb tense, 2.1589753004594225)]   \n",
       "13                                                                                                                                                                                                                                                                                                                                                                                                                                                                                                                                                                                                                                                                                                                                                                                                                                                                                                                                                                                                                                                                                                                                                                                                                                                                                                                                                                                                                                                                                                                                                                                                                                                                                                                                                                                                                                                                                                                                                                                                                                                                                                                                                                                                                                                                                                                                                                                                                                                                                                                                                                                                                                                                                                                                                                                                                                                                                                                                                                                                                                                                                                                                                                                                                                                                                                                                                                                                                                                                                                                                                                                                                                                                                                                                                                                                                                                                                                                                                                                        [(style is informal, 5.05239150556528), (verb forms, 4.677079435627804), (various sentence types, 4.4747957676894785), (technical terminology, 4.015022842137889), (simple sentence structures, 3.829007014721369), (passive voice, 3.6611588628048075), (informal language, 3.4649765052186177), (specialized language, 2.7933135269532454), (diverse sentence lengths, 1.5801790959331887), (diverse sentence structures, 1.3272947014595051), (consistent verb tense, 1.0794876502297113)]   \n",
       "14                                                                                                                                                                                                                                                                                                                                                                                                                                                                                                                                                                                                                                                                                                                                                                                                                                                                                                                                                                                                                                                                                                                                                                                                                                                                                                                                                                                                                                                                                                                                                                                                                                                                                                                                                                                                                                                                                                                                                                                                                                                                                                                                                                                                                                                                                                                                                                                                                                                                                                                                                                                                                                                                                                                                                                                                                                                                                                                                                                                                                                                                                                                                                                                                                                                                                                                                                                                                                                                                                                                                                                                                                                                                                                                                                                                    [(structure is typically intricate, 9.66751202240654), (technical understanding, 9.66751202240654), (structure is complex, 9.66751202240654), (different types, 8.244669155853956), (various types, 6.335307512231336), (specialized vocabulary, 5.953939955702232), (specific details, 5.883322388488279), (multiple elements, 5.607069011860121), (complex sentences, 5.556638158233229), (sophisticated language, 5.042539209122269), (formal tone, 4.860905992563605), (varied sentence structures, 4.747531096578415), (complex ideas, 3.868419367946014), (overall rhythm, 2.147819618290001), (technical language, 1.8805450197916687), (diverse sentence structures, 1.3272947014595051)]   \n",
       "15  [(consistent verb tense, 166.24109813537552), (various sentence types, 158.85524975297648), (simple sentence structures, 131.46257417210035), (straightforward sentence structures, 106.73174873587718), (effective sentence structures, 93.67441478450812), (clear sentence structures, 91.0152288016273), (diverse sentence structures, 78.3103873861108), (formal tone, 77.77449588101769), (overall rhythm, 75.17368664015004), (better rhythm, 70.12428413055751), (diverse sentence lengths, 67.94770112512711), (complex sentence structures, 65.00947611033735), (clear language, 63.54905088083514), (style is formal, 62.716702237983064), (advanced language, 61.11361252683788), (style is sophisticated, 58.833223884882784), (formal language, 57.34481198768335), (advanced vocabulary, 55.2703634801134), (verb tenses, 54.76477732347479), (intricate constructions, 44.82172467042193), (different sentence styles, 42.80019127096184), (better balance, 41.36378150421258), (consistent lengths, 41.00579207010195), (different lengths, 40.429842070071395), (sophisticated language, 40.340313672978155), (precise language, 39.61249889610123), (specialized language, 39.10638937734544), (different sentence structures, 38.686001793562866), (diverse language, 38.45649290631035), (concise sentence structures, 37.8012971545204), (varied sentence lengths, 33.88990598240695), (limited vocabulary, 33.6153652162005), (consistent structure, 31.331573203721923), (effective communication, 31.09235744085337), (tense usage, 30.897911670193515), (better readability, 30.705757488951892), (grammatical structures, 30.14091735059239), (different tenses, 29.375440420245525), (uniform structure, 28.210801658356953), (formal style, 27.769479143110974), (descriptive language, 27.769479143110974), (smooth reading experience, 26.367074783056758), (casual language, 25.802285394800027), (passive voice, 25.628112039633653), (style is professional, 24.53007608255396), (technical language, 24.447085257291693), (specialized vocabulary, 23.81575982280893), (consistent sentence structure, 22.764211442180112), (limited sentence structures, 22.428276047440484), (complete words, 20.684769900500275), (specific language, 20.37120417561263), (improved readability, 18.51301338282018), (limited variation, 17.94872968369319), (exact meaning, 17.94872968369319), (sophisticated tone, 17.861819867106696), (different voices, 17.71893572013893), (appropriate language, 17.452093262089445), (complex sentences, 16.669914474699688), (subordinate clauses, 16.245735432351644), (exact ideas, 16.11614821994488), (diverse sentence structures effectively, 16.11614821994488), (extra information, 15.734454474239218), (active voice, 15.040655016747051), (intricate sentence structures, 14.873945463282618), (declarative sentences, 14.729853858824988), (complex language structures, 14.729853858824988), (limited range, 14.665165587885031), (verb forms, 14.031238306883413), (accessible language, 13.789846600333517), (simple language structures, 13.06403561295478), (rhythmic flow, 13.06403561295478), (technical terms, 12.52328169926094), (technical terminology, 12.045068526413669), (straightforward sentence constructions, 12.007900752553788), (straightforward language, 11.67774125183489), (particular audience, 11.510978033956787), (various techniques, 11.352568901754783), (intricate concepts, 11.214138023720242), (intricate ideas, 11.017257878093737), (consistent tone, 10.085078418244539), (simple language, 9.743442953619597), (consistent naming, 9.66751202240654), (complex language techniques, 9.66751202240654), (basic words, 9.66751202240654), (informative purposes, 9.66751202240654), (organizational structures, 9.66751202240654), (straightforward sentences, 9.66751202240654), (straightforward sentence construction, 9.66751202240654), (simple sentence constructions, 9.66751202240654), (key actions, 9.66751202240654), (major sporting events, 9.66751202240654), (intellectual ideas, 9.66751202240654), (simple manner, 9.66751202240654), (accessible tone, 9.66751202240654), (key terms, 9.66751202240654), (engaging style, 9.66751202240654), (unconventional sentence structures, 9.66751202240654), (formal language consistently, 9.66751202240654), (complex information clearly, 9.66751202240654), (certain nouns, 9.66751202240654), ...]   \n",
       "16                                                                                                                                                                                                                                                                                                                                                                                                                                                                                                                                                                                                                                                                                                                                                                                                                                                                                                                                                                                                                                                                                                                                                                                                                                                                                                                                                                                                                                                                                                                                                                                                                                                                                                                                                                                                                                                                                                                                                                                                                                                                                                                                                                                                                                                                                                                                                                                                                                                                                                                                                                                                                                                                                                                                                                                                                                                                                                                                                                                                                                                                                                                                                                                                                                                                                                                                                                                                                                                                 [(clear sentence structures, 59.728743901067915), (various sentence types, 42.51055979305005), (diverse sentence lengths, 22.12250734306464), (consistent verb tense, 17.27180240367538), (english language elements, 9.66751202240654), (various scripts, 8.974364841846596), (special symbols, 8.28121766128665), (visual impact, 7.718739064852192), (overall rhythm, 6.443458854870004), (active voice, 5.013551672249017), (verb tense, 4.7847100998201695), (various elements, 4.5923382071727135), (various sentence starters, 4.531713585356278), (passive voice, 3.6611588628048075), (different sentence structures, 3.5169092539602604), (varied sentence lengths, 3.3889905982406954), (better rhythm, 3.187467460479887), (specialized language, 2.7933135269532454), (formal tone, 2.4304529962818027), (various sentence structures, 1.9528345486056131), (style is formal, 1.6950460064319748), (diverse sentence structures, 1.3272947014595051), (simple sentence structures, 1.2763356715737897)]   \n",
       "17                                                                                                                                                                                                                                                                                                                                                                                                                                                                                                                                                                                                                                                                                                                                                                                                                                                                                                                                                                                                                                                                                                                                                                                                                                                                                                                                                                                                                                                                                                                                                                                                                                                                                                                                                                                                                                                                                                                                                                                                                                                                                                                                                                                                                                                                                                                                                                                                                                                                                                                                                                                                                                                                                                                                                                                                                                                                                                                                                                                                                                                                                                                                                                                                                                                                                                                                                                                                                                                                                                                                                                                                                                                                                                                                                [(complex language structures, 7.364926929412494), (certain level, 6.8949233001667585), (consistent structure, 6.266314640744385), (external sources, 6.112163960917126), (technical language, 5.641635059375006), (additional information, 3.6440644294455073), (style is formal, 3.3900920128639496), (subordinate clauses, 3.2491470864703285), (extra information, 3.146890894847844), (better balance, 2.9545558217294703), (clear sentence structures, 2.844225900050853), (diverse sentence structures, 2.6545894029190102), (simple sentence structures, 2.5526713431475794), (complex sentence structures, 2.1669825370112448), (diverse sentence lengths, 1.5801790959331887), (consistent verb tense, 1.0794876502297113)]   \n",
       "18                                                                                                                                                                                                                                                                                                                                                                                                                                                                                                                                                                                                                                                                                                                                                                                                                                                                                                                                                                                                                                                                                                                                                                                                                                                                                                                                                                                                                                                                                                                                                                                                                                                                                                                                                                                                                                                                                                                                                                                                                                                                                                                                                                                                                                                                                                                                                                                                                                                                                                                                                                                                                                                                                                                                                                                                                                                                                                                                         [(effective sentence structures, 57.019208999265814), (various sentence types, 20.136580954602653), (straightforward sentence structures, 17.788624789312863), (better readability, 12.282302995580757), (precise language, 9.903124724025307), (limited range, 9.77677705859002), (simple language, 9.743442953619597), (consistent style, 9.743442953619597), (tense narrative style, 9.66751202240654), (additional description, 9.66751202240654), (possessive nouns, 9.66751202240654), (various choices, 9.66751202240654), (effective communication, 8.883530697386677), (consistent verb tense, 8.63590120183769), (brief sentences, 8.547768952108356), (basic verb forms, 8.28121766128665), (diverse sentence structures, 7.963768208757031), (verb tenses, 7.8235396176392555), (consistent naming style, 7.588070480726704), (tense usage, 6.866202593376337), (compound words, 6.7230730432401), (succinct sentence styles, 6.622989584683117), (various verb tenses, 6.622989584683117), (straightforward sentence constructions, 6.003950376276894), (straightforward language, 5.838870625917445), (structure is somewhat complex, 5.817364420696482), (technical language, 5.641635059375006), (clear language, 4.88838852929501), (vivid language, 4.725869599797235), (different types, 4.122334577926978), (descriptive language, 3.9670684490158536), (simple sentence structures, 2.5526713431475794), (formal tone, 2.4304529962818027), (overall rhythm, 2.147819618290001), (style is formal, 1.6950460064319748)]   \n",
       "19                                                                                                                                                                                                                                                                                                                                                                                                                                                                                                                                                                                                                                                                                                                                                                                                                                                                                                                                                                                                                                                                                                                                                                                                                                                                                                                                                                                                                                                                                                                                                                                                                                                                                                                                                                                                                                                                                                                                                                                                                                                                                                                                                                                                                                                                                                                                                                                                                                                                                                                                                                                                                                                                                                                                                                                                                                                                                                                                                                                                                                                                                                                                                                                                                [(simple sentence structures, 26.803049103049585), (various sentence types, 20.136580954602653), (straightforward sentence structures, 17.788624789312863), (diverse sentence lengths, 12.64143276746551), (descriptive language, 11.901205347047561), (consistent verb tense, 11.874364152526823), (various ways, 11.432536607650226), (clear sentence structures, 8.53267770015256), (active language, 8.28121766128665), (varied sentence starters, 7.470287445070321), (overall tone, 7.028454692791281), (tense usage, 6.866202593376337), (different tenses, 6.52787564894345), (uniform structure, 5.64216033167139), (specific words, 5.323706600552856), (different techniques, 5.310803195716948), (active voice, 5.013551672249017), (simple language, 4.871721476809799), (verb tense, 4.7847100998201695), (various sentence starters, 4.531713585356278), (complex sentence structures, 4.3339650740224895), (brief sentences, 4.273884476054178), (different types, 4.122334577926978), (effective sentence structures, 4.072800642804701), (verb tenses, 3.9117698088196278), (passive voice, 3.6611588628048075), (better rhythm, 3.187467460479887), (specialized language, 2.7933135269532454), (diverse sentence structures, 1.3272947014595051)]   \n",
       "20                                                                                                                                                                                                                                                                                                                                                                                                                                                                                                                                                                                                                                                                                                                                                                                                                                                                                                                                                                                                                                                                                                                                                                                                                                                                                                                                                                                                                                                                                                                                                                                                                                                                                                                                                                                                                                                                                                                                                                                                                                                                                                                                                                                                                                                                                                                                                                                                                                                                                                                                                                                                                                                                                                                                                                                                                                                                                                                                                                                                                                                                                                                                    [(technical language, 11.283270118750012), (intricate details, 9.66751202240654), (clear formatting style, 9.66751202240654), (multiple instances, 8.974364841846596), (uniform notation, 8.974364841846596), (various categories, 8.974364841846596), (different sources, 8.56889973373843), (standardized approach, 7.269616749608169), (specialized symbols, 7.102562664945003), (complex information, 6.9594618213043296), (different concepts, 6.8949233001667585), (complex sentence structures, 6.500947611033734), (technical content, 6.489458192058595), (various types, 6.335307512231336), (technical terms, 6.26164084963047), (various languages, 6.029925862680154), (specific language, 5.092801043903157), (style is formal, 5.085138019295925), (formal tone, 4.860905992563605), (diverse sentence lengths, 4.740537287799566), (wide range, 4.643631501560264), (different types, 4.122334577926978), (complex concepts, 4.05438391601847), (diverse sentence structures, 3.9818841043785156), (additional information, 3.6440644294455073), (subordinate clauses, 3.2491470864703285), (extra information, 3.146890894847844), (style is professional, 2.453007608255396), (various sentence structures, 1.9528345486056131), (simple sentence structures, 1.2763356715737897), (consistent verb tense, 1.0794876502297113)]   \n",
       "21                                                                                                                                                                                                                                                                                                                                                                                                                                                                                                                                                                                                                                                                                                                                                                                                                                                                                                                                                                                                                                                                                                                                                                                                                                                                                                                                                                                                                                                                                                                                                                                                                                                                                                                                                                                                                                                                                                                                                                                                                                                                                                                                                                                                                                                                                                                                                                                                                                                                                                                                                                                                                                                                                                                                                                                                                                                                                                                                                                                                                                                                                                                                                                                                                                                                                                                                                                                                                                                                                                                                                                                                                                                                                                                                                                                                [(effective sentence structures, 12.218401928414103), (uniform structure, 11.28432066334278), (overall imagery, 8.974364841846596), (consistent verb tense, 8.63590120183769), (simple sentence structures, 7.658014029442738), (improved readability, 6.17100446094006), (various elements, 4.5923382071727135), (various sentence types, 4.4747957676894785), (straightforward sentence structures, 4.447156197328216), (verb tenses, 3.9117698088196278), (various sentence structures, 3.9056690972112262), (precise language, 3.3010415746751023), (better rhythm, 3.187467460479887), (style is formal, 1.6950460064319748), (diverse sentence structures, 1.3272947014595051)]   \n",
       "22                                                                                                                                                                                                                                                                                                                                                                                                                                                                                                                                                                                                                                                                                                                                                                                                                                                                                                                                                                                                                                                                                                                                                                                                                                                                                                                                                                                                                                                                                                                                                                                                                                                                                                                                                                                                                                                                                                                                                                                                                                                                                                                                                                                                                                                                                                                                                                                                                                                                                                                                                                                                                                                                                                                                                                                                                                                                                                                                                                                                                                                                                                                                                                                                                                                                                                                                                                                                                                                                                                                                                                                                                                                [(second dimension, 9.66751202240654), (different characteristics, 9.66751202240654), (third dimension, 9.66751202240654), (different syntax elements, 9.66751202240654), (consistent naming convention, 7.269616749608169), (straightforward sentence structures, 4.447156197328216), (effective communication, 4.441765348693338), (verb tenses, 3.9117698088196278), (various sentence structures, 3.9056690972112262), (simple sentence structures, 3.829007014721369), (tense usage, 3.4331012966881684), (style is professional, 2.453007608255396), (formal tone, 2.4304529962818027), (casual language, 2.3456623086181843), (various sentence types, 2.2373978838447393), (complex sentence structures, 2.1669825370112448), (diverse sentence structures, 1.3272947014595051), (consistent verb tense, 1.0794876502297113)]   \n",
       "23                                                                                                                                                                                                                                                                                                                                                                                                                                                                                                                                                                                                                                                                                                                                                                                                                                                                                                                                                                                                                                                                                                                                                                                                                                                                                                                                                                                                                                                                                                                                                                                                                                                                                                                                                                                                                                                                                                                                                                                                                                                                                                                                                                                                                                                                                                                                                                                                                                                                                                                                                                                                                                                                                                                                                                                                                                                                                                                                                                                                                                                                                                                                                                                                                                                                                                                                                                                                                                                                                                                                                                                                                                                                                                                                                                                                                                                                                                                                                                                                    [(various techniques, 15.136758535673044), (conversational tone, 11.551383448591826), (unique narrative style, 8.974364841846596), (simple sentence structures, 7.658014029442738), (uniform structure, 5.64216033167139), (various sentence beginnings, 5.042539209122269), (verb tense, 4.7847100998201695), (diverse sentence lengths, 4.740537287799566), (various tenses, 4.339635853616959), (tense usage, 3.4331012966881684), (consistent verb tense, 3.238462950689134)]   \n",
       "24                                                                                                                                                                                                                                                                                                                                                                                                                                                                                                                                                                                                                                                                                                                                                                                                                                                                                                                                                                                                                                                                                                                                                                                                                                                                                                                                                                                                                                                                                                                                                                                                                                                                                                                                                                                                                                                                                                                                                                                                                                                                                                                                                                                                                                                                                 [(concise sentence structures, 18.9006485772602), (clear sentence structures, 17.06535540030512), (various sentence types, 15.661785186913175), (author is formal, 14.729853858824988), (better reading flow, 14.365210745237079), (basic language, 13.4461460864802), (consistent verb tense, 12.953851802756535), (limited sentence structures, 11.214138023720242), (simple sentence structures, 10.210685372590317), (familiar language, 9.66751202240654), (positive aspects, 9.66751202240654), (grammatical structures, 7.535229337648097), (common words, 7.364926929412494), (different sentence structures, 7.033818507920521), (additional clauses, 6.8949233001667585), (moderate complexity, 6.7230730432401), (succinct sentence styles, 6.622989584683117), (tense verbs, 6.266314640744385), (technical terms, 6.26164084963047), (specialized vocabulary, 5.953939955702232), (straightforward language, 5.838870625917445), (particular audience, 5.755489016978394), (vocabulary styles, 5.5243772960150075), (rhythmic effect, 5.236695223563227), (consistent tone, 5.042539209122269), (sophisticated language, 5.042539209122269), (intricate sentence structures, 4.957981821094206), (limited range, 4.88838852929501), (formal tone, 4.860905992563605), (verb tense, 4.7847100998201695), (vivid language, 4.725869599797235), (verb forms, 4.677079435627804), (straightforward sentence structures, 4.447156197328216), (complex language, 4.359244325005335), (complex sentence structures, 4.3339650740224895), (different sentence lengths, 4.122334577926978), (formal style, 3.9670684490158536), (passive voice, 3.6611588628048075), (varied sentence lengths, 3.3889905982406954), (precise language, 3.3010415746751023), (different tenses, 3.263937824471725), (subordinate clauses, 3.2491470864703285), (better rhythm, 3.187467460479887), (diverse sentence lengths, 3.1603581918663775), (extra information, 3.146890894847844), (specialized language, 2.7933135269532454), (diverse sentence structures, 2.6545894029190102), (style is professional, 2.453007608255396), (overall rhythm, 2.147819618290001), (style is formal, 1.6950460064319748)]   \n",
       "25                                                                                                                                                                                                                                                                                                                                                                                                                                                                                                                                                                                                                                                                                                                                                                                                                                                                                                                                                                                                                                                                                                                                                                                                                                                                                                                                                                                                                                                                                                                                                                                                                                                                                                                                                                                                                                                                                                                                                                                                                                                                                                                                                                                                                                                                                                                                                                                                                                                                                                                                                                                                                                                                                                                                                                                                                                                                                                                                                                                                                                                                                                                                                                                                                                                                                                                                                                                                                                                                                                                                                                                                                                  [(simple sentence structures, 11.487021044164107), (various sentence types, 11.186989419223696), (verb tense, 9.569420199640339), (descriptive elements, 7.028454692791281), (verb conjugation, 6.7230730432401), (concise sentence structures, 6.300216192420066), (abstract nouns, 5.953939955702232), (consistent pattern, 5.817364420696482), (consistent verb tense, 5.397438251148556), (consistent style, 4.871721476809799), (varied sentence structures, 4.747531096578415), (vivid language, 4.725869599797235), (straightforward sentence structures, 4.447156197328216), (various tenses, 4.339635853616959), (different tenses, 3.263937824471725), (diverse sentence lengths, 3.1603581918663775), (clear sentence structures, 2.844225900050853), (style is professional, 2.453007608255396), (casual language, 2.3456623086181843)]   \n",
       "26                                                                                                                                                                                                                                                                                                                                                                                                                                                                                                                                                                                                                                                                                                                                                                                                                                                                                                                                                                                                                                                                                                                                                                                                                                                                                                                                                                                                                                                                                                                                                                                                                                                                                                                                                                                                                                                                                                                                                                                                                                                                                                                                                                                                                                                                                                                                                                                                                                                                                                                                                                                                                                                                                                                                                                                                                                                                                                                                                                                                                                                                                                                                                                                                                                                                                                                                                                                                                                                                                                                                                                                                                                                                                                                                                               [(brief sentences, 17.095537904216712), (different tenses, 13.0557512978869), (various sentence types, 11.186989419223696), (simple sentence structures, 8.934349701016528), (effective sentence structures, 8.145601285609402), (friendly atmosphere, 7.721601873351227), (various techniques, 7.568379267836522), (informal language, 6.929953010437235), (conversational effect, 6.834298678350324), (grammatical tenses, 6.266314640744385), (various sentence starters, 4.531713585356278), (consistent verb tense, 4.317950600918845), (better rhythm, 3.187467460479887), (specialized language, 2.7933135269532454), (diverse sentence structures, 2.6545894029190102), (casual language, 2.3456623086181843)]   \n",
       "27                                                                                                                                                                                                                                                                                                                                                                                                                                                                                                                                                                                                                                                                                                                                                                                                                                                                                                                                                                                                                                                                                                                                                                                                                                                                                                                                                                                                                                                                                                                                                                                                                                                                                                                                                                                                                                                                                                                                                                                                                                                                                                                                                                                                                                                                                                                                                                                                                                                                [(diverse sentence structures, 18.58212582043307), (style is formal, 15.255414057887773), (various sentence structures, 11.717007291633678), (passive voice, 10.983476588414423), (complex sentence structures, 10.834912685056224), (extra details, 10.546125735468202), (rhythmic effect, 10.473390447126453), (casual tone, 10.124683672836898), (subordinate clauses, 9.747441259410985), (information is clear, 9.66751202240654), (social topics, 9.66751202240654), (simple sentence structures, 8.934349701016528), (overall rhythm, 8.591278473160004), (further clarification, 8.56889973373843), (casual atmosphere, 8.05807410997244), (verb tenses, 7.8235396176392555), (style is professional, 7.359022824766189), (high level, 7.269616749608169), (engaging reading experience, 7.102562664945003), (casual language, 7.036986925854553), (informal language, 6.929953010437235), (extra components, 6.834298678350324), (communication is concise, 6.834298678350324), (moderate complexity, 6.7230730432401), (various subjects, 6.622989584683117), (extra information, 6.293781789695688), (technical terms, 6.26164084963047), (better readability, 6.1411514977903785), (specific details, 5.883322388488279), (formal language, 5.213164726153032), (advanced language, 5.092801043903157), (improved impact, 4.976164140177397), (varied sentence structures, 4.747531096578415), (diverse sentence lengths, 4.740537287799566), (style is casual, 4.436403405551953), (complex language, 4.359244325005335), (extra elements, 4.354306043364753), (various tenses, 4.339635853616959), (different sentence lengths, 4.122334577926978), (technical terminology, 4.015022842137889), (different sentence structures, 3.5169092539602604), (precise language, 3.3010415746751023), (different tenses, 3.263937824471725), (consistent verb tense, 3.238462950689134), (better rhythm, 3.187467460479887), (better balance, 2.9545558217294703), (various sentence types, 2.2373978838447393)]   \n",
       "28                                                                                                                                                                                                                                                                                                                                                                                                                                                                                                                                                                                                                                                                                                                                                                                                                                                                                                                                                                                                                                                                                                                                                                                                                                                                                                                                                                                                                                                                                                                                                                                                                                                                                                                                                                                                                                                                                                                                                                                                                                                                                                                                                                                                                                                                                                                                                                                                                                                                                                                                                                                                                                                                                                                                                                                                                                                                                                                                                                                                                                                                                                                                                                                                              [(simple sentence structures, 16.592363730459265), (various sentence types, 15.661785186913175), (consistent verb tense, 12.953851802756535), (different sentence lengths, 8.244669155853956), (diverse sentence structures, 7.963768208757031), (various sentence structures, 7.8113381944224525), (additional clauses, 6.8949233001667585), (more information, 6.834298678350324), (diverse sentence lengths, 6.320716383732755), (uniform structure, 5.64216033167139), (limited sentence structures, 5.607069011860121), (different sentence styles, 5.35002390887023), (specific language, 5.092801043903157), (active voice, 5.013551672249017), (vivid language, 4.725869599797235), (various sentence starters, 4.531713585356278), (straightforward sentence structures, 4.447156197328216), (overall rhythm, 4.295639236580002), (effective sentence structures, 4.072800642804701), (descriptive language, 3.9670684490158536), (formal style, 3.9670684490158536), (technical language, 3.7610900395833373), (passive voice, 3.6611588628048075), (informal language, 3.4649765052186177), (different tenses, 3.263937824471725), (clear sentence structures, 2.844225900050853), (formal tone, 2.4304529962818027), (style is formal, 1.6950460064319748)]   \n",
       "29                                                                                                                                                                                                                                                                                                                                                                                                                                                                                                                                                                                                                                                                                                                                                                                                                                                                                                                                                                                                                                                                                                                                                                                                                                                                                                                                                                                                                                                                                                                                                                                                                                                                                                                                                                                                                                                                                                                                                                                                                                                                                                                                                                                                                                                                                                                                                                                                                                                                                                                                                                                                                                                                                                                                                                                                                                                                                                                                                                                                                                                                                                                                                                                                                                                                                                                        [(simple sentence structures, 12.763356715737897), (various sentence starters, 9.063427170712556), (cohesive narrative, 7.721601873351227), (consistent verb tense, 7.556413551607979), (additional clauses, 6.8949233001667585), (more information, 6.834298678350324), (various sentence types, 6.712193651534218), (various items, 6.335307512231336), (diverse sentence lengths, 6.320716383732755), (tense verbs, 6.266314640744385), (various sentence beginnings, 5.042539209122269), (verb forms, 4.677079435627804), (various tenses, 4.339635853616959), (overall rhythm, 4.295639236580002), (different sentence lengths, 4.122334577926978), (different types, 4.122334577926978), (passive voice, 3.6611588628048075), (different sentence structures, 3.5169092539602604), (precise language, 3.3010415746751023), (different tenses, 3.263937824471725), (diverse sentence structures, 2.6545894029190102), (style is professional, 2.453007608255396), (casual language, 2.3456623086181843), (complex sentence structures, 2.1669825370112448), (various sentence structures, 1.9528345486056131), (technical language, 1.8805450197916687)]   \n",
       "\n",
       "    num_feats  \n",
       "0        1662  \n",
       "1           6  \n",
       "2         154  \n",
       "3         553  \n",
       "4         230  \n",
       "5        1107  \n",
       "6          18  \n",
       "7           8  \n",
       "8          11  \n",
       "9          20  \n",
       "10         14  \n",
       "11         14  \n",
       "12         21  \n",
       "13          4  \n",
       "14          4  \n",
       "15        292  \n",
       "16         26  \n",
       "17          5  \n",
       "18         23  \n",
       "19         25  \n",
       "20         14  \n",
       "21          9  \n",
       "22          7  \n",
       "23          6  \n",
       "24         24  \n",
       "25         11  \n",
       "26         10  \n",
       "27         29  \n",
       "28         19  \n",
       "29         12  "
      ]
     },
     "execution_count": 21,
     "metadata": {},
     "output_type": "execute_result"
    }
   ],
   "source": [
    "interp_space_df.head(n=30)"
   ]
  },
  {
   "cell_type": "code",
   "execution_count": 140,
   "id": "f0a7e9fe-e256-4898-a667-1f3256ce67fb",
   "metadata": {
    "scrolled": true
   },
   "outputs": [],
   "source": [
    "#{x[0]: sorted(x[1][1].items(), key=lambda x:-x[1])[:10] for x in sd_interp_space.items()}\n",
    "#sd_clustering.documentID.nunique()"
   ]
  },
  {
   "cell_type": "code",
   "execution_count": 195,
   "id": "796bbc4d-db0c-4f49-ac63-908506ba2b95",
   "metadata": {
    "scrolled": true
   },
   "outputs": [],
   "source": [
    "# interp_space = model_clusterings['styledistance'][1]\n",
    "# {x[0]: sorted(x[1][1].items(), key=lambda x:-x[1])[:10] for x in interp_space.items()}"
   ]
  },
  {
   "cell_type": "code",
   "execution_count": 196,
   "id": "076aa837-bced-4a35-8dc8-8932e7e180ab",
   "metadata": {},
   "outputs": [],
   "source": [
    "models_analysis = {}"
   ]
  },
  {
   "cell_type": "code",
   "execution_count": 198,
   "id": "f6607603-4c09-4dac-9c64-b1cddccfd1a3",
   "metadata": {
    "scrolled": true
   },
   "outputs": [
    {
     "name": "stdout",
     "output_type": "stream",
     "text": [
      "styledistance /mnt/swordfish-pool2/milad/hiatus-data/phase_1/styledistance_explanations/\n",
      "0.43 0.7\n",
      "Document 43d2e249-e16e-59e8-b271-4065734f42b0 doesn't exist!\n",
      "Document f140817d-d77f-57cf-af98-b9e3bdefd608 doesn't exist!\n",
      "2.05 1.76\n",
      "ta2_hrs /mnt/swordfish-pool2/milad/hiatus-data/phase_1/explainability/\n",
      "0.33 0.68\n",
      "Document 43d2e249-e16e-59e8-b271-4065734f42b0 doesn't exist!\n",
      "Document 46efd889-de36-5437-bff3-d7f3a7091c53 doesn't exist!\n",
      "Document 4bd58346-6d63-5185-815b-ba6d7ba9a159 doesn't exist!\n",
      "Document 69531a5b-ed2d-5bdd-9692-7580e5a8d324 doesn't exist!\n",
      "Document 7f278952-27ee-54d7-b678-24ed552f0ecd doesn't exist!\n",
      "Document f140817d-d77f-57cf-af98-b9e3bdefd608 doesn't exist!\n",
      "Document fdf87817-5ec4-5b04-baac-d7e9c8c4f45b doesn't exist!\n",
      "Document 65357f1e-84ea-502a-bc5a-4ee931e41280 doesn't exist!\n",
      "2.38 1.51\n",
      "semantic /mnt/swordfish-pool2/milad/hiatus-data/phase_1/semantic_explanations/\n",
      "0.92 0.88\n",
      "Document 027519f4-b6a9-5403-879f-91cca47a1276 doesn't exist!\n",
      "Document 2ecfa326-eb8d-52f2-8271-f750ca646884 doesn't exist!\n",
      "Document 2fb74e85-1e1e-55f5-aac9-17515bd28bfa doesn't exist!\n",
      "Document 383d3689-0e27-51e2-b8d2-5e2bcbf8e7f0 doesn't exist!\n",
      "Document 43d2e249-e16e-59e8-b271-4065734f42b0 doesn't exist!\n",
      "Document 46efd889-de36-5437-bff3-d7f3a7091c53 doesn't exist!\n",
      "Document 4bd58346-6d63-5185-815b-ba6d7ba9a159 doesn't exist!\n",
      "Document 517d3010-0926-5795-a759-c87e1c5de8f4 doesn't exist!\n",
      "Document 69531a5b-ed2d-5bdd-9692-7580e5a8d324 doesn't exist!\n",
      "Document 96eecbba-4e7d-5bac-a542-cb68785e78ed doesn't exist!\n",
      "Document 9d0b1f29-851f-5119-abf2-2353a2c70834 doesn't exist!\n",
      "Document 9db65054-a23d-5dfc-b482-871a76d796c4 doesn't exist!\n",
      "Document a5b30a64-239f-5150-babc-aba4efd6da9c doesn't exist!\n",
      "Document b8b388f9-3a85-51d0-8fb1-c09a7688d9ce doesn't exist!\n",
      "Document c41d671c-995b-5bd1-b9d9-cc044cd7187a doesn't exist!\n",
      "Document eb5e57a5-1376-542e-ab75-2419730c6a75 doesn't exist!\n",
      "Document ef6f3db1-2abe-5845-bc78-125ede6ed2fb doesn't exist!\n",
      "Document f140817d-d77f-57cf-af98-b9e3bdefd608 doesn't exist!\n",
      "Document fdf87817-5ec4-5b04-baac-d7e9c8c4f45b doesn't exist!\n",
      "Document 65357f1e-84ea-502a-bc5a-4ee931e41280 doesn't exist!\n",
      "Document 6ac8f449-9976-5ef1-9eff-f42bf6707fe1 doesn't exist!\n",
      "2.47 2.64\n"
     ]
    }
   ],
   "source": [
    "for model_name, model_interpretablity in model_clusterings.items():\n",
    "    print(model_name, model_interpretablity[0])\n",
    "    avg_topic_sim, topi_corr, avg_style_sim, style_corr, style_overlap = analyze_correlation(model_interpretablity[1], model_interpretablity[2], styles_df)\n",
    "    models_analysis[model_name] = [avg_topic_sim, topi_corr, avg_style_sim, style_corr, style_overlap]"
   ]
  },
  {
   "cell_type": "code",
   "execution_count": 200,
   "id": "72e3eff4-adaf-4d41-a11f-1888cb2e069c",
   "metadata": {},
   "outputs": [
    {
     "name": "stdout",
     "output_type": "stream",
     "text": [
      "Embed Model      Avg. topic sim    Topic corr    Avg. style sim    Style corr    Style Overlap\n",
      "-------------  ----------------  ------------  ----------------  ------------  ---------------\n",
      "styledistance              1.76          0.7               2.05          0.43            0.053\n",
      "ta2_hrs                    1.51          0.68              2.38          0.33            0.054\n",
      "semantic                   2.64          0.88              2.47          0.92            0.073\n"
     ]
    }
   ],
   "source": [
    "print(tabulate(\n",
    "        [[name] + scores for name, scores in models_analysis.items()],\n",
    "        headers=['Embed Model', 'Avg. topic sim', 'Topic corr', 'Avg. style sim', 'Style corr', 'Style Overlap']\n",
    "    ))"
   ]
  },
  {
   "cell_type": "markdown",
   "id": "0dfce843-3cd8-4f09-ba88-a93357f66d8a",
   "metadata": {},
   "source": [
    "- In terms of avg similarity:\n",
    "    - Semantic model has higher topic similarity than style similarity and it is the opposit for styledistance and ta2_hrs\n",
    "    - ta2_hrs has higher style similarity than styldistance and lower style similarity than ta2_hrs (unexpected)\n",
    "- In terms of correlation:\n",
    "    - Semantic model has the highest correlation for both topic and style, and for style more (weird)\n",
    "    - For ta2_hrs and styledistance, both have higher topic correlation than style (also weird)"
   ]
  },
  {
   "cell_type": "code",
   "execution_count": 113,
   "id": "f7e18f9e-c53b-4954-ab74-44d7c64eaeff",
   "metadata": {},
   "outputs": [],
   "source": [
    "#docs_topic_reps = get_topic_representations(training_df.fullText.tolist())"
   ]
  },
  {
   "cell_type": "code",
   "execution_count": 148,
   "id": "cca858c6-6e65-483e-b568-a04ce57a15e6",
   "metadata": {
    "scrolled": true
   },
   "outputs": [],
   "source": [
    "#docs_style_reps = get_style_representation(styles_path, training_df.documentID.tolist())"
   ]
  },
  {
   "cell_type": "code",
   "execution_count": 115,
   "id": "cc8a1fe7-8aa5-40a3-8d93-c89a872d2ecb",
   "metadata": {
    "scrolled": true
   },
   "outputs": [],
   "source": [
    "#docs_latents, docs_interps = generate_explanations.get_documents_rep_vectors(training_df.fullText.tolist(), 'styledistance', \n",
    "#                                                               '/mnt/swordfish-pool2/milad/hiatus-data/phase_1/styledistance_explanations/interpretable_space.pkl')"
   ]
  },
  {
   "cell_type": "code",
   "execution_count": 21,
   "id": "ce6da2db-5506-4405-9549-188e2caddb99",
   "metadata": {},
   "outputs": [],
   "source": [
    "# interp_space_path = '/mnt/swordfish-pool2/milad/hiatus-data/phase_1/explanation_10k/interpretable_space.pkl'\n",
    "# model_path = 'aa_model-luar'\n",
    "# explanation_interf = explanation_interfaces.exp_interface_1\n",
    "# input_path = '/mnt/swordfish-pool2/milad/hiatus-data/explainability-pilot-samples/'\n",
    "# top_c=5"
   ]
  },
  {
   "cell_type": "code",
   "execution_count": null,
   "id": "33055cd0-70b9-41d7-8c24-3b318d1e24d7",
   "metadata": {},
   "outputs": [],
   "source": []
  }
 ],
 "metadata": {
  "kernelspec": {
   "display_name": "Python 3 (ipykernel)",
   "language": "python",
   "name": "python3"
  },
  "language_info": {
   "codemirror_mode": {
    "name": "ipython",
    "version": 3
   },
   "file_extension": ".py",
   "mimetype": "text/x-python",
   "name": "python",
   "nbconvert_exporter": "python",
   "pygments_lexer": "ipython3",
   "version": "3.11.9"
  }
 },
 "nbformat": 4,
 "nbformat_minor": 5
}
