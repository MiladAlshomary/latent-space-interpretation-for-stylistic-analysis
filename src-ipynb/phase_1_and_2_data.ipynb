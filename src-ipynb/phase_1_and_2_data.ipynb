{
 "cells": [
  {
   "cell_type": "code",
   "execution_count": 2,
   "id": "fd77f366-88fb-4e17-bc7c-8841e4c5501b",
   "metadata": {},
   "outputs": [
    {
     "name": "stdout",
     "output_type": "stream",
     "text": [
      "The autoreload extension is already loaded. To reload it, use:\n",
      "  %reload_ext autoreload\n"
     ]
    }
   ],
   "source": [
    "%load_ext autoreload"
   ]
  },
  {
   "cell_type": "code",
   "execution_count": 45,
   "id": "1e40e86f-d248-4a5d-9424-244fc2f71c4d",
   "metadata": {},
   "outputs": [],
   "source": [
    "\n",
    "import pandas as pd\n",
    "import json\n",
    "import sklearn\n",
    "import glob\n",
    "import pickle\n",
    "from sklearn.model_selection import train_test_split\n",
    "from collections import Counter\n",
    "\n",
    "\n",
    "pd.set_option('display.width', None)\n",
    "pd.set_option('display.max_colwidth', None)\n",
    "pd.set_option('display.max_rows', None)\n",
    "pd.set_option('display.max_columns', None)"
   ]
  },
  {
   "cell_type": "code",
   "execution_count": 52,
   "id": "1223ed46-7788-4f9f-8394-5618b000d8eb",
   "metadata": {},
   "outputs": [],
   "source": [
    "%autoreload\n",
    "import sys\n",
    "sys.path.insert(0, '../../style_generation_pipeline')\n",
    "\n",
    "from data import *\n",
    "from cluster_representation import *"
   ]
  },
  {
   "cell_type": "code",
   "execution_count": 53,
   "id": "0923ae77-62b2-480d-bfdf-ae6102ba1a6d",
   "metadata": {},
   "outputs": [],
   "source": [
    "path='/mnt/swordfish-pool2/milad/hiatus-data/explainability_all_data/'"
   ]
  },
  {
   "cell_type": "markdown",
   "id": "d634d97a-f0c1-4626-bd2f-ec792b98e336",
   "metadata": {
    "jp-MarkdownHeadingCollapsed": true
   },
   "source": [
    "### Merging data from phase 1 and 2 that was used to generate style features"
   ]
  },
  {
   "cell_type": "code",
   "execution_count": 96,
   "id": "f40e0316-5492-41eb-9dc3-007ed577a56e",
   "metadata": {},
   "outputs": [],
   "source": [
    "phase1_docs = pd.read_json(path_or_buf='/mnt/swordfish-pool2/milad/hiatus-data/phase_1/explainability/training_candidates_and_queries.jsonl', lines=True)\n",
    "phase2_docs = pd.read_json(path_or_buf='/mnt/swordfish-pool2/milad/hiatus-data/phase_2/explainability/all_documents_in_cross_genre.jsonl', lines=True)"
   ]
  },
  {
   "cell_type": "code",
   "execution_count": 97,
   "id": "cd789e98-732a-47bb-88ec-b7f90dbe6484",
   "metadata": {},
   "outputs": [],
   "source": [
    "all_docs = pd.concat([phase1_docs, phase2_docs]).reset_index()"
   ]
  },
  {
   "cell_type": "code",
   "execution_count": 101,
   "id": "0f51c1cf-7b91-498c-a907-322bd82d4073",
   "metadata": {},
   "outputs": [],
   "source": [
    "all_docs[['authorID', 'fullText', 'documentID']].to_json(path + '/all_document.jsonl', orient='records', lines=True)"
   ]
  },
  {
   "cell_type": "markdown",
   "id": "63e08126-b403-4920-917d-24b79ed6e4c3",
   "metadata": {
    "jp-MarkdownHeadingCollapsed": true
   },
   "source": [
    "### Merging data from phase 1 and 2 to perform clustering"
   ]
  },
  {
   "cell_type": "code",
   "execution_count": 10,
   "id": "0eb389e0-d69f-4ed3-9da6-ec8bbfdf0431",
   "metadata": {
    "scrolled": true
   },
   "outputs": [],
   "source": [
    "phase2_training_data = pd.read_json('/mnt/swordfish-pool2/milad/hiatus-data/phase_2/explainability/train_authors.json')\n",
    "phase2_test_data     = pd.read_json('/mnt/swordfish-pool2/milad/hiatus-data/phase_2/explainability/test_authors.json')\n",
    "\n",
    "phase1_training_data = pd.read_json('/mnt/swordfish-pool2/milad/hiatus-data/phase_1/training_authors.json')\n",
    "phase1_test_data     = pd.read_json('/mnt/swordfish-pool2/milad/hiatus-data/phase_1/valid_authors.json')"
   ]
  },
  {
   "cell_type": "code",
   "execution_count": 17,
   "id": "0d541569-fc66-458d-87b4-c29d195d0ae8",
   "metadata": {},
   "outputs": [],
   "source": [
    "training_authors = pd.concat([phase1_training_data, phase2_training_data]).reset_index()\n",
    "test_authors = pd.concat([phase1_test_data, phase2_test_data]).reset_index()"
   ]
  },
  {
   "cell_type": "code",
   "execution_count": 18,
   "id": "12428712-9943-4a6e-b7da-bca53e4359f7",
   "metadata": {},
   "outputs": [
    {
     "data": {
      "text/plain": [
       "Index(['level_0', 'index', 'authorID', 'fullText', 'documentID', 'source'], dtype='object')"
      ]
     },
     "execution_count": 18,
     "metadata": {},
     "output_type": "execute_result"
    }
   ],
   "source": [
    "training_authors.columns"
   ]
  },
  {
   "cell_type": "code",
   "execution_count": 19,
   "id": "85f5f34d-8169-4da3-a613-e8dd44944e7b",
   "metadata": {},
   "outputs": [
    {
     "name": "stdout",
     "output_type": "stream",
     "text": [
      "4142 1216 5358\n",
      "635 305 940\n"
     ]
    }
   ],
   "source": [
    "print(phase1_training_data.authorID.nunique(), phase2_training_data.authorID.nunique(), training_authors.authorID.nunique())\n",
    "print(phase1_test_data.authorID.nunique(), phase2_test_data.authorID.nunique(), test_authors.authorID.nunique())"
   ]
  },
  {
   "cell_type": "code",
   "execution_count": 20,
   "id": "1be1dd8f-3492-4bcf-b618-d63a4694d845",
   "metadata": {},
   "outputs": [],
   "source": [
    "training_authors.to_json(path+'/train_authors.json')\n",
    "test_authors.to_json(path+'/test_authors.json')"
   ]
  },
  {
   "cell_type": "markdown",
   "id": "ef0311c8-12e4-485f-ac9e-199767ee8c8d",
   "metadata": {},
   "source": [
    "### Merge the writing style features of both phases"
   ]
  },
  {
   "cell_type": "code",
   "execution_count": 12,
   "id": "57e18351-596c-48e5-9a1f-9caa56e59004",
   "metadata": {},
   "outputs": [],
   "source": [
    "phase1_df = pd.read_csv('/mnt/swordfish-pool2/milad/hiatus-data/phase_1/explainability/filtered/refined_and_aggregated_features_final.csv')\n",
    "feat_to_ling_lvl = json.load(open('/mnt/swordfish-pool2/milad/hiatus-data/phase_1/explainability/feats_to_ling_lvl.json'))\n",
    "phase1_df['ling_lvl'] = phase1_df.original_attribute_name.apply(lambda x: feat_to_ling_lvl[x] if x in feat_to_ling_lvl else 'other')\n",
    "\n",
    "phase2_df = pd.read_csv('/mnt/swordfish-pool2/milad/hiatus-data/phase_2/explainability/filtered/refined_and_aggregated_features_final.csv')\n",
    "feat_to_ling_lvl = json.load(open('/mnt/swordfish-pool2/milad/hiatus-data/phase_2/explainability/feats_to_ling_lvl.json'))\n",
    "phase2_df['ling_lvl'] = phase2_df.original_attribute_name.apply(lambda x: feat_to_ling_lvl[x] if x in feat_to_ling_lvl else 'other')"
   ]
  },
  {
   "cell_type": "code",
   "execution_count": 23,
   "id": "b06a3f0d-ac49-4b1c-9746-c5e51c101ca8",
   "metadata": {},
   "outputs": [],
   "source": [
    "df = pd.concat([phase1_df, phase2_df]).reset_index()"
   ]
  },
  {
   "cell_type": "code",
   "execution_count": 26,
   "id": "7b896b00-e9ce-463b-8b51-1d49d434399e",
   "metadata": {},
   "outputs": [
    {
     "name": "stdout",
     "output_type": "stream",
     "text": [
      "22706\n",
      "9314 9049 2120\n",
      "4\n"
     ]
    }
   ],
   "source": [
    "print(df.documentID.nunique())\n",
    "print(df['shortend_attribute_name.v2'].nunique(), df.aggregated_name.nunique(), df.final_attribute_name.nunique())\n",
    "print(df.ling_lvl.nunique())"
   ]
  },
  {
   "cell_type": "code",
   "execution_count": 34,
   "id": "318c1222-26e2-4837-b102-03d6407f65ee",
   "metadata": {},
   "outputs": [],
   "source": [
    "df.to_csv(path + '/refined_and_aggregated_features_final.csv', index=False)"
   ]
  },
  {
   "cell_type": "code",
   "execution_count": 36,
   "id": "6ddf641e-211a-4780-8ac3-2985c6aefb9c",
   "metadata": {},
   "outputs": [],
   "source": [
    "df.groupby(['final_attribute_name', 'aggregated_name']).agg({'documentID': lambda x: len(x), 'ling_lvl': lambda x: list(x)[0]}).reset_index().to_csv(path + '/llm_generated_style_feats.csv')"
   ]
  },
  {
   "cell_type": "code",
   "execution_count": 28,
   "id": "0fb36912-9a39-4ad7-b5ce-e8b5fa928fdd",
   "metadata": {},
   "outputs": [],
   "source": [
    "g_df = df.groupby('final_attribute_name').agg({'original_attribute_name': lambda feats: {f: feats.tolist().count(f) for f in set(feats)},\n",
    "                                               'shortend_attribute_name.v1': lambda feats: {f: feats.tolist().count(f) for f in set(feats)},\n",
    "                                               'shortend_attribute_name.v2': lambda feats: {f: feats.tolist().count(f) for f in set(feats)},\n",
    "                                               'aggregated_name': lambda feats: {f: feats.tolist().count(f) for f in set(feats)},\n",
    "                                               'documentID': lambda x: len(x),\n",
    "                                               'ling_lvl': lambda x: list(x)\n",
    "                                    }).reset_index()\n",
    "\n",
    "g_df['final_attribute_ling_lvl'] = g_df['ling_lvl'].apply(lambda x: Counter(x).most_common(1)[0][0])"
   ]
  },
  {
   "cell_type": "code",
   "execution_count": 30,
   "id": "20f386bc-29ed-4ff3-9c85-434b2ad34ae8",
   "metadata": {},
   "outputs": [],
   "source": [
    "g_df.to_json(path + '/style_features_corpus.json', orient='records', indent=2)"
   ]
  },
  {
   "cell_type": "code",
   "execution_count": 31,
   "id": "81817bb5-983c-4d73-976c-b7d6953f7e22",
   "metadata": {},
   "outputs": [
    {
     "name": "stdout",
     "output_type": "stream",
     "text": [
      "9049\n",
      "2120\n"
     ]
    },
    {
     "data": {
      "text/plain": [
       "Semantic Level         673\n",
       "Discourse Level        615\n",
       "Syntactic Level        490\n",
       "Morphological Level    342\n",
       "Name: final_attribute_ling_lvl, dtype: int64"
      ]
     },
     "execution_count": 31,
     "metadata": {},
     "output_type": "execute_result"
    }
   ],
   "source": [
    "print(df.aggregated_name.nunique())\n",
    "print(df.final_attribute_name.nunique())\n",
    "g_df.final_attribute_ling_lvl.value_counts()"
   ]
  },
  {
   "cell_type": "markdown",
   "id": "eafc0e33-9f5b-40da-8965-ee5709c5fdd5",
   "metadata": {},
   "source": [
    "#### Loading the manually processed feats:"
   ]
  },
  {
   "cell_type": "code",
   "execution_count": 81,
   "id": "1e1e38ae-d957-4e01-83fb-22696d385743",
   "metadata": {},
   "outputs": [],
   "source": [
    "llm_based_df = pd.read_csv(path + '/refined_and_aggregated_features_final.csv')"
   ]
  },
  {
   "cell_type": "code",
   "execution_count": 82,
   "id": "6654bf52-b677-4565-8e75-42a9ea61dbcf",
   "metadata": {},
   "outputs": [],
   "source": [
    "cleaned_up_feats = pd.read_csv('/mnt/swordfish-pool2/milad/hiatus-data/explainability_all_data/manuall-processed-feats-nov-23-24.tsv', sep='\\t')\n",
    "cleaned_up_feats = cleaned_up_feats[cleaned_up_feats.documentID != 'documentID']\n",
    "grouped_cleaned_up_feats_df = cleaned_up_feats.groupby('full_feature_processed').agg({\n",
    "    'documentID': lambda x:sum([int(i) for i in x]),\n",
    "    'full_feature_name': lambda x: list(x)\n",
    "}).reset_index()"
   ]
  },
  {
   "cell_type": "code",
   "execution_count": 83,
   "id": "f4ba28d7-c6de-47d4-bd4c-558f9d656843",
   "metadata": {},
   "outputs": [],
   "source": [
    "filtered_feats =  grouped_cleaned_up_feats_df[(grouped_cleaned_up_feats_df.documentID > 50)]\n",
    "filtered_feats_map = {f: item[0] for item in zip(filtered_feats.full_feature_processed.tolist(), filtered_feats.full_feature_name.tolist()) for f in item[1]}"
   ]
  },
  {
   "cell_type": "code",
   "execution_count": 84,
   "id": "1f177ba7-3198-4da6-b6ea-5c9c9d8cfaf0",
   "metadata": {
    "scrolled": true
   },
   "outputs": [
    {
     "data": {
      "text/html": [
       "<div>\n",
       "<style scoped>\n",
       "    .dataframe tbody tr th:only-of-type {\n",
       "        vertical-align: middle;\n",
       "    }\n",
       "\n",
       "    .dataframe tbody tr th {\n",
       "        vertical-align: top;\n",
       "    }\n",
       "\n",
       "    .dataframe thead th {\n",
       "        text-align: right;\n",
       "    }\n",
       "</style>\n",
       "<table border=\"1\" class=\"dataframe\">\n",
       "  <thead>\n",
       "    <tr style=\"text-align: right;\">\n",
       "      <th></th>\n",
       "      <th>full_feature_processed</th>\n",
       "      <th>documentID</th>\n",
       "    </tr>\n",
       "  </thead>\n",
       "  <tbody>\n",
       "    <tr>\n",
       "      <th>2793</th>\n",
       "      <td>the author uses diverse sentence structures</td>\n",
       "      <td>11550</td>\n",
       "    </tr>\n",
       "    <tr>\n",
       "      <th>79</th>\n",
       "      <td>complex sentence structures are used</td>\n",
       "      <td>7066</td>\n",
       "    </tr>\n",
       "    <tr>\n",
       "      <th>3008</th>\n",
       "      <td>the author uses simple sentence structures</td>\n",
       "      <td>5880</td>\n",
       "    </tr>\n",
       "    <tr>\n",
       "      <th>232</th>\n",
       "      <td>specialized language is used</td>\n",
       "      <td>5337</td>\n",
       "    </tr>\n",
       "    <tr>\n",
       "      <th>214</th>\n",
       "      <td>sentence structures are varied</td>\n",
       "      <td>4740</td>\n",
       "    </tr>\n",
       "  </tbody>\n",
       "</table>\n",
       "</div>"
      ],
      "text/plain": [
       "                           full_feature_processed  documentID\n",
       "2793  the author uses diverse sentence structures       11550\n",
       "79           complex sentence structures are used        7066\n",
       "3008   the author uses simple sentence structures        5880\n",
       "232                  specialized language is used        5337\n",
       "214                sentence structures are varied        4740"
      ]
     },
     "execution_count": 84,
     "metadata": {},
     "output_type": "execute_result"
    }
   ],
   "source": [
    "filtered_feats.sort_values('documentID', ascending=False)[['full_feature_processed', 'documentID']].head(n=5)"
   ]
  },
  {
   "cell_type": "code",
   "execution_count": 85,
   "id": "56599ad6-b004-4767-98d0-d8da57d28b50",
   "metadata": {
    "scrolled": true
   },
   "outputs": [],
   "source": [
    "llm_based_df['final_attribute_name_manually_processed'] = llm_based_df.aggregated_name.apply(lambda x: filtered_feats_map[x] if x in filtered_feats_map else '')\n",
    "llm_based_df = llm_based_df[llm_based_df['final_attribute_name_manually_processed'] != '']"
   ]
  },
  {
   "cell_type": "code",
   "execution_count": 86,
   "id": "5a3ec471-aee8-4978-b095-dd1e802aa2d6",
   "metadata": {},
   "outputs": [
    {
     "name": "stdout",
     "output_type": "stream",
     "text": [
      "features:  332\n",
      "documents:  22520\n"
     ]
    }
   ],
   "source": [
    "print('features: ', llm_based_df['final_attribute_name_manually_processed'].nunique())\n",
    "print('documents: ',llm_based_df['documentID'].nunique())"
   ]
  },
  {
   "cell_type": "code",
   "execution_count": 87,
   "id": "945b0b75-a8b1-4316-9468-fa8b47afb2ac",
   "metadata": {
    "scrolled": true
   },
   "outputs": [],
   "source": [
    "llm_based_df.to_csv(path + '/refined_and_aggregated_features_final_manually_processed.csv', index=False)"
   ]
  },
  {
   "cell_type": "markdown",
   "id": "0c09f509-40c8-475a-9122-243a8a77b4d9",
   "metadata": {},
   "source": [
    "#### Merge the Gram2vec style feats to our LLM-based style feats:"
   ]
  },
  {
   "cell_type": "code",
   "execution_count": 88,
   "id": "55daca9f-bf66-4f63-b5e6-c44b01d58d14",
   "metadata": {
    "scrolled": true
   },
   "outputs": [],
   "source": [
    "llm_based_df = pd.read_csv(path + '/refined_and_aggregated_features_final_manually_processed.csv')\n",
    "llm_based_df = llm_based_df.groupby('documentID').agg({'final_attribute_name_manually_processed': lambda x: list(x)}).reset_index()"
   ]
  },
  {
   "cell_type": "code",
   "execution_count": 89,
   "id": "4df5e18d-a7d9-459d-bfd1-8d5cef5ad2d9",
   "metadata": {
    "scrolled": true
   },
   "outputs": [],
   "source": [
    "gram2vec_df   = pd.read_json(path+ '/normalized_all_document_gram2vec_top_features.jsonl', lines=True)\n",
    "gram2vec_dict = {x[0]: x[1] for x in zip(gram2vec_df.documentID.tolist(), gram2vec_df.gram2vec_feats.tolist())} \n",
    "gram2vec_feats = set([x for feats in gram2vec_dict.values() for x in feats])"
   ]
  },
  {
   "cell_type": "code",
   "execution_count": 90,
   "id": "e19f5ceb-fb57-4d25-8f64-e639e4bde818",
   "metadata": {
    "scrolled": true
   },
   "outputs": [],
   "source": [
    "llm_based_df['final_attribute_name_manually_processed'] = llm_based_df.apply(lambda x: x['final_attribute_name_manually_processed'] + gram2vec_dict[x['documentID']], axis=1)"
   ]
  },
  {
   "cell_type": "code",
   "execution_count": 91,
   "id": "d5a6c172-f0aa-430f-9e0d-2cf6094f9e8d",
   "metadata": {
    "scrolled": true
   },
   "outputs": [],
   "source": [
    "llm_based_df = llm_based_df.explode(['final_attribute_name_manually_processed'])\n",
    "gram2vec_df  = gram2vec_df.explode(['gram2vec_feats'])"
   ]
  },
  {
   "cell_type": "code",
   "execution_count": 92,
   "id": "d65d9628-7b21-4239-b293-a9c16aa6dc38",
   "metadata": {},
   "outputs": [],
   "source": [
    "llm_based_df.to_csv(path + '/llm_and_gram2vec_feats.csv', index=False)\n",
    "gram2vec_df.to_csv(path+ '/gram2vec_feats.csv', index=False)"
   ]
  },
  {
   "cell_type": "markdown",
   "id": "c8e4b12e-5ecd-4569-96de-13eefbebb3b4",
   "metadata": {
    "jp-MarkdownHeadingCollapsed": true
   },
   "source": [
    "### Consturcted Interpretable space:"
   ]
  },
  {
   "cell_type": "code",
   "execution_count": null,
   "id": "23a2bf9a-79e4-4961-b3bc-bdd681f0d2b9",
   "metadata": {
    "scrolled": true
   },
   "outputs": [
    {
     "name": "stdout",
     "output_type": "stream",
     "text": [
      "Testing Different Epsilon Values:   0%|                  | 0/99 [00:00<?, ?it/s][(0.5, 0.001, 0.151, 0.998), 1, 0, 0] 0.01\n",
      "Testing Different Epsilon Values:   1%|1         | 1/99 [00:28<47:20, 28.99s/it][(0.284, 0.018, 0.191, 0.68), 3, 0.9848099, 0] 0.02\n",
      "Testing Different Epsilon Values:   2%|2         | 2/99 [01:00<49:27, 30.59s/it][(0.216, 0.065, 0.256, 0.643), 8, 0.9179425, 0] 0.03\n",
      "Testing Different Epsilon Values:   3%|3         | 3/99 [01:32<49:57, 31.23s/it][(0.182, 0.114, 0.311, 0.64), 21, 0.6840293, 0] 0.04\n",
      "Testing Different Epsilon Values:   4%|4         | 4/99 [02:04<49:47, 31.44s/it][(0.183, 0.123, 0.322, 0.648), 26, 0.5772858, 0] 0.05\n",
      "Testing Different Epsilon Values:   5%|5         | 5/99 [02:36<49:22, 31.52s/it][(0.173, 0.139, 0.339, 0.645), 38, 0.5467682, 0] 0.06\n",
      "Testing Different Epsilon Values:   6%|6         | 6/99 [03:07<48:54, 31.56s/it][(0.142, 0.163, 0.366, 0.639), 44, 0.5083162, 0] 0.07\n",
      "Testing Different Epsilon Values:   7%|7         | 7/99 [03:39<48:27, 31.60s/it][(0.1, 0.185, 0.394, 0.646), 53, 0.43336436, 0] 0.08\n",
      "Testing Different Epsilon Values:   8%|8         | 8/99 [04:11<47:57, 31.62s/it][(0.079, 0.205, 0.416, 0.634), 62, 0.4579816, 0] 0.09\n",
      "Testing Different Epsilon Values:   9%|9         | 9/99 [04:42<47:25, 31.62s/it][(0.077, 0.216, 0.427, 0.649), 92, 0.37014267, 0] 0.1\n",
      "Testing Different Epsilon Values:  10%|9        | 10/99 [05:14<46:53, 31.61s/it][(0.073, 0.225, 0.436, 0.642), 100, 0.25574744, 0] 0.11\n",
      "Testing Different Epsilon Values:  11%|#        | 11/99 [05:46<46:25, 31.65s/it][(0.064, 0.231, 0.444, 0.617), 109, 0.17134753, 0] 0.12\n",
      "Testing Different Epsilon Values:  12%|#        | 12/99 [06:17<45:54, 31.66s/it][(0.059, 0.237, 0.449, 0.616), 126, 0.11731271, 0] 0.13\n",
      "Testing Different Epsilon Values:  13%|#1       | 13/99 [06:49<45:21, 31.64s/it][(0.062, 0.238, 0.45, 0.63), 148, 0.07802636, 0] 0.14\n",
      "Testing Different Epsilon Values:  14%|#2       | 14/99 [07:20<44:49, 31.65s/it][(0.064, 0.237, 0.449, 0.624), 175, 0.03209864, 0] 0.15\n",
      "Testing Different Epsilon Values:  15%|#3       | 15/99 [07:52<44:21, 31.68s/it][(0.064, 0.238, 0.449, 0.619), 183, -0.042721927, 0] 0.16\n",
      "Testing Different Epsilon Values:  16%|#4       | 16/99 [08:24<43:49, 31.68s/it][(0.062, 0.24, 0.452, 0.63), 186, -0.16310951, 0] 0.17\n",
      "Testing Different Epsilon Values:  17%|#5       | 17/99 [08:56<43:16, 31.67s/it][(0.061, 0.244, 0.455, 0.633), 167, -0.17425483, 0] 0.18\n",
      "Testing Different Epsilon Values:  18%|#6       | 18/99 [09:27<42:48, 31.71s/it][(0.061, 0.248, 0.46, 0.629), 145, -0.18074314, 0] 0.19\n",
      "Testing Different Epsilon Values:  19%|#7       | 19/99 [09:59<42:19, 31.75s/it][(0.06, 0.25, 0.46, 0.637), 115, -0.21893409, 0] 0.2\n",
      "Testing Different Epsilon Values:  20%|#8       | 20/99 [10:31<41:48, 31.75s/it][(0.065, 0.241, 0.453, 0.633), 95, -0.19602565, 0] 0.21\n",
      "Testing Different Epsilon Values:  21%|#9       | 21/99 [11:03<41:15, 31.74s/it][(0.068, 0.237, 0.449, 0.643), 87, -0.20912899, 0] 0.22\n",
      "Testing Different Epsilon Values:  22%|##       | 22/99 [11:34<40:43, 31.73s/it][(0.076, 0.229, 0.441, 0.658), 68, -0.34198272, 0] 0.23\n",
      "Testing Different Epsilon Values:  23%|##       | 23/99 [12:06<40:15, 31.78s/it][(0.076, 0.221, 0.431, 0.639), 40, -0.30200744, 0] 0.24\n",
      "Testing Different Epsilon Values:  24%|##1      | 24/99 [12:38<39:47, 31.83s/it][(0.078, 0.213, 0.425, 0.619), 37, -0.27919912, 0] 0.25\n",
      "Testing Different Epsilon Values:  25%|##2      | 25/99 [13:10<39:15, 31.83s/it][(0.089, 0.171, 0.384, 0.582), 20, -0.23377754, 0] 0.26\n",
      "Testing Different Epsilon Values:  26%|##3      | 26/99 [13:42<38:45, 31.85s/it][(0.12, 0.142, 0.353, 0.604), 18, -0.18787739, 0] 0.27\n",
      "Testing Different Epsilon Values:  27%|##4      | 27/99 [14:14<38:22, 31.98s/it][(0.177, 0.068, 0.267, 0.688), 8, -0.09296356, 0] 0.28\n",
      "Testing Different Epsilon Values:  28%|##5      | 28/99 [14:46<37:50, 31.98s/it][(0.24, 0.028, 0.21, 0.707), 5, -0.035816275, 0] 0.29\n",
      "Testing Different Epsilon Values:  29%|##6      | 29/99 [15:18<37:20, 32.00s/it][(0.347, 0.012, 0.178, 0.816), 3, 0.08145493, 0] 0.3\n",
      "Testing Different Epsilon Values:  30%|##7      | 30/99 [15:50<36:47, 32.00s/it][(0.346, 0.013, 0.179, 0.815), 3, 0.08086813, 0] 0.31\n",
      "Testing Different Epsilon Values:  31%|##8      | 31/99 [16:22<36:16, 32.01s/it][(0.345, 0.007, 0.169, 0.961), 2, 0, 0] 0.32\n",
      "Testing Different Epsilon Values:  32%|##9      | 32/99 [16:54<35:39, 31.93s/it][(0.355, 0.008, 0.168, 0.964), 2, 0, 0] 0.33\n",
      "Testing Different Epsilon Values:  33%|###      | 33/99 [17:26<35:01, 31.84s/it][(0.357, 0.008, 0.168, 0.962), 2, 0, 0] 0.34\n",
      "Testing Different Epsilon Values:  34%|###      | 34/99 [17:57<34:29, 31.84s/it][(0.35, 0.008, 0.169, 0.944), 2, 0, 0] 0.35\n",
      "Testing Different Epsilon Values:  35%|###1     | 35/99 [18:29<33:58, 31.86s/it][(0.361, 0.007, 0.167, 0.93), 2, 0, 0] 0.36\n",
      "Testing Different Epsilon Values:  36%|###2     | 36/99 [19:01<33:24, 31.82s/it][(0.355, 0.008, 0.168, 0.886), 2, 0, 0] 0.37\n",
      "Testing Different Epsilon Values:  37%|###3     | 37/99 [19:33<32:52, 31.81s/it][(0.341, 0.008, 0.17, 0.852), 2, 0, 0] 0.38\n",
      "Testing Different Epsilon Values:  38%|###4     | 38/99 [20:05<32:17, 31.76s/it][(0.347, 0.007, 0.168, 0.792), 2, 0, 0] 0.39\n",
      "Testing Different Epsilon Values:  39%|###5     | 39/99 [20:36<31:44, 31.74s/it][(0.347, 0.007, 0.168, 0.792), 2, 0, 0] 0.4\n",
      "Testing Different Epsilon Values:  40%|###6     | 40/99 [21:08<31:11, 31.72s/it][(0.336, 0.008, 0.17, 0.704), 2, 0, 0] 0.41\n",
      "Testing Different Epsilon Values:  41%|###7     | 41/99 [21:40<30:37, 31.68s/it][(0.336, 0.008, 0.17, 0.704), 2, 0, 0] 0.42\n",
      "Testing Different Epsilon Values:  42%|###8     | 42/99 [22:11<30:09, 31.74s/it][(0.5, 0.001, 0.151, 0.998), 1, 0, 0] 0.43\n",
      "Testing Different Epsilon Values:  43%|###9     | 43/99 [22:40<28:52, 30.94s/it][(0.5, 0.001, 0.151, 0.998), 1, 0, 0] 0.44\n",
      "Testing Different Epsilon Values:  44%|####     | 44/99 [23:10<27:50, 30.38s/it][(0.5, 0.001, 0.151, 0.998), 1, 0, 0] 0.45\n",
      "Testing Different Epsilon Values:  45%|####     | 45/99 [23:39<26:59, 29.99s/it][(0.5, 0.001, 0.151, 0.998), 1, 0, 0] 0.46\n",
      "Testing Different Epsilon Values:  46%|####1    | 46/99 [24:08<26:17, 29.77s/it][(0.5, 0.001, 0.151, 0.998), 1, 0, 0] 0.47\n",
      "Testing Different Epsilon Values:  47%|####2    | 47/99 [24:37<25:39, 29.60s/it][(0.5, 0.001, 0.151, 0.998), 1, 0, 0] 0.48\n",
      "Testing Different Epsilon Values:  48%|####3    | 48/99 [25:06<25:03, 29.48s/it][(0.5, 0.001, 0.151, 0.998), 1, 0, 0] 0.49\n",
      "Testing Different Epsilon Values:  49%|####4    | 49/99 [25:35<24:29, 29.39s/it][(0.5, 0.001, 0.151, 0.998), 1, 0, 0] 0.5\n",
      "Testing Different Epsilon Values:  51%|####5    | 50/99 [26:05<24:00, 29.39s/it][(0.5, 0.001, 0.151, 0.998), 1, 0, 0] 0.51\n",
      "Testing Different Epsilon Values:  52%|####6    | 51/99 [26:34<23:28, 29.34s/it][(0.5, 0.001, 0.151, 0.998), 1, 0, 0] 0.52\n",
      "Testing Different Epsilon Values:  53%|####7    | 52/99 [27:03<22:57, 29.30s/it][(0.5, 0.001, 0.151, 0.998), 1, 0, 0] 0.53\n",
      "Testing Different Epsilon Values:  54%|####8    | 53/99 [27:32<22:25, 29.24s/it][(0.5, 0.001, 0.151, 0.998), 1, 0, 0] 0.54\n",
      "Testing Different Epsilon Values:  55%|####9    | 54/99 [28:02<21:56, 29.25s/it][(0.5, 0.001, 0.151, 0.998), 1, 0, 0] 0.55\n",
      "Testing Different Epsilon Values:  56%|#####    | 55/99 [28:31<21:26, 29.25s/it][(0.5, 0.001, 0.151, 0.998), 1, 0, 0] 0.56\n",
      "Testing Different Epsilon Values:  57%|#####    | 56/99 [29:00<20:58, 29.28s/it][(0.5, 0.001, 0.151, 0.998), 1, 0, 0] 0.57\n",
      "Testing Different Epsilon Values:  58%|#####1   | 57/99 [29:30<20:29, 29.28s/it][(0.5, 0.001, 0.151, 0.998), 1, 0, 0] 0.58\n",
      "Testing Different Epsilon Values:  59%|#####2   | 58/99 [29:59<20:01, 29.30s/it][(0.5, 0.001, 0.151, 0.998), 1, 0, 0] 0.59\n",
      "Testing Different Epsilon Values:  60%|#####3   | 59/99 [30:28<19:31, 29.30s/it][(0.5, 0.001, 0.151, 0.998), 1, 0, 0] 0.6\n",
      "Testing Different Epsilon Values:  61%|#####4   | 60/99 [30:57<19:02, 29.30s/it][(0.5, 0.001, 0.151, 0.998), 1, 0, 0] 0.61\n",
      "Testing Different Epsilon Values:  62%|#####5   | 61/99 [31:27<18:31, 29.26s/it][(0.5, 0.001, 0.151, 0.998), 1, 0, 0] 0.62\n",
      "Testing Different Epsilon Values:  63%|#####6   | 62/99 [31:56<18:02, 29.25s/it][(0.5, 0.001, 0.151, 0.998), 1, 0, 0] 0.63\n",
      "Testing Different Epsilon Values:  64%|#####7   | 63/99 [32:25<17:33, 29.26s/it][(0.5, 0.001, 0.151, 0.998), 1, 0, 0] 0.64\n",
      "Testing Different Epsilon Values:  65%|#####8   | 64/99 [32:54<17:04, 29.27s/it][(0.5, 0.001, 0.151, 0.998), 1, 0, 0] 0.65\n",
      "Testing Different Epsilon Values:  66%|#####9   | 65/99 [33:24<16:33, 29.23s/it][(0.5, 0.001, 0.151, 0.998), 1, 0, 0] 0.66\n",
      "Testing Different Epsilon Values:  67%|######   | 66/99 [33:53<16:05, 29.25s/it][(0.5, 0.001, 0.151, 0.998), 1, 0, 0] 0.67\n",
      "Testing Different Epsilon Values:  68%|######   | 67/99 [34:22<15:35, 29.25s/it][(0.5, 0.001, 0.151, 0.998), 1, 0, 0] 0.68\n",
      "Testing Different Epsilon Values:  69%|######1  | 68/99 [34:51<15:07, 29.26s/it][(0.5, 0.001, 0.151, 0.998), 1, 0, 0] 0.69\n",
      "Testing Different Epsilon Values:  70%|######2  | 69/99 [35:21<14:38, 29.28s/it][(0.5, 0.001, 0.151, 0.998), 1, 0, 0] 0.7\n",
      "Testing Different Epsilon Values:  71%|######3  | 70/99 [35:50<14:09, 29.28s/it][(0.5, 0.001, 0.151, 0.998), 1, 0, 0] 0.71\n",
      "Testing Different Epsilon Values:  72%|######4  | 71/99 [36:19<13:39, 29.27s/it][(0.5, 0.001, 0.151, 0.998), 1, 0, 0] 0.72\n",
      "Testing Different Epsilon Values:  73%|######5  | 72/99 [36:49<13:10, 29.28s/it][(0.5, 0.001, 0.151, 0.998), 1, 0, 0] 0.73\n",
      "Testing Different Epsilon Values:  74%|######6  | 73/99 [37:18<12:41, 29.30s/it][(0.5, 0.001, 0.151, 0.998), 1, 0, 0] 0.74\n",
      "Testing Different Epsilon Values:  75%|######7  | 74/99 [37:47<12:12, 29.30s/it][(0.5, 0.001, 0.151, 0.998), 1, 0, 0] 0.75\n",
      "Testing Different Epsilon Values:  76%|######8  | 75/99 [38:16<11:42, 29.28s/it][(0.5, 0.001, 0.151, 0.998), 1, 0, 0] 0.76\n",
      "Testing Different Epsilon Values:  77%|######9  | 76/99 [38:46<11:15, 29.38s/it][(0.5, 0.001, 0.151, 0.998), 1, 0, 0] 0.77\n",
      "Testing Different Epsilon Values:  78%|#######  | 77/99 [39:15<10:46, 29.38s/it][(0.5, 0.001, 0.151, 0.998), 1, 0, 0] 0.78\n",
      "Testing Different Epsilon Values:  79%|#######  | 78/99 [39:45<10:19, 29.49s/it][(0.5, 0.001, 0.151, 0.998), 1, 0, 0] 0.79\n",
      "Testing Different Epsilon Values:  80%|#######1 | 79/99 [40:15<09:48, 29.44s/it][(0.5, 0.001, 0.151, 0.998), 1, 0, 0] 0.8\n",
      "Testing Different Epsilon Values:  81%|#######2 | 80/99 [40:44<09:18, 29.41s/it][(0.5, 0.001, 0.151, 0.998), 1, 0, 0] 0.81\n",
      "Testing Different Epsilon Values:  82%|#######3 | 81/99 [41:13<08:49, 29.39s/it][(0.5, 0.001, 0.151, 0.998), 1, 0, 0] 0.82\n",
      "Testing Different Epsilon Values:  83%|#######4 | 82/99 [41:43<08:19, 29.36s/it][(0.5, 0.001, 0.151, 0.998), 1, 0, 0] 0.83\n",
      "Testing Different Epsilon Values:  84%|#######5 | 83/99 [42:12<07:50, 29.40s/it][(0.5, 0.001, 0.151, 0.998), 1, 0, 0] 0.84\n",
      "Testing Different Epsilon Values:  85%|#######6 | 84/99 [42:41<07:20, 29.38s/it][(0.5, 0.001, 0.151, 0.998), 1, 0, 0] 0.85\n",
      "Testing Different Epsilon Values:  86%|#######7 | 85/99 [43:11<06:50, 29.36s/it][(0.5, 0.001, 0.151, 0.998), 1, 0, 0] 0.86\n",
      "Testing Different Epsilon Values:  87%|#######8 | 86/99 [43:40<06:21, 29.32s/it][(0.5, 0.001, 0.151, 0.998), 1, 0, 0] 0.87\n",
      "Testing Different Epsilon Values:  88%|#######9 | 87/99 [44:09<05:51, 29.32s/it]"
     ]
    }
   ],
   "source": [
    "! CUDA_VISIBLE_DEVICES=6 python ../cluster_documents.py --train-dir \"/mnt/swordfish-pool2/milad/hiatus-data/explainability_all_data/train_authors.json\" \\\n",
    "--test-dir \"/mnt/swordfish-pool2/milad/hiatus-data/explainability_all_data/test_authors.json\" \\\n",
    "--save-dir \"/mnt/swordfish-pool2/milad/hiatus-data/explainability_all_data/\" \\\n",
    "--model aa_model-luar \\\n",
    "--style-dir \"/mnt/swordfish-pool2/milad/hiatus-data/explainability_all_data/refined_and_aggregated_features_final.csv\""
   ]
  },
  {
   "cell_type": "code",
   "execution_count": 8,
   "id": "b917fbfd-f187-4dc3-b5bc-a87ab5a8e47e",
   "metadata": {
    "scrolled": true
   },
   "outputs": [
    {
     "name": "stdout",
     "output_type": "stream",
     "text": [
      "/mnt/swordfish-pool2/milad/conda-envs/gpu-env/lib/python3.11/site-packages/transformers/utils/hub.py:128: FutureWarning: Using `TRANSFORMERS_CACHE` is deprecated and will be removed in v5 of Transformers. Use `HF_HOME` instead.\n",
      "  warnings.warn(\n",
      "^C\n",
      "Traceback (most recent call last):\n",
      "  File \"/home/ma4608/style_generation_pipeline/src-ipynb/../cluster_documents.py\", line 250, in <module>\n",
      "    main(args)\n",
      "  File \"/home/ma4608/style_generation_pipeline/src-ipynb/../cluster_documents.py\", line 59, in main\n",
      "    author_to_embeddings = {\n",
      "                           ^\n",
      "  File \"/home/ma4608/style_generation_pipeline/src-ipynb/../cluster_documents.py\", line 60, in <dictcomp>\n",
      "    row[\"authorID\"]: np.mean(model.encode(row[\"fullText\"]), axis=0)\n",
      "                             ^^^^^^^^^^^^^^^^^^^^^^^^^^^^^\n",
      "  File \"/home/ma4608/style_generation_pipeline/aa_models/luar_pausit/__init__.py\", line 22, in encode\n",
      "    return self.model.encode(\n",
      "           ^^^^^^^^^^^^^^^^^^\n",
      "  File \"/mnt/swordfish-pool2/milad/conda-envs/gpu-env/lib/python3.11/site-packages/sentence_transformers/SentenceTransformer.py\", line 373, in encode\n",
      "    embeddings = embeddings.cpu()\n",
      "                 ^^^^^^^^^^^^^^^^\n",
      "KeyboardInterrupt\n"
     ]
    }
   ],
   "source": [
    "# ! CUDA_VISIBLE_DEVICES=6 python ../cluster_documents.py --train-dir \"/mnt/swordfish-pool2/milad/hiatus-data/explainability_all_data/train_authors.json\" \\\n",
    "# --test-dir \"/mnt/swordfish-pool2/milad/hiatus-data/explainability_all_data/test_authors.json\" \\\n",
    "# --save-dir \"/mnt/swordfish-pool2/milad/hiatus-data/explainability_all_data/\" \\\n",
    "# --model aa_model-luar \\\n",
    "# --style-dir \"/mnt/swordfish-pool2/milad/hiatus-data/explainability_all_data/refined_and_aggregated_features_final.csv\" \\\n",
    "# --style_feat_column 'final_attribute_name' \\\n",
    "# --top_k_feats 10\\\n",
    "# --summarize_cluster_reps\\\n",
    "# --eps 0.07\n",
    "\n",
    "! yes| CUDA_VISIBLE_DEVICES=0 python ../cluster_documents.py --train-dir \"/mnt/swordfish-pool2/milad/hiatus-data/explainability_all_data/train_authors.json\" \\\n",
    "--test-dir \"/mnt/swordfish-pool2/milad/hiatus-data/explainability_all_data/test_authors.json\" \\\n",
    "--save-dir \"/mnt/swordfish-pool2/milad/hiatus-data/explainability_all_data/interp_space_126_clusters/\" \\\n",
    "--model  'aa_model-luar'\\\n",
    "--style-dir \"/mnt/swordfish-pool2/milad/hiatus-data/explainability_all_data/refined_and_aggregated_features_final.csv\" \\\n",
    "--style_feat_column 'final_attribute_name' \\\n",
    "--top_k_feats 10\\\n",
    "--eps 0.14\n",
    "#--summarize_cluster_reps\\"
   ]
  },
  {
   "cell_type": "markdown",
   "id": "1db5d13c-4f7c-4688-82c3-345b274c0f6a",
   "metadata": {},
   "source": [
    "### Build Clusters Style Representation"
   ]
  },
  {
   "cell_type": "code",
   "execution_count": 93,
   "id": "4a1e7520-68f9-4d10-b971-e25e91684bfb",
   "metadata": {},
   "outputs": [],
   "source": [
    "llm_style_feats = path + '/refined_and_aggregated_features_final_manually_processed.csv'\n",
    "llm_and_g2v_style_feats = path + '/llm_and_gram2vec_feats.csv'\n",
    "g2v_style_feats = path + '/gram2vec_feats.csv'"
   ]
  },
  {
   "cell_type": "code",
   "execution_count": 94,
   "id": "d4dc8aaf-c1f5-41cc-8611-2aa33c319502",
   "metadata": {},
   "outputs": [],
   "source": [
    "# df = pd.read_csv(llm_style_feats)\n",
    "# df[['shortend_attribute_name.v2', 'original_attribute_name']].drop_duplicates().to_csv('/mnt/swordfish-pool2/milad/hiatus-data/explainability_all_data/original_feature_name.csv')"
   ]
  },
  {
   "cell_type": "code",
   "execution_count": 96,
   "id": "3ba73d24-b575-4ab4-958c-8c986f7743f3",
   "metadata": {
    "scrolled": true
   },
   "outputs": [
    {
     "name": "stdout",
     "output_type": "stream",
     "text": [
      "*"
     ]
    }
   ],
   "source": [
    "feat_clm = 'final_attribute_name_manually_processed'\n",
    "styles_corpus_path = llm_style_feats\n",
    "#Representative Summarization\n",
    "clusters_tfidf_rep_df = generate_interpretable_space_representation('/mnt/swordfish-pool2/milad/hiatus-data/explainability_all_data/interp_space_126_clusters/train_authors.pkl', styles_corpus_path, feat_clm, 'tfidf_rep', num_feats=10, summarize_with_gpt=False)\n",
    "clusters_contra_rep_df = generate_interpretable_space_contra_representation('/mnt/swordfish-pool2/milad/hiatus-data/explainability_all_data/interp_space_126_clusters/train_authors.pkl', styles_corpus_path, feat_clm, 'con_rep', num_feats=10, summarize_with_gpt=False)"
   ]
  },
  {
   "cell_type": "code",
   "execution_count": 97,
   "id": "4bcda725-50e2-432e-94bf-0e021a535cd7",
   "metadata": {},
   "outputs": [],
   "source": [
    "def build_cluster_representation(clustering_path, output_path, top_k=10):\n",
    "    feat_clm = 'final_attribute_name_manually_processed'\n",
    "    styles_corpus_path = llm_style_feats\n",
    "    #Representative Summarization\n",
    "    clusters_tfidf_rep_df = generate_interpretable_space_representation(clustering_path, styles_corpus_path, feat_clm, 'tfidf_rep', num_feats=top_k, summarize_with_gpt=False)\n",
    "    #Contrastive Summarization\n",
    "    clusters_contra_rep_df = generate_interpretable_space_contra_representation(clustering_path, styles_corpus_path, feat_clm, 'con_rep', num_feats=top_k, summarize_with_gpt=False)\n",
    "\n",
    "    feat_clm = 'gram2vec_feats'\n",
    "    styles_corpus_path = g2v_style_feats\n",
    "    #Representative Summarization\n",
    "    clusters_tfidf_rep_g2v_df = generate_interpretable_space_representation(clustering_path, styles_corpus_path, feat_clm, 'tfidf_rep', num_feats=top_k, summarize_with_gpt=False)\n",
    "    #Contrastive Summarization\n",
    "    clusters_contra_rep_g2v_df = generate_interpretable_space_contra_representation(clustering_path, styles_corpus_path, feat_clm, 'con_rep', num_feats=top_k, summarize_with_gpt=False)\n",
    "\n",
    "    clusters_contra_rep_df['llm_con_rep'] = clusters_contra_rep_df['con_rep']\n",
    "    clusters_contra_rep_df['llm_tfidf_rep'] = clusters_tfidf_rep_df['tfidf_rep']\n",
    "    clusters_contra_rep_df['g2v_tfidf_rep'] = clusters_tfidf_rep_g2v_df['tfidf_rep']\n",
    "    clusters_contra_rep_df['g2v_con_rep'] = clusters_contra_rep_g2v_df['con_rep']\n",
    "\n",
    "    clusters_contra_rep_df[['cluster_label', 'llm_con_rep', 'llm_tfidf_rep', 'g2v_con_rep', 'g2v_tfidf_rep']].to_json(output_path)"
   ]
  },
  {
   "cell_type": "code",
   "execution_count": 98,
   "id": "b383edd5-f9b3-495c-a188-96b6ee5a3074",
   "metadata": {},
   "outputs": [
    {
     "name": "stdout",
     "output_type": "stream",
     "text": [
      "**"
     ]
    }
   ],
   "source": [
    "build_cluster_representation('/mnt/swordfish-pool2/milad/hiatus-data/explainability_all_data/train_authors.pkl', \n",
    "                             '/mnt/swordfish-pool2/milad/hiatus-data/explainability_all_data/interpretable_space_representations.json', top_k=10)"
   ]
  },
  {
   "cell_type": "code",
   "execution_count": 9,
   "id": "4e6a4850-60d2-47d4-9d2f-a50e8238b7de",
   "metadata": {},
   "outputs": [
    {
     "name": "stdout",
     "output_type": "stream",
     "text": [
      "**"
     ]
    }
   ],
   "source": [
    "build_cluster_representation('/mnt/swordfish-pool2/milad/hiatus-data/explainability_all_data/interp_space_126_clusters/train_authors.pkl', \n",
    "                             '/mnt/swordfish-pool2/milad/hiatus-data/explainability_all_data/interp_space_126_clusters/interpretable_space_representations.json', top_k=10)"
   ]
  },
  {
   "cell_type": "code",
   "execution_count": 147,
   "id": "e17b107f-fa79-420b-9467-2d8469f3a7b1",
   "metadata": {},
   "outputs": [],
   "source": [
    "# Converting gra2vec style corpus from jsonl to csv\n",
    "# g2v_style_corpus = pd.read_json('/mnt/swordfish-pool2/milad/hiatus-data/explainability_all_data/normalized_all_document_gram2vec_top_features.jsonl', lines=True)\n",
    "# g2v_style_corpus = g2v_style_corpus.explode('gram2vec_feats')\n",
    "# g2v_style_corpus.to_csv('/mnt/swordfish-pool2/milad/hiatus-data/explainability_all_data/normalized_all_document_gram2vec_top_features.csv', index=False)"
   ]
  }
 ],
 "metadata": {
  "kernelspec": {
   "display_name": "Python 3 (ipykernel)",
   "language": "python",
   "name": "python3"
  },
  "language_info": {
   "codemirror_mode": {
    "name": "ipython",
    "version": 3
   },
   "file_extension": ".py",
   "mimetype": "text/x-python",
   "name": "python",
   "nbconvert_exporter": "python",
   "pygments_lexer": "ipython3",
   "version": "3.11.9"
  }
 },
 "nbformat": 4,
 "nbformat_minor": 5
}
