{
 "cells": [
  {
   "cell_type": "code",
   "execution_count": 1,
   "id": "8369f4ae-98b5-4462-98b3-19f707bddec3",
   "metadata": {},
   "outputs": [],
   "source": [
    "%load_ext autoreload"
   ]
  },
  {
   "cell_type": "code",
   "execution_count": 2,
   "id": "5126a2e1-d75e-4235-8d21-61f6e937eeca",
   "metadata": {},
   "outputs": [],
   "source": [
    "%autoreload\n",
    "import sys\n",
    "import copy\n",
    "sys.path.append('../../style_generation_pipeline/')\n",
    "\n",
    "import generate_explanations\n",
    "from  styles import StyleGenerator"
   ]
  },
  {
   "cell_type": "code",
   "execution_count": 3,
   "id": "d7bbf3c4-1170-4ad2-8e9e-0e22d605e9b3",
   "metadata": {},
   "outputs": [],
   "source": [
    "import json\n",
    "import csv\n",
    "import pandas as pd\n",
    "import numpy as np\n",
    "import matplotlib.pyplot as plt\n",
    "import explanation_interfaces\n",
    "import random\n",
    "import tabulate\n",
    "import glob\n",
    "\n",
    "pd.set_option('display.width', None)\n",
    "pd.set_option('display.max_rows', None)\n",
    "pd.set_option('display.max_columns', None)\n",
    "pd.set_option('display.max_colwidth', None)"
   ]
  },
  {
   "cell_type": "code",
   "execution_count": 4,
   "id": "fa97cd6c-a2dc-4d75-a593-d082822a1e86",
   "metadata": {},
   "outputs": [],
   "source": [
    "model_path = 'aa_model-luar'\n",
    "input_path = '/mnt/swordfish-pool2/milad/hiatus-data/explainability-pilot-samples/'\n",
    "#interp_space_path = '/mnt/swordfish-pool2/milad/hiatus-data/explainability_all_data/interpretable_space.pkl'\n",
    "#interp_space_rep_path = '/mnt/swordfish-p'ool2/milad/hiatus-data/explainability_all_data/interpretable_space_representations.json'\n",
    "interp_space_path = '/mnt/swordfish-pool2/milad/hiatus-data/explainability_all_data/interp_space_126_clusters/interpretable_space.pkl'\n",
    "interp_space_rep_path = '/mnt/swordfish-pool2/milad/hiatus-data/explainability_all_data/interp_space_126_clusters/interpretable_space_representations.json'"
   ]
  },
  {
   "cell_type": "code",
   "execution_count": 5,
   "id": "6237fcb9-0fbc-4bbb-b560-cf3a1f059369",
   "metadata": {
    "scrolled": true
   },
   "outputs": [
    {
     "name": "stdout",
     "output_type": "stream",
     "text": [
      "The token has not been saved to the git credentials helper. Pass `add_to_git_credential=True` in this function directly or `--add-to-git-credential` if using via `huggingface-cli` if you want to set the git credential as well.\n",
      "Token is valid (permission: read).\n",
      "Your token has been saved to /mnt/swordfish-pool2/milad/hf-cache-new/token\n",
      "Login successful\n"
     ]
    }
   ],
   "source": [
    "style_generator = StyleGenerator(model_name=\"openai:gpt-3.5-turbo\", device=0, max_new_tokens=500)\n",
    "#style_generator = StyleGenerator(model_name=\"openai:gpt-4\", device=0, max_new_tokens=500)"
   ]
  },
  {
   "cell_type": "code",
   "execution_count": 6,
   "id": "bfb9c065-983d-4379-8b8d-2e1aa0edb079",
   "metadata": {},
   "outputs": [],
   "source": [
    "def prepare_data_for_evaluation1(input_path, interp_space_path, interp_space_rep_path, feat_clm='llm_tfidf_rep', top_c=1, top_k=5):\n",
    "    # Load all documents\n",
    "    candidate_documents_df = pd.concat([pd.read_json(p, lines=True) for p in glob.glob(input_path + '/*/data/*_candidates.jsonl')])\n",
    "    query_documents_df = pd.concat([pd.read_json(p, lines=True) for p in glob.glob(input_path + '/*/data/*_queries.jsonl')])\n",
    "    query_documents_df['authorID'] = query_documents_df.authorIDs.apply(lambda x: x[0])\n",
    "    candidate_documents_df['authorID'] = candidate_documents_df.authorSetIDs.apply(lambda x: x[0])\n",
    "    all_documents_df = pd.concat([query_documents_df, candidate_documents_df])\n",
    "\n",
    "    # Get the style features\n",
    "    document_rep_feats, _ = generate_explanations.get_documents_style_descriptions(all_documents_df.fullText.tolist(), model_path, interp_space_path, interp_space_rep_path, feat_clm, top_c=top_c, top_k=top_k)\n",
    "    document_distracting_feats, _ = generate_explanations.get_documents_style_descriptions(all_documents_df.fullText.tolist(), model_path, interp_space_path, interp_space_rep_path, feat_clm, top_c=top_c, top_k=top_k, flip_cluster_order=True)\n",
    "\n",
    "    \n",
    "    # Add features to the dataframe\n",
    "    all_documents_df['describtive_feats'] = document_rep_feats\n",
    "    all_documents_df['distractive_feats'] = document_distracting_feats\n",
    "\n",
    "    data_for_evaluation = []\n",
    "    for idx, row in all_documents_df.iterrows():\n",
    "        item = {'documentID': row['documentID'],\n",
    "               'fullText'  : row['fullText'],\n",
    "               'descriptive_feats' :[x[1] for x in row['describtive_feats']],\n",
    "               'distractive_feats' :[x[1] for x in row['distractive_feats']],\n",
    "               'all_features'      :[x[1] for x in row['describtive_feats']] + [x[1] for x in row['distractive_feats']]}\n",
    "        random.shuffle(item['all_features'])\n",
    "        for idx, f in enumerate(item['all_features']):\n",
    "            item['feature_{}'.format(idx)] = f\n",
    "\n",
    "        data_for_evaluation.append(item)\n",
    "\n",
    "    return data_for_evaluation\n",
    "\n",
    "def print_eval_resutls(pandas_df):\n",
    "    pandas_df['chatgpt-scorings-dict'] = pandas_df['chatgpt-scorings'].apply(lambda feats: {f[0].strip(): int(f[1]) for f in feats})\n",
    "    pandas_df['descriptive_feats_scores'] = pandas_df.apply(lambda row: [row['chatgpt-scorings-dict'][f] if f in  row['chatgpt-scorings-dict'] else 0 for f in row['descriptive_feats']], axis=1)\n",
    "    pandas_df['distracting_feats_scores'] = pandas_df.apply(lambda row: [row['chatgpt-scorings-dict'][f] if f in  row['chatgpt-scorings-dict'] else 0 for f in row['distractive_feats']], axis=1)\n",
    "    pandas_df['descriptive_style_selected'] = pandas_df.apply(lambda row: np.mean(row['descriptive_feats_scores']) > np.mean(row['distracting_feats_scores']), axis=1)\n",
    "\n",
    "    results_table = []\n",
    "    describ_scores  = [s for scores in pandas_df['descriptive_feats_scores'].tolist() for s in scores]\n",
    "    distract_scores = [s for scores in pandas_df['distracting_feats_scores'].tolist() for s in scores]\n",
    "    \n",
    "    print(tabulate.tabulate([\n",
    "                                ['Descriptive feats', np.mean(describ_scores), np.median(describ_scores)],\n",
    "                                ['Distracting feats', np.mean(distract_scores), np.median(distract_scores)]\n",
    "                            ], headers=['Mean', 'Median']))\n",
    "    print(pandas_df['descriptive_style_selected'].tolist().count(True)/len(pandas_df))"
   ]
  },
  {
   "cell_type": "code",
   "execution_count": 7,
   "id": "8783f3ff-0e16-4b6b-8ba3-92c638410cdb",
   "metadata": {
    "scrolled": true
   },
   "outputs": [
    {
     "name": "stdout",
     "output_type": "stream",
     "text": [
      "# clusters: 147\n",
      "# clusters: 147\n",
      "# clusters: 147\n",
      "# clusters: 147\n"
     ]
    }
   ],
   "source": [
    "tfidf_data_for_evaluation = prepare_data_for_evaluation1(input_path, interp_space_path, interp_space_rep_path, feat_clm='llm_tfidf_rep', top_c=1, top_k=5)\n",
    "cont_data_for_evaluation = prepare_data_for_evaluation1(input_path, interp_space_path, interp_space_rep_path, feat_clm='llm_con_rep', top_c=1, top_k=5)"
   ]
  },
  {
   "cell_type": "code",
   "execution_count": 8,
   "id": "8185e7d2-ebc8-4bc4-a8e2-729bf40f32cc",
   "metadata": {
    "scrolled": true
   },
   "outputs": [
    {
     "data": {
      "text/plain": [
       "{'documentID': '1d50fcc5-ea3e-5e0e-921b-950dbd1f4834',\n",
       " 'fullText': \"For the electronics sector, the development of optical fibers has been transformative. Due to their ability to transmit data over long distances more quickly and reliably, they have grown to be an essential part of contemporary communication systems. We will look at several ways optical fibers have helped the electronics industry in this article.\\n\\n  What exactly are optical fibers?\\n\\n  Long-distance transmission of light signals is done using optical fibers, which are thin, flexible strands of glass or plastic. An optical fiber's core is made of a superior, ultra-pure glass substance that can transmit light with little loss. Total internal reflection is the process by which the light travels through the fiber by repeatedly hitting the walls of the core.\\n\\n  Benefits of optical fibers.\\n\\n  Optic fibers have a number of benefits over conventional copper wires. First off, they have much greater speed and range than copper wires for data transmission. Second, optical fibers are resistant to electromagnetic interference, which can result in transmission errors and data loss. Thirdly, optical fibers are easier to install and maintain than copper wires because they are much thinner and lighter.\\n\\n  The Electronics Industry and Optical Fibers.\\n\\n  1. Telecommunications.\\n\\n  Telecommunications is one of the main uses of optical fibers. Both domestically and internationally, they are utilized to send voice, data, and video signals over long distances. High-speed internet, video conferencing, and other applications that need quick and dependable data transmission have all been made possible by optical fibers.\\n\\n  2. Imaging techniques for health care.\\n\\n  Medical imaging has been transformed by optical fibers as well. They are utilized in endoscopes, which are medical tools that let doctors examine the inside of patients without requiring invasive surgery. The fibers are used to send images back to the doctor and transmit light into the body, illuminating the area being examined.\\n\\n  3. Sensors.\\n\\n  Sensors used in a variety of applications, from industrial automation to environmental monitoring, also use optical fibers. The fibers can be used to track variations in pressure, temperature, and other physical variables. Additionally, they are utilized in optical fiber gyroscopes, which are found in navigational systems.\\n\\n  4. Military and aviation.\\n\\n  Optical fibers are used in the aerospace and defense sectors. They enable dependable data transmission in challenging environments and are used in communication systems on airplanes, satellites, and other military vehicles. Additionally, optical fibers are utilized in sensors for pressure and temperature changes, which are crucial in aerospace applications.\\n\\n  Optical fibers have, in summary, had a huge impact on the electronics sector. They have not only revolutionized aeronautical and military applications but also made it feasible for faster and more dependable data transfer across large distances. Given the increasing demand for high-speed data transmission, it is clear that optical fibers will remain crucial in determining the direction of the electronics industry.\",\n",
       " 'descriptive_feats': ['the author maintains a neutral tone in their work',\n",
       "  'the author provides clear explanations of technical terms',\n",
       "  'the text demonstrates consistent use of verb tense',\n",
       "  'transitional elements are used',\n",
       "  'the author uses simple sentence structures'],\n",
       " 'distractive_feats': ['sentence lengths are varied',\n",
       "  'sentence structures are varied',\n",
       "  'descriptive language is used',\n",
       "  'attention to punctuation is crucial',\n",
       "  'the author uses complex sentence structures for enhanced content'],\n",
       " 'all_features': ['the author maintains a neutral tone in their work',\n",
       "  'sentence lengths are varied',\n",
       "  'transitional elements are used',\n",
       "  'the author provides clear explanations of technical terms',\n",
       "  'descriptive language is used',\n",
       "  'the author uses simple sentence structures',\n",
       "  'attention to punctuation is crucial',\n",
       "  'sentence structures are varied',\n",
       "  'the text demonstrates consistent use of verb tense',\n",
       "  'the author uses complex sentence structures for enhanced content'],\n",
       " 'feature_0': 'the author maintains a neutral tone in their work',\n",
       " 'feature_1': 'sentence lengths are varied',\n",
       " 'feature_2': 'transitional elements are used',\n",
       " 'feature_3': 'the author provides clear explanations of technical terms',\n",
       " 'feature_4': 'descriptive language is used',\n",
       " 'feature_5': 'the author uses simple sentence structures',\n",
       " 'feature_6': 'attention to punctuation is crucial',\n",
       " 'feature_7': 'sentence structures are varied',\n",
       " 'feature_8': 'the text demonstrates consistent use of verb tense',\n",
       " 'feature_9': 'the author uses complex sentence structures for enhanced content'}"
      ]
     },
     "execution_count": 8,
     "metadata": {},
     "output_type": "execute_result"
    }
   ],
   "source": [
    "tfidf_data_for_evaluation[0]"
   ]
  },
  {
   "cell_type": "code",
   "execution_count": 151,
   "id": "b4df300b-0d76-456d-a6e2-ecd458b0099c",
   "metadata": {
    "scrolled": true
   },
   "outputs": [
    {
     "name": "stderr",
     "output_type": "stream",
     "text": [
      "[ \u001b[35m🤖 Data\u001b[33mDr\u001b[31mea\u001b[35mmer\u001b[0m 💤 ] Initialized. 🚀 Dreaming to folder: .datadreamer/evaluate_style_features_in_text/openai:gpt-3.5-turbo/evaluate_llm_cont_rep\n",
      "[ \u001b[35m🤖 Data\u001b[33mDr\u001b[31mea\u001b[35mmer\u001b[0m 💤 ] Step 'experiment-1.2-dataset' was previously run and saved, but was outdated. 😞\n",
      "[ \u001b[35m🤖 Data\u001b[33mDr\u001b[31mea\u001b[35mmer\u001b[0m 💤 ] Step 'experiment-1.2-dataset' is running. ⏳\n",
      "[ \u001b[35m🤖 Data\u001b[33mDr\u001b[31mea\u001b[35mmer\u001b[0m 💤 ] Step 'experiment-1.2-dataset' finished and is saved to disk. 🎉\n",
      "/home/ma4608/style_generation_pipeline/src-ipynb/../../style_generation_pipeline/styles/__init__.py:584: UserWarning: You did not specify `total_num_rows`, so we cannot automatically update the progress % for this step. Either specify map(..., total_num_rows=#) or, to disable this warning, specify map(.., auto_progress = False)\n",
      "  ds = ds.map(lambda row: {\n",
      "[ \u001b[35m🤖 Data\u001b[33mDr\u001b[31mea\u001b[35mmer\u001b[0m 💤 ] Step 'experiment-1.2-dataset (map)' is running. ⏳\n",
      "[ \u001b[35m🤖 Data\u001b[33mDr\u001b[31mea\u001b[35mmer\u001b[0m 💤 ] Step 'experiment-1.2-dataset (map)' will run lazily. 🥱\n",
      "[ \u001b[35m🤖 Data\u001b[33mDr\u001b[31mea\u001b[35mmer\u001b[0m 💤 ] Step 'rate applicability of features in texts' was previously run and saved, but was outdated. 😞\n",
      "[ \u001b[35m🤖 Data\u001b[33mDr\u001b[31mea\u001b[35mmer\u001b[0m 💤 ] Step 'rate applicability of features in texts' is running. ⏳\n",
      "[ \u001b[35m🤖 Data\u001b[33mDr\u001b[31mea\u001b[35mmer\u001b[0m 💤 ] Step 'experiment-1.2-dataset (map)' finished running lazily. 🎉\n",
      "[ \u001b[35m🤖 Data\u001b[33mDr\u001b[31mea\u001b[35mmer\u001b[0m 💤 ] Step 'rate applicability of features in texts' finished and is saved to disk. 🎉\n",
      "[ \u001b[35m🤖 Data\u001b[33mDr\u001b[31mea\u001b[35mmer\u001b[0m 💤 ] Step 'rate applicability of features in texts (select_columns)' is running. ⏳\n",
      "[ \u001b[35m🤖 Data\u001b[33mDr\u001b[31mea\u001b[35mmer\u001b[0m 💤 ] Step 'rate applicability of features in texts (select_columns)' finished running lazily. 🎉\n",
      "/home/ma4608/style_generation_pipeline/src-ipynb/../../style_generation_pipeline/styles/__init__.py:611: UserWarning: You did not specify `total_num_rows`, so we cannot automatically update the progress % for this step. Either specify map(..., total_num_rows=#) or, to disable this warning, specify map(.., auto_progress = False)\n",
      "  ds_desc = ds_desc.map(lambda row: {\"chatgpt-scorings\": parse_output(row['generations'])})\n",
      "[ \u001b[35m🤖 Data\u001b[33mDr\u001b[31mea\u001b[35mmer\u001b[0m 💤 ] Step 'rate applicability of features in texts (select_columns) (map)' is running. ⏳\n",
      "[ \u001b[35m🤖 Data\u001b[33mDr\u001b[31mea\u001b[35mmer\u001b[0m 💤 ] Step 'rate applicability of features in texts (select_columns) (map)' will run lazily. 🥱\n",
      "[ \u001b[35m🤖 Data\u001b[33mDr\u001b[31mea\u001b[35mmer\u001b[0m 💤 ] Step 'zipped(experiment-1.2-dataset (map), rate applicability of features in texts (select_columns) (map))' is running. ⏳\n",
      "/mnt/swordfish-pool2/milad/conda-envs/gpu-env/lib/python3.11/site-packages/datadreamer/steps/step_operations.py:367: UserWarning: You did not specify `total_num_rows`, so we cannot automatically update the progress % for this step. Either specify LazyRows(..., total_num_rows=#) or, to disable this warning, specify LazyRows(.., auto_progress = False)\n",
      "  return LazyRows(\n",
      "[ \u001b[35m🤖 Data\u001b[33mDr\u001b[31mea\u001b[35mmer\u001b[0m 💤 ] Step 'zipped(experiment-1.2-dataset (map), rate applicability of features in texts (select_columns) (map))' will run lazily. 🥱\n",
      "[ \u001b[35m🤖 Data\u001b[33mDr\u001b[31mea\u001b[35mmer\u001b[0m 💤 ] Step 'rate applicability of features in texts (select_columns) (map)' finished running lazily. 🎉\n",
      "[ \u001b[35m🤖 Data\u001b[33mDr\u001b[31mea\u001b[35mmer\u001b[0m 💤 ] Step 'zipped(experiment-1.2-dataset (map), rate applicability of features in texts (select_columns) (map))' finished running lazily. 🎉\n",
      "[ \u001b[35m🤖 Data\u001b[33mDr\u001b[31mea\u001b[35mmer\u001b[0m 💤 ] Done. ✨ Results in folder: .datadreamer/evaluate_style_features_in_text/openai:gpt-3.5-turbo/evaluate_llm_cont_rep\n"
     ]
    }
   ],
   "source": [
    "#tfidf_results = style_generator.evaluate_style_features_in_text(data_for_evaluation[:20], 'evaluate_llm_tfidf_rep')\n",
    "con_results = style_generator.evaluate_style_features_in_text(cont_data_for_evaluation[:20], 'evaluate_llm_cont_rep')"
   ]
  },
  {
   "cell_type": "code",
   "execution_count": 8,
   "id": "5c7ea1be-80df-488c-a04e-d7afff4ad196",
   "metadata": {
    "scrolled": true
   },
   "outputs": [
    {
     "ename": "NameError",
     "evalue": "name 'tfidf_results' is not defined",
     "output_type": "error",
     "traceback": [
      "\u001b[0;31m---------------------------------------------------------------------------\u001b[0m",
      "\u001b[0;31mNameError\u001b[0m                                 Traceback (most recent call last)",
      "Cell \u001b[0;32mIn[8], line 1\u001b[0m\n\u001b[0;32m----> 1\u001b[0m \u001b[43mtfidf_results\u001b[49m[[\u001b[38;5;124m'\u001b[39m\u001b[38;5;124mfullText\u001b[39m\u001b[38;5;124m'\u001b[39m, \u001b[38;5;124m'\u001b[39m\u001b[38;5;124mdescriptive_feats\u001b[39m\u001b[38;5;124m'\u001b[39m, \u001b[38;5;124m'\u001b[39m\u001b[38;5;124mdistractive_feats\u001b[39m\u001b[38;5;124m'\u001b[39m]]\u001b[38;5;241m.\u001b[39mhead(n\u001b[38;5;241m=\u001b[39m\u001b[38;5;241m10\u001b[39m)\n",
      "\u001b[0;31mNameError\u001b[0m: name 'tfidf_results' is not defined"
     ]
    }
   ],
   "source": [
    "tfidf_results[['fullText', 'descriptive_feats', 'distractive_feats']].head(n=10)"
   ]
  },
  {
   "cell_type": "code",
   "execution_count": 149,
   "id": "8a0a57b2-ad65-4ec3-920d-e77a6c19a07d",
   "metadata": {
    "scrolled": true
   },
   "outputs": [
    {
     "data": {
      "text/html": [
       "<div>\n",
       "<style scoped>\n",
       "    .dataframe tbody tr th:only-of-type {\n",
       "        vertical-align: middle;\n",
       "    }\n",
       "\n",
       "    .dataframe tbody tr th {\n",
       "        vertical-align: top;\n",
       "    }\n",
       "\n",
       "    .dataframe thead th {\n",
       "        text-align: right;\n",
       "    }\n",
       "</style>\n",
       "<table border=\"1\" class=\"dataframe\">\n",
       "  <thead>\n",
       "    <tr style=\"text-align: right;\">\n",
       "      <th></th>\n",
       "      <th>all_features</th>\n",
       "      <th>prompts</th>\n",
       "      <th>generations</th>\n",
       "      <th>chatgpt-scorings</th>\n",
       "    </tr>\n",
       "  </thead>\n",
       "  <tbody>\n",
       "    <tr>\n",
       "      <th>0</th>\n",
       "      <td>[transitional elements are used, the author maintains a neutral tone in their work, the author maintains a professional tone in their work, the author skillfully incorporates transitional elements for smooth idea connections, The writer uses sentence length variation for visual impact., repetition is used, The writer uses varied sentence lengths for a smooth flow., the author uses a formal tone, the author uses simple sentence structures, the author uses various sentence structures in their work]</td>\n",
       "      <td>Input: Text: For the electronics sector, the development of optical fibers has been transformative. Due to their ability to transmit data over long distances more quickly and reliably, they have grown to be an essential part of contemporary communication systems. We will look at several ways optical fibers have helped the electronics industry in this article.\\n  What exactly are optical fibers?\\n  Long-distance transmission of light signals is done using optical fibers, which are thin, flexible strands of glass or plastic. An optical fiber's core is made of a superior, ultra-pure glass substance that can transmit light with little loss. Total internal reflection is the process by which the light travels through the fiber by repeatedly hitting the walls of the core.\\n  Benefits of optical fibers.\\n  Optic fibers have a number of benefits over conventional copper wires. First off, they have much greater speed and range than copper wires for data transmission. Second, optical fibers are resistant to electromagnetic interference, which can result in transmission errors and data loss. Thirdly, optical fibers are easier to install and maintain than copper wires because they are much thinner and lighter.\\n  The Electronics Industry and Optical Fibers.\\n  1. Telecommunications.\\n  Telecommunications is one of the main uses of optical fibers. Both domestically and internationally, they are utilized to send voice, data, and video signals over long distances. High-speed internet, video conferencing, and other applications that need quick and dependable data transmission have all been made possible by optical fibers.\\n  2. Imaging techniques for health care.\\n  Medical imaging has been transformed by optical fibers as well. They are utilized in endoscopes, which are medical tools that let doctors examine the inside of patients without requiring invasive surgery. The fibers are used to send images back to the doctor and transmit light into the body, illuminating the area being examined.\\n  3. Sensors.\\n  Sensors used in a variety of applications, from industrial automation to environmental monitoring, also use optical fibers. The fibers can be used to track variations in pressure, temperature, and other physical variables. Additionally, they are utilized in optical fiber gyroscopes, which are found in navigational systems.\\n  4. Military and aviation.\\n  Optical fibers are used in the aerospace and defense sectors. They enable dependable data transmission in challenging environments and are used in communication systems on airplanes, satellites, and other military vehicles. Additionally, optical fibers are utilized in sensors for pressure and temperature changes, which are crucial in aerospace applications.\\n  Optical fibers have, in summary, had a huge impact on the electronics sector. They have not only revolutionized aeronautical and military applications but also made it feasible for faster and more dependable data transfer across large distances. Given the increasing demand for high-speed data transmission, it is clear that optical fibers will remain crucial in determining the direction of the electronics industry.\\n\\n Style Features:\\nfeature-1: transitional elements are used\\nfeature-2: the author maintains a neutral tone in their work\\nfeature-3: the author maintains a professional tone in their work\\nfeature-4: the author skillfully incorporates transitional elements for smooth idea connections\\nfeature-5: The writer uses sentence length variation for visual impact.\\nfeature-6: repetition is used\\nfeature-7: The writer uses varied sentence lengths for a smooth flow.\\nfeature-8: the author uses a formal tone\\nfeature-9: the author uses simple sentence structures\\nfeature-10: the author uses various sentence structures in their work\\n\\nInstruction: You are a linguist expert. Your task is to read the text, and for each of the writing style features, give a score from 1 to 3. \\n Score 1: The feature doesn't apply anywhere in the text \\n Score 2: The feature appears somewhere in the text but not frequent \\n Score 3: The feature often appears in the text</td>\n",
       "      <td>feature-1: transitional elements are used - Score 3\\nfeature-2: the author maintains a neutral tone in their work - Score 3\\nfeature-3: the author maintains a professional tone in their work - Score 3\\nfeature-4: the author skillfully incorporates transitional elements for smooth idea connections - Score 3\\nfeature-5: The writer uses sentence length variation for visual impact - Score 3\\nfeature-6: repetition is used - Score 2\\nfeature-7: The writer uses varied sentence lengths for a smooth flow - Score 3\\nfeature-8: the author uses a formal tone - Score 3\\nfeature-9: the author uses simple sentence structures - Score 2\\nfeature-10: the author uses various sentence structures in their work - Score 3</td>\n",
       "      <td>[(transitional elements are used, 3), (the author maintains a neutral tone in their work, 3), (the author maintains a professional tone in their work, 3), (the author skillfully incorporates transitional elements for smooth idea connections, 3), (The writer uses sentence length variation for visual impact., 3), (repetition is used, 2), (The writer uses varied sentence lengths for a smooth flow., 3), (the author uses a formal tone, 3), (the author uses simple sentence structures, 2), (the author uses various sentence structures in their work, 3)]</td>\n",
       "    </tr>\n",
       "    <tr>\n",
       "      <th>1</th>\n",
       "      <td>[the author maintains a neutral tone in their work, The writer uses sentence length variation for visual impact., the author uses simple sentence structures, the author skillfully incorporates transitional elements for smooth idea connections, the author uses a formal tone, the author maintains a professional tone in their work, the author uses various sentence structures in their work, transitional elements are used, repetition is used, The writer uses varied sentence lengths for a smooth flow.]</td>\n",
       "      <td>Input: Text: There is a growing need to ensure that the advanced world is prosperous as we continue to rely more and more on innovation in our daily lives. Advanced supportability refers to the careful use of computerized resources that reduces the natural effects of advanced advancements and ensures their long-term viability. Vitality proficiency is one of the crucial facets of advanced supportability. As the demand for computerized administrations grows, so does the amount of energy needed to manage data centers and other digital infrastructure. We can reduce advanced systems' natural effects and the overall toll that using them takes on society by improving the energy efficiency of these systems.\\n  Utilizing electronic waste effectively is another crucial aspect of computer supportability. If not properly disposed of as electronic devices become outdated or reach the end of their useful lives, they may cause significant natural problems. It is possible to help reduce the amount of electronic waste that ends up in landfills by recycling and restoring old electronics. A crucial aspect of advanced supportability is the reliable use of information. Making sure that information is used in ways that are moral and respect individual security becomes increasingly important as we produce and store more data. Companies that gather and use information have a responsibility to keep it secure and to be open and honest about how it is being used.\\n  Finally, advanced supportability also takes into account how technological advances affect society. We should make sure that everyone has access to the advantages of these advancements as we became more connected through technological innovations. This includes making sure that people have access to advanced systems and services and that they are developed and used in ways that promote social justice and communication.\\n  The term \"advanced supportability\" is important because it incorporates a wide range of challenges related to the responsible deployment of advanced developments. By making digital systems more energy-efficient, cutting down on electronic waste, encouraging moral data use, and assuring social value in digital access, we can make the digital world run more economically. We must keep placing a high priority on computerized supportability as innovation develops if we want to guarantee that our sophisticated frameworks and frameworks are long-lasting.\\n\\n Style Features:\\nfeature-1: the author maintains a neutral tone in their work\\nfeature-2: The writer uses sentence length variation for visual impact.\\nfeature-3: the author uses simple sentence structures\\nfeature-4: the author skillfully incorporates transitional elements for smooth idea connections\\nfeature-5: the author uses a formal tone\\nfeature-6: the author maintains a professional tone in their work\\nfeature-7: the author uses various sentence structures in their work\\nfeature-8: transitional elements are used\\nfeature-9: repetition is used\\nfeature-10: The writer uses varied sentence lengths for a smooth flow.\\n\\nInstruction: You are a linguist expert. Your task is to read the text, and for each of the writing style features, give a score from 1 to 3. \\n Score 1: The feature doesn't apply anywhere in the text \\n Score 2: The feature appears somewhere in the text but not frequent \\n Score 3: The feature often appears in the text</td>\n",
       "      <td>feature-1: 3\\nfeature-2: 3\\nfeature-3: 2\\nfeature-4: 3\\nfeature-5: 3\\nfeature-6: 3\\nfeature-7: 3\\nfeature-8: 3\\nfeature-9: 2\\nfeature-10: 3</td>\n",
       "      <td>[(the author maintains a neutral tone in their work, 3), (The writer uses sentence length variation for visual impact., 3), (the author uses simple sentence structures, 2), (the author skillfully incorporates transitional elements for smooth idea connections, 3), (the author uses a formal tone, 3), (the author maintains a professional tone in their work, 3), (the author uses various sentence structures in their work, 3), (transitional elements are used, 3), (repetition is used, 2), (The writer uses varied sentence lengths for a smooth flow., 3)]</td>\n",
       "    </tr>\n",
       "    <tr>\n",
       "      <th>2</th>\n",
       "      <td>[the author uses various sentence structures in their work, the author skillfully incorporates transitional elements for smooth idea connections, the author maintains a professional tone in their work, The writer uses sentence length variation for visual impact., The writer uses varied sentence lengths for a smooth flow., repetition is used, the author uses simple sentence structures, the author maintains a neutral tone in their work, transitional elements are used, the author uses a formal tone]</td>\n",
       "      <td>Input: Text: One of the largest transformations the internet has gone through in its fast expansion is the transition from Web 2.0 to Web 3.0. Web 3.0 is expected to take internet decentralization, autonomy, and intelligence to a new level. Features that were social and interactive made up Web 2.0. When Web 2.0 was introduced in the middle of the 2000s, it significantly altered the static, one-way web of the past. Social networking, the idea of user-generated content, and web apps that promoted user creation, sharing, and collaboration were all introduced. Web 2.0 platforms like Facebook, Twitter, and YouTube are becoming the primary means of communication and entertainment for millions of people worldwide.\\n  Web 3.0, on the other hand, is still in its infancy but promises to be a paradigm shift in how we interact with the internet. Distributed networks, decentralized applications, and artificial intelligence are the foundation of Web 3.0, also referred to as the decentralized web or semantic web. In essence, it involves a shift from centralized control to distributed autonomy. The underlying technology is one of the main differences between Web 2.0 and Web 3.0. In contrast to Web 2.0, which relied on centralized servers and databases, Web 3.0 uses distributed ledger technologies, such as blockchain, to guarantee the security and integrity of data. Users now have more control over their data thanks to the decentralization of data, which also makes it harder for hackers to compromise the system.\\n  Another distinction is the level of intelligence and communication. Social engagement and teamwork were the main focuses of Web 2.0, but AI and machine learning enhance these ideas in Web 3.0. Web 3.0 will increase user-centeredness and intelligence on the internet through personalized and intelligent applications that can learn from user behavior and adapt to their preferences, the way we do online commerce will likewise change with Web 3.0. The usage of middlemen like banks or payment processors is no longer necessary thanks to blockchain technology. Reduced transaction costs as a result make the financial system more open, effective, and safe.\\n  In summary, Web 2.0 and Web 3.0 represent two distinct internet eras, with Web 3.0 presenting the possibility of being a significant advance in terms of decentralization, autonomy, and intelligence. While Web 2.0 revolutionized how we collaborate and communicate, Web 3.0 has the potential to change how we conduct business, engage in social interaction, and produce. It's exciting to see what new advancements Web 3.0 will bring as the internet continues to develop.\\n\\n Style Features:\\nfeature-1: the author uses various sentence structures in their work\\nfeature-2: the author skillfully incorporates transitional elements for smooth idea connections\\nfeature-3: the author maintains a professional tone in their work\\nfeature-4: The writer uses sentence length variation for visual impact.\\nfeature-5: The writer uses varied sentence lengths for a smooth flow.\\nfeature-6: repetition is used\\nfeature-7: the author uses simple sentence structures\\nfeature-8: the author maintains a neutral tone in their work\\nfeature-9: transitional elements are used\\nfeature-10: the author uses a formal tone\\n\\nInstruction: You are a linguist expert. Your task is to read the text, and for each of the writing style features, give a score from 1 to 3. \\n Score 1: The feature doesn't apply anywhere in the text \\n Score 2: The feature appears somewhere in the text but not frequent \\n Score 3: The feature often appears in the text</td>\n",
       "      <td>feature-1: the author uses various sentence structures in their work - Score 3\\nfeature-2: the author skillfully incorporates transitional elements for smooth idea connections - Score 3\\nfeature-3: the author maintains a professional tone in their work - Score 3\\nfeature-4: The writer uses sentence length variation for visual impact - Score 3\\nfeature-5: The writer uses varied sentence lengths for a smooth flow - Score 3\\nfeature-6: repetition is used - Score 2\\nfeature-7: the author uses simple sentence structures - Score 2\\nfeature-8: the author maintains a neutral tone in their work - Score 3\\nfeature-9: transitional elements are used - Score 3\\nfeature-10: the author uses a formal tone - Score 3</td>\n",
       "      <td>[(the author uses various sentence structures in their work, 3), (the author skillfully incorporates transitional elements for smooth idea connections, 3), (the author maintains a professional tone in their work, 3), (The writer uses sentence length variation for visual impact., 3), (The writer uses varied sentence lengths for a smooth flow., 3), (repetition is used, 2), (the author uses simple sentence structures, 2), (the author maintains a neutral tone in their work, 3), (transitional elements are used, 3), (the author uses a formal tone, 3)]</td>\n",
       "    </tr>\n",
       "    <tr>\n",
       "      <th>3</th>\n",
       "      <td>[The writer uses varied sentence lengths for a smooth flow., the author uses various sentence structures in their work, the author skillfully incorporates transitional elements for smooth idea connections, The writer uses sentence length variation for visual impact., the author uses simple sentence structures, transitional elements are used, the author maintains a professional tone in their work, repetition is used, the author maintains a neutral tone in their work, the author uses a formal tone]</td>\n",
       "      <td>Input: Text: The term \"sub-C engineering\" describes the design of parts that can function at depths in the ocean. These parts must be made to withstand the harsh underwater conditions, such as high pressure, saline temperatures, and corrosion. Sub C engineering is a specialized field that necessitates in-depth expertise in marine engineering and materials science. Designing and building underwater cables is one of the most important aspects of sub-C engineering. These cables are used to transmit information between various underwater systems, such as sensors, cameras, and robotic vehicles, as well as power and control signals. The cables must be strong, impervious to corrosion, and capable of withstanding the intense pressure found in the deep ocean.\\n  The development of underwater vehicles is a key component of sub-C engineering. Exploration, research, and business operations are just a few of the uses for these vehicles. In order to provide the necessary propulsion and maneuverability, Sub C engineers must create vehicles that can withstand the intense pressures and temperatures of the deep ocean. The creation of underwater structures is another aspect of sub-C engineering. Oil rigs, pipelines, and habitats for research and exploration beneath the sea are some of these structures. Strong currents, high pressure, and a wide range of temperatures found underwater must all be able to be endured by the structures.\\n  Engineers need to have a solid grasp of the fundamentals of marine engineering and materials science in order to be successful in sub-C engineering. They need to have the ability to work with a variety of materials, such as metals, polymers, and ceramics, and they need to be able to design parts that can withstand the particular difficulties of the underwater environment.\\n  Sub C engineers need to be highly skilled in both communication and problem-solving in addition to their technical abilities. In order to create creative responses to challenging issues, they must be able to collaborate with other scientists and engineers.\\n  Sub C engineering, as a whole, is a crucial field that is essential to the study of and use of the deep ocean. Sub C engineers are assisting in releasing the ocean's potential for scientific study, business operations, and environmental monitoring through the design and construction of strong and dependable underwater components and structures.\\n  Sub C engineering, however, has the potential to harm the environment just like any other human activity. Natural processes and marine ecosystems can be harmed by the development and use of underwater buildings and vehicles. Sub C engineers must collaborate closely with marine biologists and other environmental specialists to develop systems that have a minimal impact on the environment in order to mitigate these risks.\\n  Sub C engineering, in conclusion, is a fascinating and challenging profession that demands a thorough understanding of marine engineering and materials science. Sub C engineers are helping to make the most of the ocean's potential for scientific study, business ventures, and environmental monitoring. They accomplish this by creating reliable and robust underwater components and structures. Sub C engineers must work closely with environmental experts to ensure that their job is completed in an environmentally acceptable manner. This will allow us to continue exploiting and exploring the deep ocean without jeopardizing its delicate ecosystems.\\n\\n Style Features:\\nfeature-1: The writer uses varied sentence lengths for a smooth flow.\\nfeature-2: the author uses various sentence structures in their work\\nfeature-3: the author skillfully incorporates transitional elements for smooth idea connections\\nfeature-4: The writer uses sentence length variation for visual impact.\\nfeature-5: the author uses simple sentence structures\\nfeature-6: transitional elements are used\\nfeature-7: the author maintains a professional tone in their work\\nfeature-8: repetition is used\\nfeature-9: the author maintains a neutral tone in their work\\nfeature-10: the author uses a formal tone\\n\\nInstruction: You are a linguist expert. Your task is to read the text, and for each of the writing style features, give a score from 1 to 3. \\n Score 1: The feature doesn't apply anywhere in the text \\n Score 2: The feature appears somewhere in the text but not frequent \\n Score 3: The feature often appears in the text</td>\n",
       "      <td>feature-1: Score 3\\nfeature-2: Score 3\\nfeature-3: Score 3\\nfeature-4: Score 2\\nfeature-5: Score 2\\nfeature-6: Score 3\\nfeature-7: Score 3\\nfeature-8: Score 2\\nfeature-9: Score 3\\nfeature-10: Score 3</td>\n",
       "      <td>[(The writer uses varied sentence lengths for a smooth flow., 3), (the author uses various sentence structures in their work, 3), (the author skillfully incorporates transitional elements for smooth idea connections, 3), (The writer uses sentence length variation for visual impact., 2), (the author uses simple sentence structures, 2), (transitional elements are used, 3), (the author maintains a professional tone in their work, 3), (repetition is used, 2), (the author maintains a neutral tone in their work, 3), (the author uses a formal tone, 3)]</td>\n",
       "    </tr>\n",
       "    <tr>\n",
       "      <th>4</th>\n",
       "      <td>[The writer uses different methods to create complex sentences., the author uses a formal tone, transitional elements are used, the author maintains a neutral tone in their work, the author uses various sentence structures in their work, the author maintains a professional tone in their work, sentence lengths are varied, the author's language style is varried, the author uses various language styles, the author uses simple sentence structures]</td>\n",
       "      <td>Input: Text: Process design, a vital component of industrial manufacturing, aims to create, develop, and optimize processes to make sure they function effectively and efficiently. The terms poll and zero are two crucial ideas that are crucial to process design. Designing reliable control systems that can regulate processes precisely requires a thorough understanding of these concepts.\\n  Transfer functions, which depict the relationship between an input signal and an output signal in a control system, have two important characteristics: poll and zero. A mathematical representation of the process by which the controller can modify the input signal to produce the desired output signal is called a transfer function. The term \"poll\" in process design describes how much a process amplifies a specific frequency of the input signal. It is, in other words, the propensity of the process to amplify or attenuate particular input frequencies. Specific frequencies are amplified by a high poll process, which is difficult to regulate. In contrast, a low poll process attenuates frequencies, which is simpler to control.\\n  Contrarily, zero designates a point where the output of the transfer function reaches or approaches zero. In the transfer function, zeros can appear in either the numerator or the denominator. The steady-state error, or the difference between the desired and actual output signals, can be reduced by placing a zero in the transfer function's numerator. A zero in the transfer function's denominator makes the system more difficult to control by raising the poll.\\n  Designing and improving control systems requires an understanding of the significance of poll and zero. The importance of poll and zero in process design is explored in the following key subtopics.\\n  1. Analysis of stability: Poll and zero are key factors in determining a control system's stability. The stability of the system is determined by where the poles and zeros are located in the transfer function. The system is stable if the poles are situated in the left half of the complex plane and the zeros in the right.\\n  2. Performance of a control system: The effectiveness of a control system is influenced by poll and zero. A high poll can cause the system to oscillate, which impairs the performance of the control system. The performance of the control system can be enhanced by a zero in the transfer function by reducing the steady-state error.\\n  3. Poll and zero are essential in the modeling of the plant. Understanding the behavior of the plant with the aid of poll and zero enables engineers to create better control systems. Engineers can better understand how to enhance the performance of the control system by modeling the plant.\\n  Last but not least, poll and zero are crucial components of process design that help engineers create better control systems. Poll and zero play a significant role in the stability and performance of the control system. It's crucial to have a firm grasp of these ideas in order to design and optimize control systems for different industrial applications.\\n\\n Style Features:\\nfeature-1: The writer uses different methods to create complex sentences.\\nfeature-2: the author uses a formal tone\\nfeature-3: transitional elements are used\\nfeature-4: the author maintains a neutral tone in their work\\nfeature-5: the author uses various sentence structures in their work\\nfeature-6: the author maintains a professional tone in their work\\nfeature-7: sentence lengths are varied\\nfeature-8: the author's language style is varried\\nfeature-9: the author uses various language styles\\nfeature-10: the author uses simple sentence structures\\n\\nInstruction: You are a linguist expert. Your task is to read the text, and for each of the writing style features, give a score from 1 to 3. \\n Score 1: The feature doesn't apply anywhere in the text \\n Score 2: The feature appears somewhere in the text but not frequent \\n Score 3: The feature often appears in the text</td>\n",
       "      <td>feature-1: Score 3\\nfeature-2: Score 3\\nfeature-3: Score 3\\nfeature-4: Score 3\\nfeature-5: Score 3\\nfeature-6: Score 3\\nfeature-7: Score 3\\nfeature-8: Score 3\\nfeature-9: Score 3\\nfeature-10: Score 2</td>\n",
       "      <td>[(The writer uses different methods to create complex sentences., 3), (the author uses a formal tone, 3), (transitional elements are used, 3), (the author maintains a neutral tone in their work, 3), (the author uses various sentence structures in their work, 3), (the author maintains a professional tone in their work, 3), (sentence lengths are varied, 3), (the author's language style is varried, 3), (the author uses various language styles, 3), (the author uses simple sentence structures, 2)]</td>\n",
       "    </tr>\n",
       "  </tbody>\n",
       "</table>\n",
       "</div>"
      ],
      "text/plain": [
       "                                                                                                                                                                                                                                                                                                                                                                                                                                                                                                            all_features  \\\n",
       "0  [transitional elements are used, the author maintains a neutral tone in their work, the author maintains a professional tone in their work, the author skillfully incorporates transitional elements for smooth idea connections, The writer uses sentence length variation for visual impact., repetition is used, The writer uses varied sentence lengths for a smooth flow., the author uses a formal tone, the author uses simple sentence structures, the author uses various sentence structures in their work]   \n",
       "1  [the author maintains a neutral tone in their work, The writer uses sentence length variation for visual impact., the author uses simple sentence structures, the author skillfully incorporates transitional elements for smooth idea connections, the author uses a formal tone, the author maintains a professional tone in their work, the author uses various sentence structures in their work, transitional elements are used, repetition is used, The writer uses varied sentence lengths for a smooth flow.]   \n",
       "2  [the author uses various sentence structures in their work, the author skillfully incorporates transitional elements for smooth idea connections, the author maintains a professional tone in their work, The writer uses sentence length variation for visual impact., The writer uses varied sentence lengths for a smooth flow., repetition is used, the author uses simple sentence structures, the author maintains a neutral tone in their work, transitional elements are used, the author uses a formal tone]   \n",
       "3  [The writer uses varied sentence lengths for a smooth flow., the author uses various sentence structures in their work, the author skillfully incorporates transitional elements for smooth idea connections, The writer uses sentence length variation for visual impact., the author uses simple sentence structures, transitional elements are used, the author maintains a professional tone in their work, repetition is used, the author maintains a neutral tone in their work, the author uses a formal tone]   \n",
       "4                                                        [The writer uses different methods to create complex sentences., the author uses a formal tone, transitional elements are used, the author maintains a neutral tone in their work, the author uses various sentence structures in their work, the author maintains a professional tone in their work, sentence lengths are varied, the author's language style is varried, the author uses various language styles, the author uses simple sentence structures]   \n",
       "\n",
       "                                                                                                                                                                                                                                                                                                                                                                                                                                                                                                                                                                                                                                                                                                                                                                                                                                                                                                                                                                                                                                                                                                                                                                                                                                                                                                                                                                                                                                                                                                                                                                                                                                                                                                                                                                                                                                                                                                                                                                                                                                                                                                                                                                                                                                                                                                                                                                                                                                                                                                                                                                                                                                                                                                                                                                                                                                                                                                                                                                                                                                                                                                                                                                                                                                                                                                                                                                                                                                                                                                                                                                                                                                                                                                                                                                                                                                                                                                                                                                                                                                                                                                                                                                                                                                                                                                                                                                                                                                                                                                                                                                                                                                        prompts  \\\n",
       "0                                                                                                                                                                                                                                                                                                                                                      Input: Text: For the electronics sector, the development of optical fibers has been transformative. Due to their ability to transmit data over long distances more quickly and reliably, they have grown to be an essential part of contemporary communication systems. We will look at several ways optical fibers have helped the electronics industry in this article.\\n  What exactly are optical fibers?\\n  Long-distance transmission of light signals is done using optical fibers, which are thin, flexible strands of glass or plastic. An optical fiber's core is made of a superior, ultra-pure glass substance that can transmit light with little loss. Total internal reflection is the process by which the light travels through the fiber by repeatedly hitting the walls of the core.\\n  Benefits of optical fibers.\\n  Optic fibers have a number of benefits over conventional copper wires. First off, they have much greater speed and range than copper wires for data transmission. Second, optical fibers are resistant to electromagnetic interference, which can result in transmission errors and data loss. Thirdly, optical fibers are easier to install and maintain than copper wires because they are much thinner and lighter.\\n  The Electronics Industry and Optical Fibers.\\n  1. Telecommunications.\\n  Telecommunications is one of the main uses of optical fibers. Both domestically and internationally, they are utilized to send voice, data, and video signals over long distances. High-speed internet, video conferencing, and other applications that need quick and dependable data transmission have all been made possible by optical fibers.\\n  2. Imaging techniques for health care.\\n  Medical imaging has been transformed by optical fibers as well. They are utilized in endoscopes, which are medical tools that let doctors examine the inside of patients without requiring invasive surgery. The fibers are used to send images back to the doctor and transmit light into the body, illuminating the area being examined.\\n  3. Sensors.\\n  Sensors used in a variety of applications, from industrial automation to environmental monitoring, also use optical fibers. The fibers can be used to track variations in pressure, temperature, and other physical variables. Additionally, they are utilized in optical fiber gyroscopes, which are found in navigational systems.\\n  4. Military and aviation.\\n  Optical fibers are used in the aerospace and defense sectors. They enable dependable data transmission in challenging environments and are used in communication systems on airplanes, satellites, and other military vehicles. Additionally, optical fibers are utilized in sensors for pressure and temperature changes, which are crucial in aerospace applications.\\n  Optical fibers have, in summary, had a huge impact on the electronics sector. They have not only revolutionized aeronautical and military applications but also made it feasible for faster and more dependable data transfer across large distances. Given the increasing demand for high-speed data transmission, it is clear that optical fibers will remain crucial in determining the direction of the electronics industry.\\n\\n Style Features:\\nfeature-1: transitional elements are used\\nfeature-2: the author maintains a neutral tone in their work\\nfeature-3: the author maintains a professional tone in their work\\nfeature-4: the author skillfully incorporates transitional elements for smooth idea connections\\nfeature-5: The writer uses sentence length variation for visual impact.\\nfeature-6: repetition is used\\nfeature-7: The writer uses varied sentence lengths for a smooth flow.\\nfeature-8: the author uses a formal tone\\nfeature-9: the author uses simple sentence structures\\nfeature-10: the author uses various sentence structures in their work\\n\\nInstruction: You are a linguist expert. Your task is to read the text, and for each of the writing style features, give a score from 1 to 3. \\n Score 1: The feature doesn't apply anywhere in the text \\n Score 2: The feature appears somewhere in the text but not frequent \\n Score 3: The feature often appears in the text   \n",
       "1                                                                                                                                                                                                                                                                                                                                                                                                                                                                                                                                                                                                                                                                                                                                                                                                                                                                                                                                                                                                                                                                                                       Input: Text: There is a growing need to ensure that the advanced world is prosperous as we continue to rely more and more on innovation in our daily lives. Advanced supportability refers to the careful use of computerized resources that reduces the natural effects of advanced advancements and ensures their long-term viability. Vitality proficiency is one of the crucial facets of advanced supportability. As the demand for computerized administrations grows, so does the amount of energy needed to manage data centers and other digital infrastructure. We can reduce advanced systems' natural effects and the overall toll that using them takes on society by improving the energy efficiency of these systems.\\n  Utilizing electronic waste effectively is another crucial aspect of computer supportability. If not properly disposed of as electronic devices become outdated or reach the end of their useful lives, they may cause significant natural problems. It is possible to help reduce the amount of electronic waste that ends up in landfills by recycling and restoring old electronics. A crucial aspect of advanced supportability is the reliable use of information. Making sure that information is used in ways that are moral and respect individual security becomes increasingly important as we produce and store more data. Companies that gather and use information have a responsibility to keep it secure and to be open and honest about how it is being used.\\n  Finally, advanced supportability also takes into account how technological advances affect society. We should make sure that everyone has access to the advantages of these advancements as we became more connected through technological innovations. This includes making sure that people have access to advanced systems and services and that they are developed and used in ways that promote social justice and communication.\\n  The term \"advanced supportability\" is important because it incorporates a wide range of challenges related to the responsible deployment of advanced developments. By making digital systems more energy-efficient, cutting down on electronic waste, encouraging moral data use, and assuring social value in digital access, we can make the digital world run more economically. We must keep placing a high priority on computerized supportability as innovation develops if we want to guarantee that our sophisticated frameworks and frameworks are long-lasting.\\n\\n Style Features:\\nfeature-1: the author maintains a neutral tone in their work\\nfeature-2: The writer uses sentence length variation for visual impact.\\nfeature-3: the author uses simple sentence structures\\nfeature-4: the author skillfully incorporates transitional elements for smooth idea connections\\nfeature-5: the author uses a formal tone\\nfeature-6: the author maintains a professional tone in their work\\nfeature-7: the author uses various sentence structures in their work\\nfeature-8: transitional elements are used\\nfeature-9: repetition is used\\nfeature-10: The writer uses varied sentence lengths for a smooth flow.\\n\\nInstruction: You are a linguist expert. Your task is to read the text, and for each of the writing style features, give a score from 1 to 3. \\n Score 1: The feature doesn't apply anywhere in the text \\n Score 2: The feature appears somewhere in the text but not frequent \\n Score 3: The feature often appears in the text   \n",
       "2                                                                                                                                                                                                                                                                                                                                                                                                                                                                                                                                                                                                                                                                                                                                                                                                                                                                                         Input: Text: One of the largest transformations the internet has gone through in its fast expansion is the transition from Web 2.0 to Web 3.0. Web 3.0 is expected to take internet decentralization, autonomy, and intelligence to a new level. Features that were social and interactive made up Web 2.0. When Web 2.0 was introduced in the middle of the 2000s, it significantly altered the static, one-way web of the past. Social networking, the idea of user-generated content, and web apps that promoted user creation, sharing, and collaboration were all introduced. Web 2.0 platforms like Facebook, Twitter, and YouTube are becoming the primary means of communication and entertainment for millions of people worldwide.\\n  Web 3.0, on the other hand, is still in its infancy but promises to be a paradigm shift in how we interact with the internet. Distributed networks, decentralized applications, and artificial intelligence are the foundation of Web 3.0, also referred to as the decentralized web or semantic web. In essence, it involves a shift from centralized control to distributed autonomy. The underlying technology is one of the main differences between Web 2.0 and Web 3.0. In contrast to Web 2.0, which relied on centralized servers and databases, Web 3.0 uses distributed ledger technologies, such as blockchain, to guarantee the security and integrity of data. Users now have more control over their data thanks to the decentralization of data, which also makes it harder for hackers to compromise the system.\\n  Another distinction is the level of intelligence and communication. Social engagement and teamwork were the main focuses of Web 2.0, but AI and machine learning enhance these ideas in Web 3.0. Web 3.0 will increase user-centeredness and intelligence on the internet through personalized and intelligent applications that can learn from user behavior and adapt to their preferences, the way we do online commerce will likewise change with Web 3.0. The usage of middlemen like banks or payment processors is no longer necessary thanks to blockchain technology. Reduced transaction costs as a result make the financial system more open, effective, and safe.\\n  In summary, Web 2.0 and Web 3.0 represent two distinct internet eras, with Web 3.0 presenting the possibility of being a significant advance in terms of decentralization, autonomy, and intelligence. While Web 2.0 revolutionized how we collaborate and communicate, Web 3.0 has the potential to change how we conduct business, engage in social interaction, and produce. It's exciting to see what new advancements Web 3.0 will bring as the internet continues to develop.\\n\\n Style Features:\\nfeature-1: the author uses various sentence structures in their work\\nfeature-2: the author skillfully incorporates transitional elements for smooth idea connections\\nfeature-3: the author maintains a professional tone in their work\\nfeature-4: The writer uses sentence length variation for visual impact.\\nfeature-5: The writer uses varied sentence lengths for a smooth flow.\\nfeature-6: repetition is used\\nfeature-7: the author uses simple sentence structures\\nfeature-8: the author maintains a neutral tone in their work\\nfeature-9: transitional elements are used\\nfeature-10: the author uses a formal tone\\n\\nInstruction: You are a linguist expert. Your task is to read the text, and for each of the writing style features, give a score from 1 to 3. \\n Score 1: The feature doesn't apply anywhere in the text \\n Score 2: The feature appears somewhere in the text but not frequent \\n Score 3: The feature often appears in the text   \n",
       "3  Input: Text: The term \"sub-C engineering\" describes the design of parts that can function at depths in the ocean. These parts must be made to withstand the harsh underwater conditions, such as high pressure, saline temperatures, and corrosion. Sub C engineering is a specialized field that necessitates in-depth expertise in marine engineering and materials science. Designing and building underwater cables is one of the most important aspects of sub-C engineering. These cables are used to transmit information between various underwater systems, such as sensors, cameras, and robotic vehicles, as well as power and control signals. The cables must be strong, impervious to corrosion, and capable of withstanding the intense pressure found in the deep ocean.\\n  The development of underwater vehicles is a key component of sub-C engineering. Exploration, research, and business operations are just a few of the uses for these vehicles. In order to provide the necessary propulsion and maneuverability, Sub C engineers must create vehicles that can withstand the intense pressures and temperatures of the deep ocean. The creation of underwater structures is another aspect of sub-C engineering. Oil rigs, pipelines, and habitats for research and exploration beneath the sea are some of these structures. Strong currents, high pressure, and a wide range of temperatures found underwater must all be able to be endured by the structures.\\n  Engineers need to have a solid grasp of the fundamentals of marine engineering and materials science in order to be successful in sub-C engineering. They need to have the ability to work with a variety of materials, such as metals, polymers, and ceramics, and they need to be able to design parts that can withstand the particular difficulties of the underwater environment.\\n  Sub C engineers need to be highly skilled in both communication and problem-solving in addition to their technical abilities. In order to create creative responses to challenging issues, they must be able to collaborate with other scientists and engineers.\\n  Sub C engineering, as a whole, is a crucial field that is essential to the study of and use of the deep ocean. Sub C engineers are assisting in releasing the ocean's potential for scientific study, business operations, and environmental monitoring through the design and construction of strong and dependable underwater components and structures.\\n  Sub C engineering, however, has the potential to harm the environment just like any other human activity. Natural processes and marine ecosystems can be harmed by the development and use of underwater buildings and vehicles. Sub C engineers must collaborate closely with marine biologists and other environmental specialists to develop systems that have a minimal impact on the environment in order to mitigate these risks.\\n  Sub C engineering, in conclusion, is a fascinating and challenging profession that demands a thorough understanding of marine engineering and materials science. Sub C engineers are helping to make the most of the ocean's potential for scientific study, business ventures, and environmental monitoring. They accomplish this by creating reliable and robust underwater components and structures. Sub C engineers must work closely with environmental experts to ensure that their job is completed in an environmentally acceptable manner. This will allow us to continue exploiting and exploring the deep ocean without jeopardizing its delicate ecosystems.\\n\\n Style Features:\\nfeature-1: The writer uses varied sentence lengths for a smooth flow.\\nfeature-2: the author uses various sentence structures in their work\\nfeature-3: the author skillfully incorporates transitional elements for smooth idea connections\\nfeature-4: The writer uses sentence length variation for visual impact.\\nfeature-5: the author uses simple sentence structures\\nfeature-6: transitional elements are used\\nfeature-7: the author maintains a professional tone in their work\\nfeature-8: repetition is used\\nfeature-9: the author maintains a neutral tone in their work\\nfeature-10: the author uses a formal tone\\n\\nInstruction: You are a linguist expert. Your task is to read the text, and for each of the writing style features, give a score from 1 to 3. \\n Score 1: The feature doesn't apply anywhere in the text \\n Score 2: The feature appears somewhere in the text but not frequent \\n Score 3: The feature often appears in the text   \n",
       "4                                                                                                                                                                                                                                                                                                                                                                                                                                                                            Input: Text: Process design, a vital component of industrial manufacturing, aims to create, develop, and optimize processes to make sure they function effectively and efficiently. The terms poll and zero are two crucial ideas that are crucial to process design. Designing reliable control systems that can regulate processes precisely requires a thorough understanding of these concepts.\\n  Transfer functions, which depict the relationship between an input signal and an output signal in a control system, have two important characteristics: poll and zero. A mathematical representation of the process by which the controller can modify the input signal to produce the desired output signal is called a transfer function. The term \"poll\" in process design describes how much a process amplifies a specific frequency of the input signal. It is, in other words, the propensity of the process to amplify or attenuate particular input frequencies. Specific frequencies are amplified by a high poll process, which is difficult to regulate. In contrast, a low poll process attenuates frequencies, which is simpler to control.\\n  Contrarily, zero designates a point where the output of the transfer function reaches or approaches zero. In the transfer function, zeros can appear in either the numerator or the denominator. The steady-state error, or the difference between the desired and actual output signals, can be reduced by placing a zero in the transfer function's numerator. A zero in the transfer function's denominator makes the system more difficult to control by raising the poll.\\n  Designing and improving control systems requires an understanding of the significance of poll and zero. The importance of poll and zero in process design is explored in the following key subtopics.\\n  1. Analysis of stability: Poll and zero are key factors in determining a control system's stability. The stability of the system is determined by where the poles and zeros are located in the transfer function. The system is stable if the poles are situated in the left half of the complex plane and the zeros in the right.\\n  2. Performance of a control system: The effectiveness of a control system is influenced by poll and zero. A high poll can cause the system to oscillate, which impairs the performance of the control system. The performance of the control system can be enhanced by a zero in the transfer function by reducing the steady-state error.\\n  3. Poll and zero are essential in the modeling of the plant. Understanding the behavior of the plant with the aid of poll and zero enables engineers to create better control systems. Engineers can better understand how to enhance the performance of the control system by modeling the plant.\\n  Last but not least, poll and zero are crucial components of process design that help engineers create better control systems. Poll and zero play a significant role in the stability and performance of the control system. It's crucial to have a firm grasp of these ideas in order to design and optimize control systems for different industrial applications.\\n\\n Style Features:\\nfeature-1: The writer uses different methods to create complex sentences.\\nfeature-2: the author uses a formal tone\\nfeature-3: transitional elements are used\\nfeature-4: the author maintains a neutral tone in their work\\nfeature-5: the author uses various sentence structures in their work\\nfeature-6: the author maintains a professional tone in their work\\nfeature-7: sentence lengths are varied\\nfeature-8: the author's language style is varried\\nfeature-9: the author uses various language styles\\nfeature-10: the author uses simple sentence structures\\n\\nInstruction: You are a linguist expert. Your task is to read the text, and for each of the writing style features, give a score from 1 to 3. \\n Score 1: The feature doesn't apply anywhere in the text \\n Score 2: The feature appears somewhere in the text but not frequent \\n Score 3: The feature often appears in the text   \n",
       "\n",
       "                                                                                                                                                                                                                                                                                                                                                                                                                                                                                                                                                                                                                                                                                                                            generations  \\\n",
       "0  feature-1: transitional elements are used - Score 3\\nfeature-2: the author maintains a neutral tone in their work - Score 3\\nfeature-3: the author maintains a professional tone in their work - Score 3\\nfeature-4: the author skillfully incorporates transitional elements for smooth idea connections - Score 3\\nfeature-5: The writer uses sentence length variation for visual impact - Score 3\\nfeature-6: repetition is used - Score 2\\nfeature-7: The writer uses varied sentence lengths for a smooth flow - Score 3\\nfeature-8: the author uses a formal tone - Score 3\\nfeature-9: the author uses simple sentence structures - Score 2\\nfeature-10: the author uses various sentence structures in their work - Score 3   \n",
       "1                                                                                                                                                                                                                                                                                                                                                                                                                                                                                                                                                                                           feature-1: 3\\nfeature-2: 3\\nfeature-3: 2\\nfeature-4: 3\\nfeature-5: 3\\nfeature-6: 3\\nfeature-7: 3\\nfeature-8: 3\\nfeature-9: 2\\nfeature-10: 3   \n",
       "2  feature-1: the author uses various sentence structures in their work - Score 3\\nfeature-2: the author skillfully incorporates transitional elements for smooth idea connections - Score 3\\nfeature-3: the author maintains a professional tone in their work - Score 3\\nfeature-4: The writer uses sentence length variation for visual impact - Score 3\\nfeature-5: The writer uses varied sentence lengths for a smooth flow - Score 3\\nfeature-6: repetition is used - Score 2\\nfeature-7: the author uses simple sentence structures - Score 2\\nfeature-8: the author maintains a neutral tone in their work - Score 3\\nfeature-9: transitional elements are used - Score 3\\nfeature-10: the author uses a formal tone - Score 3   \n",
       "3                                                                                                                                                                                                                                                                                                                                                                                                                                                                                                                               feature-1: Score 3\\nfeature-2: Score 3\\nfeature-3: Score 3\\nfeature-4: Score 2\\nfeature-5: Score 2\\nfeature-6: Score 3\\nfeature-7: Score 3\\nfeature-8: Score 2\\nfeature-9: Score 3\\nfeature-10: Score 3   \n",
       "4                                                                                                                                                                                                                                                                                                                                                                                                                                                                                                                               feature-1: Score 3\\nfeature-2: Score 3\\nfeature-3: Score 3\\nfeature-4: Score 3\\nfeature-5: Score 3\\nfeature-6: Score 3\\nfeature-7: Score 3\\nfeature-8: Score 3\\nfeature-9: Score 3\\nfeature-10: Score 2   \n",
       "\n",
       "                                                                                                                                                                                                                                                                                                                                                                                                                                                                                                                                                          chatgpt-scorings  \n",
       "0  [(transitional elements are used, 3), (the author maintains a neutral tone in their work, 3), (the author maintains a professional tone in their work, 3), (the author skillfully incorporates transitional elements for smooth idea connections, 3), (The writer uses sentence length variation for visual impact., 3), (repetition is used, 2), (The writer uses varied sentence lengths for a smooth flow., 3), (the author uses a formal tone, 3), (the author uses simple sentence structures, 2), (the author uses various sentence structures in their work, 3)]  \n",
       "1  [(the author maintains a neutral tone in their work, 3), (The writer uses sentence length variation for visual impact., 3), (the author uses simple sentence structures, 2), (the author skillfully incorporates transitional elements for smooth idea connections, 3), (the author uses a formal tone, 3), (the author maintains a professional tone in their work, 3), (the author uses various sentence structures in their work, 3), (transitional elements are used, 3), (repetition is used, 2), (The writer uses varied sentence lengths for a smooth flow., 3)]  \n",
       "2  [(the author uses various sentence structures in their work, 3), (the author skillfully incorporates transitional elements for smooth idea connections, 3), (the author maintains a professional tone in their work, 3), (The writer uses sentence length variation for visual impact., 3), (The writer uses varied sentence lengths for a smooth flow., 3), (repetition is used, 2), (the author uses simple sentence structures, 2), (the author maintains a neutral tone in their work, 3), (transitional elements are used, 3), (the author uses a formal tone, 3)]  \n",
       "3  [(The writer uses varied sentence lengths for a smooth flow., 3), (the author uses various sentence structures in their work, 3), (the author skillfully incorporates transitional elements for smooth idea connections, 3), (The writer uses sentence length variation for visual impact., 2), (the author uses simple sentence structures, 2), (transitional elements are used, 3), (the author maintains a professional tone in their work, 3), (repetition is used, 2), (the author maintains a neutral tone in their work, 3), (the author uses a formal tone, 3)]  \n",
       "4                                                        [(The writer uses different methods to create complex sentences., 3), (the author uses a formal tone, 3), (transitional elements are used, 3), (the author maintains a neutral tone in their work, 3), (the author uses various sentence structures in their work, 3), (the author maintains a professional tone in their work, 3), (sentence lengths are varied, 3), (the author's language style is varried, 3), (the author uses various language styles, 3), (the author uses simple sentence structures, 2)]  "
      ]
     },
     "execution_count": 149,
     "metadata": {},
     "output_type": "execute_result"
    }
   ],
   "source": [
    "tfidf_results[['all_features', 'prompts', 'generations', 'chatgpt-scorings']].head()"
   ]
  },
  {
   "cell_type": "code",
   "execution_count": 147,
   "id": "643d3a9a-13b5-4e57-baf7-1d01e8e6fd9b",
   "metadata": {},
   "outputs": [
    {
     "name": "stdout",
     "output_type": "stream",
     "text": [
      "                     Mean    Median\n",
      "-----------------  ------  --------\n",
      "Descriptive feats    2.55         3\n",
      "Distracting feats    2.56         3\n",
      "0.3\n"
     ]
    }
   ],
   "source": [
    "print_eval_resutls(tfidf_results)"
   ]
  },
  {
   "cell_type": "code",
   "execution_count": 117,
   "id": "6600f9aa-6868-4829-a980-a1f452f2b88d",
   "metadata": {},
   "outputs": [
    {
     "name": "stdout",
     "output_type": "stream",
     "text": [
      "                     Mean    Median\n",
      "-----------------  ------  --------\n",
      "Descriptive feats    2.65         3\n",
      "Distracting feats    2.82         3\n",
      "0.05\n"
     ]
    }
   ],
   "source": [
    "print_eval_resutls(tfidf_results)"
   ]
  },
  {
   "cell_type": "code",
   "execution_count": 152,
   "id": "5784ffa4-7dbc-430f-9f86-bcc1824ae04b",
   "metadata": {},
   "outputs": [
    {
     "name": "stdout",
     "output_type": "stream",
     "text": [
      "                     Mean    Median\n",
      "-----------------  ------  --------\n",
      "Descriptive feats    2.1          3\n",
      "Distracting feats    2.16         3\n",
      "0.25\n"
     ]
    }
   ],
   "source": [
    "print_eval_resutls(con_results)"
   ]
  },
  {
   "cell_type": "code",
   "execution_count": 118,
   "id": "a16bbce2-ebf3-4ccc-b539-9f3faf59760d",
   "metadata": {},
   "outputs": [
    {
     "name": "stdout",
     "output_type": "stream",
     "text": [
      "                     Mean    Median\n",
      "-----------------  ------  --------\n",
      "Descriptive feats    2.75         3\n",
      "Distracting feats    2.68         3\n",
      "0.5\n"
     ]
    }
   ],
   "source": [
    "print_eval_resutls(con_results)"
   ]
  }
 ],
 "metadata": {
  "kernelspec": {
   "display_name": "Python 3 (ipykernel)",
   "language": "python",
   "name": "python3"
  },
  "language_info": {
   "codemirror_mode": {
    "name": "ipython",
    "version": 3
   },
   "file_extension": ".py",
   "mimetype": "text/x-python",
   "name": "python",
   "nbconvert_exporter": "python",
   "pygments_lexer": "ipython3",
   "version": "3.11.9"
  }
 },
 "nbformat": 4,
 "nbformat_minor": 5
}
