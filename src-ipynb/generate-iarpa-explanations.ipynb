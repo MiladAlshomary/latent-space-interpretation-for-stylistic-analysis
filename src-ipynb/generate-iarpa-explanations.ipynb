{
 "cells": [
  {
   "cell_type": "code",
   "execution_count": 26,
   "id": "8369f4ae-98b5-4462-98b3-19f707bddec3",
   "metadata": {},
   "outputs": [
    {
     "name": "stdout",
     "output_type": "stream",
     "text": [
      "The autoreload extension is already loaded. To reload it, use:\n",
      "  %reload_ext autoreload\n"
     ]
    }
   ],
   "source": [
    "%load_ext autoreload"
   ]
  },
  {
   "cell_type": "code",
   "execution_count": 27,
   "id": "5126a2e1-d75e-4235-8d21-61f6e937eeca",
   "metadata": {},
   "outputs": [],
   "source": [
    "%autoreload\n",
    "import sys\n",
    "import copy\n",
    "sys.path.append('../../style_generation_pipeline/')\n",
    "\n",
    "import generate_explanations"
   ]
  },
  {
   "cell_type": "code",
   "execution_count": 28,
   "id": "d7bbf3c4-1170-4ad2-8e9e-0e22d605e9b3",
   "metadata": {},
   "outputs": [],
   "source": [
    "import json\n",
    "import csv\n",
    "import pandas as pd\n",
    "import numpy as np\n",
    "import matplotlib.pyplot as plt\n",
    "import explanation_interfaces\n",
    "import glob\n",
    "\n",
    "pd.set_option('display.width', None)\n",
    "pd.set_option('display.max_rows', None)\n",
    "pd.set_option('display.max_columns', None)\n",
    "pd.set_option('display.max_colwidth', None)"
   ]
  },
  {
   "cell_type": "markdown",
   "id": "fc7fe565-83f8-437f-8869-a1cfba05f6ba",
   "metadata": {},
   "source": [
    "### Load data"
   ]
  },
  {
   "cell_type": "code",
   "execution_count": 29,
   "id": "0849ded5-4168-4071-817c-3db58ff2e741",
   "metadata": {},
   "outputs": [],
   "source": [
    "def generate_hiatus_explanations(path_to_input, interp_space_path, interp_space_rep_path, style_feat_clm, style_feat_summary_clm):\n",
    "    candidates_file = list(glob.glob(path_to_input + '/data/*_candidates.jsonl'))[0]\n",
    "    queries_file    = list(glob.glob(path_to_input + '/data/*_queries.jsonl'))[0]\n",
    "    grount_truth_file = list(glob.glob(path_to_input + '/groundtruth/*_groundtruth.npy'))[0]\n",
    "    q_labels_file = glob.glob(path_to_input + '/groundtruth/*_query-labels.txt')[0]\n",
    "    c_labels_file = glob.glob(path_to_input + '/groundtruth/*_candidate-labels.txt')[0]\n",
    "    \n",
    "    candidates_df = pd.read_json(candidates_file, lines=True)\n",
    "    queries_df = pd.read_json(queries_file, lines=True)\n",
    "    \n",
    "    queries_df['authorID'] = queries_df.authorIDs.apply(lambda x: x[0])\n",
    "    candidates_df['authorID'] = candidates_df.authorSetIDs.apply(lambda x: x[0])\n",
    "    \n",
    "    queries_df = queries_df.groupby('authorID').agg({'fullText': lambda x: list(x)}).reset_index()\n",
    "    candidates_df = candidates_df.groupby('authorID').agg({'fullText': lambda x: list(x)}).reset_index()\n",
    "        \n",
    "    ground_truth_assignment = np.load(open(grount_truth_file, 'rb'))\n",
    "    candidate_authors = [a[2:-3] for a in  open(c_labels_file).read().split('\\n')][:-1]\n",
    "    query_authors = [a[2:-3] for a in  open(q_labels_file).read().split('\\n')][:-1]\n",
    "\n",
    "    #print(ground_truth_assignment)\n",
    "    #print(candidate_authors)\n",
    "    #print(query_authors)\n",
    "    \n",
    "    output_json = []\n",
    "    for q_author_id in query_authors:\n",
    "    \n",
    "        q_author_documents = queries_df[queries_df.authorID == q_author_id]['fullText'].tolist()[0]\n",
    "        c_author_documents = candidates_df.fullText.tolist()\n",
    "\n",
    "        latent_rank, interp_rank, query_style_reps, query_style_reps_summ, candidates_sim_to_query_exp = generate_explanations.explain_model_prediction_over_author(model_path, interp_space_path, interp_space_rep_path, q_author_documents, c_author_documents, top_c=top_c, style_feat_clm=style_feat_clm, style_feat_summary_clm=style_feat_summary_clm)\n",
    "        explanation_tmp = copy.copy(explanation_interf)\n",
    "\n",
    "        candidates_sim_to_query_exp = np.array(candidates_sim_to_query_exp)\n",
    "        ground_truth_assignment\n",
    "        instance_json = {\n",
    "            \"Q_fullText\": \"\\n\\n\".join([\"Document {}: \\n{}\".format(i,d) for i, d in enumerate(q_author_documents)]),\n",
    "            \"Q_authorID\": q_author_id,\n",
    "            \"latent_rank\" : latent_rank.tolist(),\n",
    "            \"system_rank\" : [{\"id\": x, \"title\": 'Author {}'.format(x+1), \"body\": \"\"} for x in latent_rank.tolist()],\n",
    "            \"interp_rank\" : interp_rank.tolist(),\n",
    "            \"explanation\" : explanation_tmp\n",
    "        }\n",
    "        \n",
    "    \n",
    "        for i, s in enumerate(query_style_reps_summ):\n",
    "            explanation_tmp = explanation_tmp.replace('[style-{}]'.format(i+1), s)\n",
    "    \n",
    "        candidate_author_order = []\n",
    "        for order, c_author_id in enumerate(candidate_authors):\n",
    "            candidate_sim_to_styles = candidates_sim_to_query_exp[order]\n",
    "    \n",
    "            candidate_sim_to_styles = candidates_sim_to_query_exp[order]\n",
    "            candidate_sim_to_styles_as_color_str = ['rgb(0, {}, 0)'.format(100 * s) for s in candidate_sim_to_styles]\n",
    "            #print(candidate_sim_to_styles_as_color_str)\n",
    "            for s_id, color in enumerate(candidate_sim_to_styles_as_color_str):\n",
    "                explanation_tmp = explanation_tmp.replace('[cand-{}-style-{}]'.format(order+1, s_id+1), color)    \n",
    "    \n",
    "            instance_json['a{}_fullText'.format(order)] = \"\\n\\n\".join([\"Document {}: \\n{}\".format(i,d) for i, d in enumerate(c_author_documents[order])])\n",
    "            instance_json['a{}_authorID'.format(order)] = c_author_id\n",
    "            order+=1\n",
    "            candidate_author_order.append(candidate_authors.index(c_author_id))\n",
    "    \n",
    "        \n",
    "        #print(explanation_tmp)\n",
    "        instance_json['explanation'] = explanation_tmp\n",
    "    \n",
    "        #Find the ground-truth labels (who wrote the query document)\n",
    "        query_author_idx = query_authors.index(q_author_id)\n",
    "        candidate_atuthor_labels = [ground_truth_assignment[query_author_idx][a_idx] for a_idx in candidate_author_order]\n",
    "        gt_idx = candidate_atuthor_labels.index(1)\n",
    "        instance_json[\"gt_idx\"] = gt_idx\n",
    "        output_json.append(instance_json)\n",
    "\n",
    "    return output_json[0] # it is always one query author per instance"
   ]
  },
  {
   "cell_type": "code",
   "execution_count": 8,
   "id": "4a8278fb-fbe5-41e0-a643-e2331c3eaea8",
   "metadata": {},
   "outputs": [],
   "source": [
    "#queries.to_json('/mnt/swordfish-pool2/milad/hiatus-data/test-samples-for-explanations/hrs_06-27-24_english_explainability-example_TA2_input_queries.json')\n",
    "#candidates.to_json('/mnt/swordfish-pool2/milad/hiatus-data/test-samples-for-explanations/hrs_06-27-24_english_explainability-example_TA2_input_candidates.json')"
   ]
  },
  {
   "cell_type": "markdown",
   "id": "039cb735-0f5c-4de5-bbff-faba2a36380f",
   "metadata": {},
   "source": [
    "## Generate documents style explanations:"
   ]
  },
  {
   "cell_type": "code",
   "execution_count": 30,
   "id": "d433ae8b-db83-424a-a1bc-f087de466009",
   "metadata": {},
   "outputs": [],
   "source": [
    "model_path = 'aa_model-luar'\n",
    "explanation_interf = explanation_interfaces.exp_interface_1\n",
    "input_path = '/mnt/swordfish-pool2/milad/hiatus-data/explainability-pilot-samples/'\n",
    "top_c=3"
   ]
  },
  {
   "cell_type": "code",
   "execution_count": 31,
   "id": "10d82e2f-b0fe-40b0-8ec3-efe21a8d306a",
   "metadata": {
    "scrolled": true
   },
   "outputs": [
    {
     "name": "stdout",
     "output_type": "stream",
     "text": [
      "/mnt/swordfish-pool2/milad/hiatus-data/explainability-pilot-samples/samples_29_query_80_first/\n",
      "# clusters: 43\n",
      "# clusters: 43\n",
      "# clusters: 43\n",
      "# clusters: 43\n",
      "/mnt/swordfish-pool2/milad/hiatus-data/explainability-pilot-samples/samples_9_query_20_first/\n",
      "# clusters: 43\n",
      "# clusters: 43\n",
      "# clusters: 43\n",
      "# clusters: 43\n",
      "/mnt/swordfish-pool2/milad/hiatus-data/explainability-pilot-samples/samples_26_query_79_first/\n",
      "# clusters: 43\n",
      "# clusters: 43\n",
      "# clusters: 43\n",
      "# clusters: 43\n",
      "/mnt/swordfish-pool2/milad/hiatus-data/explainability-pilot-samples/samples_22_query_70_last/\n",
      "# clusters: 43\n",
      "# clusters: 43\n",
      "# clusters: 43\n",
      "# clusters: 43\n",
      "/mnt/swordfish-pool2/milad/hiatus-data/explainability-pilot-samples/samples_4_query_14_first/\n",
      "# clusters: 43\n",
      "# clusters: 43\n",
      "# clusters: 43\n",
      "# clusters: 43\n",
      "/mnt/swordfish-pool2/milad/hiatus-data/explainability-pilot-samples/samples_3_query_6_first/\n",
      "# clusters: 43\n",
      "# clusters: 43\n",
      "# clusters: 43\n",
      "# clusters: 43\n",
      "/mnt/swordfish-pool2/milad/hiatus-data/explainability-pilot-samples/samples_20_query_51_middle/\n",
      "# clusters: 43\n",
      "# clusters: 43\n",
      "# clusters: 43\n",
      "# clusters: 43\n",
      "/mnt/swordfish-pool2/milad/hiatus-data/explainability-pilot-samples/samples_14_query_40_last/\n",
      "# clusters: 43\n",
      "# clusters: 43\n",
      "# clusters: 43\n",
      "# clusters: 43\n"
     ]
    }
   ],
   "source": [
    "interp_space_path = '/mnt/swordfish-pool2/milad/hiatus-data/explainability_all_data/interpretable_space.pkl'\n",
    "interp_space_rep_path = '/mnt/swordfish-pool2/milad/hiatus-data/explainability_all_data/interpretable_space_representations.json'\n",
    "\n",
    "output = []\n",
    "idx=0\n",
    "for data_point in glob.glob(input_path + '*/'):\n",
    "    print(data_point)\n",
    "\n",
    "    \n",
    "    for feat_clm in ['llm_tfidf_rep', 'llm_con_rep', 'g2v_con_rep', 'g2v_tfidf_rep']:\n",
    "        instance_exp = generate_hiatus_explanations(data_point, interp_space_path, interp_space_rep_path, feat_clm, None)\n",
    "        instance_exp['source'] = feat_clm\n",
    "        output.append(instance_exp)\n",
    "\n",
    "    open(data_point + '/explanation.html', 'w').write(instance_exp['explanation'])\n",
    "    idx+=1\n",
    "    \n",
    "json.dump(output, open('/mnt/swordfish-pool2/milad/hiatus-data/explainability_all_data/explanations.json', 'w'))"
   ]
  },
  {
   "cell_type": "markdown",
   "id": "dbb4d754-7607-4371-969b-1575b517b2b0",
   "metadata": {
    "jp-MarkdownHeadingCollapsed": true
   },
   "source": [
    "## Analyze documents style description"
   ]
  },
  {
   "cell_type": "code",
   "execution_count": 4,
   "id": "335ea52d-d01e-43f9-bc3b-3135c19290a3",
   "metadata": {},
   "outputs": [],
   "source": [
    "interp_space_path = '/mnt/swordfish-pool2/milad/hiatus-data/phase_2/explainability/interpretable_space.pkl'\n",
    "model_path = 'aa_model-luar'\n",
    "explanation_interf = explanation_interfaces.exp_interface_1\n",
    "input_path = '/mnt/swordfish-pool2/milad/hiatus-data/explainability-pilot-samples/'\n",
    "top_c=3"
   ]
  },
  {
   "cell_type": "code",
   "execution_count": 5,
   "id": "753a9d29-84c5-4cf1-9bcd-4520e8aa4148",
   "metadata": {},
   "outputs": [],
   "source": [
    "path_to_input = '/mnt/swordfish-pool2/milad/hiatus-data/explainability-pilot-samples/samples_26_query_79_first/'"
   ]
  },
  {
   "cell_type": "code",
   "execution_count": 6,
   "id": "13d4e6c9-3881-4ea5-bb82-86c3c1b749c2",
   "metadata": {},
   "outputs": [],
   "source": [
    "candidates_file = list(glob.glob(path_to_input + '/data/*_candidates.jsonl'))[0]\n",
    "queries_file    = list(glob.glob(path_to_input + '/data/*_queries.jsonl'))[0]\n",
    "grount_truth_file = list(glob.glob(path_to_input + '/groundtruth/*_groundtruth.npy'))[0]\n",
    "q_labels_file = glob.glob(path_to_input + '/groundtruth/*_query-labels.txt')[0]\n",
    "c_labels_file = glob.glob(path_to_input + '/groundtruth/*_candidate-labels.txt')[0]\n",
    "\n",
    "candidates_df = pd.read_json(candidates_file, lines=True)\n",
    "queries_df = pd.read_json(queries_file, lines=True)\n",
    "\n",
    "queries_df['authorID'] = queries_df.authorIDs.apply(lambda x: x[0])\n",
    "candidates_df['authorID'] = candidates_df.authorSetIDs.apply(lambda x: x[0])\n",
    "\n",
    "queries_df = queries_df.groupby('authorID').agg({'fullText': lambda x: list(x)}).reset_index()\n",
    "candidates_df = candidates_df.groupby('authorID').agg({'fullText': lambda x: list(x)}).reset_index()\n",
    "    \n",
    "ground_truth_assignment = np.load(open(grount_truth_file, 'rb'))\n",
    "candidate_authors = [a[2:-3] for a in  open(c_labels_file).read().split('\\n')][:-1]\n",
    "query_authors = [a[2:-3] for a in  open(q_labels_file).read().split('\\n')][:-1]\n",
    "\n",
    "#print(ground_truth_assignment)\n",
    "#print(candidate_authors)\n",
    "#print(query_authors)"
   ]
  },
  {
   "cell_type": "code",
   "execution_count": 7,
   "id": "e818f7c9-a85c-4aff-b36c-80767d093b60",
   "metadata": {},
   "outputs": [
    {
     "data": {
      "text/plain": [
       "['9265b1f9-31f5-58e5-bfb7-c5979de68d47']"
      ]
     },
     "execution_count": 7,
     "metadata": {},
     "output_type": "execute_result"
    }
   ],
   "source": [
    "query_authors"
   ]
  },
  {
   "cell_type": "code",
   "execution_count": 8,
   "id": "5919e749-2f11-4240-9834-0d5ecfc3fbc2",
   "metadata": {},
   "outputs": [
    {
     "data": {
      "text/plain": [
       "['07a9a4f0-faed-9b92-fd68-8f47cdc969d5',\n",
       " 'a83b5d4d-0e79-7ee6-f61b-29b0b059f220',\n",
       " 'd53e9f35-4c07-3b87-43fc-d52e5f127c6c']"
      ]
     },
     "execution_count": 8,
     "metadata": {},
     "output_type": "execute_result"
    }
   ],
   "source": [
    "candidate_authors"
   ]
  },
  {
   "cell_type": "code",
   "execution_count": 9,
   "id": "3e15c0e7-8f2e-492e-860f-9b0ba1c32c74",
   "metadata": {},
   "outputs": [
    {
     "data": {
      "text/plain": [
       "'d53e9f35-4c07-3b87-43fc-d52e5f127c6c'"
      ]
     },
     "execution_count": 9,
     "metadata": {},
     "output_type": "execute_result"
    }
   ],
   "source": [
    "candidate_authors[-1]"
   ]
  },
  {
   "cell_type": "code",
   "execution_count": 10,
   "id": "7eedc424-9ec1-4529-94d4-e677feb2a35f",
   "metadata": {},
   "outputs": [
    {
     "data": {
      "text/plain": [
       "array([[1, 0, 0]])"
      ]
     },
     "execution_count": 10,
     "metadata": {},
     "output_type": "execute_result"
    }
   ],
   "source": [
    "ground_truth_assignment"
   ]
  },
  {
   "cell_type": "code",
   "execution_count": 11,
   "id": "4e3d386a-34c7-43c2-9334-9010e402d6a2",
   "metadata": {},
   "outputs": [],
   "source": [
    "matched_candidate_docs = candidates_df[candidates_df.authorID == '07a9a4f0-faed-9b92-fd68-8f47cdc969d5'].fullText.tolist()[0]\n",
    "other_candidate_docs = candidates_df[candidates_df.authorID != '07a9a4f0-faed-9b92-fd68-8f47cdc969d5'].fullText.tolist()[0] #just pick one other candidate author\n",
    "query_documents = queries_df.fullText.tolist()[0]"
   ]
  },
  {
   "cell_type": "code",
   "execution_count": 12,
   "id": "b9ffda1c-a8db-4aff-91ea-1138e8a51573",
   "metadata": {},
   "outputs": [
    {
     "data": {
      "text/plain": [
       "['The elves had a very distinguished and strict military system, and it included a complex training system that ensured the continued supply of experienced fighters to the army, and this system was based on the soldiers who survived the battles training the new soldiers, as the military system stipulated that the fighters who spent more than 30 years in the war should go to their homeland to train new soldiers in the use of weapons, where the soldier had to prove his competence and strength in order to have the honor of training soldiers.\\n\\n  But because of the many wars caused by <PERSON> in the first age, and the wars caused by <PERSON> in the second and third ages, where the battles lasted for months, and the siege of castles lasted for years, the elves suffered great losses in their lives, but these losses It was concentrated in the ranks of the swords and spearmen who were always forced to physically interact with the enemy forces, which exposed them to great and permanent danger, and most of them did not last 30 years to return to training new soldiers.\\n\\n  As for the archers, they used their arrows to kill the enemy from long distances, and this kept them at a safe distance, and they were able to survive for a long time, which earned them a very high experience in shooting arrows, and after that some of them would return home to train new soldiers to shoot arrows, and those survivors has 30 years of experience in shooting arrows, unlike the warriors with swords and spears, where they could not always hold out enough, because the more battles they participated in, the greater the possibility of their death, and that is why few of them were able to return to training soldiers, and most of them has no more than 10 years of experience in the battlefield.\\n\\n  This system led to the accumulation of high and deadly experiences for archers over hundreds of years, as the arrow shooters were receiving intensive training by the best archers who participated in all wars for decades, and since the elves have immortal life, this helped them a lot in training the army, and the leaders were convinced that the arrow weapon is the way to achieve victory, and it is worth mentioning that they used their magical abilities to hybridize a special type of tree to extract a special kind of flexible wood to make bows and arrows with steel heads that are able to easily pierce the shields of enemies.']"
      ]
     },
     "execution_count": 12,
     "metadata": {},
     "output_type": "execute_result"
    }
   ],
   "source": [
    "matched_candidate_docs"
   ]
  },
  {
   "cell_type": "code",
   "execution_count": 13,
   "id": "c4a9b01b-f6e6-4f31-bbaf-8b710bbcc81b",
   "metadata": {},
   "outputs": [
    {
     "data": {
      "text/plain": [
       "[\"Burning wood has been a local source of warmth for ages, however, while it may provide warmth, it is important to know that burning wood can produce harmful gases such as benzene, and other gases such as carbon monoxide and nitrogen oxides. When organic matter burns, large polycyclic aromatic compounds are released due to combustion. This occurs not only with wood, but also with any other organic matter. Understanding why benzene form in a wood fire, will require us to know what wood is, and how it burns.\\n\\n  Wood is made up of biomass (matter composed primarily of carbon, hydrogen, and oxygen). This includes things like dry grass, leaves, fibers, animal carcasses, sugar, fat, and coal etc. All of these things contain cellulose or similar molecules, which consists of long chains of aromatic rings.\\n\\n  When wood is heated up, the molecules composing it start to break apart, in the presence of oxygen, the wood will start to oxidize, this process is what we know as combustion. If there is no oxygen present, the material will gasify. At a certain temperature, a compound of big organic macromolecules is formed, which includes polycyclic aromatic compounds like benzene and its many ”cousins”. These molecules are too complex, and are so large that they can't be characterized exactly.\\n\\n  Big polycyclic molecules form when there is not enough oxygen present. They are huge and hydrophobic in nature, and agglomerate to form soot and tar. You can still find benzene in a hot fire because flames are not perfectly mixed, and you can get pockets of cold gas interspersed in a cloud of hot gas. If it is cold enough, benzene will not be decomposed.\\n\\n  When you see a wood fire, what you see are jets of hot, flammable gases shooting out of the pores of the wood. These gases ignite, not the wood itself. The mineral matter in the wood is left behind and becomes extremely hot but does not vaporize, so you still have radiant, red-hot material.\\n\\n  Benzene and other polycyclic aromatic compounds can cause health problems, so it's necessary to be aware of how they form and how to minimize exposure. By understanding what happens during combustion and pyrolysis, we can better understand the risks associated with fires and how to alleviate them.\"]"
      ]
     },
     "execution_count": 13,
     "metadata": {},
     "output_type": "execute_result"
    }
   ],
   "source": [
    "other_candidate_docs"
   ]
  },
  {
   "cell_type": "code",
   "execution_count": 14,
   "id": "333dcc91-58d4-4ce0-8646-527fb1c03360",
   "metadata": {
    "scrolled": true
   },
   "outputs": [
    {
     "data": {
      "text/plain": [
       "['The Sahara Desert extends over an area of 9,200,000 square kilometers and is the largest desert in the world. It is one of the driest regions in the world with an average of 25 mm of rain per year. In the past, it was a green area full of rivers, 3 million years ago, until climate change, and the occurrence of several major earthquakes led to the formation of new mountains that blocked the moisture of the sea, and changed the course of the rivers in them, all of this led to the cutting off of water resources and turning it into a dry area with high temperatures, unfit for most types of life.\\n\\n  Climate change is expected to continue to cause bad consequences for the Sahara desert, as studies indicate that rainfall is expected to decrease by 20 to 30 percent in the next 40 years, and this will lead to more desertification and the destruction of more green spaces on The borders of deserts in general, and will lead to an increase in the borders of the Sahara desert by no less than 7 percent.\\n\\n  Most studies indicate that the Sahara desert extends towards the south, and harnesses most of the groundwater stored at a great depth inside it, so that it cannot be used, and so far there have been no governmental efforts to stop the growth of this desert, because it is very expensive, and the region is already suffering from a scarcity of resources. water.\\n\\n  Figures indicate that the Sahara has expanded by 10 percent over the past century, but there are some studies that say that climate change and the melting of the North pole and Antarctic could raise sea levels to reach new areas and submerge a part of the Sahara desert, and help restore The region will return to life, but this matter will be disastrous for other regions of the world, even if it occurs, it will take thousands of years to repopulate vast areas in the desert, and it will not be effective because the sun is perpendicular to the desert most days of the year and causes water to evaporate there',\n",
       " 'In general, the human body does not contain any glowing substances, and the structure of the body cannot allow such reactions to occur in the teeth, because that would be dangerous and cause death.\\n\\n  There are several types of phosphorus, and not all of them glow, as there is the active and radioactive phosphorus that glows when it interacts with some other substances such as oxygen, and this process is called oxidation, where a very fast chemical reaction occurs, resulting in the discharge of the energy stored in the phosphorus atoms, and leads to the production of light, And this reaction is very clear in the dark and continues for a long time when there is enough oxygen, and within certain thermal conditions, and this reaction can also occur when adding other chemicals such as sulfur, and certain types of chlorine, and this reaction is used in Many industries, military, and pharmaceutical, and in fireworks as well.\\n\\n  The glow also results when the phosphorus is exposed to heat, such as the combustion of phosphorus, which also results in high heat and fumes containing white phosphorous oxide.\\n\\n  As for the other type of phosphorus, which is found in the teeth, it is called non-active phosphorus, its atomic number is 15 and its symbol is P in the table of chemical elements, It is a chemically inactive element, and it does not produce a glow, even if it is exposed to oxygen, and it is present in most cells of the body, especially in the skeleton, and not only in the teeth, which is a necessary component of all living cells.\\n\\n  Also, the process of phosphorous glow requires a large amount of phosphorus and oxygen, and certain conditions of temperature, and these quantities and conditions do not exist in the teeth and the human body in general, so it is impossible for the teeth to glow.\\n\\n  However, the human body adapts to the conditions in the surrounding environment, and stores phosphorous in its cells in a safe way, so that it prevents its interaction with other elements that may cause glow or fumes, because the fumes resulting from the glow of phosphorus are deadly and harmful to the human body.',\n",
       " 'To answer this question, we will have to understand two basic things:\\n\\n  The first is how life on Earth was formed, The second thing is evolution and natural selection, where genetics played an important role in shaping the vital functions of all living organisms.\\n\\n  In the beginning, life was formed in shallow waters, by collecting protein materials and amino acids on one of the tropical coasts and they were exposed to successive lightning strikes in a warm environment, and water saturated with oxygen, then the first cell was formed, and life arose in the ocean underwater, in an environment where it is difficult for light to reach them, so the primary creatures could not use light to obtain the energy needed to survive. Instead, the most logical option was metabolism, as these creatures relied on organic and chemical substances to obtain food and energy.\\n\\n  This does not negate the existence of beings that tried to use light to obtain energy, it is possible that there were primary beings that tried to exploit the light to survive, but the conditions were not favorable, and the light was very weak, so the creatures that tried to use the light to survive could not continue in Because the sunlight was not strong enough to reach the depth in which these creatures tried to live, these creatures and primary cells extinct from the beginning and could not pass on their genes to the next generation, and only creatures that depend on chemical food and organic materials remained and were able to resilience and survival, as well as reproduction, and thus the inheritance of genes that determine the characteristics of nutrition and the method of obtaining energy from organic materials available in the surrounding environment.\\n\\n  After the life of creatures that depend on chemical food flourished in the ocean due to the abundance of food, many mutations occurred over millions of years, which led to the adaptation of these creatures to life on land, where there is an ample amount of sunlight, but it was already too late, because Genes and traits that regulate the mechanism of using sunlight as a source of food have become recessive traits in advance, due to millions of years of living in dark environments in the depths of the oceans, then these organisms reproduced on land carrying with them the genes of feeding on organic matter only.',\n",
       " 'The area of the arctic changes according to the change of seasons, and statistics say that the area of the arctic reaches 8 million square km in the summer, and this area doubles to reach 16 million square km in the winter, so it is possible to say that 80 percent of the area of the arctic is ice, and it is not suitable for cultivation, and the soil there is at great depths and buried under the snow, and the depth of the soil depends on the place of excavation.\\n\\n  And the process of global warming caused an increase in the melting of ice in the northern pole, and a rise in sea level to submerge more land areas, and this will negatively affect the climate and temperature of the region, and even if lands of soil appear in there, the climate of the region It is very cold, as temperatures reach -40 below zero, which is an unsuitable temperature for any type of food crops, and also the lack of solar light throughout the year will prevent the use of the place for agriculture, as it is not possible to grow the species that humans depend on for food there, Wheat needs sunlight for long periods of time, and all fruit trees need temperatures between -5 and 30 degrees Celsius to be able to survive.\\n\\n  Humidity there is very low despite the abundance of water, but it is frozen, and low temperatures cause water vapor particles to freeze and turn into ice accumulated on the ground, and the rate of precipitation there ranges between 60 mm and 10 cm per year, which is a very small percentage. It is not reliable in agriculture.\\n\\n  Also, the soil in the arctic is very poor, and lacks many elements necessary for plant growth, and this matter cannot be solved by using industrial fertilizers, because this would be very expensive and without any economic benefit.\\n\\n  Also, it will be impossible to secure suitable conditions for the workers who will work in these farms, and it will be difficult to secure conditions for heating, lighting, and even most of the transportation of materials becomes impossible in the event of a storm.\\n\\n  As explained above, the idea of exploiting climate change to use the Arctic to meet human needs for food will be impossible, and even rehabilitating the desert for agriculture will be easier than rehabilitating the Arctic.']"
      ]
     },
     "execution_count": 14,
     "metadata": {},
     "output_type": "execute_result"
    }
   ],
   "source": [
    "query_documents"
   ]
  },
  {
   "cell_type": "code",
   "execution_count": 15,
   "id": "e230338e-9b03-49a2-857b-4607d624259c",
   "metadata": {},
   "outputs": [
    {
     "name": "stdout",
     "output_type": "stream",
     "text": [
      "# clusters: 14\n"
     ]
    }
   ],
   "source": [
    "q_documents_reps , q_documents_clusters = generate_explanations.get_documents_style_descriptions(query_documents, model_path, interp_space_path, top_c=3, top_k=5)"
   ]
  },
  {
   "cell_type": "code",
   "execution_count": 16,
   "id": "e8496d87-a53d-42a3-a58f-cbb97504f1cd",
   "metadata": {
    "scrolled": true
   },
   "outputs": [
    {
     "name": "stdout",
     "output_type": "stream",
     "text": [
      "# clusters: 14\n"
     ]
    }
   ],
   "source": [
    "c_documents_reps , c_documents_clusters = generate_explanations.get_documents_style_descriptions(matched_candidate_docs, model_path, interp_space_path, top_c=3, top_k=5)"
   ]
  },
  {
   "cell_type": "code",
   "execution_count": 17,
   "id": "73b9d513-1877-420a-b191-d46321e9ef17",
   "metadata": {},
   "outputs": [
    {
     "name": "stdout",
     "output_type": "stream",
     "text": [
      "# clusters: 14\n"
     ]
    }
   ],
   "source": [
    "o_documents_reps , o_documents_clusters = generate_explanations.get_documents_style_descriptions(other_candidate_docs, model_path, interp_space_path, top_c=3, top_k=5)"
   ]
  },
  {
   "cell_type": "code",
   "execution_count": 18,
   "id": "d97e285b-ca52-4528-a48a-17b9d4bebd24",
   "metadata": {
    "scrolled": true
   },
   "outputs": [
    {
     "data": {
      "text/plain": [
       "[[(13, 0.6829973459243774), (5, 0.5885012149810791), (3, 0.5295000076293945)],\n",
       " [(13, 0.42635929584503174),\n",
       "  (3, 0.42302098870277405),\n",
       "  (5, 0.3870851993560791)],\n",
       " [(13, 0.7052289247512817), (5, 0.6760463714599609), (12, 0.5887666344642639)],\n",
       " [(3, 0.4849829375743866), (13, 0.4269305467605591), (5, 0.3840888440608978)]]"
      ]
     },
     "execution_count": 18,
     "metadata": {},
     "output_type": "execute_result"
    }
   ],
   "source": [
    "q_documents_clusters"
   ]
  },
  {
   "cell_type": "code",
   "execution_count": 19,
   "id": "30f52910-c0dc-45ed-bebc-46132f282d65",
   "metadata": {},
   "outputs": [
    {
     "data": {
      "text/plain": [
       "[[(5, 0.3803691864013672),\n",
       "  (13, 0.28969496488571167),\n",
       "  (7, 0.25092387199401855)]]"
      ]
     },
     "execution_count": 19,
     "metadata": {},
     "output_type": "execute_result"
    }
   ],
   "source": [
    "c_documents_clusters"
   ]
  },
  {
   "cell_type": "code",
   "execution_count": 20,
   "id": "0bde91e4-4fc0-4cb2-ba7d-1944175bc2dc",
   "metadata": {
    "scrolled": true
   },
   "outputs": [
    {
     "data": {
      "text/plain": [
       "[[(3, 0.9635261297225952), (13, 0.8992846608161926), (12, 0.7395482063293457)]]"
      ]
     },
     "execution_count": 20,
     "metadata": {},
     "output_type": "execute_result"
    }
   ],
   "source": [
    "o_documents_clusters"
   ]
  },
  {
   "cell_type": "code",
   "execution_count": 21,
   "id": "7432304e-ab8b-4003-b508-30b01e110332",
   "metadata": {
    "scrolled": true
   },
   "outputs": [
    {
     "data": {
      "text/plain": [
       "[[(13,\n",
       "   ('The approach used by the author is systematic, starting with a general statement and then exploring more details.',\n",
       "    19.92006319968675)),\n",
       "  (13,\n",
       "   ('Revised: The author prefers a diverse writing style with structured sentences.',\n",
       "    13.515608204437266)),\n",
       "  (13,\n",
       "   ('The author expresses strong emotions and perspectives through the use of impactful language.',\n",
       "    13.069321101808846)),\n",
       "  (13,\n",
       "   ('The writer employs diverse sentence structures for improved clarity.',\n",
       "    12.39637662856642)),\n",
       "  (13,\n",
       "   ('The author effectively conveys emotions through descriptive language.',\n",
       "    11.893747772004609)),\n",
       "  (5,\n",
       "   ('The writer uses various voices to create different effects.',\n",
       "    18.470951754889448)),\n",
       "  (5,\n",
       "   ('The use of figurative language conveys complex ideas.',\n",
       "    13.069321101808846)),\n",
       "  (5,\n",
       "   ('Passive voice is utilized in various situations.', 11.683026740688955)),\n",
       "  (5,\n",
       "   ('Rewritten: The author utilizes different sentence lengths for conveying diverse emotions and ideas.',\n",
       "    11.683026740688955)),\n",
       "  (5,\n",
       "   ('The author creates a connection with the reader through direct engagement.',\n",
       "    10.806516878826645)),\n",
       "  (3,\n",
       "   ('The author steers clear of complex sentence structures.',\n",
       "    18.312212329088773)),\n",
       "  (3, ('The author uses a limited range of verb tenses.', 13.515608204437266)),\n",
       "  (3,\n",
       "   ('The author incorporates different types of clauses for additional information.',\n",
       "    13.515608204437266)),\n",
       "  (3,\n",
       "   ('The author uses straightforward sentence structures.',\n",
       "    11.893747772004609)),\n",
       "  (3,\n",
       "   ('The writer uses pronouns to introduce additional information.',\n",
       "    9.932089265981157))],\n",
       " [(13,\n",
       "   ('The approach used by the author is systematic, starting with a general statement and then exploring more details.',\n",
       "    19.92006319968675)),\n",
       "  (13,\n",
       "   ('Revised: The author prefers a diverse writing style with structured sentences.',\n",
       "    13.515608204437266)),\n",
       "  (13,\n",
       "   ('The author expresses strong emotions and perspectives through the use of impactful language.',\n",
       "    13.069321101808846)),\n",
       "  (13,\n",
       "   ('The writer employs diverse sentence structures for improved clarity.',\n",
       "    12.39637662856642)),\n",
       "  (13,\n",
       "   ('The author effectively conveys emotions through descriptive language.',\n",
       "    11.893747772004609)),\n",
       "  (3,\n",
       "   ('The author steers clear of complex sentence structures.',\n",
       "    18.312212329088773)),\n",
       "  (3, ('The author uses a limited range of verb tenses.', 13.515608204437266)),\n",
       "  (3,\n",
       "   ('The author incorporates different types of clauses for additional information.',\n",
       "    13.515608204437266)),\n",
       "  (3,\n",
       "   ('The author uses straightforward sentence structures.',\n",
       "    11.893747772004609)),\n",
       "  (3,\n",
       "   ('The writer uses pronouns to introduce additional information.',\n",
       "    9.932089265981157)),\n",
       "  (5,\n",
       "   ('The writer uses various voices to create different effects.',\n",
       "    18.470951754889448)),\n",
       "  (5,\n",
       "   ('The use of figurative language conveys complex ideas.',\n",
       "    13.069321101808846)),\n",
       "  (5,\n",
       "   ('Passive voice is utilized in various situations.', 11.683026740688955)),\n",
       "  (5,\n",
       "   ('Rewritten: The author utilizes different sentence lengths for conveying diverse emotions and ideas.',\n",
       "    11.683026740688955)),\n",
       "  (5,\n",
       "   ('The author creates a connection with the reader through direct engagement.',\n",
       "    10.806516878826645))],\n",
       " [(13,\n",
       "   ('The approach used by the author is systematic, starting with a general statement and then exploring more details.',\n",
       "    19.92006319968675)),\n",
       "  (13,\n",
       "   ('Revised: The author prefers a diverse writing style with structured sentences.',\n",
       "    13.515608204437266)),\n",
       "  (13,\n",
       "   ('The author expresses strong emotions and perspectives through the use of impactful language.',\n",
       "    13.069321101808846)),\n",
       "  (13,\n",
       "   ('The writer employs diverse sentence structures for improved clarity.',\n",
       "    12.39637662856642)),\n",
       "  (13,\n",
       "   ('The author effectively conveys emotions through descriptive language.',\n",
       "    11.893747772004609)),\n",
       "  (5,\n",
       "   ('The writer uses various voices to create different effects.',\n",
       "    18.470951754889448)),\n",
       "  (5,\n",
       "   ('The use of figurative language conveys complex ideas.',\n",
       "    13.069321101808846)),\n",
       "  (5,\n",
       "   ('Passive voice is utilized in various situations.', 11.683026740688955)),\n",
       "  (5,\n",
       "   ('Rewritten: The author utilizes different sentence lengths for conveying diverse emotions and ideas.',\n",
       "    11.683026740688955)),\n",
       "  (5,\n",
       "   ('The author creates a connection with the reader through direct engagement.',\n",
       "    10.806516878826645)),\n",
       "  (12,\n",
       "   ('The writer employs a wide range of words for clear communication.',\n",
       "    13.515608204437266)),\n",
       "  (12,\n",
       "   ('The writer uses rhetorical devices to highlight key concepts efficiently.',\n",
       "    13.069321101808846)),\n",
       "  (12,\n",
       "   ('The writer uses different techniques to improve the overall tone.',\n",
       "    12.39637662856642)),\n",
       "  (12,\n",
       "   ('The writer uses complex ideas to explore deep themes.',\n",
       "    11.683026740688955)),\n",
       "  (12,\n",
       "   ('The writing style is casual and uses common language.',\n",
       "    11.683026740688955))],\n",
       " [(3,\n",
       "   ('The author steers clear of complex sentence structures.',\n",
       "    18.312212329088773)),\n",
       "  (3, ('The author uses a limited range of verb tenses.', 13.515608204437266)),\n",
       "  (3,\n",
       "   ('The author incorporates different types of clauses for additional information.',\n",
       "    13.515608204437266)),\n",
       "  (3,\n",
       "   ('The author uses straightforward sentence structures.',\n",
       "    11.893747772004609)),\n",
       "  (3,\n",
       "   ('The writer uses pronouns to introduce additional information.',\n",
       "    9.932089265981157)),\n",
       "  (13,\n",
       "   ('The approach used by the author is systematic, starting with a general statement and then exploring more details.',\n",
       "    19.92006319968675)),\n",
       "  (13,\n",
       "   ('Revised: The author prefers a diverse writing style with structured sentences.',\n",
       "    13.515608204437266)),\n",
       "  (13,\n",
       "   ('The author expresses strong emotions and perspectives through the use of impactful language.',\n",
       "    13.069321101808846)),\n",
       "  (13,\n",
       "   ('The writer employs diverse sentence structures for improved clarity.',\n",
       "    12.39637662856642)),\n",
       "  (13,\n",
       "   ('The author effectively conveys emotions through descriptive language.',\n",
       "    11.893747772004609)),\n",
       "  (5,\n",
       "   ('The writer uses various voices to create different effects.',\n",
       "    18.470951754889448)),\n",
       "  (5,\n",
       "   ('The use of figurative language conveys complex ideas.',\n",
       "    13.069321101808846)),\n",
       "  (5,\n",
       "   ('Passive voice is utilized in various situations.', 11.683026740688955)),\n",
       "  (5,\n",
       "   ('Rewritten: The author utilizes different sentence lengths for conveying diverse emotions and ideas.',\n",
       "    11.683026740688955)),\n",
       "  (5,\n",
       "   ('The author creates a connection with the reader through direct engagement.',\n",
       "    10.806516878826645))]]"
      ]
     },
     "execution_count": 21,
     "metadata": {},
     "output_type": "execute_result"
    }
   ],
   "source": [
    "q_documents_reps"
   ]
  },
  {
   "cell_type": "code",
   "execution_count": 22,
   "id": "2a592a9a-c564-4195-8a94-34e87c2b7c41",
   "metadata": {
    "scrolled": true
   },
   "outputs": [
    {
     "data": {
      "text/plain": [
       "[[(5,\n",
       "   ('The writer uses various voices to create different effects.',\n",
       "    18.470951754889448)),\n",
       "  (5,\n",
       "   ('The use of figurative language conveys complex ideas.',\n",
       "    13.069321101808846)),\n",
       "  (5,\n",
       "   ('Passive voice is utilized in various situations.', 11.683026740688955)),\n",
       "  (5,\n",
       "   ('Rewritten: The author utilizes different sentence lengths for conveying diverse emotions and ideas.',\n",
       "    11.683026740688955)),\n",
       "  (5,\n",
       "   ('The author creates a connection with the reader through direct engagement.',\n",
       "    10.806516878826645)),\n",
       "  (13,\n",
       "   ('The approach used by the author is systematic, starting with a general statement and then exploring more details.',\n",
       "    19.92006319968675)),\n",
       "  (13,\n",
       "   ('Revised: The author prefers a diverse writing style with structured sentences.',\n",
       "    13.515608204437266)),\n",
       "  (13,\n",
       "   ('The author expresses strong emotions and perspectives through the use of impactful language.',\n",
       "    13.069321101808846)),\n",
       "  (13,\n",
       "   ('The writer employs diverse sentence structures for improved clarity.',\n",
       "    12.39637662856642)),\n",
       "  (13,\n",
       "   ('The author effectively conveys emotions through descriptive language.',\n",
       "    11.893747772004609)),\n",
       "  (7,\n",
       "   ('The author employs a relaxed tone, highlighting individual aspects.',\n",
       "    11.893747772004609)),\n",
       "  (7,\n",
       "   ('The text includes casual language and everyday expressions.',\n",
       "    10.106112019960415)),\n",
       "  (7,\n",
       "   ('The author uses diverse sentence lengths and structures.',\n",
       "    9.659824917331996)),\n",
       "  (7,\n",
       "   ('The author uses casual language in their writing.', 8.273530556212105)),\n",
       "  (7,\n",
       "   ('The text includes different types of figurative language.',\n",
       "    7.819983917482529))]]"
      ]
     },
     "execution_count": 22,
     "metadata": {},
     "output_type": "execute_result"
    }
   ],
   "source": [
    "c_documents_reps"
   ]
  },
  {
   "cell_type": "code",
   "execution_count": 217,
   "id": "f22b9440-865e-4e15-be62-81829f4896fb",
   "metadata": {
    "scrolled": true
   },
   "outputs": [
    {
     "data": {
      "text/plain": [
       "[[(1, ('limited range', 90.29001541922472)),\n",
       "  (1, ('declarative sentences', 87.53142177173797)),\n",
       "  (1, ('simple sentence structures', 84.48013863066261)),\n",
       "  (1, ('present tense', 82.12878113649731)),\n",
       "  (1, ('consistent verb tense', 60.12597809047695)),\n",
       "  (4, ('present tense', 9.662209545470272)),\n",
       "  (4, ('short sentences', 9.107428308901413)),\n",
       "  (4, ('simple sentence structures', 8.960014703252094)),\n",
       "  (4, ('declarative sentences', 8.142457839231438)),\n",
       "  (4, ('complex verb forms', 6.77546121578783)),\n",
       "  (10, ('present tense', 7.246657159102704)),\n",
       "  (10, ('declarative sentences', 6.106843379423578)),\n",
       "  (10, ('limited range', 5.209039351109118)),\n",
       "  (10, ('occasional switches', 4.655197679587739)),\n",
       "  (10, ('simple sentence structures', 3.840006301393755))]]"
      ]
     },
     "execution_count": 217,
     "metadata": {},
     "output_type": "execute_result"
    }
   ],
   "source": [
    "o_documents_reps"
   ]
  },
  {
   "cell_type": "code",
   "execution_count": null,
   "id": "b27d5a4b-6776-4534-b556-e6b120dd8300",
   "metadata": {},
   "outputs": [],
   "source": [
    "interpretable_space = pkl.load(open(interp_space_path, 'rb'))\n",
    "    \n",
    "del interpretable_space[-1] #DBSCAN generate a cluster -1 of all outliers. We don't want this cluster\n",
    "print(\"# clusters:\", len(interpretable_space))\n",
    "dimension_to_latent = {key: interpretable_space[key][0] for key in interpretable_space}\n",
    "dimension_to_style  = {key: interpretable_space[key][1] for key in interpretable_space}"
   ]
  }
 ],
 "metadata": {
  "kernelspec": {
   "display_name": "Python 3 (ipykernel)",
   "language": "python",
   "name": "python3"
  },
  "language_info": {
   "codemirror_mode": {
    "name": "ipython",
    "version": 3
   },
   "file_extension": ".py",
   "mimetype": "text/x-python",
   "name": "python",
   "nbconvert_exporter": "python",
   "pygments_lexer": "ipython3",
   "version": "3.11.9"
  }
 },
 "nbformat": 4,
 "nbformat_minor": 5
}
