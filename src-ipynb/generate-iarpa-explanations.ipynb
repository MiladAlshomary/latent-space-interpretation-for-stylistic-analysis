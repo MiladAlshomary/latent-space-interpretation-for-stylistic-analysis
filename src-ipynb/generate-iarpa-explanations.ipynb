{
 "cells": [
  {
   "cell_type": "code",
   "execution_count": 9,
   "id": "8369f4ae-98b5-4462-98b3-19f707bddec3",
   "metadata": {},
   "outputs": [
    {
     "name": "stdout",
     "output_type": "stream",
     "text": [
      "The autoreload extension is already loaded. To reload it, use:\n",
      "  %reload_ext autoreload\n"
     ]
    }
   ],
   "source": [
    "%load_ext autoreload"
   ]
  },
  {
   "cell_type": "code",
   "execution_count": 50,
   "id": "5126a2e1-d75e-4235-8d21-61f6e937eeca",
   "metadata": {},
   "outputs": [],
   "source": [
    "%autoreload\n",
    "import sys\n",
    "import copy\n",
    "sys.path.append('../../style_generation_pipeline/')\n",
    "\n",
    "import generate_explanations\n",
    "from gradpyent.gradient import Gradient"
   ]
  },
  {
   "cell_type": "code",
   "execution_count": 51,
   "id": "d7bbf3c4-1170-4ad2-8e9e-0e22d605e9b3",
   "metadata": {},
   "outputs": [],
   "source": [
    "import json\n",
    "import csv\n",
    "import pandas as pd\n",
    "import numpy as np\n",
    "import matplotlib.pyplot as plt\n",
    "import explanation_interfaces\n",
    "import glob\n",
    "from sklearn.preprocessing import minmax_scale\n",
    "\n",
    "pd.set_option('display.width', None)\n",
    "pd.set_option('display.max_rows', None)\n",
    "pd.set_option('display.max_columns', None)\n",
    "pd.set_option('display.max_colwidth', None)"
   ]
  },
  {
   "cell_type": "markdown",
   "id": "fc7fe565-83f8-437f-8869-a1cfba05f6ba",
   "metadata": {},
   "source": [
    "### Load data"
   ]
  },
  {
   "cell_type": "code",
   "execution_count": 52,
   "id": "c87487a9-d436-4d76-9e22-fdb8a8c2a7dc",
   "metadata": {},
   "outputs": [],
   "source": [
    "def get_data(path_to_input):\n",
    "    candidates_file = list(glob.glob(path_to_input + '/data/*_candidates.jsonl'))[0]\n",
    "    queries_file    = list(glob.glob(path_to_input + '/data/*_queries.jsonl'))[0]\n",
    "    grount_truth_file = list(glob.glob(path_to_input + '/groundtruth/*_groundtruth.npy'))[0]\n",
    "    q_labels_file = glob.glob(path_to_input + '/groundtruth/*_query-labels.txt')[0]\n",
    "    c_labels_file = glob.glob(path_to_input + '/groundtruth/*_candidate-labels.txt')[0]\n",
    "    \n",
    "    candidates_df = pd.read_json(candidates_file, lines=True)\n",
    "    queries_df = pd.read_json(queries_file, lines=True)\n",
    "    \n",
    "    queries_df['authorID'] = queries_df.authorIDs.apply(lambda x: x[0])\n",
    "    candidates_df['authorID'] = candidates_df.authorSetIDs.apply(lambda x: x[0])\n",
    "    \n",
    "    queries_df = queries_df.groupby('authorID').agg({'fullText': lambda x: list(x)}).reset_index()\n",
    "    candidates_df = candidates_df.groupby('authorID').agg({'fullText': lambda x: list(x)}).reset_index()\n",
    "        \n",
    "    ground_truth_assignment = np.load(open(grount_truth_file, 'rb'))\n",
    "    candidate_authors = [a[2:-3] for a in  open(c_labels_file).read().split('\\n')][:-1]\n",
    "    query_authors = [a[2:-3] for a in  open(q_labels_file).read().split('\\n')][:-1]\n",
    "\n",
    "    #print(ground_truth_assignment)\n",
    "    #print(candidate_authors)\n",
    "    #print(query_authors)\n",
    "    return query_authors, candidate_authors, queries_df, candidates_df, ground_truth_assignment\n",
    "\n",
    "def build_explanation_interface1(explanation_interf, candidates_sim_to_query_exp, query_style_reps_summ, candidate_authors):\n",
    "    explanation_tmp = copy.copy(explanation_interf)\n",
    "    candidates_sim_to_query_exp = np.array(candidates_sim_to_query_exp)\n",
    "    for i, s in enumerate(query_style_reps_summ):\n",
    "        explanation_tmp = explanation_tmp.replace('[style-{}]'.format(i+1), s)\n",
    "\n",
    "    for order, c_author_id in enumerate(candidate_authors):\n",
    "            candidate_sim_to_styles = candidates_sim_to_query_exp[order]\n",
    "            #candidate_sim_to_styles_as_color_str = ['rgb(0, {}, 0)'.format(100 * s) for s in candidate_sim_to_styles]\n",
    "            for s_id, value in enumerate(candidate_sim_to_styles):\n",
    "                #explanation_tmp = explanation_tmp.replace('[cand-{}-style-{}]'.format(order+1, s_id+1), color)\n",
    "                if value > 2:\n",
    "                    print(value)\n",
    "                explanation_tmp = explanation_tmp.replace('[cand-{}-style-{}]'.format(order+1, s_id+1), str(round(value, 2)) + '%')\n",
    "    \n",
    "    return explanation_tmp\n",
    "\n",
    "def get_color_gradient(input_list):\n",
    "    start_color = '#90EE90'\n",
    "    end_color = '#013220'\n",
    "    \n",
    "    # Instantiate the gradient generator, opacity is optional (only used for KML)\n",
    "    gg = Gradient(gradient_start=start_color, gradient_end=end_color, opacity=1.0)\n",
    "    return gg.get_gradient_series(series=input_list, fmt='html')\n",
    "\n",
    "def build_explanation_interface2(explanation_interf, query_author_style_feats, candidate_authors_style_feats, top_k=5):\n",
    "    explanation_tmp = copy.copy(explanation_interf)\n",
    "    #top query author feats\n",
    "    query_feats_ranked = sorted(query_author_style_feats.items(), key=lambda x:-x[1])\n",
    "    top_query_feats    = query_feats_ranked[:top_k]\n",
    "    bottom_query_feats = query_feats_ranked[-top_k:]\n",
    "    #print(top_query_feats)\n",
    "    #print(bottom_query_feats)\n",
    "    # The selected features can be also decided differently\n",
    "    selected_feats = [x[0] for x in top_query_feats] + [x[0] for x in bottom_query_feats]\n",
    "\n",
    "    #normalize feature weights to scale from 0 to 128\n",
    "    feature_weights = [[author[f] for author in [query_author_style_feats] + candidate_authors_style_feats] for f in selected_feats]\n",
    "    feature_weights_color = [get_color_gradient(x) for x in feature_weights]\n",
    "    \n",
    "    cell_template = \"\"\"\n",
    "        <tr>\n",
    "            <td style=\"width: 30%; background-color: rgb(209, 213, 216);\">[feat-name]</td>\n",
    "            <td style=\"width: 14%; background-color: [author-0-feat-color];\"><div style=\"text-align: center;\"><span style=\"background-color: rgb(239, 239, 239);\">[author-0-feat-value]%</span></div></td>\n",
    "            <td style=\"width: 14%; background-color: [author-1-feat-color];\"><div style=\"text-align: center;\"><span style=\"background-color: rgb(239, 239, 239);\">[author-1-feat-value]%</span></div></td>\n",
    "            <td style=\"width: 14%; background-color: [author-2-feat-color];\"><div style=\"text-align: center;\"><span style=\"background-color: rgb(239, 239, 239);\">[author-2-feat-value]%</span></div></td>\n",
    "            <td style=\"width: 14%; background-color: [author-3-feat-color];\"><div style=\"text-align: center;\"><span style=\"background-color: rgb(239, 239, 239);\">[author-3-feat-value]%</span></div></td>\n",
    "        </tr>\n",
    "    \"\"\"\n",
    "    \n",
    "    table_cells = []\n",
    "    for feat_order, feat in enumerate(selected_feats):\n",
    "        cell_template_tmp = copy.copy(cell_template)\n",
    "        cell_template_tmp = cell_template_tmp.replace(\"[feat-name]\", feat)\n",
    "        for author_order, author_feat_weight in enumerate(feature_weights[feat_order]):\n",
    "            author_feat_weight_color = feature_weights_color[feat_order][author_order]\n",
    "            cell_template_tmp = cell_template_tmp.replace(\"[author-{}-feat-color]\".format(author_order), author_feat_weight_color)\n",
    "            cell_template_tmp = cell_template_tmp.replace(\"[author-{}-feat-value]\".format(author_order), str(round(author_feat_weight,2)))\n",
    "        \n",
    "\n",
    "        table_cells.append(cell_template_tmp)\n",
    "    #print(table_cells)\n",
    "    explanation_tmp = explanation_tmp.replace(\"[table-body]\", \"\\n\".join(table_cells))\n",
    "    \n",
    "    return explanation_tmp"
   ]
  },
  {
   "cell_type": "code",
   "execution_count": 53,
   "id": "0849ded5-4168-4071-817c-3db58ff2e741",
   "metadata": {},
   "outputs": [],
   "source": [
    "def generate_hiatus_explanations(path_to_input, interp_space_path, interp_space_rep_path, style_feat_clm, style_feat_summary_clm, explanation_interf, cluster_lvl=True):\n",
    "    \n",
    "    query_authors, candidate_authors, queries_df, candidates_df, ground_truth_assignment = get_data(path_to_input)\n",
    "    \n",
    "    output_json = []\n",
    "    for q_author_id in query_authors:\n",
    "    \n",
    "        q_author_documents = queries_df[queries_df.authorID == q_author_id]['fullText'].tolist()[0]\n",
    "        c_author_documents = candidates_df.fullText.tolist()\n",
    "\n",
    "        result = generate_explanations.explain_model_prediction_over_author(model_path, interp_space_path, interp_space_rep_path, q_author_documents, c_author_documents, top_c=top_c, style_feat_clm=style_feat_clm, style_feat_summary_clm=style_feat_summary_clm, cluster_lvl=cluster_lvl)\n",
    "\n",
    "        latent_rank = result[0]\n",
    "        interp_rank = result[1]\n",
    "        \n",
    "        if cluster_lvl == True:\n",
    "            query_style_reps = result[2]\n",
    "            query_style_reps_summ = result[3]\n",
    "            candidates_sim_to_query_exp = result[4]\n",
    "            query_author_rep_doc_id = result[5]\n",
    "            candidate_authors_rep_doc_ids = result[6]\n",
    "        else:\n",
    "            query_author_style_feats = result[2]\n",
    "            candidate_authors_style_feats = result[3]\n",
    "            query_author_rep_doc_id = result[4]\n",
    "            candidate_authors_rep_doc_ids = result[5]\n",
    "\n",
    "        #print(latent_rank)\n",
    "        #print(interp_rank)\n",
    "        \n",
    "        instance_json = {\n",
    "            #\"Q_fullText\": \"\\n\\n\".join([\"Document {}: \\n{}\".format(i,d) for i, d in enumerate(q_author_documents)]),\n",
    "            \"Q_fullText\": q_author_documents[query_author_rep_doc_id],\n",
    "            \"Q_authorID\": q_author_id,\n",
    "            \"latent_rank\" : latent_rank.tolist(),\n",
    "            \"system_rank\" : [{\"id\": x+1, \"title\": 'Author {}'.format(x+1), \"body\": \"\"} for i, x in enumerate(latent_rank.tolist())],\n",
    "            \"rank_1\": \"1. Author {}\".format(latent_rank[0]+1),\n",
    "            \"rank_2\": \"2. Author {}\".format(latent_rank[1]+1),\n",
    "            \"rank_3\": \"3. Author {}\".format(latent_rank[2]+1),\n",
    "            \"interp_rank\" : interp_rank.tolist(),\n",
    "        }\n",
    "\n",
    "        #print(instance_json['system_rank'])\n",
    "        #Find candidate authors order\n",
    "        candidate_author_order = []\n",
    "        for order, c_author_id in enumerate(candidate_authors):\n",
    "            #instance_json['a{}_fullText'.format(order)] = \"\\n\\n\".join([\"Document {}: \\n{}\".format(i,d) for i, d in enumerate(c_author_documents[order])])\n",
    "            instance_json['a{}_fullText'.format(order)] = c_author_documents[order][candidate_authors_rep_doc_ids[order]]\n",
    "            instance_json['a{}_authorID'.format(order)] = c_author_id\n",
    "            order+=1\n",
    "            candidate_author_order.append(candidate_authors.index(c_author_id))\n",
    "\n",
    "        if cluster_lvl:\n",
    "            instance_json['explanation'] = build_explanation_interface1(explanation_interf, candidates_sim_to_query_exp, query_style_reps_summ, candidate_authors)\n",
    "        else:\n",
    "            instance_json['explanation'] = build_explanation_interface2(explanation_interf, query_author_style_feats, candidate_authors_style_feats)\n",
    "\n",
    "        #Find the ground-truth labels (who wrote the query document)\n",
    "        query_author_idx = query_authors.index(q_author_id)\n",
    "        candidate_atuthor_labels = [ground_truth_assignment[query_author_idx][a_idx] for a_idx in candidate_author_order]\n",
    "        gt_idx = candidate_atuthor_labels.index(1)\n",
    "        instance_json[\"gt_idx\"] = gt_idx\n",
    "        \n",
    "        output_json.append(instance_json)\n",
    "\n",
    "    return output_json[0] # it is always one query author per instance"
   ]
  },
  {
   "cell_type": "code",
   "execution_count": 35,
   "id": "4a8278fb-fbe5-41e0-a643-e2331c3eaea8",
   "metadata": {},
   "outputs": [],
   "source": [
    "#queries.to_json('/mnt/swordfish-pool2/milad/hiatus-data/test-samples-for-explanations/hrs_06-27-24_english_explainability-example_TA2_input_queries.json')\n",
    "#candidates.to_json('/mnt/swordfish-pool2/milad/hiatus-data/test-samples-for-explanations/hrs_06-27-24_english_explainability-example_TA2_input_candidates.json')"
   ]
  },
  {
   "cell_type": "markdown",
   "id": "039cb735-0f5c-4de5-bbff-faba2a36380f",
   "metadata": {},
   "source": [
    "## Generate documents style explanations:"
   ]
  },
  {
   "cell_type": "code",
   "execution_count": 36,
   "id": "d433ae8b-db83-424a-a1bc-f087de466009",
   "metadata": {},
   "outputs": [],
   "source": [
    "model_path = 'aa_model-luar'\n",
    "input_path = '/mnt/swordfish-pool2/milad/hiatus-data/explainability-pilot-samples/'\n",
    "top_c=3"
   ]
  },
  {
   "cell_type": "code",
   "execution_count": 49,
   "id": "10d82e2f-b0fe-40b0-8ec3-efe21a8d306a",
   "metadata": {
    "scrolled": true
   },
   "outputs": [
    {
     "name": "stdout",
     "output_type": "stream",
     "text": [
      "/mnt/swordfish-pool2/milad/hiatus-data/explainability-pilot-samples/samples_29_query_80_first/\n",
      "# clusters: 43\n"
     ]
    },
    {
     "ename": "IndexError",
     "evalue": "list index out of range",
     "output_type": "error",
     "traceback": [
      "\u001b[0;31m---------------------------------------------------------------------------\u001b[0m",
      "\u001b[0;31mIndexError\u001b[0m                                Traceback (most recent call last)",
      "Cell \u001b[0;32mIn[49], line 10\u001b[0m\n\u001b[1;32m      7\u001b[0m \u001b[38;5;28mprint\u001b[39m(data_point)\n\u001b[1;32m      9\u001b[0m \u001b[38;5;66;03m# generate explanations on feature-level\u001b[39;00m\n\u001b[0;32m---> 10\u001b[0m instance_exp \u001b[38;5;241m=\u001b[39m \u001b[43mgenerate_hiatus_explanations\u001b[49m\u001b[43m(\u001b[49m\u001b[43mdata_point\u001b[49m\u001b[43m,\u001b[49m\u001b[43m \u001b[49m\u001b[43minterp_space_path\u001b[49m\u001b[43m,\u001b[49m\u001b[43m \u001b[49m\u001b[43minterp_space_rep_path\u001b[49m\u001b[43m,\u001b[49m\u001b[43m \u001b[49m\u001b[38;5;124;43m'\u001b[39;49m\u001b[38;5;124;43mllm_tfidf_weights\u001b[39;49m\u001b[38;5;124;43m'\u001b[39;49m\u001b[43m,\u001b[49m\u001b[43m \u001b[49m\u001b[38;5;28;43;01mNone\u001b[39;49;00m\u001b[43m,\u001b[49m\u001b[43m \u001b[49m\u001b[43mexplanation_interfaces\u001b[49m\u001b[38;5;241;43m.\u001b[39;49m\u001b[43mexp_interface_2\u001b[49m\u001b[43m,\u001b[49m\u001b[43m \u001b[49m\u001b[43mcluster_lvl\u001b[49m\u001b[38;5;241;43m=\u001b[39;49m\u001b[38;5;28;43;01mFalse\u001b[39;49;00m\u001b[43m)\u001b[49m\n\u001b[1;32m     11\u001b[0m instance_exp[\u001b[38;5;124m'\u001b[39m\u001b[38;5;124msource\u001b[39m\u001b[38;5;124m'\u001b[39m] \u001b[38;5;241m=\u001b[39m \u001b[38;5;124m'\u001b[39m\u001b[38;5;124mfeature_lvl_explanation_tfidf\u001b[39m\u001b[38;5;124m'\u001b[39m\n\u001b[1;32m     13\u001b[0m \u001b[38;5;66;03m# Create an instance with no explanation\u001b[39;00m\n",
      "Cell \u001b[0;32mIn[48], line 11\u001b[0m, in \u001b[0;36mgenerate_hiatus_explanations\u001b[0;34m(path_to_input, interp_space_path, interp_space_rep_path, style_feat_clm, style_feat_summary_clm, explanation_interf, cluster_lvl)\u001b[0m\n\u001b[1;32m      8\u001b[0m q_author_documents \u001b[38;5;241m=\u001b[39m queries_df[queries_df\u001b[38;5;241m.\u001b[39mauthorID \u001b[38;5;241m==\u001b[39m q_author_id][\u001b[38;5;124m'\u001b[39m\u001b[38;5;124mfullText\u001b[39m\u001b[38;5;124m'\u001b[39m]\u001b[38;5;241m.\u001b[39mtolist()[\u001b[38;5;241m0\u001b[39m]\n\u001b[1;32m      9\u001b[0m c_author_documents \u001b[38;5;241m=\u001b[39m candidates_df\u001b[38;5;241m.\u001b[39mfullText\u001b[38;5;241m.\u001b[39mtolist()\n\u001b[0;32m---> 11\u001b[0m result \u001b[38;5;241m=\u001b[39m \u001b[43mgenerate_explanations\u001b[49m\u001b[38;5;241;43m.\u001b[39;49m\u001b[43mexplain_model_prediction_over_author\u001b[49m\u001b[43m(\u001b[49m\u001b[43mmodel_path\u001b[49m\u001b[43m,\u001b[49m\u001b[43m \u001b[49m\u001b[43minterp_space_path\u001b[49m\u001b[43m,\u001b[49m\u001b[43m \u001b[49m\u001b[43minterp_space_rep_path\u001b[49m\u001b[43m,\u001b[49m\u001b[43m \u001b[49m\u001b[43mq_author_documents\u001b[49m\u001b[43m,\u001b[49m\u001b[43m \u001b[49m\u001b[43mc_author_documents\u001b[49m\u001b[43m,\u001b[49m\u001b[43m \u001b[49m\u001b[43mtop_c\u001b[49m\u001b[38;5;241;43m=\u001b[39;49m\u001b[43mtop_c\u001b[49m\u001b[43m,\u001b[49m\u001b[43m \u001b[49m\u001b[43mstyle_feat_clm\u001b[49m\u001b[38;5;241;43m=\u001b[39;49m\u001b[43mstyle_feat_clm\u001b[49m\u001b[43m,\u001b[49m\u001b[43m \u001b[49m\u001b[43mstyle_feat_summary_clm\u001b[49m\u001b[38;5;241;43m=\u001b[39;49m\u001b[43mstyle_feat_summary_clm\u001b[49m\u001b[43m,\u001b[49m\u001b[43m \u001b[49m\u001b[43mcluster_lvl\u001b[49m\u001b[38;5;241;43m=\u001b[39;49m\u001b[43mcluster_lvl\u001b[49m\u001b[43m)\u001b[49m\n\u001b[1;32m     13\u001b[0m latent_rank \u001b[38;5;241m=\u001b[39m result[\u001b[38;5;241m0\u001b[39m]\n\u001b[1;32m     14\u001b[0m interp_rank \u001b[38;5;241m=\u001b[39m result[\u001b[38;5;241m1\u001b[39m]\n",
      "File \u001b[0;32m~/style_generation_pipeline/src-ipynb/../../style_generation_pipeline/generate_explanations.py:265\u001b[0m, in \u001b[0;36mexplain_model_prediction_over_author\u001b[0;34m(model_path, inter_space_path, inter_space_rep_path, query_author, candidate_authors, top_c, top_k, style_feat_clm, cluster_lvl, style_feat_summary_clm)\u001b[0m\n\u001b[1;32m    260\u001b[0m \u001b[38;5;66;03m#### Explanation #########\u001b[39;00m\n\u001b[1;32m    261\u001b[0m \n\u001b[1;32m    262\u001b[0m \u001b[38;5;66;03m# For now we will take the most representative document of each author to be the ones to explain => we need to figure out a way \u001b[39;00m\n\u001b[1;32m    263\u001b[0m \u001b[38;5;66;03m# to explain all documents\u001b[39;00m\n\u001b[1;32m    264\u001b[0m q_rep_document_interp \u001b[38;5;241m=\u001b[39m q_author_interps[q_author_rep_document]\n\u001b[0;32m--> 265\u001b[0m c_rep_document_interp \u001b[38;5;241m=\u001b[39m \u001b[43m[\u001b[49m\u001b[43mc_author_interps\u001b[49m\u001b[43m[\u001b[49m\u001b[43mi\u001b[49m\u001b[43m]\u001b[49m\u001b[43m \u001b[49m\u001b[38;5;28;43;01mfor\u001b[39;49;00m\u001b[43m \u001b[49m\u001b[43mi\u001b[49m\u001b[43m \u001b[49m\u001b[38;5;129;43;01min\u001b[39;49;00m\u001b[43m \u001b[49m\u001b[43mc_author_rep_documents\u001b[49m\u001b[43m]\u001b[49m\n\u001b[1;32m    267\u001b[0m \u001b[38;5;66;03m# For explainability we rescale the cosine similarity from [-1,+1] to [0,2]\u001b[39;00m\n\u001b[1;32m    268\u001b[0m q_rep_document_interp \u001b[38;5;241m=\u001b[39m (q_rep_document_interp \u001b[38;5;241m+\u001b[39m \u001b[38;5;241m1\u001b[39m)\u001b[38;5;241m/\u001b[39m\u001b[38;5;241m2\u001b[39m\n",
      "File \u001b[0;32m~/style_generation_pipeline/src-ipynb/../../style_generation_pipeline/generate_explanations.py:265\u001b[0m, in \u001b[0;36m<listcomp>\u001b[0;34m(.0)\u001b[0m\n\u001b[1;32m    260\u001b[0m \u001b[38;5;66;03m#### Explanation #########\u001b[39;00m\n\u001b[1;32m    261\u001b[0m \n\u001b[1;32m    262\u001b[0m \u001b[38;5;66;03m# For now we will take the most representative document of each author to be the ones to explain => we need to figure out a way \u001b[39;00m\n\u001b[1;32m    263\u001b[0m \u001b[38;5;66;03m# to explain all documents\u001b[39;00m\n\u001b[1;32m    264\u001b[0m q_rep_document_interp \u001b[38;5;241m=\u001b[39m q_author_interps[q_author_rep_document]\n\u001b[0;32m--> 265\u001b[0m c_rep_document_interp \u001b[38;5;241m=\u001b[39m [\u001b[43mc_author_interps\u001b[49m\u001b[43m[\u001b[49m\u001b[43mi\u001b[49m\u001b[43m]\u001b[49m \u001b[38;5;28;01mfor\u001b[39;00m i \u001b[38;5;129;01min\u001b[39;00m c_author_rep_documents]\n\u001b[1;32m    267\u001b[0m \u001b[38;5;66;03m# For explainability we rescale the cosine similarity from [-1,+1] to [0,2]\u001b[39;00m\n\u001b[1;32m    268\u001b[0m q_rep_document_interp \u001b[38;5;241m=\u001b[39m (q_rep_document_interp \u001b[38;5;241m+\u001b[39m \u001b[38;5;241m1\u001b[39m)\u001b[38;5;241m/\u001b[39m\u001b[38;5;241m2\u001b[39m\n",
      "\u001b[0;31mIndexError\u001b[0m: list index out of range"
     ]
    }
   ],
   "source": [
    "interp_space_path = '/mnt/swordfish-pool2/milad/hiatus-data/explainability_all_data/interpretable_space.pkl'\n",
    "interp_space_rep_path = '/mnt/swordfish-pool2/milad/hiatus-data/explainability_all_data/interpretable_space_representations.json'\n",
    "\n",
    "output = []\n",
    "idx=0\n",
    "for data_point in glob.glob(input_path + '*/'):\n",
    "    print(data_point)\n",
    "\n",
    "    # generate explanations on feature-level\n",
    "    instance_exp = generate_hiatus_explanations(data_point, interp_space_path, interp_space_rep_path, 'llm_tfidf_weights', None, explanation_interfaces.exp_interface_2, cluster_lvl=False)\n",
    "    instance_exp['source'] = 'feature_lvl_explanation_tfidf'\n",
    "    \n",
    "    # Create an instance with no explanation\n",
    "    instance_wo_exp = {x[0]: x[1] for x in instance_exp.items()}\n",
    "    instance_wo_exp['explanation'] = '<p>No Explanation</p>'\n",
    "    instance_wo_exp['source'] = 'no_explanation'\n",
    "    \n",
    "    output.append(instance_wo_exp)\n",
    "    output.append(instance_exp)\n",
    "\n",
    "    # generate explanations on cluster level\n",
    "    for feat_clm in ['llm_tfidf_rep', 'g2v_tfidf_rep']:\n",
    "        instance_exp = generate_hiatus_explanations(data_point, interp_space_path, interp_space_rep_path, feat_clm, None, explanation_interfaces.exp_interface_1_1)\n",
    "        instance_exp['source'] = feat_clm\n",
    "        output.append(instance_exp)\n",
    "    \n",
    "    open(data_point + '/explanation.html', 'w').write(instance_exp['explanation'])\n",
    "    idx+=1\n",
    "    break\n",
    "json.dump(output, open('/mnt/swordfish-pool2/milad/hiatus-data/explainability_all_data/explanations.json', 'w'))"
   ]
  },
  {
   "cell_type": "code",
   "execution_count": 54,
   "id": "c02ca49e-8376-45b6-973c-369da5ce65e9",
   "metadata": {},
   "outputs": [
    {
     "name": "stdout",
     "output_type": "stream",
     "text": [
      "# clusters: 43\n"
     ]
    }
   ],
   "source": [
    "query_authors, candidate_authors, queries_df, candidates_df, ground_truth_assignment = get_data('/mnt/swordfish-pool2/milad/hiatus-data/explainability-pilot-samples/samples_9_query_20_first/')\n",
    "q_author_documents = queries_df[queries_df.authorID == query_authors[0]]['fullText'].tolist()[0]\n",
    "c_author_documents = candidates_df.fullText.tolist()\n",
    "res = generate_explanations.explain_model_prediction_over_author(model_path, interp_space_path, interp_space_rep_path, \n",
    "                                                                 q_author_documents, c_author_documents, top_c=3, \n",
    "                                                                 style_feat_clm='llm_tfidf_rep', style_feat_summary_clm=None, \n",
    "                                                                 cluster_lvl=True)"
   ]
  },
  {
   "cell_type": "code",
   "execution_count": 67,
   "id": "e11eb0bf-b473-4a00-a687-4987c98e9e34",
   "metadata": {
    "scrolled": true
   },
   "outputs": [
    {
     "data": {
      "text/plain": [
       "(array([1, 0, 2]),\n",
       " array([1, 0, 2]),\n",
       " [['the author maintains a neutral tone in their work',\n",
       "   'simple sentence structure is used',\n",
       "   'the use of connectors and transitional phrases is limited',\n",
       "   'the author uses a limited range of verb forms',\n",
       "   'the author uses a limited range of verb forms to highlight simplicity and compound structures'],\n",
       "  ['the author uses complex concepts to explore deep ideas and themes',\n",
       "   'the author maintains a neutral tone in their work',\n",
       "   'the author uses a limited range of verb forms to highlight simplicity and compound structures',\n",
       "   'the author uses a formal writing style with advanced language and intricate sentence structures',\n",
       "   'the author provides clear explanations of technical terms'],\n",
       "  ['the author provides clear explanations of technical terms',\n",
       "   'the author maintains a neutral tone in their work',\n",
       "   'the author avoids complex sentence structures',\n",
       "   'the author maintains a professional tone in their work',\n",
       "   'the author uses a consistent verb tense in the narration']],\n",
       " ['the author maintains a neutral tone in their work - simple sentence structure is used - the use of connectors and transitional phrases is limited - the author uses a limited range of verb forms - the author uses a limited range of verb forms to highlight simplicity and compound structures - the information is presented in a structured manner - the tone used by the author is informative rather than persuasive - rhetorical questions are used - the author maintains a consistent sentence length - the author follows a consistent pattern in verb conjugation',\n",
       "  'the author uses complex concepts to explore deep ideas and themes - the author maintains a neutral tone in their work - the author uses a limited range of verb forms to highlight simplicity and compound structures - the author uses a formal writing style with advanced language and intricate sentence structures - the author provides clear explanations of technical terms - the author keeps a steady structure - the author follows a consistent pattern in verb conjugation - the author uses various techniques to improve comprehension - the author favors a structured writing style with diverse expressions - repetition is used',\n",
       "  'the author provides clear explanations of technical terms - the author maintains a neutral tone in their work - the author avoids complex sentence structures - the author maintains a professional tone in their work - the author uses a consistent verb tense in the narration - the author follows a consistent pattern in verb conjugation - a neutral tone is used - the author uses a consistent structure - the author maintains a neutral tone - subordinate clauses help to add information and link thoughts'],\n",
       " [[0.8446505069732666, 0.8877994418144226, 0.86087965965271],\n",
       "  [0.8267067074775696, 0.8379634618759155, 0.7891961336135864],\n",
       "  [0.773896336555481, 0.8758612871170044, 0.8169381618499756]],\n",
       " 0,\n",
       " [0, 1, 2],\n",
       " array([[ 0.19026127,  0.00838506,  0.23723252, -0.02445797,  0.16424352,\n",
       "         -0.02848276, -0.11755361, -0.31647727, -0.05055376,  0.3720749 ,\n",
       "          0.09084553, -0.21304809,  0.06438294, -0.19836855, -0.15698394,\n",
       "          0.09642605, -0.0698317 , -0.09013902,  0.03848791, -0.00812492,\n",
       "          0.30933917, -0.06010171, -0.31755587, -0.1118235 , -0.279627  ,\n",
       "         -0.32253695, -0.0476086 , -0.15099096, -0.3281261 , -0.20396107,\n",
       "         -0.20731573, -0.11997006,  0.21418238, -0.07146776, -0.15650909,\n",
       "         -0.20077835,  0.09716803,  0.29857987,  0.3637166 , -0.45369872,\n",
       "         -0.26709732, -0.06906848, -0.17520808, -0.01904895, -0.06609264,\n",
       "          0.17884108,  0.36468554, -0.02115695, -0.15123156,  0.39002472,\n",
       "          0.5756289 , -0.4604483 ,  0.23050356,  0.25108898,  0.04201119,\n",
       "          0.0182661 , -0.07484715,  0.19412486, -0.17322673, -0.28191504,\n",
       "          0.01347565,  0.14877982, -0.09735166, -0.4022174 , -0.02120855,\n",
       "         -0.12274003, -0.03811156,  0.26448518,  0.09393436, -0.08754332,\n",
       "         -0.37992206,  0.23459516,  0.40016222,  0.07051625, -0.23411728,\n",
       "          0.29144263,  0.3890279 ,  0.07652678, -0.35546228, -0.08684743,\n",
       "         -0.15048988, -0.0439152 , -0.28711468,  0.31194943, -0.08830984,\n",
       "         -0.02994582, -0.09147049, -0.09169447, -0.11975979, -0.30801454,\n",
       "          0.3481447 ,  0.2426075 , -0.33147123, -0.24611087, -0.37682822,\n",
       "         -0.17795579, -0.18034567,  0.43031806,  0.13910238, -0.2553307 ,\n",
       "         -0.12484112, -0.1748987 , -0.02032627, -0.07524926, -0.3106398 ,\n",
       "         -0.16925982,  0.13814442, -0.19516179,  0.04715151, -0.07963157,\n",
       "         -0.11784052, -0.3160821 ,  0.17513254,  0.3831348 ,  0.2262411 ,\n",
       "          0.0491244 ,  0.18269801,  0.06230123,  0.21566176, -0.12274636,\n",
       "          0.10541949, -0.11690737, -0.16203986,  0.24699149,  0.14982684,\n",
       "          0.22790268,  0.09538264, -0.3872859 ],\n",
       "        [ 0.01268671,  0.03241212,  0.39175165, -0.07728317,  0.08219259,\n",
       "         -0.05640978, -0.16161884, -0.1732821 , -0.13485865,  0.25673118,\n",
       "         -0.00236825, -0.16992655,  0.12784936, -0.28247744,  0.06155855,\n",
       "          0.30368227, -0.19427061, -0.16892949,  0.08357018, -0.19415052,\n",
       "          0.1430466 ,  0.01733123, -0.2249744 , -0.18196252, -0.21990982,\n",
       "         -0.40354604, -0.2376125 , -0.15247165, -0.22570054, -0.22635514,\n",
       "         -0.0932283 , -0.10578627,  0.13120878,  0.03838997, -0.10337307,\n",
       "         -0.089325  ,  0.0192711 ,  0.30529973,  0.22906378, -0.34817237,\n",
       "         -0.21403602, -0.04368262, -0.1500808 , -0.1547189 , -0.11968369,\n",
       "          0.00887653,  0.40051147,  0.04242523, -0.4001347 ,  0.28543118,\n",
       "          0.4722254 , -0.27369216, -0.00465204,  0.06945017,  0.05168625,\n",
       "          0.00470789,  0.09219196,  0.23565327, -0.13346834, -0.26467368,\n",
       "         -0.03694617,  0.13525504, -0.23213434, -0.204498  , -0.25716075,\n",
       "          0.03842105, -0.21511835,  0.19130352,  0.00656326, -0.12441318,\n",
       "         -0.1242543 ,  0.3191003 ,  0.38304237,  0.09314008,  0.08646928,\n",
       "          0.37895688,  0.36242554,  0.01278181, -0.34917197,  0.17305942,\n",
       "         -0.21275704, -0.07270228, -0.20925017,  0.30917424, -0.1190421 ,\n",
       "         -0.23767775, -0.17252032, -0.16517848, -0.09493033, -0.38290372,\n",
       "          0.18036038,  0.24330577, -0.44016564, -0.24705142, -0.3359012 ,\n",
       "         -0.10185183, -0.17144047,  0.24059781,  0.2941592 , -0.335045  ,\n",
       "          0.04513574, -0.24596712, -0.17864256, -0.15025555, -0.169625  ,\n",
       "          0.15758133,  0.07514865, -0.25173888, -0.00961727, -0.02078187,\n",
       "         -0.01975633, -0.34177873,  0.1377154 ,  0.26225787,  0.12068771,\n",
       "          0.03938166,  0.2719694 ,  0.18431737,  0.2656097 , -0.32889265,\n",
       "          0.18317212,  0.09847922, -0.24266565,  0.28620774,  0.14307307,\n",
       "          0.20692083,  0.13412791, -0.26087633]], dtype=float32),\n",
       " [array([[ 0.13085592, -0.02039853,  0.4254762 ,  0.05311494,  0.18662082,\n",
       "           0.12812583, -0.02504767, -0.11548248, -0.084367  ,  0.17917298,\n",
       "           0.19521189, -0.13278437,  0.19289552, -0.04106244,  0.19482894,\n",
       "           0.4007696 ,  0.07161006,  0.04902975, -0.13107401,  0.08305792,\n",
       "           0.39219958,  0.07768168, -0.17649393,  0.07215531, -0.11632294,\n",
       "          -0.44214302, -0.42031926, -0.24966069, -0.22663979, -0.11015749,\n",
       "           0.06966863,  0.12871465,  0.07139978, -0.12757847, -0.25329632,\n",
       "          -0.15992668,  0.19520962,  0.20854484,  0.08228675, -0.32218665,\n",
       "          -0.22897644,  0.09537919, -0.17845231, -0.03438396, -0.10613684,\n",
       "           0.20149252,  0.13848326,  0.02462428, -0.19625352,  0.02392329,\n",
       "           0.4001797 , -0.344509  ,  0.23407976,  0.05757396, -0.254628  ,\n",
       "           0.00146011,  0.12251217, -0.16049728,  0.01527993, -0.24458002,\n",
       "          -0.21244785,  0.30472842,  0.14864011, -0.1192912 , -0.01574263,\n",
       "          -0.13959791,  0.16028668,  0.20170149,  0.01220385, -0.01151501,\n",
       "          -0.24924262,  0.22895023,  0.32217106,  0.22465828, -0.24178347,\n",
       "           0.08161075,  0.33085564,  0.0070573 , -0.06645377,  0.08921085,\n",
       "           0.06853978,  0.07964778,  0.07455669, -0.09372205, -0.22532687,\n",
       "          -0.07355541, -0.19570652, -0.19455095, -0.04341322, -0.25919694,\n",
       "           0.17568424,  0.10959148, -0.17604956, -0.1950832 , -0.2455318 ,\n",
       "          -0.08685789, -0.13703701,  0.22803311,  0.17240761, -0.050099  ,\n",
       "          -0.13792287, -0.27630013, -0.18273585,  0.08538002, -0.16480549,\n",
       "          -0.03818111,  0.17113622, -0.20352697,  0.05071078, -0.20799854,\n",
       "           0.01838796, -0.1820865 , -0.08955122,  0.08140261,  0.08004376,\n",
       "           0.15151411,  0.29027027,  0.04030127,  0.0675504 , -0.32016477,\n",
       "           0.08651969,  0.08984429, -0.3923768 ,  0.27670488,  0.16075385,\n",
       "           0.09196022, -0.05840585, -0.30578   ]], dtype=float32),\n",
       "  array([[-0.04109854,  0.20530517,  0.11962115, -0.18303482, -0.10859852,\n",
       "           0.13418287, -0.09883915, -0.34236476,  0.00499225,  0.31235632,\n",
       "           0.22173809, -0.3477882 ,  0.14624996, -0.06782118, -0.0580615 ,\n",
       "           0.11284416, -0.03042696,  0.07136665,  0.12354266,  0.0042926 ,\n",
       "           0.06541135,  0.03815133, -0.07172788, -0.3613198 , -0.18630199,\n",
       "          -0.14053364, -0.03112464, -0.11399557, -0.07826913, -0.26187366,\n",
       "           0.1849786 , -0.17121683,  0.41906935,  0.06710454, -0.20161565,\n",
       "          -0.40166143, -0.3847702 ,  0.13904937,  0.1899157 , -0.54302996,\n",
       "          -0.09472642, -0.02256408, -0.2744333 ,  0.06086881,  0.13476445,\n",
       "           0.04335314,  0.3724298 ,  0.17594685, -0.34983298,  0.11579339,\n",
       "           0.4604111 , -0.32193044,  0.2576927 ,  0.26400405,  0.03926795,\n",
       "           0.02115939, -0.00728234,  0.06581965, -0.15779021, -0.39582136,\n",
       "          -0.08062401, -0.13036768,  0.0812384 ,  0.07651219, -0.00339672,\n",
       "          -0.00832891, -0.09000615,  0.09383448,  0.07145464, -0.23939249,\n",
       "          -0.27368638,  0.30924278,  0.5650493 , -0.02451435, -0.12177504,\n",
       "           0.20360054,  0.46882793, -0.16141942, -0.27217582, -0.01198317,\n",
       "          -0.06054519, -0.05501849, -0.26639333,  0.38014832,  0.00786422,\n",
       "          -0.12873124,  0.00664621, -0.31228542, -0.08945074, -0.39113227,\n",
       "           0.18352157,  0.14180276, -0.43260196, -0.27099517, -0.08719537,\n",
       "          -0.00894966, -0.03876511,  0.43968162, -0.08612526, -0.2655309 ,\n",
       "          -0.19156463, -0.12132684,  0.26977327, -0.22000377, -0.24286102,\n",
       "          -0.16987653,  0.0491841 , -0.15337096, -0.0030885 ,  0.04546176,\n",
       "           0.1687245 , -0.28490147,  0.08267087,  0.4314263 ,  0.2269348 ,\n",
       "           0.12021771,  0.41897625,  0.22661331,  0.1718437 ,  0.0282913 ,\n",
       "          -0.01820506,  0.05394837, -0.16758107,  0.1455398 ,  0.14408125,\n",
       "           0.25396872,  0.18800351, -0.26086232],\n",
       "         [-0.126815  ,  0.11585277,  0.20579742, -0.29715034, -0.02604833,\n",
       "           0.16619708, -0.07924938, -0.41869703, -0.18819639,  0.3303282 ,\n",
       "           0.07290581, -0.15824182,  0.27526116, -0.01997141, -0.04349947,\n",
       "           0.08399282, -0.08627771, -0.05781925, -0.11676835, -0.01233607,\n",
       "           0.31902424, -0.03386065, -0.19072312, -0.32407615, -0.214083  ,\n",
       "          -0.3031401 , -0.07114039, -0.31132507, -0.09380947, -0.30053735,\n",
       "          -0.03615427, -0.08335598,  0.28500903,  0.2079265 , -0.22916555,\n",
       "          -0.28370482, -0.32325822,  0.16606563,  0.11010282, -0.4044787 ,\n",
       "          -0.19523944, -0.0489443 , -0.29496878,  0.04798991,  0.01254945,\n",
       "           0.06158381,  0.4154349 ,  0.2697468 , -0.37757108,  0.13937633,\n",
       "           0.48482096, -0.32431367,  0.2346539 ,  0.28591138,  0.03020892,\n",
       "           0.05364593,  0.06368926, -0.05799523, -0.23943415, -0.33404103,\n",
       "          -0.00704608,  0.21212555, -0.04919623,  0.07631626, -0.06009453,\n",
       "          -0.19517203,  0.03646153,  0.21016116,  0.04958322, -0.12059735,\n",
       "          -0.26056686,  0.08619738,  0.58387655,  0.10339328, -0.08067953,\n",
       "           0.20049469,  0.35503933, -0.22922224, -0.28431928,  0.00527521,\n",
       "          -0.09626753, -0.03181103, -0.28933385,  0.3753213 , -0.03557726,\n",
       "          -0.11904044, -0.0726451 , -0.0405166 , -0.1276769 , -0.5120316 ,\n",
       "           0.2656227 ,  0.25651452, -0.341837  , -0.27111858, -0.0534364 ,\n",
       "          -0.13162087, -0.10859372,  0.61295   ,  0.08253296, -0.31817693,\n",
       "          -0.23486209, -0.14956485,  0.03190171, -0.1582645 , -0.13042808,\n",
       "          -0.23085666,  0.06269911, -0.31462213, -0.17033178, -0.01352568,\n",
       "           0.08337124, -0.3911202 , -0.13373926,  0.49425438,  0.04946574,\n",
       "           0.26331657,  0.36944112,  0.3041261 ,  0.15548684, -0.11923475,\n",
       "          -0.05642005, -0.02944259, -0.33188376,  0.19970536,  0.27085263,\n",
       "           0.19680245,  0.30834505, -0.2366107 ],\n",
       "         [-0.00779809,  0.1730529 , -0.01266178, -0.29446074,  0.00140605,\n",
       "          -0.00507455, -0.12333652, -0.29369882, -0.09517007,  0.31142625,\n",
       "          -0.00236378, -0.01966063,  0.12374857, -0.17363617, -0.05633598,\n",
       "           0.02487616, -0.12505946,  0.00254825,  0.09602903,  0.17277145,\n",
       "           0.40161023,  0.0925623 , -0.24279076, -0.48355722, -0.22524719,\n",
       "          -0.14025126, -0.06807347, -0.10003894, -0.24958935, -0.35930687,\n",
       "          -0.00553882, -0.17872773,  0.39348805,  0.17236134, -0.1144092 ,\n",
       "          -0.12629403, -0.3123129 ,  0.25796252,  0.13177696, -0.47766027,\n",
       "          -0.07552867, -0.04210957, -0.21624187,  0.07301842, -0.045097  ,\n",
       "           0.23571761,  0.58592653,  0.23023617, -0.5274295 ,  0.06152405,\n",
       "           0.307463  , -0.38696742,  0.18650874,  0.23332042,  0.01922683,\n",
       "          -0.00315186, -0.14468265,  0.02085874, -0.34770095, -0.3213475 ,\n",
       "          -0.13179636,  0.08264727,  0.01489367,  0.09640462,  0.03605703,\n",
       "          -0.05632089,  0.2484604 ,  0.14774182,  0.12509352, -0.23003428,\n",
       "          -0.31187534,  0.23313911,  0.60793215, -0.15663221, -0.01106592,\n",
       "           0.21468745,  0.4915778 , -0.12813318, -0.2915206 , -0.06829348,\n",
       "          -0.18388014,  0.17399073, -0.16607092,  0.41405937, -0.0433963 ,\n",
       "          -0.00536424,  0.00929737, -0.19744319,  0.06297268, -0.4027034 ,\n",
       "           0.19797926,  0.27689838, -0.44356346, -0.07082383, -0.19009742,\n",
       "          -0.17380431, -0.12801053,  0.44825327,  0.10836354, -0.3887468 ,\n",
       "          -0.2613617 , -0.15538011,  0.21435772, -0.3278733 , -0.18817158,\n",
       "          -0.08425902,  0.15689367, -0.08915795, -0.01399864, -0.09041753,\n",
       "           0.12011752, -0.30222172,  0.02795353,  0.2946255 ,  0.01708807,\n",
       "           0.06427152,  0.45603633,  0.3922519 ,  0.2261617 , -0.04734197,\n",
       "          -0.09517514, -0.07679433, -0.20640919,  0.27789247,  0.15739653,\n",
       "           0.24316621,  0.23412816, -0.14676344],\n",
       "         [-0.05262743,  0.06190563,  0.29518533, -0.30031216, -0.13631994,\n",
       "           0.03602604, -0.21712294, -0.31537798, -0.07389746,  0.3774909 ,\n",
       "           0.12821561, -0.21908689,  0.24133761, -0.1702737 , -0.06921883,\n",
       "           0.18133055, -0.21241231, -0.09335814,  0.10394623,  0.0847381 ,\n",
       "           0.3181609 , -0.06142004, -0.22073793, -0.30658424, -0.16683003,\n",
       "          -0.22105417, -0.09968031, -0.28755486, -0.08934362, -0.20917447,\n",
       "           0.16590966, -0.11675112,  0.14904799,  0.18078817, -0.14893396,\n",
       "          -0.18799001, -0.24557403,  0.14996693,  0.21551664, -0.41458413,\n",
       "          -0.1308411 ,  0.01350199, -0.23451732, -0.02418202,  0.0435206 ,\n",
       "           0.1621594 ,  0.39663142,  0.21703184, -0.28530273,  0.10100862,\n",
       "           0.4499499 , -0.3526608 ,  0.1623371 ,  0.24108534, -0.00471463,\n",
       "          -0.05213798, -0.11054579,  0.0859749 , -0.33143446, -0.37646893,\n",
       "          -0.0316364 ,  0.26312545, -0.04431266,  0.00680885,  0.01824946,\n",
       "          -0.18864134,  0.02048957,  0.07861141,  0.07555953, -0.05389518,\n",
       "          -0.23744316, -0.03294814,  0.58398247, -0.00826035, -0.05633359,\n",
       "           0.24366796,  0.37096435, -0.25219607, -0.13226564,  0.00426165,\n",
       "          -0.15337871,  0.13475192, -0.16098128,  0.43014744, -0.0303795 ,\n",
       "          -0.03046183,  0.0209285 , -0.04477422, -0.00348204, -0.35928014,\n",
       "           0.3219052 ,  0.13361005, -0.30981725, -0.03107747, -0.06974763,\n",
       "          -0.07532659, -0.16642372,  0.54558635,  0.04910391, -0.1705328 ,\n",
       "          -0.2969958 , -0.17640854, -0.03711028, -0.13843325, -0.11013555,\n",
       "          -0.29691818,  0.05086592, -0.24948986, -0.05289216,  0.03094751,\n",
       "           0.0564776 , -0.47920984, -0.16131476,  0.5342762 ,  0.128295  ,\n",
       "           0.09595426,  0.41944918,  0.39418972,  0.20606638, -0.13168396,\n",
       "          -0.1584615 , -0.15656984, -0.29090717,  0.05108911,  0.24699545,\n",
       "           0.12090634,  0.16422033, -0.15600684]], dtype=float32),\n",
       "  array([[ 1.98176131e-01, -2.80818287e-02,  4.16524321e-01,\n",
       "          -3.01893204e-02,  2.84910172e-01,  2.07820833e-01,\n",
       "          -1.04934145e-02,  9.04730335e-03, -1.27285570e-01,\n",
       "           1.73486933e-01, -1.22264929e-01, -7.14501962e-02,\n",
       "           2.64754951e-01, -2.07702383e-01, -6.53375611e-02,\n",
       "           2.47260526e-01,  1.70594320e-01, -1.23501174e-01,\n",
       "           1.09336987e-01,  2.10368842e-01,  4.47757781e-01,\n",
       "          -1.57441437e-01, -3.63291919e-01, -1.68107674e-01,\n",
       "           4.14119214e-02, -1.45388320e-01, -4.13351715e-01,\n",
       "          -3.53720486e-01, -1.86670408e-01, -1.71479493e-01,\n",
       "          -1.44300982e-02, -9.79551375e-02,  1.88252255e-01,\n",
       "          -2.43486948e-02, -2.05391735e-01, -2.80518234e-01,\n",
       "           2.33871974e-02, -1.11217223e-01, -5.20056114e-02,\n",
       "          -3.32072794e-01, -2.43105918e-01, -1.60395354e-01,\n",
       "          -2.88336277e-02, -1.46977961e-01, -1.32391483e-01,\n",
       "           2.07899258e-01,  2.86384434e-01,  3.93918939e-02,\n",
       "          -2.64676034e-01,  2.61291862e-05,  2.32134908e-01,\n",
       "          -3.39823477e-02,  3.26537222e-01,  2.81342447e-01,\n",
       "           7.14082783e-03,  8.65626857e-02,  1.77364260e-01,\n",
       "          -1.59954727e-01, -3.34082514e-01, -2.86096722e-01,\n",
       "           2.53225982e-01,  4.10006106e-01, -1.43296719e-01,\n",
       "           4.84865271e-02,  1.91041365e-01, -2.13843390e-01,\n",
       "          -5.79365902e-02,  2.87448078e-01,  7.43587837e-02,\n",
       "           3.50557566e-02, -2.12904662e-01,  3.33769500e-01,\n",
       "           3.06325644e-01,  1.25078559e-01, -3.70915115e-01,\n",
       "           2.26808965e-01,  3.84049624e-01, -7.53852949e-02,\n",
       "          -2.03322157e-01, -1.88847587e-01, -1.60422534e-01,\n",
       "           9.12011601e-03, -1.21498398e-01, -7.11573884e-02,\n",
       "          -7.25021064e-02,  3.87439951e-02, -9.47039947e-02,\n",
       "          -7.68033192e-02,  1.82724103e-01, -4.18024153e-01,\n",
       "           3.21362019e-02,  9.33905020e-02, -2.86532938e-01,\n",
       "          -1.05084181e-01, -3.58395994e-01,  1.69462189e-02,\n",
       "          -1.04854684e-02,  2.99031168e-01,  2.64784038e-01,\n",
       "          -2.60318190e-01, -1.77639991e-01, -2.96861470e-01,\n",
       "           5.84319234e-02, -2.06613407e-01, -7.29618296e-02,\n",
       "           8.82655382e-02, -3.93323600e-03, -2.90785491e-01,\n",
       "           1.49882600e-01,  1.02732226e-01, -1.58541828e-01,\n",
       "          -4.64679867e-01, -1.14624739e-01,  2.45165199e-01,\n",
       "           1.89074159e-01,  2.34366164e-01,  2.88811117e-01,\n",
       "           7.64017850e-02,  1.86734691e-01, -3.66910726e-01,\n",
       "          -4.21058899e-03, -5.89214563e-02, -3.01592648e-01,\n",
       "           1.27778172e-01,  3.29941779e-01,  2.77576953e-01,\n",
       "           6.87285364e-02, -2.45167717e-01],\n",
       "         [ 3.14479321e-01, -5.26131280e-02,  4.60212559e-01,\n",
       "          -1.21386558e-01,  2.21328124e-01,  1.35764107e-01,\n",
       "          -1.76210389e-01,  2.19807494e-02, -3.60727347e-02,\n",
       "           1.08971991e-01, -3.09775412e-01, -5.90114966e-02,\n",
       "           3.40912879e-01, -6.97470009e-02, -1.54126212e-01,\n",
       "           1.14677794e-01,  8.98628384e-02, -1.90383822e-01,\n",
       "           7.91453291e-03,  2.14547276e-01,  3.92821133e-01,\n",
       "           5.33653051e-02, -3.29277843e-01, -8.86396766e-02,\n",
       "           4.29362030e-04, -1.61992386e-01, -4.67564642e-01,\n",
       "          -3.89532298e-01, -1.30642816e-01,  1.45980129e-02,\n",
       "           5.10587581e-02, -3.51355784e-02,  9.46289673e-02,\n",
       "          -1.47845790e-01, -1.41753018e-01, -4.25022431e-02,\n",
       "           5.00014350e-02, -8.07389542e-02,  2.10823491e-01,\n",
       "          -2.35258907e-01, -4.05998498e-01, -1.33596539e-01,\n",
       "          -2.39135966e-01, -1.16933331e-01, -3.99045795e-02,\n",
       "           1.06544681e-01,  1.16501056e-01, -8.69198516e-02,\n",
       "          -2.10450113e-01, -3.31295021e-02,  4.44070734e-02,\n",
       "          -1.41197145e-02,  3.46319377e-01,  2.32159466e-01,\n",
       "          -9.28628910e-03,  1.03512116e-01,  1.87206492e-01,\n",
       "          -1.23627730e-01,  3.85312503e-03, -3.89128357e-01,\n",
       "           2.25743920e-01,  2.73223132e-01, -1.28951386e-01,\n",
       "          -1.35066931e-03,  1.13336600e-01, -2.49182865e-01,\n",
       "           4.33867984e-02,  1.80747241e-01,  1.43943235e-01,\n",
       "           2.76761770e-01, -1.74746677e-01,  2.23617405e-01,\n",
       "           4.05449331e-01,  1.77408606e-01, -3.74616086e-01,\n",
       "           1.95878357e-01,  3.55221361e-01,  3.73088457e-02,\n",
       "          -1.09490164e-01, -1.83685333e-01, -1.70888171e-01,\n",
       "           6.25522947e-03, -1.06726870e-01, -1.14021488e-01,\n",
       "          -8.34598988e-02,  4.52514291e-02, -1.38606936e-01,\n",
       "          -7.12068826e-02,  1.03617765e-01, -1.48659855e-01,\n",
       "          -6.84529021e-02,  3.57150361e-02, -3.05961341e-01,\n",
       "          -1.45334974e-01, -1.32291541e-01, -9.41965356e-03,\n",
       "          -1.67993382e-01,  4.12358880e-01,  1.68369666e-01,\n",
       "          -1.09732538e-01, -1.68577805e-01, -4.34487790e-01,\n",
       "           1.40775412e-01, -1.69134721e-01, -3.85507457e-02,\n",
       "           1.05268821e-01,  3.87202878e-03, -2.30007663e-01,\n",
       "           5.29736280e-02, -8.35356396e-03, -1.23020560e-01,\n",
       "          -5.51779866e-01, -7.99042434e-02,  1.63234591e-01,\n",
       "           1.31983653e-01,  2.14439612e-02,  1.11907601e-01,\n",
       "          -7.95991272e-02,  3.44913483e-01, -3.39087337e-01,\n",
       "           2.24035773e-02,  1.76049232e-01, -2.27667749e-01,\n",
       "           1.52799547e-01,  3.87918293e-01,  1.81888223e-01,\n",
       "           1.60782710e-01, -3.19438457e-01],\n",
       "         [ 4.38068867e-01, -8.40447247e-02,  4.33999658e-01,\n",
       "          -1.17860124e-01,  3.11838061e-01,  5.35086580e-02,\n",
       "          -3.36147510e-02,  1.32720873e-01, -1.31498590e-01,\n",
       "           8.69876742e-02, -1.70071989e-01, -1.87739149e-01,\n",
       "           3.68898809e-01, -1.58789694e-01, -1.56472355e-01,\n",
       "           1.36019990e-01,  1.21266894e-01, -2.73461878e-01,\n",
       "           7.54904896e-02,  5.46721683e-04,  3.72507244e-01,\n",
       "          -3.59379835e-02, -3.02897394e-01, -4.52626403e-03,\n",
       "          -3.12839337e-02, -1.31691590e-01, -4.34070706e-01,\n",
       "          -3.41538459e-01, -1.77445486e-01, -3.94045711e-02,\n",
       "          -7.21990615e-02, -7.39210472e-02,  9.17407870e-02,\n",
       "          -1.45944268e-01, -1.58001974e-01, -1.05028413e-01,\n",
       "           5.63428439e-02, -1.81455657e-01,  1.60285607e-01,\n",
       "          -2.30974659e-01, -3.53332549e-01, -9.77718160e-02,\n",
       "          -8.02999362e-02, -2.40162835e-02,  1.60715487e-02,\n",
       "           1.25245646e-01,  1.76551983e-01, -4.43915948e-02,\n",
       "          -2.40130052e-01,  3.07856016e-02,  3.19741853e-02,\n",
       "           1.09128855e-01,  3.42468441e-01,  2.58372426e-01,\n",
       "           9.05948505e-03,  8.14380646e-02,  1.55656561e-01,\n",
       "          -1.11387223e-01, -8.64918754e-02, -2.76095271e-01,\n",
       "           1.21232912e-01,  2.09825933e-01, -2.51823783e-01,\n",
       "          -1.19723128e-02,  7.52131492e-02, -3.06088507e-01,\n",
       "          -6.61768913e-02,  2.37982705e-01,  8.51712972e-02,\n",
       "           8.43025520e-02, -1.15712985e-01,  2.68331796e-01,\n",
       "           3.10990304e-01,  1.95475802e-01, -3.37163568e-01,\n",
       "           2.24596113e-01,  2.90732056e-01,  1.22549839e-01,\n",
       "          -5.85184619e-02, -1.00228593e-01, -1.60235390e-01,\n",
       "          -6.49236366e-02, -6.13964386e-02, -1.59733817e-01,\n",
       "          -2.43283987e-01,  6.90791011e-02, -1.70528471e-01,\n",
       "          -1.94216967e-01,  2.21472770e-01, -2.29944468e-01,\n",
       "          -2.70858705e-02,  2.85019651e-02, -2.50375241e-01,\n",
       "          -1.20238163e-01, -3.39898348e-01,  1.97045249e-03,\n",
       "          -4.75652590e-02,  1.57820895e-01,  2.99399525e-01,\n",
       "          -2.63405442e-01, -7.78200254e-02, -3.95630181e-01,\n",
       "           4.35879193e-02, -2.37367123e-01, -1.28442690e-01,\n",
       "           2.27729440e-01, -1.53903708e-01, -1.35426119e-01,\n",
       "           1.54449627e-01, -6.68228790e-02, -1.94162309e-01,\n",
       "          -3.88579726e-01,  1.29578309e-02,  1.26751155e-01,\n",
       "           1.45900294e-01,  2.08621398e-01,  2.34659195e-01,\n",
       "          -5.54513410e-02,  1.16617002e-01, -2.72953153e-01,\n",
       "           5.49972802e-02,  9.92077589e-02, -3.51001054e-01,\n",
       "           8.42062309e-02,  3.71036738e-01,  6.72530979e-02,\n",
       "          -7.10132420e-02, -3.13942462e-01]], dtype=float32)])"
      ]
     },
     "execution_count": 67,
     "metadata": {},
     "output_type": "execute_result"
    }
   ],
   "source": [
    "res"
   ]
  },
  {
   "cell_type": "code",
   "execution_count": 63,
   "id": "a5d37aae-4b09-4495-a518-157c76e6df04",
   "metadata": {
    "scrolled": true
   },
   "outputs": [],
   "source": [
    "query_docs = res[-2]\n",
    "candid_docs = res[-1]"
   ]
  },
  {
   "cell_type": "code",
   "execution_count": 73,
   "id": "9b243020-7f59-4a6c-a97a-74dd583168a1",
   "metadata": {
    "scrolled": true
   },
   "outputs": [
    {
     "name": "stdout",
     "output_type": "stream",
     "text": [
      "[[0.9639465 0.9605864]]\n",
      "[array([[1.0000001]], dtype=float32), array([[0.9441627 , 0.967767  , 0.95038724, 0.95574105]], dtype=float32), array([[0.95748687, 0.9601768 , 0.9637917 ]], dtype=float32)]\n"
     ]
    }
   ],
   "source": [
    "from sklearn.metrics.pairwise import cosine_similarity\n",
    "\n",
    "print(cosine_similarity([np.mean(query_docs, axis=0)], query_docs))\n",
    "print([cosine_similarity([c_author[0]], c_author[1]) for c_author in zip([np.mean(x, axis=0) for x in candid_docs], candid_docs)])"
   ]
  },
  {
   "cell_type": "markdown",
   "id": "dbb4d754-7607-4371-969b-1575b517b2b0",
   "metadata": {
    "jp-MarkdownHeadingCollapsed": true
   },
   "source": [
    "## Analyze documents style description"
   ]
  },
  {
   "cell_type": "code",
   "execution_count": 199,
   "id": "335ea52d-d01e-43f9-bc3b-3135c19290a3",
   "metadata": {},
   "outputs": [],
   "source": [
    "interp_space_path = '/mnt/swordfish-pool2/milad/hiatus-data/phase_2/explainability/interpretable_space.pkl'\n",
    "model_path = 'aa_model-luar'\n",
    "explanation_interf = explanation_interfaces.exp_interface_1\n",
    "input_path = '/mnt/swordfish-pool2/milad/hiatus-data/explainability-pilot-samples/'\n",
    "top_c=3"
   ]
  },
  {
   "cell_type": "code",
   "execution_count": 167,
   "id": "753a9d29-84c5-4cf1-9bcd-4520e8aa4148",
   "metadata": {},
   "outputs": [],
   "source": [
    "path_to_input = '/mnt/swordfish-pool2/milad/hiatus-data/explainability-pilot-samples/samples_26_query_79_first/'"
   ]
  },
  {
   "cell_type": "code",
   "execution_count": 168,
   "id": "13d4e6c9-3881-4ea5-bb82-86c3c1b749c2",
   "metadata": {},
   "outputs": [],
   "source": [
    "candidates_file = list(glob.glob(path_to_input + '/data/*_candidates.jsonl'))[0]\n",
    "queries_file    = list(glob.glob(path_to_input + '/data/*_queries.jsonl'))[0]\n",
    "grount_truth_file = list(glob.glob(path_to_input + '/groundtruth/*_groundtruth.npy'))[0]\n",
    "q_labels_file = glob.glob(path_to_input + '/groundtruth/*_query-labels.txt')[0]\n",
    "c_labels_file = glob.glob(path_to_input + '/groundtruth/*_candidate-labels.txt')[0]\n",
    "\n",
    "candidates_df = pd.read_json(candidates_file, lines=True)\n",
    "queries_df = pd.read_json(queries_file, lines=True)\n",
    "\n",
    "queries_df['authorID'] = queries_df.authorIDs.apply(lambda x: x[0])\n",
    "candidates_df['authorID'] = candidates_df.authorSetIDs.apply(lambda x: x[0])\n",
    "\n",
    "queries_df = queries_df.groupby('authorID').agg({'fullText': lambda x: list(x)}).reset_index()\n",
    "candidates_df = candidates_df.groupby('authorID').agg({'fullText': lambda x: list(x)}).reset_index()\n",
    "    \n",
    "ground_truth_assignment = np.load(open(grount_truth_file, 'rb'))\n",
    "candidate_authors = [a[2:-3] for a in  open(c_labels_file).read().split('\\n')][:-1]\n",
    "query_authors = [a[2:-3] for a in  open(q_labels_file).read().split('\\n')][:-1]\n",
    "\n",
    "#print(ground_truth_assignment)\n",
    "#print(candidate_authors)\n",
    "#print(query_authors)"
   ]
  },
  {
   "cell_type": "code",
   "execution_count": 7,
   "id": "e818f7c9-a85c-4aff-b36c-80767d093b60",
   "metadata": {},
   "outputs": [
    {
     "data": {
      "text/plain": [
       "['9265b1f9-31f5-58e5-bfb7-c5979de68d47']"
      ]
     },
     "execution_count": 7,
     "metadata": {},
     "output_type": "execute_result"
    }
   ],
   "source": [
    "query_authors"
   ]
  },
  {
   "cell_type": "code",
   "execution_count": 8,
   "id": "5919e749-2f11-4240-9834-0d5ecfc3fbc2",
   "metadata": {},
   "outputs": [
    {
     "data": {
      "text/plain": [
       "['07a9a4f0-faed-9b92-fd68-8f47cdc969d5',\n",
       " 'a83b5d4d-0e79-7ee6-f61b-29b0b059f220',\n",
       " 'd53e9f35-4c07-3b87-43fc-d52e5f127c6c']"
      ]
     },
     "execution_count": 8,
     "metadata": {},
     "output_type": "execute_result"
    }
   ],
   "source": [
    "candidate_authors"
   ]
  },
  {
   "cell_type": "code",
   "execution_count": 9,
   "id": "3e15c0e7-8f2e-492e-860f-9b0ba1c32c74",
   "metadata": {},
   "outputs": [
    {
     "data": {
      "text/plain": [
       "'d53e9f35-4c07-3b87-43fc-d52e5f127c6c'"
      ]
     },
     "execution_count": 9,
     "metadata": {},
     "output_type": "execute_result"
    }
   ],
   "source": [
    "candidate_authors[-1]"
   ]
  },
  {
   "cell_type": "code",
   "execution_count": 10,
   "id": "7eedc424-9ec1-4529-94d4-e677feb2a35f",
   "metadata": {},
   "outputs": [
    {
     "data": {
      "text/plain": [
       "array([[1, 0, 0]])"
      ]
     },
     "execution_count": 10,
     "metadata": {},
     "output_type": "execute_result"
    }
   ],
   "source": [
    "ground_truth_assignment"
   ]
  },
  {
   "cell_type": "code",
   "execution_count": 11,
   "id": "4e3d386a-34c7-43c2-9334-9010e402d6a2",
   "metadata": {},
   "outputs": [],
   "source": [
    "matched_candidate_docs = candidates_df[candidates_df.authorID == '07a9a4f0-faed-9b92-fd68-8f47cdc969d5'].fullText.tolist()[0]\n",
    "other_candidate_docs = candidates_df[candidates_df.authorID != '07a9a4f0-faed-9b92-fd68-8f47cdc969d5'].fullText.tolist()[0] #just pick one other candidate author\n",
    "query_documents = queries_df.fullText.tolist()[0]"
   ]
  },
  {
   "cell_type": "code",
   "execution_count": 12,
   "id": "b9ffda1c-a8db-4aff-91ea-1138e8a51573",
   "metadata": {},
   "outputs": [
    {
     "data": {
      "text/plain": [
       "['The elves had a very distinguished and strict military system, and it included a complex training system that ensured the continued supply of experienced fighters to the army, and this system was based on the soldiers who survived the battles training the new soldiers, as the military system stipulated that the fighters who spent more than 30 years in the war should go to their homeland to train new soldiers in the use of weapons, where the soldier had to prove his competence and strength in order to have the honor of training soldiers.\\n\\n  But because of the many wars caused by <PERSON> in the first age, and the wars caused by <PERSON> in the second and third ages, where the battles lasted for months, and the siege of castles lasted for years, the elves suffered great losses in their lives, but these losses It was concentrated in the ranks of the swords and spearmen who were always forced to physically interact with the enemy forces, which exposed them to great and permanent danger, and most of them did not last 30 years to return to training new soldiers.\\n\\n  As for the archers, they used their arrows to kill the enemy from long distances, and this kept them at a safe distance, and they were able to survive for a long time, which earned them a very high experience in shooting arrows, and after that some of them would return home to train new soldiers to shoot arrows, and those survivors has 30 years of experience in shooting arrows, unlike the warriors with swords and spears, where they could not always hold out enough, because the more battles they participated in, the greater the possibility of their death, and that is why few of them were able to return to training soldiers, and most of them has no more than 10 years of experience in the battlefield.\\n\\n  This system led to the accumulation of high and deadly experiences for archers over hundreds of years, as the arrow shooters were receiving intensive training by the best archers who participated in all wars for decades, and since the elves have immortal life, this helped them a lot in training the army, and the leaders were convinced that the arrow weapon is the way to achieve victory, and it is worth mentioning that they used their magical abilities to hybridize a special type of tree to extract a special kind of flexible wood to make bows and arrows with steel heads that are able to easily pierce the shields of enemies.']"
      ]
     },
     "execution_count": 12,
     "metadata": {},
     "output_type": "execute_result"
    }
   ],
   "source": [
    "matched_candidate_docs"
   ]
  },
  {
   "cell_type": "code",
   "execution_count": 13,
   "id": "c4a9b01b-f6e6-4f31-bbaf-8b710bbcc81b",
   "metadata": {},
   "outputs": [
    {
     "data": {
      "text/plain": [
       "[\"Burning wood has been a local source of warmth for ages, however, while it may provide warmth, it is important to know that burning wood can produce harmful gases such as benzene, and other gases such as carbon monoxide and nitrogen oxides. When organic matter burns, large polycyclic aromatic compounds are released due to combustion. This occurs not only with wood, but also with any other organic matter. Understanding why benzene form in a wood fire, will require us to know what wood is, and how it burns.\\n\\n  Wood is made up of biomass (matter composed primarily of carbon, hydrogen, and oxygen). This includes things like dry grass, leaves, fibers, animal carcasses, sugar, fat, and coal etc. All of these things contain cellulose or similar molecules, which consists of long chains of aromatic rings.\\n\\n  When wood is heated up, the molecules composing it start to break apart, in the presence of oxygen, the wood will start to oxidize, this process is what we know as combustion. If there is no oxygen present, the material will gasify. At a certain temperature, a compound of big organic macromolecules is formed, which includes polycyclic aromatic compounds like benzene and its many ”cousins”. These molecules are too complex, and are so large that they can't be characterized exactly.\\n\\n  Big polycyclic molecules form when there is not enough oxygen present. They are huge and hydrophobic in nature, and agglomerate to form soot and tar. You can still find benzene in a hot fire because flames are not perfectly mixed, and you can get pockets of cold gas interspersed in a cloud of hot gas. If it is cold enough, benzene will not be decomposed.\\n\\n  When you see a wood fire, what you see are jets of hot, flammable gases shooting out of the pores of the wood. These gases ignite, not the wood itself. The mineral matter in the wood is left behind and becomes extremely hot but does not vaporize, so you still have radiant, red-hot material.\\n\\n  Benzene and other polycyclic aromatic compounds can cause health problems, so it's necessary to be aware of how they form and how to minimize exposure. By understanding what happens during combustion and pyrolysis, we can better understand the risks associated with fires and how to alleviate them.\"]"
      ]
     },
     "execution_count": 13,
     "metadata": {},
     "output_type": "execute_result"
    }
   ],
   "source": [
    "other_candidate_docs"
   ]
  },
  {
   "cell_type": "code",
   "execution_count": 14,
   "id": "333dcc91-58d4-4ce0-8646-527fb1c03360",
   "metadata": {
    "scrolled": true
   },
   "outputs": [
    {
     "data": {
      "text/plain": [
       "['The Sahara Desert extends over an area of 9,200,000 square kilometers and is the largest desert in the world. It is one of the driest regions in the world with an average of 25 mm of rain per year. In the past, it was a green area full of rivers, 3 million years ago, until climate change, and the occurrence of several major earthquakes led to the formation of new mountains that blocked the moisture of the sea, and changed the course of the rivers in them, all of this led to the cutting off of water resources and turning it into a dry area with high temperatures, unfit for most types of life.\\n\\n  Climate change is expected to continue to cause bad consequences for the Sahara desert, as studies indicate that rainfall is expected to decrease by 20 to 30 percent in the next 40 years, and this will lead to more desertification and the destruction of more green spaces on The borders of deserts in general, and will lead to an increase in the borders of the Sahara desert by no less than 7 percent.\\n\\n  Most studies indicate that the Sahara desert extends towards the south, and harnesses most of the groundwater stored at a great depth inside it, so that it cannot be used, and so far there have been no governmental efforts to stop the growth of this desert, because it is very expensive, and the region is already suffering from a scarcity of resources. water.\\n\\n  Figures indicate that the Sahara has expanded by 10 percent over the past century, but there are some studies that say that climate change and the melting of the North pole and Antarctic could raise sea levels to reach new areas and submerge a part of the Sahara desert, and help restore The region will return to life, but this matter will be disastrous for other regions of the world, even if it occurs, it will take thousands of years to repopulate vast areas in the desert, and it will not be effective because the sun is perpendicular to the desert most days of the year and causes water to evaporate there',\n",
       " 'In general, the human body does not contain any glowing substances, and the structure of the body cannot allow such reactions to occur in the teeth, because that would be dangerous and cause death.\\n\\n  There are several types of phosphorus, and not all of them glow, as there is the active and radioactive phosphorus that glows when it interacts with some other substances such as oxygen, and this process is called oxidation, where a very fast chemical reaction occurs, resulting in the discharge of the energy stored in the phosphorus atoms, and leads to the production of light, And this reaction is very clear in the dark and continues for a long time when there is enough oxygen, and within certain thermal conditions, and this reaction can also occur when adding other chemicals such as sulfur, and certain types of chlorine, and this reaction is used in Many industries, military, and pharmaceutical, and in fireworks as well.\\n\\n  The glow also results when the phosphorus is exposed to heat, such as the combustion of phosphorus, which also results in high heat and fumes containing white phosphorous oxide.\\n\\n  As for the other type of phosphorus, which is found in the teeth, it is called non-active phosphorus, its atomic number is 15 and its symbol is P in the table of chemical elements, It is a chemically inactive element, and it does not produce a glow, even if it is exposed to oxygen, and it is present in most cells of the body, especially in the skeleton, and not only in the teeth, which is a necessary component of all living cells.\\n\\n  Also, the process of phosphorous glow requires a large amount of phosphorus and oxygen, and certain conditions of temperature, and these quantities and conditions do not exist in the teeth and the human body in general, so it is impossible for the teeth to glow.\\n\\n  However, the human body adapts to the conditions in the surrounding environment, and stores phosphorous in its cells in a safe way, so that it prevents its interaction with other elements that may cause glow or fumes, because the fumes resulting from the glow of phosphorus are deadly and harmful to the human body.',\n",
       " 'To answer this question, we will have to understand two basic things:\\n\\n  The first is how life on Earth was formed, The second thing is evolution and natural selection, where genetics played an important role in shaping the vital functions of all living organisms.\\n\\n  In the beginning, life was formed in shallow waters, by collecting protein materials and amino acids on one of the tropical coasts and they were exposed to successive lightning strikes in a warm environment, and water saturated with oxygen, then the first cell was formed, and life arose in the ocean underwater, in an environment where it is difficult for light to reach them, so the primary creatures could not use light to obtain the energy needed to survive. Instead, the most logical option was metabolism, as these creatures relied on organic and chemical substances to obtain food and energy.\\n\\n  This does not negate the existence of beings that tried to use light to obtain energy, it is possible that there were primary beings that tried to exploit the light to survive, but the conditions were not favorable, and the light was very weak, so the creatures that tried to use the light to survive could not continue in Because the sunlight was not strong enough to reach the depth in which these creatures tried to live, these creatures and primary cells extinct from the beginning and could not pass on their genes to the next generation, and only creatures that depend on chemical food and organic materials remained and were able to resilience and survival, as well as reproduction, and thus the inheritance of genes that determine the characteristics of nutrition and the method of obtaining energy from organic materials available in the surrounding environment.\\n\\n  After the life of creatures that depend on chemical food flourished in the ocean due to the abundance of food, many mutations occurred over millions of years, which led to the adaptation of these creatures to life on land, where there is an ample amount of sunlight, but it was already too late, because Genes and traits that regulate the mechanism of using sunlight as a source of food have become recessive traits in advance, due to millions of years of living in dark environments in the depths of the oceans, then these organisms reproduced on land carrying with them the genes of feeding on organic matter only.',\n",
       " 'The area of the arctic changes according to the change of seasons, and statistics say that the area of the arctic reaches 8 million square km in the summer, and this area doubles to reach 16 million square km in the winter, so it is possible to say that 80 percent of the area of the arctic is ice, and it is not suitable for cultivation, and the soil there is at great depths and buried under the snow, and the depth of the soil depends on the place of excavation.\\n\\n  And the process of global warming caused an increase in the melting of ice in the northern pole, and a rise in sea level to submerge more land areas, and this will negatively affect the climate and temperature of the region, and even if lands of soil appear in there, the climate of the region It is very cold, as temperatures reach -40 below zero, which is an unsuitable temperature for any type of food crops, and also the lack of solar light throughout the year will prevent the use of the place for agriculture, as it is not possible to grow the species that humans depend on for food there, Wheat needs sunlight for long periods of time, and all fruit trees need temperatures between -5 and 30 degrees Celsius to be able to survive.\\n\\n  Humidity there is very low despite the abundance of water, but it is frozen, and low temperatures cause water vapor particles to freeze and turn into ice accumulated on the ground, and the rate of precipitation there ranges between 60 mm and 10 cm per year, which is a very small percentage. It is not reliable in agriculture.\\n\\n  Also, the soil in the arctic is very poor, and lacks many elements necessary for plant growth, and this matter cannot be solved by using industrial fertilizers, because this would be very expensive and without any economic benefit.\\n\\n  Also, it will be impossible to secure suitable conditions for the workers who will work in these farms, and it will be difficult to secure conditions for heating, lighting, and even most of the transportation of materials becomes impossible in the event of a storm.\\n\\n  As explained above, the idea of exploiting climate change to use the Arctic to meet human needs for food will be impossible, and even rehabilitating the desert for agriculture will be easier than rehabilitating the Arctic.']"
      ]
     },
     "execution_count": 14,
     "metadata": {},
     "output_type": "execute_result"
    }
   ],
   "source": [
    "query_documents"
   ]
  },
  {
   "cell_type": "code",
   "execution_count": 15,
   "id": "e230338e-9b03-49a2-857b-4607d624259c",
   "metadata": {},
   "outputs": [
    {
     "name": "stdout",
     "output_type": "stream",
     "text": [
      "# clusters: 14\n"
     ]
    }
   ],
   "source": [
    "q_documents_reps , q_documents_clusters = generate_explanations.get_documents_style_descriptions(query_documents, model_path, interp_space_path, top_c=3, top_k=5)"
   ]
  },
  {
   "cell_type": "code",
   "execution_count": 16,
   "id": "e8496d87-a53d-42a3-a58f-cbb97504f1cd",
   "metadata": {
    "scrolled": true
   },
   "outputs": [
    {
     "name": "stdout",
     "output_type": "stream",
     "text": [
      "# clusters: 14\n"
     ]
    }
   ],
   "source": [
    "c_documents_reps , c_documents_clusters = generate_explanations.get_documents_style_descriptions(matched_candidate_docs, model_path, interp_space_path, top_c=3, top_k=5)"
   ]
  },
  {
   "cell_type": "code",
   "execution_count": 17,
   "id": "73b9d513-1877-420a-b191-d46321e9ef17",
   "metadata": {},
   "outputs": [
    {
     "name": "stdout",
     "output_type": "stream",
     "text": [
      "# clusters: 14\n"
     ]
    }
   ],
   "source": [
    "o_documents_reps , o_documents_clusters = generate_explanations.get_documents_style_descriptions(other_candidate_docs, model_path, interp_space_path, top_c=3, top_k=5)"
   ]
  },
  {
   "cell_type": "code",
   "execution_count": 18,
   "id": "d97e285b-ca52-4528-a48a-17b9d4bebd24",
   "metadata": {
    "scrolled": true
   },
   "outputs": [
    {
     "data": {
      "text/plain": [
       "[[(13, 0.6829973459243774), (5, 0.5885012149810791), (3, 0.5295000076293945)],\n",
       " [(13, 0.42635929584503174),\n",
       "  (3, 0.42302098870277405),\n",
       "  (5, 0.3870851993560791)],\n",
       " [(13, 0.7052289247512817), (5, 0.6760463714599609), (12, 0.5887666344642639)],\n",
       " [(3, 0.4849829375743866), (13, 0.4269305467605591), (5, 0.3840888440608978)]]"
      ]
     },
     "execution_count": 18,
     "metadata": {},
     "output_type": "execute_result"
    }
   ],
   "source": [
    "q_documents_clusters"
   ]
  },
  {
   "cell_type": "code",
   "execution_count": 19,
   "id": "30f52910-c0dc-45ed-bebc-46132f282d65",
   "metadata": {},
   "outputs": [
    {
     "data": {
      "text/plain": [
       "[[(5, 0.3803691864013672),\n",
       "  (13, 0.28969496488571167),\n",
       "  (7, 0.25092387199401855)]]"
      ]
     },
     "execution_count": 19,
     "metadata": {},
     "output_type": "execute_result"
    }
   ],
   "source": [
    "c_documents_clusters"
   ]
  },
  {
   "cell_type": "code",
   "execution_count": 20,
   "id": "0bde91e4-4fc0-4cb2-ba7d-1944175bc2dc",
   "metadata": {
    "scrolled": true
   },
   "outputs": [
    {
     "data": {
      "text/plain": [
       "[[(3, 0.9635261297225952), (13, 0.8992846608161926), (12, 0.7395482063293457)]]"
      ]
     },
     "execution_count": 20,
     "metadata": {},
     "output_type": "execute_result"
    }
   ],
   "source": [
    "o_documents_clusters"
   ]
  },
  {
   "cell_type": "code",
   "execution_count": 21,
   "id": "7432304e-ab8b-4003-b508-30b01e110332",
   "metadata": {
    "scrolled": true
   },
   "outputs": [
    {
     "data": {
      "text/plain": [
       "[[(13,\n",
       "   ('The approach used by the author is systematic, starting with a general statement and then exploring more details.',\n",
       "    19.92006319968675)),\n",
       "  (13,\n",
       "   ('Revised: The author prefers a diverse writing style with structured sentences.',\n",
       "    13.515608204437266)),\n",
       "  (13,\n",
       "   ('The author expresses strong emotions and perspectives through the use of impactful language.',\n",
       "    13.069321101808846)),\n",
       "  (13,\n",
       "   ('The writer employs diverse sentence structures for improved clarity.',\n",
       "    12.39637662856642)),\n",
       "  (13,\n",
       "   ('The author effectively conveys emotions through descriptive language.',\n",
       "    11.893747772004609)),\n",
       "  (5,\n",
       "   ('The writer uses various voices to create different effects.',\n",
       "    18.470951754889448)),\n",
       "  (5,\n",
       "   ('The use of figurative language conveys complex ideas.',\n",
       "    13.069321101808846)),\n",
       "  (5,\n",
       "   ('Passive voice is utilized in various situations.', 11.683026740688955)),\n",
       "  (5,\n",
       "   ('Rewritten: The author utilizes different sentence lengths for conveying diverse emotions and ideas.',\n",
       "    11.683026740688955)),\n",
       "  (5,\n",
       "   ('The author creates a connection with the reader through direct engagement.',\n",
       "    10.806516878826645)),\n",
       "  (3,\n",
       "   ('The author steers clear of complex sentence structures.',\n",
       "    18.312212329088773)),\n",
       "  (3, ('The author uses a limited range of verb tenses.', 13.515608204437266)),\n",
       "  (3,\n",
       "   ('The author incorporates different types of clauses for additional information.',\n",
       "    13.515608204437266)),\n",
       "  (3,\n",
       "   ('The author uses straightforward sentence structures.',\n",
       "    11.893747772004609)),\n",
       "  (3,\n",
       "   ('The writer uses pronouns to introduce additional information.',\n",
       "    9.932089265981157))],\n",
       " [(13,\n",
       "   ('The approach used by the author is systematic, starting with a general statement and then exploring more details.',\n",
       "    19.92006319968675)),\n",
       "  (13,\n",
       "   ('Revised: The author prefers a diverse writing style with structured sentences.',\n",
       "    13.515608204437266)),\n",
       "  (13,\n",
       "   ('The author expresses strong emotions and perspectives through the use of impactful language.',\n",
       "    13.069321101808846)),\n",
       "  (13,\n",
       "   ('The writer employs diverse sentence structures for improved clarity.',\n",
       "    12.39637662856642)),\n",
       "  (13,\n",
       "   ('The author effectively conveys emotions through descriptive language.',\n",
       "    11.893747772004609)),\n",
       "  (3,\n",
       "   ('The author steers clear of complex sentence structures.',\n",
       "    18.312212329088773)),\n",
       "  (3, ('The author uses a limited range of verb tenses.', 13.515608204437266)),\n",
       "  (3,\n",
       "   ('The author incorporates different types of clauses for additional information.',\n",
       "    13.515608204437266)),\n",
       "  (3,\n",
       "   ('The author uses straightforward sentence structures.',\n",
       "    11.893747772004609)),\n",
       "  (3,\n",
       "   ('The writer uses pronouns to introduce additional information.',\n",
       "    9.932089265981157)),\n",
       "  (5,\n",
       "   ('The writer uses various voices to create different effects.',\n",
       "    18.470951754889448)),\n",
       "  (5,\n",
       "   ('The use of figurative language conveys complex ideas.',\n",
       "    13.069321101808846)),\n",
       "  (5,\n",
       "   ('Passive voice is utilized in various situations.', 11.683026740688955)),\n",
       "  (5,\n",
       "   ('Rewritten: The author utilizes different sentence lengths for conveying diverse emotions and ideas.',\n",
       "    11.683026740688955)),\n",
       "  (5,\n",
       "   ('The author creates a connection with the reader through direct engagement.',\n",
       "    10.806516878826645))],\n",
       " [(13,\n",
       "   ('The approach used by the author is systematic, starting with a general statement and then exploring more details.',\n",
       "    19.92006319968675)),\n",
       "  (13,\n",
       "   ('Revised: The author prefers a diverse writing style with structured sentences.',\n",
       "    13.515608204437266)),\n",
       "  (13,\n",
       "   ('The author expresses strong emotions and perspectives through the use of impactful language.',\n",
       "    13.069321101808846)),\n",
       "  (13,\n",
       "   ('The writer employs diverse sentence structures for improved clarity.',\n",
       "    12.39637662856642)),\n",
       "  (13,\n",
       "   ('The author effectively conveys emotions through descriptive language.',\n",
       "    11.893747772004609)),\n",
       "  (5,\n",
       "   ('The writer uses various voices to create different effects.',\n",
       "    18.470951754889448)),\n",
       "  (5,\n",
       "   ('The use of figurative language conveys complex ideas.',\n",
       "    13.069321101808846)),\n",
       "  (5,\n",
       "   ('Passive voice is utilized in various situations.', 11.683026740688955)),\n",
       "  (5,\n",
       "   ('Rewritten: The author utilizes different sentence lengths for conveying diverse emotions and ideas.',\n",
       "    11.683026740688955)),\n",
       "  (5,\n",
       "   ('The author creates a connection with the reader through direct engagement.',\n",
       "    10.806516878826645)),\n",
       "  (12,\n",
       "   ('The writer employs a wide range of words for clear communication.',\n",
       "    13.515608204437266)),\n",
       "  (12,\n",
       "   ('The writer uses rhetorical devices to highlight key concepts efficiently.',\n",
       "    13.069321101808846)),\n",
       "  (12,\n",
       "   ('The writer uses different techniques to improve the overall tone.',\n",
       "    12.39637662856642)),\n",
       "  (12,\n",
       "   ('The writer uses complex ideas to explore deep themes.',\n",
       "    11.683026740688955)),\n",
       "  (12,\n",
       "   ('The writing style is casual and uses common language.',\n",
       "    11.683026740688955))],\n",
       " [(3,\n",
       "   ('The author steers clear of complex sentence structures.',\n",
       "    18.312212329088773)),\n",
       "  (3, ('The author uses a limited range of verb tenses.', 13.515608204437266)),\n",
       "  (3,\n",
       "   ('The author incorporates different types of clauses for additional information.',\n",
       "    13.515608204437266)),\n",
       "  (3,\n",
       "   ('The author uses straightforward sentence structures.',\n",
       "    11.893747772004609)),\n",
       "  (3,\n",
       "   ('The writer uses pronouns to introduce additional information.',\n",
       "    9.932089265981157)),\n",
       "  (13,\n",
       "   ('The approach used by the author is systematic, starting with a general statement and then exploring more details.',\n",
       "    19.92006319968675)),\n",
       "  (13,\n",
       "   ('Revised: The author prefers a diverse writing style with structured sentences.',\n",
       "    13.515608204437266)),\n",
       "  (13,\n",
       "   ('The author expresses strong emotions and perspectives through the use of impactful language.',\n",
       "    13.069321101808846)),\n",
       "  (13,\n",
       "   ('The writer employs diverse sentence structures for improved clarity.',\n",
       "    12.39637662856642)),\n",
       "  (13,\n",
       "   ('The author effectively conveys emotions through descriptive language.',\n",
       "    11.893747772004609)),\n",
       "  (5,\n",
       "   ('The writer uses various voices to create different effects.',\n",
       "    18.470951754889448)),\n",
       "  (5,\n",
       "   ('The use of figurative language conveys complex ideas.',\n",
       "    13.069321101808846)),\n",
       "  (5,\n",
       "   ('Passive voice is utilized in various situations.', 11.683026740688955)),\n",
       "  (5,\n",
       "   ('Rewritten: The author utilizes different sentence lengths for conveying diverse emotions and ideas.',\n",
       "    11.683026740688955)),\n",
       "  (5,\n",
       "   ('The author creates a connection with the reader through direct engagement.',\n",
       "    10.806516878826645))]]"
      ]
     },
     "execution_count": 21,
     "metadata": {},
     "output_type": "execute_result"
    }
   ],
   "source": [
    "q_documents_reps"
   ]
  },
  {
   "cell_type": "code",
   "execution_count": 22,
   "id": "2a592a9a-c564-4195-8a94-34e87c2b7c41",
   "metadata": {
    "scrolled": true
   },
   "outputs": [
    {
     "data": {
      "text/plain": [
       "[[(5,\n",
       "   ('The writer uses various voices to create different effects.',\n",
       "    18.470951754889448)),\n",
       "  (5,\n",
       "   ('The use of figurative language conveys complex ideas.',\n",
       "    13.069321101808846)),\n",
       "  (5,\n",
       "   ('Passive voice is utilized in various situations.', 11.683026740688955)),\n",
       "  (5,\n",
       "   ('Rewritten: The author utilizes different sentence lengths for conveying diverse emotions and ideas.',\n",
       "    11.683026740688955)),\n",
       "  (5,\n",
       "   ('The author creates a connection with the reader through direct engagement.',\n",
       "    10.806516878826645)),\n",
       "  (13,\n",
       "   ('The approach used by the author is systematic, starting with a general statement and then exploring more details.',\n",
       "    19.92006319968675)),\n",
       "  (13,\n",
       "   ('Revised: The author prefers a diverse writing style with structured sentences.',\n",
       "    13.515608204437266)),\n",
       "  (13,\n",
       "   ('The author expresses strong emotions and perspectives through the use of impactful language.',\n",
       "    13.069321101808846)),\n",
       "  (13,\n",
       "   ('The writer employs diverse sentence structures for improved clarity.',\n",
       "    12.39637662856642)),\n",
       "  (13,\n",
       "   ('The author effectively conveys emotions through descriptive language.',\n",
       "    11.893747772004609)),\n",
       "  (7,\n",
       "   ('The author employs a relaxed tone, highlighting individual aspects.',\n",
       "    11.893747772004609)),\n",
       "  (7,\n",
       "   ('The text includes casual language and everyday expressions.',\n",
       "    10.106112019960415)),\n",
       "  (7,\n",
       "   ('The author uses diverse sentence lengths and structures.',\n",
       "    9.659824917331996)),\n",
       "  (7,\n",
       "   ('The author uses casual language in their writing.', 8.273530556212105)),\n",
       "  (7,\n",
       "   ('The text includes different types of figurative language.',\n",
       "    7.819983917482529))]]"
      ]
     },
     "execution_count": 22,
     "metadata": {},
     "output_type": "execute_result"
    }
   ],
   "source": [
    "c_documents_reps"
   ]
  },
  {
   "cell_type": "code",
   "execution_count": 217,
   "id": "f22b9440-865e-4e15-be62-81829f4896fb",
   "metadata": {
    "scrolled": true
   },
   "outputs": [
    {
     "data": {
      "text/plain": [
       "[[(1, ('limited range', 90.29001541922472)),\n",
       "  (1, ('declarative sentences', 87.53142177173797)),\n",
       "  (1, ('simple sentence structures', 84.48013863066261)),\n",
       "  (1, ('present tense', 82.12878113649731)),\n",
       "  (1, ('consistent verb tense', 60.12597809047695)),\n",
       "  (4, ('present tense', 9.662209545470272)),\n",
       "  (4, ('short sentences', 9.107428308901413)),\n",
       "  (4, ('simple sentence structures', 8.960014703252094)),\n",
       "  (4, ('declarative sentences', 8.142457839231438)),\n",
       "  (4, ('complex verb forms', 6.77546121578783)),\n",
       "  (10, ('present tense', 7.246657159102704)),\n",
       "  (10, ('declarative sentences', 6.106843379423578)),\n",
       "  (10, ('limited range', 5.209039351109118)),\n",
       "  (10, ('occasional switches', 4.655197679587739)),\n",
       "  (10, ('simple sentence structures', 3.840006301393755))]]"
      ]
     },
     "execution_count": 217,
     "metadata": {},
     "output_type": "execute_result"
    }
   ],
   "source": [
    "o_documents_reps"
   ]
  },
  {
   "cell_type": "code",
   "execution_count": null,
   "id": "b27d5a4b-6776-4534-b556-e6b120dd8300",
   "metadata": {},
   "outputs": [],
   "source": [
    "interpretable_space = pkl.load(open(interp_space_path, 'rb'))\n",
    "    \n",
    "del interpretable_space[-1] #DBSCAN generate a cluster -1 of all outliers. We don't want this cluster\n",
    "print(\"# clusters:\", len(interpretable_space))\n",
    "dimension_to_latent = {key: interpretable_space[key][0] for key in interpretable_space}\n",
    "dimension_to_style  = {key: interpretable_space[key][1] for key in interpretable_space}"
   ]
  }
 ],
 "metadata": {
  "kernelspec": {
   "display_name": "Python 3 (ipykernel)",
   "language": "python",
   "name": "python3"
  },
  "language_info": {
   "codemirror_mode": {
    "name": "ipython",
    "version": 3
   },
   "file_extension": ".py",
   "mimetype": "text/x-python",
   "name": "python",
   "nbconvert_exporter": "python",
   "pygments_lexer": "ipython3",
   "version": "3.11.9"
  }
 },
 "nbformat": 4,
 "nbformat_minor": 5
}
